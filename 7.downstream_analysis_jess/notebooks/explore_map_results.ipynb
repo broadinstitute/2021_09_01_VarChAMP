{
 "cells": [
  {
   "cell_type": "markdown",
   "metadata": {},
   "source": [
    "# Examine single-cell mAP scores after normalization & filtering steps\n",
    "**Author:** Jessica Ewald <br>\n",
    "**Date:** February 12, 2024 <br>\n",
    "\n",
    "The purpose of this script is to compare single-cell-level mAP results after each step in the pipeline, with the goal of determining which steps are improving detection of biological signal. There are three normalization steps (well position correction, cell count regression, and robustMAD) and three filtering steps (variance/NA threshold, noise removal, and correlation threshold). mAP is computed on the annotated data prior to any processing, and after each normalization and filtering step. \n",
    "\n",
    "Since it is not computationally feasible to compute mAP for the entire single cell dataset, filtering and sampling is conducted at multiple levels. First, all positive, negative, and transcription controls are filtered out. Second, 5 cells are sampled per well. Third, inside of the mAP function, negative pairs are sampled such that there are approximately 10 negative pairs for every positive pair. This greatly reduces the total number of pairs because the there are exponentially more negative pairs than positive pairs due to the experimental design. "
   ]
  },
  {
   "cell_type": "code",
   "execution_count": null,
   "metadata": {},
   "outputs": [],
   "source": [
    "import pandas as pd\n",
    "import numpy as np\n",
    "\n",
    "import black\n",
    "import jupyter_black\n",
    "\n",
    "jupyter_black.load(\n",
    "    lab=False,\n",
    "    line_length=79,\n",
    "    verbosity=\"DEBUG\",\n",
    "    target_version=black.TargetVersion.PY310,\n",
    ")\n",
    "\n",
    "from tqdm.auto import tqdm\n",
    "\n",
    "import warnings\n",
    "warnings.filterwarnings(\"ignore\")"
   ]
  }
 ],
 "metadata": {
  "kernelspec": {
   "display_name": "varchamp",
   "language": "python",
   "name": "python3"
  },
  "language_info": {
   "name": "python",
   "version": "3.8.0"
  }
 },
 "nbformat": 4,
 "nbformat_minor": 2
}
