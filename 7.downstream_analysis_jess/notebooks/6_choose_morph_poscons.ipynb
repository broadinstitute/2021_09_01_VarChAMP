{
 "cells": [
  {
   "cell_type": "code",
   "execution_count": 12,
   "metadata": {},
   "outputs": [
    {
     "data": {
      "text/plain": [
       "<module 'displayImages' from '/dgx1nas1/storage/data/jess/repos/2021_09_01_VarChAMP/7.downstream_analysis_jess/notebooks/displayImages.py'>"
      ]
     },
     "execution_count": 12,
     "metadata": {},
     "output_type": "execute_result"
    }
   ],
   "source": [
    "# imports\n",
    "import collections\n",
    "from importlib import reload\n",
    "\n",
    "import displayImages as di\n",
    "import polars as pl\n",
    "from tqdm import tqdm\n",
    "\n",
    "reload(di)"
   ]
  },
  {
   "cell_type": "code",
   "execution_count": 2,
   "metadata": {},
   "outputs": [],
   "source": [
    "metrics_dir = \"/dgx1nas1/storage/data/jess/varchamp/sc_data/classification_results/B7B8_1percent_updatedmeta\"\n",
    "prof_dir = \"/dgx1nas1/storage/data/jess/repos/2021_09_01_VarChAMP/6.downstream_analysis_snakemake/outputs/batch_profiles\"\n",
    "img_dir = \"/dgx1nas1/storage/data/jess/varchamp/images\"\n",
    "metrics_wtvar = pl.read_csv(f\"{metrics_dir}/metrics_summary.csv\")"
   ]
  },
  {
   "cell_type": "code",
   "execution_count": 8,
   "metadata": {},
   "outputs": [],
   "source": [
    "morph = (\n",
    "    metrics_wtvar.filter(pl.col(\"Classifier_type\") == \"morphology\")\n",
    "    .filter(pl.col(\"AUROC_mean\") > 0.98)\n",
    "    .filter(pl.col(\"Batch\") == \"batch7\")\n",
    ")\n",
    "morph_alleles = morph.select(\"allele_0\").to_series().unique().to_list()"
   ]
  },
  {
   "cell_type": "code",
   "execution_count": 9,
   "metadata": {},
   "outputs": [],
   "source": [
    "# Get metadata required for plotting (for batch 7 only here)\n",
    "pm_df = pl.scan_parquet(\n",
    "    f\"{prof_dir}/2024_01_23_Batch_7/profiles_tcdropped_filtered_var_mad_outlier_featselect_filtcells_metacorr.parquet\"\n",
    ")\n",
    "meta_cols = [\n",
    "    \"Metadata_Well\",\n",
    "    \"Metadata_Plate\",\n",
    "    \"Metadata_gene_allele\",\n",
    "    \"Metadata_node_type\",\n",
    "]\n",
    "pm_df = pm_df.select(meta_cols).unique().collect()\n",
    "\n",
    "pm_df = pm_df.rename({\n",
    "    \"Metadata_Well\": \"Well\",\n",
    "    \"Metadata_Plate\": \"Plate\",\n",
    "    \"Metadata_gene_allele\": \"Allele\",\n",
    "    \"Metadata_node_type\": \"control_type\",\n",
    "}).with_columns(\n",
    "    pl.lit(\"05\").alias(\"Site\"),\n",
    "    pl.col(\"Plate\").str.slice(11, 6).alias(\"Batch\"),\n",
    "    pl.col(\"Plate\").str.slice(11, 9).alias(\"Plate\"),\n",
    ")\n",
    "\n",
    "rep_df = pl.DataFrame({\n",
    "    \"Batch\": [\n",
    "        \"B7A1R1\",\n",
    "        \"B7A1R1\",\n",
    "        \"B7A1R1\",\n",
    "        \"B7A1R1\",\n",
    "        \"B7A2R1\",\n",
    "        \"B7A2R1\",\n",
    "        \"B7A2R1\",\n",
    "        \"B7A2R1\",\n",
    "        \"B8A1R2\",\n",
    "        \"B8A1R2\",\n",
    "        \"B8A1R2\",\n",
    "        \"B8A1R2\",\n",
    "        \"B8A2R2\",\n",
    "        \"B8A2R2\",\n",
    "        \"B8A2R2\",\n",
    "        \"B8A2R2\",\n",
    "    ],\n",
    "    \"Replicate\": [\n",
    "        \"T1\",\n",
    "        \"T2\",\n",
    "        \"T3\",\n",
    "        \"T4\",\n",
    "        \"T1\",\n",
    "        \"T2\",\n",
    "        \"T3\",\n",
    "        \"T4\",\n",
    "        \"T1\",\n",
    "        \"T2\",\n",
    "        \"T3\",\n",
    "        \"T4\",\n",
    "        \"T1\",\n",
    "        \"T2\",\n",
    "        \"T3\",\n",
    "        \"T4\",\n",
    "    ],\n",
    "})\n",
    "\n",
    "pm_df = pm_df.join(rep_df, on=\"Batch\")"
   ]
  },
  {
   "cell_type": "code",
   "execution_count": 13,
   "metadata": {},
   "outputs": [],
   "source": [
    "# Define allele list and plot dir\n",
    "alleles = morph_alleles\n",
    "plot_dir = f\"{img_dir}/B7B8_morph\"\n",
    "channels = [\"DAPI\", \"GFP\", \"AGP\", \"Mito\"]"
   ]
  },
  {
   "cell_type": "code",
   "execution_count": 14,
   "metadata": {},
   "outputs": [
    {
     "name": "stderr",
     "output_type": "stream",
     "text": [
      "  0%|          | 0/12 [00:00<?, ?it/s]"
     ]
    },
    {
     "name": "stderr",
     "output_type": "stream",
     "text": [
      "100%|██████████| 12/12 [12:29<00:00, 62.43s/it]\n"
     ]
    }
   ],
   "source": [
    "# plot the 5th site from all images, organized by classifier\n",
    "for var_allele in tqdm(alleles):\n",
    "    for channel in channels:\n",
    "        img_nm = f\"{var_allele}_{channel}.png\"\n",
    "\n",
    "        wt_allele = var_allele.split(\"_\")[0]\n",
    "        plot_img = (\n",
    "            pm_df.filter(\n",
    "                ((pl.col(\"Allele\") == var_allele) | (pl.col(\"Allele\") == wt_allele))\n",
    "            )\n",
    "            .unique()\n",
    "            .sort([\"Allele\", \"Batch\", \"Replicate\"])\n",
    "        )\n",
    "\n",
    "        # filter to keep only images where there is a single WT-VAR pair in each plate\n",
    "        plates_img = (\n",
    "            plot_img.select([\"Plate\", \"control_type\"])\n",
    "            .unique()\n",
    "            .select(\"Plate\")\n",
    "            .to_series()\n",
    "            .to_list()\n",
    "        )\n",
    "        plates_img = collections.Counter(plates_img)\n",
    "        plates_img = (\n",
    "            pl.DataFrame(plates_img)\n",
    "            .melt()\n",
    "            .filter(pl.col(\"value\") == 2)\n",
    "            .select(\"variable\")\n",
    "            .to_series()\n",
    "            .to_list()\n",
    "        )\n",
    "        plot_img = plot_img.filter(pl.col(\"Plate\").is_in(plates_img))\n",
    "\n",
    "        di.plotMultiImages(\n",
    "            plot_img, channel, 0.99, 4, display=False, plotpath=f\"{plot_dir}/{img_nm}\"\n",
    "        )"
   ]
  },
  {
   "cell_type": "markdown",
   "metadata": {},
   "source": [
    "Next, will manually look at images and choose the ones that look like the have the most different morphology."
   ]
  }
 ],
 "metadata": {
  "kernelspec": {
   "display_name": "varchamp",
   "language": "python",
   "name": "python3"
  },
  "language_info": {
   "codemirror_mode": {
    "name": "ipython",
    "version": 3
   },
   "file_extension": ".py",
   "mimetype": "text/x-python",
   "name": "python",
   "nbconvert_exporter": "python",
   "pygments_lexer": "ipython3",
   "version": "undefined.undefined.undefined"
  }
 },
 "nbformat": 4,
 "nbformat_minor": 2
}
