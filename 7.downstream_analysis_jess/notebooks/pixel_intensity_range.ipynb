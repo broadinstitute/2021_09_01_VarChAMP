{
 "cells": [
  {
   "cell_type": "markdown",
   "metadata": {},
   "source": [
    "# Compute pixel intensity range for each channel in each plate\n",
    "Author: Jess Ewald\n",
    "\n",
    "We want to plot images with an absolute intensity range such that the abundance can be compared across wells. Unfortunately the entire distribution of intensities seems different across different plates. Here, we read in the negative control wells and use them to compute the range of pixel values. "
   ]
  },
  {
   "cell_type": "code",
   "execution_count": 1,
   "metadata": {},
   "outputs": [
    {
     "name": "stderr",
     "output_type": "stream",
     "text": [
      "DEBUG:jupyter_black:config: {'line_length': 79, 'target_versions': {<TargetVersion.PY310: 10>}}\n"
     ]
    },
    {
     "data": {
      "application/javascript": "\n            (function() {\n                jb_set_cell(\"# concatenate all platemaps\\npms = [\\n    \\\"B7A1R1_P1.txt\\\",\\n    \\\"B7A1R1_P2.txt\\\",\\n    \\\"B7A1R1_P3.txt\\\",\\n    \\\"B7A1R1_P4.txt\\\",\\n    \\\"B7A2R1_P1.txt\\\",\\n    \\\"B8A1R2_P1.txt\\\",\\n    \\\"B8A1R2_P2.txt\\\",\\n    \\\"B8A1R2_P3.txt\\\",\\n    \\\"B8A1R2_P4.txt\\\",\\n    \\\"B8A2R2_P1.txt\\\",\\n]\\n\\npm_dfs = []\\nfor pm in pms:\\n    try:\\n        temp = pl.read_csv(f\\\"{pm_dir}/{pm}\\\", separator=\\\"\\\\t\\\").select(\\n            [\\\"plate_map_name\\\", \\\"well_position\\\", \\\"control_type\\\", \\\"gene_allele\\\"]\\n        )\\n        pm_dfs.append(temp)\\n    except Exception as e:\\n        print(\\\"Error reading {pm}: {e}\\\")\\n\\npm_df = pl.concat(pm_dfs)\")\n            })();\n            ",
      "text/plain": [
       "<IPython.core.display.Javascript object>"
      ]
     },
     "metadata": {},
     "output_type": "display_data"
    }
   ],
   "source": [
    "# Imports\n",
    "import polars as pl\n",
    "import numpy as np\n",
    "from sh import aws\n",
    "import os\n",
    "from skimage.io import imread\n",
    "from matplotlib import pyplot as plt\n",
    "import matplotlib as mpl\n",
    "import random\n",
    "\n",
    "from importlib import reload\n",
    "import displayImages as di\n",
    "reload(di)\n",
    "\n",
    "import black\n",
    "import jupyter_black\n",
    "\n",
    "jupyter_black.load(\n",
    "    lab=False,\n",
    "    line_length=79,\n",
    "    verbosity=\"DEBUG\",\n",
    "    target_version=black.TargetVersion.PY310,\n",
    ")\n",
    "\n",
    "import warnings\n",
    "warnings.filterwarnings(\"ignore\")"
   ]
  },
  {
   "cell_type": "code",
   "execution_count": 2,
   "metadata": {},
   "outputs": [],
   "source": [
    "# Directories\n",
    "pm_dir = \"/dgx1nas1/storage/data/jess/varchamp/platemaps\"\n",
    "sc_res = \"/dgx1nas1/storage/data/jess/varchamp/sc_data\"\n",
    "plot_dir = \"/dgx1nas1/storage/data/jess/varchamp/images/control_qaqc\""
   ]
  },
  {
   "cell_type": "code",
   "execution_count": 15,
   "metadata": {},
   "outputs": [],
   "source": [
    "# concatenate all platemaps\n",
    "pms = [\"B7A1R1_P1.txt\", \"B7A1R1_P2.txt\", \"B7A1R1_P3.txt\", \"B7A1R1_P4.txt\", \"B7A2R1_P1.txt\", \"B8A1R2_P1.txt\", \"B8A1R2_P2.txt\", \"B8A1R2_P3.txt\", \"B8A1R2_P4.txt\", \"B8A2R2_P1.txt\"]\n",
    "\n",
    "pm_dfs = []\n",
    "for pm in pms:\n",
    "    try:\n",
    "        temp = pl.read_csv(f\"{pm_dir}/{pm}\", separator=\"\\t\").select(['plate_map_name', 'well_position', 'control_type', 'gene_allele'])\n",
    "        pm_dfs.append(temp)\n",
    "    except Exception as e:\n",
    "        print(\"Error reading {pm}: {e}\")\n",
    "    \n",
    "pm_df = pl.concat(pm_dfs)"
   ]
  },
  {
   "cell_type": "code",
   "execution_count": 4,
   "metadata": {},
   "outputs": [],
   "source": [
    "# Compute intensity ranges for each channel for each plate\n",
    "ncs = pm_df.filter(pl.col(\"control_type\") == \"NC\")\n",
    "nc_alleles = ncs.select([\"plate_map_name\", \"well_position\", \"gene_allele\"]).unique().rename({\"well_position\": \"Well\",\n",
    "                                                                                             \"plate_map_name\": \"Plate\"})\n",
    "\n",
    "plates = pm_df.select(\"plate_map_name\").to_series().unique().to_list()\n",
    "reps = [\"T1\", \"T2\", \"T3\", \"T4\"]\n",
    "channels = [\"DAPI\", \"AGP\", \"Mito\", \"GFP\"]\n"
   ]
  },
  {
   "cell_type": "code",
   "execution_count": null,
   "metadata": {},
   "outputs": [],
   "source": [
    "# For each platemap-TR-channel, read in pixel intensities from 5th site (middle) of all negative control (16 wells per plate)\n",
    "for plate in plates:\n",
    "    sampled_intensities = []\n",
    "    nc_temp = ncs.filter(pl.col(\"plate_map_name\") == plate)\n",
    "    for rep in reps:\n",
    "        for channel in channels:\n",
    "            print(plate + \", \" + rep + \", \" + channel)\n",
    "            nc_wells = nc_temp.select(\"well_position\").to_series().to_list()\n",
    "            \n",
    "            for i in list(range(0,len(nc_wells))):\n",
    "                try:\n",
    "                    sampled_intensities.append(di.getIntensities(plate, rep, channel, nc_wells[i], \"05\"))\n",
    "                except Exception as e:\n",
    "                    print(\"Error: \" + nc_wells[i])                       \n",
    "    sampled_intensities = pl.concat(sampled_intensities)  \n",
    "    sampled_intensities.write_parquet(f\"{sc_res}/control_intensities/{plate}.parquet\", compression=\"gzip\")"
   ]
  },
  {
   "cell_type": "code",
   "execution_count": 7,
   "metadata": {},
   "outputs": [
    {
     "name": "stdout",
     "output_type": "stream",
     "text": [
      "B7A1R1_P2\n",
      "B8A2R2_P1\n",
      "B8A1R2_P4\n",
      "B7A1R1_P4\n",
      "B8A1R2_P1\n",
      "B7A1R1_P1\n",
      "B8A1R2_P2\n",
      "B7A1R1_P3\n",
      "B8A1R2_P3\n",
      "B7A2R1_P1\n"
     ]
    }
   ],
   "source": [
    "# read in each plate and compute percentiles \n",
    "allele_percs = []\n",
    "for plate in plates:\n",
    "    print(plate)\n",
    "    intensity = pl.read_parquet(f\"{sc_res}/control_intensities/{plate}.parquet\")\n",
    "    intensity = intensity.join(nc_alleles, on=\"Well\")\n",
    "    allele_percs.append(\n",
    "        intensity.group_by([\"Plate\", \"Replicate\", \"Channel\", \"gene_allele\"]).agg([\n",
    "            pl.col('pixel_int').quantile(0.01).alias('perc01'),\n",
    "            pl.col('pixel_int').quantile(0.05).alias('perc05'),\n",
    "            pl.col('pixel_int').quantile(0.25).alias('perc25'),\n",
    "            pl.col('pixel_int').quantile(0.50).alias('perc50'),\n",
    "            pl.col('pixel_int').quantile(0.75).alias('perc75'),\n",
    "            pl.col('pixel_int').quantile(0.95).alias('perc95'),\n",
    "            pl.col('pixel_int').quantile(0.99).alias('perc99'),\n",
    "            ])\n",
    "    )\n",
    "    \n",
    "allele_percs = pl.concat(allele_percs)\n",
    "allele_percs.write_parquet(f\"{sc_res}/control_intensities/allele_summary.parquet\", compression=\"gzip\")"
   ]
  },
  {
   "cell_type": "code",
   "execution_count": 5,
   "metadata": {},
   "outputs": [],
   "source": [
    "# analyze percentiles\n",
    "allele_percs = pl.read_parquet(f\"{sc_res}/control_intensities/allele_summary.parquet\")"
   ]
  },
  {
   "cell_type": "code",
   "execution_count": 6,
   "metadata": {},
   "outputs": [
    {
     "data": {
      "text/plain": [
       "(640, 6)"
      ]
     },
     "execution_count": 6,
     "metadata": {},
     "output_type": "execute_result"
    }
   ],
   "source": [
    "# Plot multiple wells\n",
    "\n",
    "img_df = allele_percs.select([\"Plate\", \"Replicate\", \"gene_allele\"]).with_columns(\n",
    "    pl.lit(\"05\").alias(\"Site\"),\n",
    "    pl.col(\"Plate\").str.slice(0,6).alias(\"Batch\")\n",
    ").join(nc_alleles.select([\"Plate\", \"gene_allele\", \"Well\"]), on=[\"Plate\", \"gene_allele\"]).unique()\n",
    "\n",
    "img_df.shape"
   ]
  },
  {
   "cell_type": "code",
   "execution_count": 7,
   "metadata": {},
   "outputs": [],
   "source": [
    "# get highest percentile for each channel \n",
    "channel_dict = allele_percs.group_by(\"Channel\").agg(\n",
    "    pl.col(\"perc99\").max()\n",
    ").with_columns(\n",
    "    pl.col('perc99').cast(int)  # Cast perc99 values to int for exact output as asked\n",
    ").to_dict(as_series=False)\n",
    "\n",
    "channel_dict = dict(zip(channel_dict['Channel'], channel_dict['perc99']))"
   ]
  },
  {
   "cell_type": "code",
   "execution_count": null,
   "metadata": {},
   "outputs": [],
   "source": [
    "plates = img_df.select(\"Plate\").to_series().unique().to_list()\n",
    "alleles = img_df.select(\"gene_allele\").to_series().unique().to_list()\n",
    "channels = [\"AGP\", \"DAPI\", \"GFP\", \"Mito\"]\n",
    "\n",
    "for allele in alleles:\n",
    "    for channel in channels:\n",
    "        max_intensity = channel_dict[channel]\n",
    "        for plate in plates:\n",
    "            \n",
    "            plot_nm = f\"{allele}_{channel}_{plate}.png\"\n",
    "            print(plot_nm)\n",
    "            \n",
    "            plot_img = img_df.filter((pl.col(\"gene_allele\") == allele) \n",
    "                         & (pl.col(\"Plate\") == plate) \n",
    "                         ).sort([\"Replicate\", \"Well\"])\n",
    "            \n",
    "            di.plotMultiImages(plot_img, channel, max_intensity, 4, display=False, plotpath=f\"{plot_dir}/{plot_nm}\")"
   ]
  },
  {
   "cell_type": "code",
   "execution_count": 8,
   "metadata": {},
   "outputs": [],
   "source": [
    "tcs = pm_df.filter(pl.col(\"control_type\") == \"TC\").rename({\n",
    "    \"well_position\": \"Well\",\n",
    "    \"plate_map_name\": \"Plate\"\n",
    "}).with_columns(\n",
    "    pl.lit(\"TC\").alias(\"gene_allele\"),\n",
    "    pl.lit(\"05\").alias(\"Site\"),\n",
    "    pl.col(\"Plate\").str.slice(0,6).alias(\"Batch\")\n",
    ")\n",
    "\n",
    "rep_df = pl.DataFrame({\n",
    "    \"gene_allele\": [\"TC\", \"TC\", \"TC\", \"TC\"],\n",
    "    \"Replicate\": [\"T1\", \"T2\", \"T3\", \"T4\"]\n",
    "})\n",
    "\n",
    "tcs = tcs.join(rep_df, on=\"gene_allele\")"
   ]
  },
  {
   "cell_type": "markdown",
   "metadata": {},
   "source": [
    "Next, make plots of the TCs. "
   ]
  },
  {
   "cell_type": "code",
   "execution_count": null,
   "metadata": {},
   "outputs": [],
   "source": [
    "plates = img_df.select(\"Plate\").to_series().unique().to_list()\n",
    "channels = [\"AGP\"]\n",
    "\n",
    "for channel in channels:\n",
    "    max_intensity = channel_dict[channel]\n",
    "    for plate in plates:\n",
    "        \n",
    "        plot_nm = f\"TC_{channel}_{plate}.png\"\n",
    "        print(plot_nm)\n",
    "        \n",
    "        plot_img = tcs.filter(pl.col(\"Plate\") == plate).sort([\"Replicate\", \"Well\"])\n",
    "        \n",
    "        di.plotMultiImages(plot_img, channel, max_intensity, 4, display=False, plotpath=f\"{plot_dir}/{plot_nm}\")"
   ]
  },
  {
   "cell_type": "code",
   "execution_count": null,
   "metadata": {},
   "outputs": [],
   "source": [
    "# plot all sites for a few wells\n",
    "site_plot = img_df.filter((pl.col(\"Plate\") == \"B7A2R1_P1\")\n",
    "                          & (pl.col(\"Replicate\") == \"T3\")\n",
    "                          & (pl.col(\"gene_allele\") == \"MAPK9\")\n",
    "                          & (pl.col(\"Well\") == \"L13\"))\n",
    "site_plot = pl.concat([site_plot]*9)\n",
    "site_plot = site_plot.with_columns(pl.Series(name = \"Site\", values = [f\"{i:02}\" for i in range(1, 10)]))\n",
    "\n",
    "di.plotMultiImages(site_plot, \"AGP\", channel_dict[\"AGP\"], 3, display=True)"
   ]
  },
  {
   "cell_type": "code",
   "execution_count": null,
   "metadata": {},
   "outputs": [],
   "source": [
    "site_plot = img_df.filter((pl.col(\"Plate\") == \"B7A2R1_P1\")\n",
    "                          & (pl.col(\"Replicate\") == \"T4\")\n",
    "                          & (pl.col(\"gene_allele\") == \"MAPK9\")\n",
    "                          & (pl.col(\"Well\") == \"L13\"))\n",
    "site_plot = pl.concat([site_plot]*9)\n",
    "site_plot = site_plot.with_columns(pl.Series(name = \"Site\", values = [f\"{i:02}\" for i in range(1, 10)]))\n",
    "\n",
    "di.plotMultiImages(site_plot, \"AGP\", channel_dict[\"AGP\"], 3, display=True)"
   ]
  }
 ],
 "metadata": {
  "kernelspec": {
   "display_name": "varchamp",
   "language": "python",
   "name": "python3"
  },
  "language_info": {
   "codemirror_mode": {
    "name": "ipython",
    "version": 3
   },
   "file_extension": ".py",
   "mimetype": "text/x-python",
   "name": "python",
   "nbconvert_exporter": "python",
   "pygments_lexer": "ipython3",
   "version": "3.8.5"
  }
 },
 "nbformat": 4,
 "nbformat_minor": 2
}
