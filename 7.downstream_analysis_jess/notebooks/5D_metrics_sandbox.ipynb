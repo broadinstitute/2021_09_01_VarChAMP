{
 "cells": [
  {
   "cell_type": "markdown",
   "metadata": {},
   "source": [
    "# XGBoost metrics sandbox\n",
    "\n",
    "Author: Jess Ewald\n",
    "\n",
    "We are using PR-AUC to evaluate our classifiers. It's been suggested to used AUBPRC (Area under the balanced precision-recall curve) as this is less influenced by class imbalance. AUBPRC can be computed from PR-AUC based on the prior (proportion of positives in the population). \n",
    "\n",
    "It's unclear to me whether:\n",
    "\n",
    "1 - PR-AUC is the same if the \"1\" and \"0\" labels are inverted. AUBPRC is not the same if you invert the \"1\" and \"0\" labels when converting from PR-AUC.\n",
    "\n",
    "2 - the method for computing PR-AUC changes the estimates that much\n",
    "\n",
    "\n",
    "### Findings\n",
    "I've learned that:\n",
    "- Using probability of predicting 1 instead of just the 0 and 1 labels REALLY MATTERS. The values change a lot. \n",
    "- There are different methods for computing AUPRC - the actual AUC method commonly used for AUROC and the 'average precision' method. Turns out that the PR-AUC curve is highly non-linear and so the linear interpolation used in the more common AUC metric is less appropriate and the average precision method is more correct. In practice in my data, when using 0,1 the resulting AUPRCs are super different between methods while they barely change when using the correct probability of 1. \n",
    "- AUPRC is not symmetric: you will get very different values if the 0 and 1 labels are inverted. It focuses on the precision and recall for the positive class, so if we do bad on that one then the entire score is terrible while if we do good on that one then the entire score is good. \n",
    "\n",
    "\n",
    "In our set-up, we care equally about both classes so it may not make sense to evaluate with this metric. I think the macro-averaged F1 score or the balanced accuracy may make more sense."
   ]
  },
  {
   "cell_type": "code",
   "execution_count": 22,
   "metadata": {},
   "outputs": [],
   "source": [
    "# Imports\n",
    "import polars as pl\n",
    "import pandas as pd\n",
    "import numpy as np\n",
    "from sklearn.preprocessing import LabelEncoder\n",
    "import xgboost as xgb\n",
    "from sklearn.metrics import precision_recall_curve, auc, average_precision_score\n",
    "import matplotlib.pyplot as plt\n",
    "import cupy as cp\n",
    "\n",
    "import black\n",
    "import jupyter_black\n",
    "\n",
    "jupyter_black.load(\n",
    "    lab=False,\n",
    "    line_length=79,\n",
    "    verbosity=\"DEBUG\",\n",
    "    target_version=black.TargetVersion.PY310,\n",
    ")\n",
    "\n",
    "import warnings\n",
    "warnings.filterwarnings(\"ignore\")"
   ]
  },
  {
   "cell_type": "code",
   "execution_count": 2,
   "metadata": {},
   "outputs": [],
   "source": [
    "# paths\n",
    "dat_dir = \"/dgx1nas1/storage/data/sam/codes/2021_09_01_VarChAMP/6.downstream_analysis_snakemake/outputs/batch_profiles/2024_01_23_Batch_7/profiles_tcdropped_filtered_var_mad_outlier_featselect.parquet\""
   ]
  },
  {
   "cell_type": "code",
   "execution_count": 3,
   "metadata": {},
   "outputs": [],
   "source": [
    "def compute_aubprc(auprc, prior):\n",
    "    return (auprc*(1-prior))/((auprc*(1-prior)) + ((1-auprc)*prior))"
   ]
  },
  {
   "cell_type": "code",
   "execution_count": 4,
   "metadata": {},
   "outputs": [],
   "source": [
    "# get test data\n",
    "dat = pl.scan_parquet(dat_dir)"
   ]
  },
  {
   "cell_type": "code",
   "execution_count": 31,
   "metadata": {},
   "outputs": [],
   "source": [
    "allele_dat = dat.filter((pl.col(\"Metadata_gene_allele\").is_in([\"ACACB\", \"ACACB_Val1611Met\"]))).collect()"
   ]
  },
  {
   "cell_type": "code",
   "execution_count": 32,
   "metadata": {},
   "outputs": [
    {
     "name": "stdout",
     "output_type": "stream",
     "text": [
      "['2024_01_22_B7A1R1_P4T3', '2024_01_19_B7A1R1_P4T1', '2024_01_23_B7A1R1_P4T2', '2024_01_22_B7A1R1_P4T4']\n"
     ]
    }
   ],
   "source": [
    "meta_col = [i for i in allele_dat.columns if \"Metadata_\" in i]\n",
    "feat_col = [i for i in allele_dat.columns if \"Metadata_\" not in i]\n",
    "print(allele_dat.select(\"Metadata_Plate\").to_series().unique().to_list())\n"
   ]
  },
  {
   "cell_type": "code",
   "execution_count": 33,
   "metadata": {},
   "outputs": [],
   "source": [
    "# Give labels\n",
    "allele_dat = allele_dat.with_columns(\n",
    "    pl.when(pl.col(\"Metadata_node_type\") == \"disease_wt\")\n",
    "    .then(1)\n",
    "    .when(pl.col(\"Metadata_node_type\") == \"allele\")\n",
    "    .then(0)\n",
    "    .otherwise(pl.lit(None))  # Handles cases where 'Metadata_node_type' might have other values\n",
    "    .alias(\"Label\")\n",
    ")"
   ]
  },
  {
   "cell_type": "code",
   "execution_count": 8,
   "metadata": {},
   "outputs": [],
   "source": [
    "test_plate = '2024_01_19_B7A1R1_P4T1'"
   ]
  },
  {
   "cell_type": "code",
   "execution_count": 23,
   "metadata": {},
   "outputs": [],
   "source": [
    "def find_feat_cols(lframe):\n",
    "    return [col for col in lframe.columns if not col.startswith('Metadata_')]"
   ]
  },
  {
   "cell_type": "code",
   "execution_count": 48,
   "metadata": {},
   "outputs": [],
   "source": [
    "def classifier(\n",
    "    df_train,\n",
    "    df_test,\n",
    "    target=\"Label\",\n",
    "    shuffle=False\n",
    "):\n",
    "    \"\"\"\n",
    "    This function runs classification.\n",
    "    \"\"\"\n",
    "    \n",
    "    feat_col = find_feat_cols(df_train)\n",
    "    feat_col = [i for i in feat_col if i != \"Label\"]\n",
    "    \n",
    "    x_train, y_train = cp.array(df_train[feat_col].to_numpy()), df_train[[target]]\n",
    "    x_test, y_test = cp.array(df_test[feat_col].to_numpy()), df_test[[target]]\n",
    "\n",
    "    num_pos = df_train[df_train[target]==1].shape[0]\n",
    "    num_neg = df_train[df_train[target]==0].shape[0]\n",
    "\n",
    "    if (num_pos==0) or (num_neg==0):\n",
    "        print(f'size of pos: {num_pos}, size of neg: {num_neg}')\n",
    "        feat_importances = pd.Series(np.nan, index=df_train[feat_col].columns)\n",
    "        return feat_importances, np.nan\n",
    "    \n",
    "    scale_pos_weight = num_neg/num_pos\n",
    "\n",
    "    if (scale_pos_weight > 100) or (scale_pos_weight < 0.01):\n",
    "        print(f'scale_pos_weight: {scale_pos_weight}, size of pos: {num_pos}, size of neg: {num_neg}')\n",
    "        feat_importances = pd.Series(np.nan, index=df_train[feat_col].columns)\n",
    "        return feat_importances, np.nan\n",
    "\n",
    "    le = LabelEncoder()\n",
    "    y_train = cp.array(le.fit_transform(y_train))\n",
    "    y_test = cp.array(le.fit_transform(y_test))\n",
    "\n",
    "    if shuffle:\n",
    "        # Create shuffled train labels\n",
    "        y_train_shuff = y_train.copy()\n",
    "        y_train_shuff[\"Label\"] = np.random.permutation(y_train.values)\n",
    "\n",
    "    model = xgb.XGBClassifier(\n",
    "        objective=\"binary:logistic\",\n",
    "        n_estimators=150,\n",
    "        tree_method=\"hist\",\n",
    "        device=\"cuda\",\n",
    "        learning_rate=0.05,\n",
    "        scale_pos_weight=scale_pos_weight\n",
    "    ).fit(x_train, y_train, verbose=False)\n",
    "\n",
    "    # get predictions and scores\n",
    "    pred_score = model.predict_proba(x_test)[:, 1]\n",
    "    \n",
    "    # Return classifier info\n",
    "    info_0 = df_test[df_test['Label'] == 0].iloc[0]\n",
    "    info_1 = df_test[df_test['Label'] == 1].iloc[0]\n",
    "    class_ID = info_0[\"Metadata_Plate\"] + \"_\" + info_0[\"Metadata_well_position\"] + \"_\" + info_1[\"Metadata_well_position\"]\n",
    "    classifier_df = pd.DataFrame({\n",
    "        \"Classifier_ID\": [class_ID],\n",
    "        \"Plate\": [info_0[\"Metadata_Plate\"]],\n",
    "        \"trainsize_0\": [sum(y_train.get() == 0)],\n",
    "        \"testsize_0\": [sum(y_test.get() == 0)],\n",
    "        \"well_0\": [info_0[\"Metadata_well_position\"]],\n",
    "        \"allele_0\": [info_0[\"Metadata_gene_allele\"]],\n",
    "        \"trainsize_1\": [sum(y_train.get() == 1)],\n",
    "        \"testsize_1\": [sum(y_test.get() == 1)],\n",
    "        \"well_1\": [info_1[\"Metadata_well_position\"]],\n",
    "        \"allele_1\": [info_1[\"Metadata_gene_allele\"]]\n",
    "    })\n",
    "\n",
    "    # Store feature importance\n",
    "    feat_importances = pd.Series(model.feature_importances_, index=df_train[feat_col].columns)\n",
    "    \n",
    "    # Return cell-level predictions\n",
    "    cellID = df_test.apply(lambda row: f\"{row['Metadata_Plate']}_{row['Metadata_well_position']}_{row['Metadata_ImageNumber']}_{row['Metadata_ObjectNumber']}\",\n",
    "                            axis=1).to_list()\n",
    "    \n",
    "    pred_df = pd.DataFrame({\"Classifier_ID\": class_ID,\n",
    "                            \"CellID\": cellID,\n",
    "                            \"Label\": y_test.get(),\n",
    "                            \"Prediction\": pred_score\n",
    "                            })\n",
    "\n",
    "    return feat_importances, classifier_df, pred_df"
   ]
  },
  {
   "cell_type": "code",
   "execution_count": 35,
   "metadata": {},
   "outputs": [],
   "source": [
    "# split into train and test\n",
    "df_train = allele_dat.filter(pl.col(\"Metadata_Plate\") != test_plate).to_pandas()\n",
    "df_test = allele_dat.filter(pl.col(\"Metadata_Plate\") == test_plate).to_pandas()\n",
    "\n",
    "x_train, y_train = cp.array(df_train[feat_col].to_numpy()), df_train[[\"Label\"]]\n",
    "x_test, y_test = cp.array(df_test[feat_col].to_numpy()), df_test[[\"Label\"]]\n",
    "\n",
    "le = LabelEncoder()\n",
    "y_train = cp.array(le.fit_transform(y_train))\n",
    "y_test = cp.array(le.fit_transform(y_test))"
   ]
  },
  {
   "cell_type": "code",
   "execution_count": 49,
   "metadata": {},
   "outputs": [],
   "source": [
    "feat_importances, classifier_df, pred_df = classifier(df_train, df_test, target=\"Label\")"
   ]
  },
  {
   "cell_type": "code",
   "execution_count": 52,
   "metadata": {},
   "outputs": [
    {
     "data": {
      "text/plain": [
       "Nuclei_Texture_SumVariance_DNA_10_01_256                  0.003840\n",
       "Cells_Texture_Correlation_DNA_20_01_256                   0.004149\n",
       "Nuclei_Texture_InfoMeas1_AGP_10_01_256                    0.000000\n",
       "Cytoplasm_Granularity_2_Mito                              0.000000\n",
       "Cytoplasm_Texture_Correlation_Brightfield_20_02_256       0.000000\n",
       "                                                            ...   \n",
       "Nuclei_Correlation_K_Brightfield_H_Brightfield            0.000449\n",
       "Cells_RadialDistribution_MeanFrac_mito_tubeness_10of16    0.000000\n",
       "Nuclei_Texture_Correlation_Mito_5_03_256                  0.000000\n",
       "Nuclei_Texture_SumVariance_Mito_10_03_256                 0.000000\n",
       "Cytoplasm_Texture_Correlation_Brightfield_10_00_256       0.000000\n",
       "Length: 1500, dtype: float32"
      ]
     },
     "execution_count": 52,
     "metadata": {},
     "output_type": "execute_result"
    }
   ],
   "source": [
    "feat_importances"
   ]
  },
  {
   "cell_type": "code",
   "execution_count": 10,
   "metadata": {},
   "outputs": [
    {
     "data": {
      "text/plain": [
       "1.2318840579710144"
      ]
     },
     "execution_count": 10,
     "metadata": {},
     "output_type": "execute_result"
    }
   ],
   "source": [
    "# Calculate imbalance\n",
    "num_pos = df_train.filter(pl.col(\"Metadata_Label\") == 1).shape[0]\n",
    "num_neg = df_train.filter(pl.col(\"Metadata_Label\") == 0).shape[0]\n",
    "train_pos_weight = num_neg/num_pos\n",
    "train_pos_weight"
   ]
  },
  {
   "cell_type": "code",
   "execution_count": 11,
   "metadata": {},
   "outputs": [],
   "source": [
    "# train model\n",
    "model = xgb.XGBClassifier(\n",
    "    objective=\"binary:logistic\",\n",
    "    n_estimators=150,\n",
    "    tree_method=\"hist\",\n",
    "    learning_rate=0.05,\n",
    "    device=\"cuda\",\n",
    "    scale_pos_weight=train_pos_weight\n",
    ").fit(x_train, y_train, verbose=False)\n",
    "\n",
    "preds = model.predict(x_test)\n",
    "prob_pos_class = model.predict_proba(x_test)[:,1]"
   ]
  },
  {
   "cell_type": "code",
   "execution_count": 12,
   "metadata": {},
   "outputs": [
    {
     "data": {
      "text/plain": [
       "(array(0.07540984), 305, array(23))"
      ]
     },
     "execution_count": 12,
     "metadata": {},
     "output_type": "execute_result"
    }
   ],
   "source": [
    "# calculate prior, tp, fp, tn, fn\n",
    "prior = sum(y_test == 1)/len(y_test)\n",
    "prior, len(y_test), sum(y_test==1)"
   ]
  },
  {
   "cell_type": "code",
   "execution_count": 13,
   "metadata": {},
   "outputs": [],
   "source": [
    "pred_score = model.predict_proba(x_test)[:, 1]"
   ]
  },
  {
   "cell_type": "code",
   "execution_count": 69,
   "metadata": {},
   "outputs": [
    {
     "data": {
      "image/png": "[encoded data removed]",
      "text/plain": [
       "<Figure size 640x480 with 1 Axes>"
      ]
     },
     "metadata": {},
     "output_type": "display_data"
    }
   ],
   "source": [
    "# Compute PR-AUC with binary scores\n",
    "precision, recall, _ = precision_recall_curve(y_test, preds)\n",
    "pr_auc = auc(recall, precision)\n",
    "average_precision = average_precision_score(y_test, preds, average=\"weighted\")\n",
    "balanced_ap = compute_aubprc(average_precision, prior)\n",
    "\n",
    "plt.figure()\n",
    "plt.plot(recall, precision, color='blue', lw=2, \n",
    "         label='AUPRC = %0.2f, AP = %0.2f, AUBPRC = %0.2f' % (pr_auc, average_precision, balanced_ap))\n",
    "plt.xlabel('Recall')\n",
    "plt.ylabel('Precision')\n",
    "plt.title('Precision-Recall Curve')\n",
    "plt.legend(loc=\"best\")\n",
    "plt.xlim([0.0, 1.0])\n",
    "plt.ylim([0.0, 1.05])\n",
    "plt.grid(True)\n",
    "plt.show()"
   ]
  },
  {
   "cell_type": "code",
   "execution_count": 70,
   "metadata": {},
   "outputs": [
    {
     "data": {
      "image/png": "[encoded data removed]",
      "text/plain": [
       "<Figure size 640x480 with 1 Axes>"
      ]
     },
     "metadata": {},
     "output_type": "display_data"
    }
   ],
   "source": [
    "# Compute PR-AUC with positive probability scores\n",
    "precision, recall, _ = precision_recall_curve(y_test, prob_pos_class)\n",
    "pr_auc = auc(recall, precision)\n",
    "average_precision = average_precision_score(y_test, prob_pos_class, average=\"weighted\")\n",
    "balanced_ap = compute_aubprc(average_precision, prior)\n",
    "\n",
    "plt.figure()\n",
    "plt.plot(recall, precision, color='blue', lw=2, \n",
    "         label='AUPRC = %0.2f, AP = %0.2f, AUBPRC = %0.2f' % (pr_auc, average_precision, balanced_ap))\n",
    "plt.xlabel('Recall')\n",
    "plt.ylabel('Precision')\n",
    "plt.title('Precision-Recall Curve')\n",
    "plt.legend(loc=\"best\")\n",
    "plt.xlim([0.0, 1.0])\n",
    "plt.ylim([0.0, 1.05])\n",
    "plt.grid(True)\n",
    "plt.show()"
   ]
  },
  {
   "cell_type": "markdown",
   "metadata": {},
   "source": [
    "### Invert the labels and re-calculate"
   ]
  },
  {
   "cell_type": "code",
   "execution_count": 73,
   "metadata": {},
   "outputs": [
    {
     "name": "stdout",
     "output_type": "stream",
     "text": [
      "Training #neg/#pos:  0.8117647058823529\n",
      "Prior:  0.9245901639344263 305 282\n"
     ]
    },
    {
     "data": {
      "image/png": "[encoded data removed]",
      "text/plain": [
       "<Figure size 640x480 with 1 Axes>"
      ]
     },
     "metadata": {},
     "output_type": "display_data"
    }
   ],
   "source": [
    "# Give labels\n",
    "allele_dat = allele_dat.with_columns(\n",
    "    pl.when(pl.col(\"Metadata_node_type\") == \"disease_wt\")\n",
    "    .then(0)\n",
    "    .when(pl.col(\"Metadata_node_type\") == \"allele\")\n",
    "    .then(1)\n",
    "    .otherwise(pl.lit(None))  # Handles cases where 'Metadata_node_type' might have other values\n",
    "    .alias(\"Metadata_Label\")\n",
    ")\n",
    "\n",
    "# split into train and test\n",
    "df_train = allele_dat.filter(pl.col(\"Metadata_Plate\") != test_plate)\n",
    "df_test = allele_dat.filter(pl.col(\"Metadata_Plate\") == test_plate)\n",
    "\n",
    "x_train, y_train = df_train.select(feat_col), df_train.select(\"Metadata_Label\")\n",
    "x_test, y_test = df_test.select(feat_col), df_test.select(\"Metadata_Label\")\n",
    "\n",
    "le = LabelEncoder()\n",
    "y_train = le.fit_transform(y_train)\n",
    "y_test = le.fit_transform(y_test)\n",
    "\n",
    "# Calculate imbalance\n",
    "num_pos = df_train.filter(pl.col(\"Metadata_Label\") == 1).shape[0]\n",
    "num_neg = df_train.filter(pl.col(\"Metadata_Label\") == 0).shape[0]\n",
    "train_pos_weight = num_neg/num_pos\n",
    "print(\"Training #neg/#pos: \", train_pos_weight)\n",
    "\n",
    "# train model\n",
    "model = xgb.XGBClassifier(\n",
    "    objective=\"binary:logistic\",\n",
    "    n_estimators=150,\n",
    "    tree_method=\"hist\",\n",
    "    learning_rate=0.05,\n",
    "    scale_pos_weight=train_pos_weight\n",
    ").fit(x_train, y_train, verbose=False)\n",
    "\n",
    "preds = model.predict(x_test)\n",
    "prob_pos_class = model.predict_proba(x_test)[:, 1]\n",
    "\n",
    "# calculate prior\n",
    "prior = sum(y_test == 1)/len(y_test)\n",
    "print(\"Prior: \", prior, len(y_test), sum(y_test==1))\n",
    "\n",
    "\n",
    "# Compute PR-AUC with positive probability scores\n",
    "precision, recall, _ = precision_recall_curve(y_test, prob_pos_class)\n",
    "pr_auc = auc(recall, precision)\n",
    "average_precision = average_precision_score(y_test, prob_pos_class, average=\"weighted\")\n",
    "balanced_ap = compute_aubprc(average_precision, prior)\n",
    "\n",
    "plt.figure()\n",
    "plt.plot(recall, precision, color='blue', lw=2, \n",
    "         label='AUPRC = %0.2f, AP = %0.2f, AUBPRC = %0.2f' % (pr_auc, average_precision, balanced_ap))\n",
    "plt.xlabel('Recall')\n",
    "plt.ylabel('Precision')\n",
    "plt.title('Precision-Recall Curve')\n",
    "plt.legend(loc=\"best\")\n",
    "plt.xlim([0.0, 1.0])\n",
    "plt.ylim([0.0, 1.05])\n",
    "plt.grid(True)\n",
    "plt.show()"
   ]
  },
  {
   "cell_type": "code",
   "execution_count": 24,
   "metadata": {},
   "outputs": [],
   "source": [
    "# create test data for snakemake pipeline\n",
    "import polars as pl\n",
    "\n",
    "dat = pl.scan_parquet(\"/dgx1nas1/storage/data/jess/repos/2021_09_01_VarChAMP/6.downstream_analysis_snakemake/outputs/batch_profiles/2024_01_23_Batch_7/profiles_tcdropped_filtered_var_mad_outlier_featselect.parquet\")\n",
    "\n",
    "variants = dat.filter(pl.col(\"Metadata_plate_map_name\") == \"B7A1R1_P1\").select(\"Metadata_gene_allele\").collect().to_series().unique().to_list()\n",
    "variants = [i for i in variants if i is not None]"
   ]
  },
  {
   "cell_type": "code",
   "execution_count": 21,
   "metadata": {},
   "outputs": [],
   "source": [
    "var1 = [i for i in variants if \"FA2H\" in i]\n",
    "var2 = [i for i in variants if \"ALAS2\" in i]\n",
    "filtered_variants = var1 + var2 + [\"MAPK9\", \"RHEB\"]"
   ]
  },
  {
   "cell_type": "code",
   "execution_count": 25,
   "metadata": {},
   "outputs": [],
   "source": [
    "dat = dat.filter((pl.col(\"Metadata_gene_allele\").is_in(filtered_variants))\n",
    "                 & (pl.col(\"Metadata_plate_map_name\") == \"B7A1R1_P1\")).collect()"
   ]
  },
  {
   "cell_type": "code",
   "execution_count": 27,
   "metadata": {},
   "outputs": [],
   "source": [
    "dat.write_parquet(\"/dgx1nas1/storage/data/jess/repos/2021_09_01_VarChAMP/6.downstream_analysis_snakemake/outputs/batch_profiles/test_batch/profiles_tcdropped_filtered_var_mad_outlier_featselect.parquet\", compression=\"gzip\")"
   ]
  },
  {
   "cell_type": "code",
   "execution_count": 32,
   "metadata": {},
   "outputs": [],
   "source": [
    "# check results\n",
    "res_dir=\"/dgx1nas1/storage/data/jess/repos/2021_09_01_VarChAMP/6.downstream_analysis_snakemake/outputs/results/test_batch/profiles_tcdropped_filtered_var_mad_outlier_featselect\"\n",
    "\n",
    "preds = pl.read_parquet(f\"{res_dir}/predictions.parquet\")\n",
    "info = pl.read_csv(f\"{res_dir}/result.csv\")"
   ]
  },
  {
   "cell_type": "code",
   "execution_count": 31,
   "metadata": {},
   "outputs": [
    {
     "data": {
      "text/html": [
       "<div><style>\n",
       ".dataframe > thead > tr,\n",
       ".dataframe > tbody > tr {\n",
       "  text-align: right;\n",
       "  white-space: pre-wrap;\n",
       "}\n",
       "</style>\n",
       "<small>shape: (92, 11)</small><table border=\"1\" class=\"dataframe\"><thead><tr><th>Classifier_ID</th><th>Plate</th><th>trainsize_0</th><th>testsize_0</th><th>well_0</th><th>allele_0</th><th>trainsize_1</th><th>testsize_1</th><th>well_1</th><th>allele_1</th><th>Metadata_Control</th></tr><tr><td>str</td><td>str</td><td>i64</td><td>i64</td><td>str</td><td>str</td><td>i64</td><td>i64</td><td>str</td><td>str</td><td>bool</td></tr></thead><tbody><tr><td>&quot;2024_01_17_B7A…</td><td>&quot;2024_01_17_B7A…</td><td>2120</td><td>820</td><td>&quot;L14&quot;</td><td>&quot;MAPK9&quot;</td><td>1831</td><td>713</td><td>&quot;K14&quot;</td><td>&quot;MAPK9&quot;</td><td>true</td></tr><tr><td>&quot;2024_01_17_B7A…</td><td>&quot;2024_01_17_B7A…</td><td>2300</td><td>640</td><td>&quot;L14&quot;</td><td>&quot;MAPK9&quot;</td><td>1993</td><td>551</td><td>&quot;K14&quot;</td><td>&quot;MAPK9&quot;</td><td>true</td></tr><tr><td>&quot;2024_01_17_B7A…</td><td>&quot;2024_01_17_B7A…</td><td>2155</td><td>785</td><td>&quot;L14&quot;</td><td>&quot;MAPK9&quot;</td><td>1969</td><td>575</td><td>&quot;K14&quot;</td><td>&quot;MAPK9&quot;</td><td>true</td></tr><tr><td>&quot;2024_01_17_B7A…</td><td>&quot;2024_01_17_B7A…</td><td>2245</td><td>695</td><td>&quot;L14&quot;</td><td>&quot;MAPK9&quot;</td><td>1839</td><td>705</td><td>&quot;K14&quot;</td><td>&quot;MAPK9&quot;</td><td>true</td></tr><tr><td>&quot;2024_01_17_B7A…</td><td>&quot;2024_01_17_B7A…</td><td>2120</td><td>820</td><td>&quot;L14&quot;</td><td>&quot;MAPK9&quot;</td><td>1914</td><td>552</td><td>&quot;K13&quot;</td><td>&quot;MAPK9&quot;</td><td>true</td></tr><tr><td>&quot;2024_01_17_B7A…</td><td>&quot;2024_01_17_B7A…</td><td>2300</td><td>640</td><td>&quot;L14&quot;</td><td>&quot;MAPK9&quot;</td><td>2049</td><td>417</td><td>&quot;K13&quot;</td><td>&quot;MAPK9&quot;</td><td>true</td></tr><tr><td>&quot;2024_01_17_B7A…</td><td>&quot;2024_01_17_B7A…</td><td>2155</td><td>785</td><td>&quot;L14&quot;</td><td>&quot;MAPK9&quot;</td><td>1683</td><td>783</td><td>&quot;K13&quot;</td><td>&quot;MAPK9&quot;</td><td>true</td></tr><tr><td>&quot;2024_01_17_B7A…</td><td>&quot;2024_01_17_B7A…</td><td>2245</td><td>695</td><td>&quot;L14&quot;</td><td>&quot;MAPK9&quot;</td><td>1752</td><td>714</td><td>&quot;K13&quot;</td><td>&quot;MAPK9&quot;</td><td>true</td></tr><tr><td>&quot;2024_01_17_B7A…</td><td>&quot;2024_01_17_B7A…</td><td>1877</td><td>723</td><td>&quot;L13&quot;</td><td>&quot;MAPK9&quot;</td><td>1914</td><td>552</td><td>&quot;K13&quot;</td><td>&quot;MAPK9&quot;</td><td>true</td></tr><tr><td>&quot;2024_01_17_B7A…</td><td>&quot;2024_01_17_B7A…</td><td>1911</td><td>689</td><td>&quot;L13&quot;</td><td>&quot;MAPK9&quot;</td><td>2049</td><td>417</td><td>&quot;K13&quot;</td><td>&quot;MAPK9&quot;</td><td>true</td></tr><tr><td>&quot;2024_01_17_B7A…</td><td>&quot;2024_01_17_B7A…</td><td>2107</td><td>493</td><td>&quot;L13&quot;</td><td>&quot;MAPK9&quot;</td><td>1683</td><td>783</td><td>&quot;K13&quot;</td><td>&quot;MAPK9&quot;</td><td>true</td></tr><tr><td>&quot;2024_01_17_B7A…</td><td>&quot;2024_01_17_B7A…</td><td>1905</td><td>695</td><td>&quot;L13&quot;</td><td>&quot;MAPK9&quot;</td><td>1752</td><td>714</td><td>&quot;K13&quot;</td><td>&quot;MAPK9&quot;</td><td>true</td></tr><tr><td>&hellip;</td><td>&hellip;</td><td>&hellip;</td><td>&hellip;</td><td>&hellip;</td><td>&hellip;</td><td>&hellip;</td><td>&hellip;</td><td>&hellip;</td><td>&hellip;</td><td>&hellip;</td></tr><tr><td>&quot;2024_01_17_B7A…</td><td>&quot;2024_01_17_B7A…</td><td>492</td><td>152</td><td>&quot;N22&quot;</td><td>&quot;FA2H_Arg143Cys…</td><td>734</td><td>311</td><td>&quot;J22&quot;</td><td>&quot;FA2H&quot;</td><td>false</td></tr><tr><td>&quot;2024_01_17_B7A…</td><td>&quot;2024_01_17_B7A…</td><td>499</td><td>145</td><td>&quot;N22&quot;</td><td>&quot;FA2H_Arg143Cys…</td><td>923</td><td>122</td><td>&quot;J22&quot;</td><td>&quot;FA2H&quot;</td><td>false</td></tr><tr><td>&quot;2024_01_17_B7A…</td><td>&quot;2024_01_17_B7A…</td><td>462</td><td>182</td><td>&quot;N22&quot;</td><td>&quot;FA2H_Arg143Cys…</td><td>757</td><td>288</td><td>&quot;J22&quot;</td><td>&quot;FA2H&quot;</td><td>false</td></tr><tr><td>&quot;2024_01_17_B7A…</td><td>&quot;2024_01_17_B7A…</td><td>479</td><td>165</td><td>&quot;N22&quot;</td><td>&quot;FA2H_Arg143Cys…</td><td>721</td><td>324</td><td>&quot;J22&quot;</td><td>&quot;FA2H&quot;</td><td>false</td></tr><tr><td>&quot;2024_01_17_B7A…</td><td>&quot;2024_01_17_B7A…</td><td>763</td><td>279</td><td>&quot;L22&quot;</td><td>&quot;FA2H_Arg62Cys&quot;</td><td>734</td><td>311</td><td>&quot;J22&quot;</td><td>&quot;FA2H&quot;</td><td>false</td></tr><tr><td>&quot;2024_01_17_B7A…</td><td>&quot;2024_01_17_B7A…</td><td>809</td><td>233</td><td>&quot;L22&quot;</td><td>&quot;FA2H_Arg62Cys&quot;</td><td>923</td><td>122</td><td>&quot;J22&quot;</td><td>&quot;FA2H&quot;</td><td>false</td></tr><tr><td>&quot;2024_01_17_B7A…</td><td>&quot;2024_01_17_B7A…</td><td>812</td><td>230</td><td>&quot;L22&quot;</td><td>&quot;FA2H_Arg62Cys&quot;</td><td>757</td><td>288</td><td>&quot;J22&quot;</td><td>&quot;FA2H&quot;</td><td>false</td></tr><tr><td>&quot;2024_01_17_B7A…</td><td>&quot;2024_01_17_B7A…</td><td>742</td><td>300</td><td>&quot;L22&quot;</td><td>&quot;FA2H_Arg62Cys&quot;</td><td>721</td><td>324</td><td>&quot;J22&quot;</td><td>&quot;FA2H&quot;</td><td>false</td></tr><tr><td>&quot;2024_01_17_B7A…</td><td>&quot;2024_01_17_B7A…</td><td>496</td><td>139</td><td>&quot;P22&quot;</td><td>&quot;FA2H_Phe144Ser…</td><td>734</td><td>311</td><td>&quot;J22&quot;</td><td>&quot;FA2H&quot;</td><td>false</td></tr><tr><td>&quot;2024_01_17_B7A…</td><td>&quot;2024_01_17_B7A…</td><td>479</td><td>156</td><td>&quot;P22&quot;</td><td>&quot;FA2H_Phe144Ser…</td><td>923</td><td>122</td><td>&quot;J22&quot;</td><td>&quot;FA2H&quot;</td><td>false</td></tr><tr><td>&quot;2024_01_17_B7A…</td><td>&quot;2024_01_17_B7A…</td><td>478</td><td>157</td><td>&quot;P22&quot;</td><td>&quot;FA2H_Phe144Ser…</td><td>757</td><td>288</td><td>&quot;J22&quot;</td><td>&quot;FA2H&quot;</td><td>false</td></tr><tr><td>&quot;2024_01_17_B7A…</td><td>&quot;2024_01_17_B7A…</td><td>452</td><td>183</td><td>&quot;P22&quot;</td><td>&quot;FA2H_Phe144Ser…</td><td>721</td><td>324</td><td>&quot;J22&quot;</td><td>&quot;FA2H&quot;</td><td>false</td></tr></tbody></table></div>"
      ],
      "text/plain": [
       "shape: (92, 11)\n",
       "┌────────────┬────────────┬────────────┬───────────┬───┬───────────┬────────┬──────────┬───────────┐\n",
       "│ Classifier ┆ Plate      ┆ trainsize_ ┆ testsize_ ┆ … ┆ testsize_ ┆ well_1 ┆ allele_1 ┆ Metadata_ │\n",
       "│ _ID        ┆ ---        ┆ 0          ┆ 0         ┆   ┆ 1         ┆ ---    ┆ ---      ┆ Control   │\n",
       "│ ---        ┆ str        ┆ ---        ┆ ---       ┆   ┆ ---       ┆ str    ┆ str      ┆ ---       │\n",
       "│ str        ┆            ┆ i64        ┆ i64       ┆   ┆ i64       ┆        ┆          ┆ bool      │\n",
       "╞════════════╪════════════╪════════════╪═══════════╪═══╪═══════════╪════════╪══════════╪═══════════╡\n",
       "│ 2024_01_17 ┆ 2024_01_17 ┆ 2120       ┆ 820       ┆ … ┆ 713       ┆ K14    ┆ MAPK9    ┆ true      │\n",
       "│ _B7A1R1_P1 ┆ _B7A1R1_P1 ┆            ┆           ┆   ┆           ┆        ┆          ┆           │\n",
       "│ T2_MAPK9   ┆ T2         ┆            ┆           ┆   ┆           ┆        ┆          ┆           │\n",
       "│ 2024_01_17 ┆ 2024_01_17 ┆ 2300       ┆ 640       ┆ … ┆ 551       ┆ K14    ┆ MAPK9    ┆ true      │\n",
       "│ _B7A1R1_P1 ┆ _B7A1R1_P1 ┆            ┆           ┆   ┆           ┆        ┆          ┆           │\n",
       "│ T1_MAPK9   ┆ T1         ┆            ┆           ┆   ┆           ┆        ┆          ┆           │\n",
       "│ 2024_01_17 ┆ 2024_01_17 ┆ 2155       ┆ 785       ┆ … ┆ 575       ┆ K14    ┆ MAPK9    ┆ true      │\n",
       "│ _B7A1R1_P1 ┆ _B7A1R1_P1 ┆            ┆           ┆   ┆           ┆        ┆          ┆           │\n",
       "│ T4_MAPK9   ┆ T4         ┆            ┆           ┆   ┆           ┆        ┆          ┆           │\n",
       "│ 2024_01_17 ┆ 2024_01_17 ┆ 2245       ┆ 695       ┆ … ┆ 705       ┆ K14    ┆ MAPK9    ┆ true      │\n",
       "│ _B7A1R1_P1 ┆ _B7A1R1_P1 ┆            ┆           ┆   ┆           ┆        ┆          ┆           │\n",
       "│ T3_MAPK9   ┆ T3         ┆            ┆           ┆   ┆           ┆        ┆          ┆           │\n",
       "│ 2024_01_17 ┆ 2024_01_17 ┆ 2120       ┆ 820       ┆ … ┆ 552       ┆ K13    ┆ MAPK9    ┆ true      │\n",
       "│ _B7A1R1_P1 ┆ _B7A1R1_P1 ┆            ┆           ┆   ┆           ┆        ┆          ┆           │\n",
       "│ T2_MAPK9   ┆ T2         ┆            ┆           ┆   ┆           ┆        ┆          ┆           │\n",
       "│ …          ┆ …          ┆ …          ┆ …         ┆ … ┆ …         ┆ …      ┆ …        ┆ …         │\n",
       "│ 2024_01_17 ┆ 2024_01_17 ┆ 742        ┆ 300       ┆ … ┆ 324       ┆ J22    ┆ FA2H     ┆ false     │\n",
       "│ _B7A1R1_P1 ┆ _B7A1R1_P1 ┆            ┆           ┆   ┆           ┆        ┆          ┆           │\n",
       "│ T3_FA2H_Ar ┆ T3         ┆            ┆           ┆   ┆           ┆        ┆          ┆           │\n",
       "│ g6…        ┆            ┆            ┆           ┆   ┆           ┆        ┆          ┆           │\n",
       "│ 2024_01_17 ┆ 2024_01_17 ┆ 496        ┆ 139       ┆ … ┆ 311       ┆ J22    ┆ FA2H     ┆ false     │\n",
       "│ _B7A1R1_P1 ┆ _B7A1R1_P1 ┆            ┆           ┆   ┆           ┆        ┆          ┆           │\n",
       "│ T2_FA2H_Ph ┆ T2         ┆            ┆           ┆   ┆           ┆        ┆          ┆           │\n",
       "│ e1…        ┆            ┆            ┆           ┆   ┆           ┆        ┆          ┆           │\n",
       "│ 2024_01_17 ┆ 2024_01_17 ┆ 479        ┆ 156       ┆ … ┆ 122       ┆ J22    ┆ FA2H     ┆ false     │\n",
       "│ _B7A1R1_P1 ┆ _B7A1R1_P1 ┆            ┆           ┆   ┆           ┆        ┆          ┆           │\n",
       "│ T1_FA2H_Ph ┆ T1         ┆            ┆           ┆   ┆           ┆        ┆          ┆           │\n",
       "│ e1…        ┆            ┆            ┆           ┆   ┆           ┆        ┆          ┆           │\n",
       "│ 2024_01_17 ┆ 2024_01_17 ┆ 478        ┆ 157       ┆ … ┆ 288       ┆ J22    ┆ FA2H     ┆ false     │\n",
       "│ _B7A1R1_P1 ┆ _B7A1R1_P1 ┆            ┆           ┆   ┆           ┆        ┆          ┆           │\n",
       "│ T4_FA2H_Ph ┆ T4         ┆            ┆           ┆   ┆           ┆        ┆          ┆           │\n",
       "│ e1…        ┆            ┆            ┆           ┆   ┆           ┆        ┆          ┆           │\n",
       "│ 2024_01_17 ┆ 2024_01_17 ┆ 452        ┆ 183       ┆ … ┆ 324       ┆ J22    ┆ FA2H     ┆ false     │\n",
       "│ _B7A1R1_P1 ┆ _B7A1R1_P1 ┆            ┆           ┆   ┆           ┆        ┆          ┆           │\n",
       "│ T3_FA2H_Ph ┆ T3         ┆            ┆           ┆   ┆           ┆        ┆          ┆           │\n",
       "│ e1…        ┆            ┆            ┆           ┆   ┆           ┆        ┆          ┆           │\n",
       "└────────────┴────────────┴────────────┴───────────┴───┴───────────┴────────┴──────────┴───────────┘"
      ]
     },
     "execution_count": 31,
     "metadata": {},
     "output_type": "execute_result"
    }
   ],
   "source": [
    "info"
   ]
  }
 ],
 "metadata": {
  "kernelspec": {
   "display_name": "varchamp",
   "language": "python",
   "name": "python3"
  },
  "language_info": {
   "codemirror_mode": {
    "name": "ipython",
    "version": 3
   },
   "file_extension": ".py",
   "mimetype": "text/x-python",
   "name": "python",
   "nbconvert_exporter": "python",
   "pygments_lexer": "ipython3",
   "version": "3.8.-1"
  }
 },
 "nbformat": 4,
 "nbformat_minor": 2
}
