{
 "cells": [
  {
   "cell_type": "markdown",
   "metadata": {},
   "source": [
    "# Summarize assayed alleles"
   ]
  },
  {
   "cell_type": "code",
   "execution_count": 9,
   "metadata": {},
   "outputs": [],
   "source": [
    "import polars as pl\n",
    "import numpy as np"
   ]
  },
  {
   "cell_type": "code",
   "execution_count": 2,
   "metadata": {},
   "outputs": [],
   "source": [
    "# Paths\n",
    "home_dir = \"/dgx1nas1/storage/data/jess/repos/2021_09_01_VarChAMP\"\n",
    "corr_meta = (\n",
    "    f\"{home_dir}/6.downstream_analysis_snakemake/inputs/metadata/metadata_correction\"\n",
    ")\n",
    "metrics_dir = \"/dgx1nas1/storage/data/jess/varchamp/sc_data/classification_results/B7B8_1percent_updatedmeta\""
   ]
  },
  {
   "cell_type": "code",
   "execution_count": 3,
   "metadata": {},
   "outputs": [],
   "source": [
    "# Read in files\n",
    "meta = pl.read_csv(f\"{corr_meta}/onepercent_metadata_update_20240814.csv\")\n",
    "metrics_wtvar = pl.read_csv(f\"{metrics_dir}/metrics_summary.csv\")"
   ]
  },
  {
   "cell_type": "code",
   "execution_count": 6,
   "metadata": {},
   "outputs": [
    {
     "data": {
      "text/plain": [
       "['symbol',\n",
       " 'gene_allele',\n",
       " 'imaging_well',\n",
       " 'imaging_plate_R1',\n",
       " 'imaging_plate_R2',\n",
       " 'final_symbol',\n",
       " 'final_gene_allele']"
      ]
     },
     "execution_count": 6,
     "metadata": {},
     "output_type": "execute_result"
    }
   ],
   "source": [
    "meta.columns"
   ]
  },
  {
   "cell_type": "code",
   "execution_count": 5,
   "metadata": {},
   "outputs": [
    {
     "name": "stdout",
     "output_type": "stream",
     "text": [
      "1027\n",
      "173\n"
     ]
    }
   ],
   "source": [
    "# total original count\n",
    "total_alleles = meta.filter(pl.col(\"gene_allele\").str.contains(\"_\"))\n",
    "assayed_alleles = total_alleles.select(\"gene_allele\").to_series().unique().to_list()\n",
    "assayed_genes = total_alleles.select(\"symbol\").to_series().unique().to_list()\n",
    "\n",
    "print(len(assayed_alleles))\n",
    "print(len(assayed_genes))"
   ]
  },
  {
   "cell_type": "code",
   "execution_count": 7,
   "metadata": {},
   "outputs": [
    {
     "name": "stdout",
     "output_type": "stream",
     "text": [
      "994\n",
      "169\n"
     ]
    }
   ],
   "source": [
    "# total after metadata mishaps\n",
    "corr_alleles = meta.filter(pl.col(\"final_gene_allele\").is_in(assayed_alleles))\n",
    "corr_assayed_alleles = corr_alleles.select(\"gene_allele\").to_series().unique().to_list()\n",
    "corr_assayed_genes = corr_alleles.select(\"symbol\").to_series().unique().to_list()\n",
    "\n",
    "print(len(corr_assayed_alleles))\n",
    "print(len(corr_assayed_genes))"
   ]
  },
  {
   "cell_type": "code",
   "execution_count": 21,
   "metadata": {},
   "outputs": [
    {
     "name": "stdout",
     "output_type": "stream",
     "text": [
      "752\n",
      "138\n"
     ]
    }
   ],
   "source": [
    "# Count with matching WT on same plate\n",
    "pair_alleles = meta.filter(\n",
    "    (pl.col(\"final_gene_allele\").is_in(corr_assayed_alleles))\n",
    "    | (pl.col(\"final_symbol\").is_in(corr_assayed_genes))\n",
    ")\n",
    "\n",
    "paired_alleles = []\n",
    "paired_symbols = []\n",
    "for allele in corr_assayed_alleles:\n",
    "    temp_plate = (\n",
    "        pair_alleles.filter(pl.col(\"final_gene_allele\") == allele)\n",
    "        .select(\"imaging_plate_R1\")\n",
    "        .to_series()\n",
    "        .unique()\n",
    "        .to_list()\n",
    "    )\n",
    "    for plate in temp_plate:\n",
    "        temp_symbol = (\n",
    "            pair_alleles.filter(\n",
    "                (pl.col(\"final_gene_allele\") == allele)\n",
    "                & (pl.col(\"imaging_plate_R1\") == plate)\n",
    "            )\n",
    "            .select(\"final_symbol\")\n",
    "            .item(0, 0)\n",
    "        )\n",
    "        plate_alleles = (\n",
    "            pair_alleles.filter(pl.col(\"imaging_plate_R1\") == plate)\n",
    "            .select(\"final_gene_allele\")\n",
    "            .to_series()\n",
    "            .to_list()\n",
    "        )\n",
    "\n",
    "        if temp_symbol in plate_alleles:\n",
    "            paired_alleles.append(allele)\n",
    "            paired_symbols.append(temp_symbol)\n",
    "\n",
    "paired_alleles = np.unique(paired_alleles)\n",
    "paired_symbols = np.unique(paired_symbols)\n",
    "\n",
    "print(len(paired_alleles))\n",
    "print(len(paired_symbols))"
   ]
  }
 ],
 "metadata": {
  "kernelspec": {
   "display_name": "varchamp",
   "language": "python",
   "name": "python3"
  },
  "language_info": {
   "codemirror_mode": {
    "name": "ipython",
    "version": 3
   },
   "file_extension": ".py",
   "mimetype": "text/x-python",
   "name": "python",
   "nbconvert_exporter": "python",
   "pygments_lexer": "ipython3",
   "version": "3.8.5"
  }
 },
 "nbformat": 4,
 "nbformat_minor": 2
}
