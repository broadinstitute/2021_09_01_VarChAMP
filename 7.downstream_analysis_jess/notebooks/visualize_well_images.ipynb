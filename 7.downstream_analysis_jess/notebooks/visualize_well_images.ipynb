{
 "cells": [
  {
   "cell_type": "markdown",
   "metadata": {},
   "source": [
    "# Viewing images of Varchamp wells\n",
    "**Author:** Jessica Ewald <br>\n",
    "\n",
    "The purpose of this script is to query image names by batch, plate, well, site, & channel, download from AWS, and render in a notebook. This will be useful for quick visual sanity checks."
   ]
  },
  {
   "cell_type": "code",
   "execution_count": 3,
   "metadata": {},
   "outputs": [
    {
     "name": "stderr",
     "output_type": "stream",
     "text": [
      "DEBUG:jupyter_black:config: {'line_length': 79, 'target_versions': {<TargetVersion.PY310: 10>}}\n"
     ]
    },
    {
     "data": {
      "application/javascript": "\n            (function() {\n                jb_set_cell(\"# construct folder path in DGX\\nos.makedirs(dgx_path, exist_ok=True)\\n\\nif os.path.isfile(f\\\"{dgx_path}/{img_nm}\\\"):\\n    print(\\\"file exists!\\\")\\nelse:\\n    aws(\\\"s3\\\", \\\"cp\\\", aws_path, f\\\"{dgx_path}/{img_nm}\\\")\\n\\n# check to see if image already downloaded to DGX. if not, download image to folder on DGX\\n\\n# read tiff into numpy array\\n\\n# plot\")\n            })();\n            ",
      "text/plain": [
       "<IPython.core.display.Javascript object>"
      ]
     },
     "metadata": {},
     "output_type": "display_data"
    }
   ],
   "source": [
    "# Imports\n",
    "import pathlib\n",
    "import polars as pl\n",
    "import numpy as np\n",
    "from sh import aws\n",
    "import os\n",
    "from skimage.io import imread\n",
    "\n",
    "import black\n",
    "import jupyter_black\n",
    "\n",
    "jupyter_black.load(\n",
    "    lab=False,\n",
    "    line_length=79,\n",
    "    verbosity=\"DEBUG\",\n",
    "    target_version=black.TargetVersion.PY310,\n",
    ")\n",
    "\n",
    "import warnings\n",
    "warnings.filterwarnings(\"ignore\")"
   ]
  },
  {
   "cell_type": "code",
   "execution_count": 4,
   "metadata": {},
   "outputs": [],
   "source": [
    "# get sample metadata\n",
    "dat = pl.scan_parquet(\"/dgx1nas1/storage/data/jess/varchamp/sc_data/processed_profiles/Rep_Ctrls/annotated_normalized_featselected.parquet\")\n",
    "\n",
    "meta_cols = [i for i in dat.columns if \"Metadata_\" in i]\n",
    "\n",
    "dat = dat.select(meta_cols).collect()"
   ]
  },
  {
   "cell_type": "code",
   "execution_count": 35,
   "metadata": {},
   "outputs": [],
   "source": [
    "# Specify image parameters\n",
    "\n",
    "sel_batch = \"B4A3R1\"\n",
    "sel_plate = \"T4\"\n",
    "site = \"05\"\n",
    "well = \"D03\"\n",
    "sel_channel = \"GFP\""
   ]
  },
  {
   "cell_type": "code",
   "execution_count": 36,
   "metadata": {},
   "outputs": [],
   "source": [
    "# Define mapping between simple names and folder names\n",
    "batch_dict = {\"B4A3R1\": \"2023-12-15_B4A3R1\",\n",
    "              \"B6A3R2\": \"2023-12-21_B6A3R2\"}\n",
    "\n",
    "letter_dict = {\"A\":1, \"B\":2, \"C\":3, \"D\":4, \"E\":5, \"F\":6, \"G\":7, \"H\":8, \"I\":9, \"J\":10, \"K\":11, \"L\":12, \"M\":13, \"N\":14, \"O\":15, \"P\":16}\n",
    "\n",
    "plate_dict = {\"T1\": \"2023-12-15_B4A3R1_P1T1__2023-12-15T08_49_02-Measurement1\",\n",
    "              \"T2\": \"2023-12-15_B4A3R1_P1T2__2023-12-15T10_35_54-Measurement1\",\n",
    "              \"T3\": \"2023-12-18_B4A3R1_P1T3__2023-12-18T08_29_45-Measurement1\",\n",
    "              \"T4\": \"2023-12-18_B4A3R1_P1T4__2023-12-18T10_17_07-Measurement1\"}\n",
    "\n",
    "channel_dict = {\"GFP\":\"01\", \"DAPI\":\"02\", \"Mito\":\"03\", \"AGP\":\"04\", \"Brightfield1\":\"05\", \"Brightfield2\":\"06\", \"Brightfield\":\"07\"}"
   ]
  },
  {
   "cell_type": "code",
   "execution_count": 30,
   "metadata": {},
   "outputs": [
    {
     "data": {
      "text/plain": [
       "'2023-12-15_B4A3R1'"
      ]
     },
     "execution_count": 30,
     "metadata": {},
     "output_type": "execute_result"
    }
   ],
   "source": [
    "# get image dir\n",
    "aws_batches = aws(\"s3\",\n",
    "                  \"ls\",\n",
    "                  f\"s3://cellpainting-gallery/cpg0020-varchamp/broad/images/\")\n",
    "aws_batches = aws_batches.replace(\"                           \", \"\")\n",
    "aws_batches = aws_batches.replace(\"                           \", \"\")\n",
    "aws_batches = aws_batches.replace(\" \", \"\")\n",
    "aws_batches = aws_batches.replace(\"/\", \"\")\n",
    "aws_batches = aws_batches.split(\"PRE\")[1:]\n",
    "aws_batches = list(map(lambda s: s.strip(), aws_batches))\n",
    "\n",
    "batch = next((s for s in aws_batches if sel_batch in s), None)"
   ]
  },
  {
   "cell_type": "code",
   "execution_count": 37,
   "metadata": {},
   "outputs": [],
   "source": [
    "# construct image name and aws path\n",
    "letter = well[0]\n",
    "col = well[1:3]\n",
    "batch = batch_dict[sel_batch]\n",
    "row = letter_dict[letter]\n",
    "plate = plate_dict[sel_plate]\n",
    "channel = channel_dict[sel_channel]\n",
    "\n",
    "img_nm = f\"r{row}c{col}f{site}p01-ch{channel}sk1fk1fl1.tiff\"\n",
    "\n",
    "aws_path = f\"s3://cellpainting-gallery/cpg0020-varchamp/broad/images/{batch}/images/{plate}/Images/{img_nm}\"\n",
    "dgx_path = f\"/dgx1nas1/storage/data/jess/varchamp/images/{sel_batch}/{sel_plate}\""
   ]
  },
  {
   "cell_type": "code",
   "execution_count": 42,
   "metadata": {},
   "outputs": [
    {
     "ename": "ErrorReturnCode_1",
     "evalue": "\n\n  RAN: /usr/bin/aws s3 cp s3://cellpainting-gallery/cpg0020-varchamp/broad/images/2023-12-15_B4A3R1/images/2023-12-18_B4A3R1_P1T4__2023-12-18T10_17_07-Measurement1/Images/r4c03f05p01-ch01sk1fk1fl1.tiff /dgx1nas1/storage/data/jess/varchamp/images/B4A3R1/T4/r4c03f05p01-ch01sk1fk1fl1.tiff\n\n  STDOUT:\n\n\n  STDERR:\nfatal error: An error occurred (404) when calling the HeadObject operation: Key \"cpg0020-varchamp/broad/images/2023-12-15_B4A3R1/images/2023-12-18_B4A3R1_P1T4__2023-12-18T10_17_07-Measurement1/Images/r4c03f05p01-ch01sk1fk1fl1.tiff\" does not exist\n",
     "output_type": "error",
     "traceback": [
      "\u001b[0;31m---------------------------------------------------------------------------\u001b[0m",
      "\u001b[0;31mErrorReturnCode_1\u001b[0m                         Traceback (most recent call last)",
      "Cell \u001b[0;32mIn[42], line 7\u001b[0m\n\u001b[1;32m      5\u001b[0m     \u001b[38;5;28mprint\u001b[39m(\u001b[38;5;124m\"\u001b[39m\u001b[38;5;124mfile exists!\u001b[39m\u001b[38;5;124m\"\u001b[39m)\n\u001b[1;32m      6\u001b[0m \u001b[38;5;28;01melse\u001b[39;00m:\n\u001b[0;32m----> 7\u001b[0m     \u001b[43maws\u001b[49m\u001b[43m(\u001b[49m\u001b[38;5;124;43m\"\u001b[39;49m\u001b[38;5;124;43ms3\u001b[39;49m\u001b[38;5;124;43m\"\u001b[39;49m\u001b[43m,\u001b[49m\n\u001b[1;32m      8\u001b[0m \u001b[43m        \u001b[49m\u001b[38;5;124;43m\"\u001b[39;49m\u001b[38;5;124;43mcp\u001b[39;49m\u001b[38;5;124;43m\"\u001b[39;49m\u001b[43m,\u001b[49m\n\u001b[1;32m      9\u001b[0m \u001b[43m        \u001b[49m\u001b[43maws_path\u001b[49m\u001b[43m,\u001b[49m\u001b[43m \u001b[49m\n\u001b[1;32m     10\u001b[0m \u001b[43m        \u001b[49m\u001b[38;5;124;43mf\u001b[39;49m\u001b[38;5;124;43m\"\u001b[39;49m\u001b[38;5;132;43;01m{\u001b[39;49;00m\u001b[43mdgx_path\u001b[49m\u001b[38;5;132;43;01m}\u001b[39;49;00m\u001b[38;5;124;43m/\u001b[39;49m\u001b[38;5;132;43;01m{\u001b[39;49;00m\u001b[43mimg_nm\u001b[49m\u001b[38;5;132;43;01m}\u001b[39;49;00m\u001b[38;5;124;43m\"\u001b[39;49m\u001b[43m)\u001b[49m\n\u001b[1;32m     12\u001b[0m \u001b[38;5;66;03m# check to see if image already downloaded to DGX. if not, download image to folder on DGX\u001b[39;00m\n\u001b[1;32m     13\u001b[0m \n\u001b[1;32m     14\u001b[0m \u001b[38;5;66;03m# read tiff into numpy array\u001b[39;00m\n\u001b[1;32m     15\u001b[0m \n\u001b[1;32m     16\u001b[0m \u001b[38;5;66;03m# plot\u001b[39;00m\n",
      "File \u001b[0;32m/dgx1nas1/storage/data/jess/miniforge3/envs/varchamp/lib/python3.8/site-packages/sh.py:1508\u001b[0m, in \u001b[0;36mCommand.__call__\u001b[0;34m(self, *args, **kwargs)\u001b[0m\n\u001b[1;32m   1505\u001b[0m \u001b[38;5;28;01mif\u001b[39;00m output_redirect_is_filename(stderr):\n\u001b[1;32m   1506\u001b[0m     stderr \u001b[38;5;241m=\u001b[39m \u001b[38;5;28mopen\u001b[39m(\u001b[38;5;28mstr\u001b[39m(stderr), \u001b[38;5;124m\"\u001b[39m\u001b[38;5;124mwb\u001b[39m\u001b[38;5;124m\"\u001b[39m)\n\u001b[0;32m-> 1508\u001b[0m rc \u001b[38;5;241m=\u001b[39m \u001b[38;5;28;43mself\u001b[39;49m\u001b[38;5;241;43m.\u001b[39;49m\u001b[38;5;18;43m__class__\u001b[39;49m\u001b[38;5;241;43m.\u001b[39;49m\u001b[43mRunningCommandCls\u001b[49m\u001b[43m(\u001b[49m\u001b[43mcmd\u001b[49m\u001b[43m,\u001b[49m\u001b[43m \u001b[49m\u001b[43mcall_args\u001b[49m\u001b[43m,\u001b[49m\u001b[43m \u001b[49m\u001b[43mstdin\u001b[49m\u001b[43m,\u001b[49m\u001b[43m \u001b[49m\u001b[43mstdout\u001b[49m\u001b[43m,\u001b[49m\u001b[43m \u001b[49m\u001b[43mstderr\u001b[49m\u001b[43m)\u001b[49m\n\u001b[1;32m   1509\u001b[0m \u001b[38;5;28;01mif\u001b[39;00m rc\u001b[38;5;241m.\u001b[39m_spawned_and_waited \u001b[38;5;129;01mand\u001b[39;00m \u001b[38;5;129;01mnot\u001b[39;00m call_args[\u001b[38;5;124m\"\u001b[39m\u001b[38;5;124mreturn_cmd\u001b[39m\u001b[38;5;124m\"\u001b[39m]:\n\u001b[1;32m   1510\u001b[0m     \u001b[38;5;28;01mreturn\u001b[39;00m \u001b[38;5;28mstr\u001b[39m(rc)\n",
      "File \u001b[0;32m/dgx1nas1/storage/data/jess/miniforge3/envs/varchamp/lib/python3.8/site-packages/sh.py:737\u001b[0m, in \u001b[0;36mRunningCommand.__init__\u001b[0;34m(self, cmd, call_args, stdin, stdout, stderr)\u001b[0m\n\u001b[1;32m    734\u001b[0m \u001b[38;5;28mself\u001b[39m\u001b[38;5;241m.\u001b[39mlog\u001b[38;5;241m.\u001b[39minfo(\u001b[38;5;124m\"\u001b[39m\u001b[38;5;124mprocess started\u001b[39m\u001b[38;5;124m\"\u001b[39m)\n\u001b[1;32m    736\u001b[0m \u001b[38;5;28;01mif\u001b[39;00m should_wait:\n\u001b[0;32m--> 737\u001b[0m     \u001b[38;5;28;43mself\u001b[39;49m\u001b[38;5;241;43m.\u001b[39;49m\u001b[43mwait\u001b[49m\u001b[43m(\u001b[49m\u001b[43m)\u001b[49m\n",
      "File \u001b[0;32m/dgx1nas1/storage/data/jess/miniforge3/envs/varchamp/lib/python3.8/site-packages/sh.py:799\u001b[0m, in \u001b[0;36mRunningCommand.wait\u001b[0;34m(self, timeout)\u001b[0m\n\u001b[1;32m    796\u001b[0m     \u001b[38;5;28;01mraise\u001b[39;00m TimeoutException(\u001b[38;5;241m-\u001b[39mexit_code, \u001b[38;5;28mself\u001b[39m\u001b[38;5;241m.\u001b[39mran)\n\u001b[1;32m    798\u001b[0m \u001b[38;5;28;01melse\u001b[39;00m:\n\u001b[0;32m--> 799\u001b[0m     \u001b[38;5;28;43mself\u001b[39;49m\u001b[38;5;241;43m.\u001b[39;49m\u001b[43mhandle_command_exit_code\u001b[49m\u001b[43m(\u001b[49m\u001b[43mexit_code\u001b[49m\u001b[43m)\u001b[49m\n\u001b[1;32m    801\u001b[0m     \u001b[38;5;66;03m# if an iterable command is using an instance of OProc for its stdin,\u001b[39;00m\n\u001b[1;32m    802\u001b[0m     \u001b[38;5;66;03m# wait on it.  the process is probably set to \"piped\", which means it\u001b[39;00m\n\u001b[1;32m    803\u001b[0m     \u001b[38;5;66;03m# won't be waited on, which means exceptions won't propagate up to the\u001b[39;00m\n\u001b[1;32m    804\u001b[0m     \u001b[38;5;66;03m# main thread.  this allows them to bubble up\u001b[39;00m\n\u001b[1;32m    805\u001b[0m     \u001b[38;5;28;01mif\u001b[39;00m \u001b[38;5;28mself\u001b[39m\u001b[38;5;241m.\u001b[39mprocess\u001b[38;5;241m.\u001b[39m_stdin_process:\n",
      "File \u001b[0;32m/dgx1nas1/storage/data/jess/miniforge3/envs/varchamp/lib/python3.8/site-packages/sh.py:826\u001b[0m, in \u001b[0;36mRunningCommand.handle_command_exit_code\u001b[0;34m(self, code)\u001b[0m\n\u001b[1;32m    822\u001b[0m \u001b[38;5;28;01mif\u001b[39;00m exc_class:\n\u001b[1;32m    823\u001b[0m     exc \u001b[38;5;241m=\u001b[39m exc_class(\n\u001b[1;32m    824\u001b[0m         \u001b[38;5;28mself\u001b[39m\u001b[38;5;241m.\u001b[39mran, \u001b[38;5;28mself\u001b[39m\u001b[38;5;241m.\u001b[39mprocess\u001b[38;5;241m.\u001b[39mstdout, \u001b[38;5;28mself\u001b[39m\u001b[38;5;241m.\u001b[39mprocess\u001b[38;5;241m.\u001b[39mstderr, ca[\u001b[38;5;124m\"\u001b[39m\u001b[38;5;124mtruncate_exc\u001b[39m\u001b[38;5;124m\"\u001b[39m]\n\u001b[1;32m    825\u001b[0m     )\n\u001b[0;32m--> 826\u001b[0m     \u001b[38;5;28;01mraise\u001b[39;00m exc\n",
      "\u001b[0;31mErrorReturnCode_1\u001b[0m: \n\n  RAN: /usr/bin/aws s3 cp s3://cellpainting-gallery/cpg0020-varchamp/broad/images/2023-12-15_B4A3R1/images/2023-12-18_B4A3R1_P1T4__2023-12-18T10_17_07-Measurement1/Images/r4c03f05p01-ch01sk1fk1fl1.tiff /dgx1nas1/storage/data/jess/varchamp/images/B4A3R1/T4/r4c03f05p01-ch01sk1fk1fl1.tiff\n\n  STDOUT:\n\n\n  STDERR:\nfatal error: An error occurred (404) when calling the HeadObject operation: Key \"cpg0020-varchamp/broad/images/2023-12-15_B4A3R1/images/2023-12-18_B4A3R1_P1T4__2023-12-18T10_17_07-Measurement1/Images/r4c03f05p01-ch01sk1fk1fl1.tiff\" does not exist\n"
     ]
    }
   ],
   "source": [
    "# construct folder path in DGX\n",
    "os.makedirs(dgx_path, exist_ok=True) \n",
    "\n",
    "if os.path.isfile(f\"{dgx_path}/{img_nm}\"):\n",
    "    print(\"file exists!\")\n",
    "else:\n",
    "    aws(\"s3\",\n",
    "        \"cp\",\n",
    "        aws_path, \n",
    "        f\"{dgx_path}/{img_nm}\")\n",
    "\n",
    "# check to see if image already downloaded to DGX. if not, download image to folder on DGX\n",
    "\n",
    "# read tiff into numpy array\n",
    "\n",
    "# plot"
   ]
  }
 ],
 "metadata": {
  "kernelspec": {
   "display_name": "varchamp",
   "language": "python",
   "name": "python3"
  },
  "language_info": {
   "codemirror_mode": {
    "name": "ipython",
    "version": 3
   },
   "file_extension": ".py",
   "mimetype": "text/x-python",
   "name": "python",
   "nbconvert_exporter": "python",
   "pygments_lexer": "ipython3",
   "version": "3.8.5"
  }
 },
 "nbformat": 4,
 "nbformat_minor": 2
}
