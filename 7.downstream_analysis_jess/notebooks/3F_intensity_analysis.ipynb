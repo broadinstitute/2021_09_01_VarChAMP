{
 "cells": [
  {
   "cell_type": "markdown",
   "metadata": {},
   "source": [
    "# Analyze differences in GFP intensity between WT and VAR\n",
    "\n",
    "Author: Jess Ewald\n",
    "\n",
    "Here we compute differences in GFP mean instensity between WT and VAR within the same plate, after filtering to remove cells with weird nucleus:cell area ratios. "
   ]
  },
  {
   "cell_type": "code",
   "execution_count": 1,
   "metadata": {},
   "outputs": [],
   "source": [
    "import polars as pl\n",
    "import numpy as np\n",
    "from scipy import stats\n",
    "from statsmodels.stats.multitest import multipletests\n",
    "import statsmodels.formula.api as smf\n",
    "from tqdm import tqdm"
   ]
  },
  {
   "cell_type": "code",
   "execution_count": 37,
   "metadata": {},
   "outputs": [],
   "source": [
    "b7_prof = \"/dgx1nas1/storage/data/sam/codes/2021_09_01_VarChAMP/6.downstream_analysis_snakemake/outputs/batch_profiles/2024_01_23_Batch_7\"\n",
    "b8_prof = \"/dgx1nas1/storage/data/sam/codes/2021_09_01_VarChAMP/6.downstream_analysis_snakemake/outputs/batch_profiles/2024_02_06_Batch_8\"\n",
    "class_res = \"/dgx1nas1/storage/data/jess/varchamp/sc_data/classification_results/B7B8_1percent\""
   ]
  },
  {
   "cell_type": "code",
   "execution_count": 17,
   "metadata": {},
   "outputs": [],
   "source": [
    "# calculate the median GFP MeanIntensity of cells/nuclei/cytoplasm in each well\n",
    "\n",
    "select_cols = ['Metadata_well_position', 'Metadata_plate_map_name', 'Metadata_ImageNumber', 'Metadata_gene_allele', 'Metadata_Plate', \n",
    "               'Nuclei_AreaShape_Area', 'Cells_AreaShape_Area', 'Cytoplasm_Intensity_MeanIntensity_GFP', 'Cells_Intensity_MeanIntensity_GFP', 'Nuclei_Intensity_MeanIntensity_GFP']\n",
    "\n",
    "\n",
    "b7 = pl.scan_parquet(f\"{b7_prof}/profiles.parquet\").select(select_cols).with_columns(\n",
    "    (pl.col(\"Nuclei_AreaShape_Area\")/pl.col(\"Cells_AreaShape_Area\")).alias(\"Nucleus_Cell_Area\")\n",
    "    ).filter((pl.col(\"Nucleus_Cell_Area\") > 0.1) & (pl.col(\"Nucleus_Cell_Area\") < 0.4)).group_by(\n",
    "        ['Metadata_Plate', 'Metadata_well_position', 'Metadata_gene_allele']\n",
    "        ).agg([\n",
    "            pl.col(\"Cytoplasm_Intensity_MeanIntensity_GFP\").median().alias(\"Cytoplasm_Intensity_MeanIntensity_GFP\"),\n",
    "            pl.col(\"Cells_Intensity_MeanIntensity_GFP\").median().alias(\"Cells_Intensity_MeanIntensity_GFP\"),\n",
    "            pl.col(\"Nuclei_Intensity_MeanIntensity_GFP\").median().alias(\"Nuclei_Intensity_MeanIntensity_GFP\"),\n",
    "            pl.len().alias(\"Cell_count\"),\n",
    "            pl.lit(\"batch7\").alias(\"Batch\")\n",
    "        ]).collect() \n",
    "\n",
    "b8 = pl.scan_parquet(f\"{b8_prof}/profiles.parquet\").select(select_cols).with_columns(\n",
    "    (pl.col(\"Nuclei_AreaShape_Area\")/pl.col(\"Cells_AreaShape_Area\")).alias(\"Nucleus_Cell_Area\")\n",
    "    ).filter((pl.col(\"Nucleus_Cell_Area\") > 0.1) & (pl.col(\"Nucleus_Cell_Area\") < 0.4)).group_by(\n",
    "        ['Metadata_Plate', 'Metadata_well_position', 'Metadata_gene_allele']\n",
    "        ).agg([\n",
    "            pl.col(\"Cytoplasm_Intensity_MeanIntensity_GFP\").median().alias(\"Cytoplasm_Intensity_MeanIntensity_GFP\"),\n",
    "            pl.col(\"Cells_Intensity_MeanIntensity_GFP\").median().alias(\"Cells_Intensity_MeanIntensity_GFP\"),\n",
    "            pl.col(\"Nuclei_Intensity_MeanIntensity_GFP\").median().alias(\"Nuclei_Intensity_MeanIntensity_GFP\"),\n",
    "            pl.len().alias(\"Cell_count\"),\n",
    "            pl.lit(\"batch8\").alias(\"Batch\")\n",
    "        ]).collect() \n",
    "        \n",
    "cell_int = pl.concat([b7, b8])\n",
    "\n",
    "# Add extra annotations\n",
    "cell_int = cell_int.with_columns(\n",
    "    pl.col(\"Metadata_Plate\").str.replace(\"_.*\", \"\").alias(\"Platemap\"),\n",
    "    pl.col(\"Metadata_gene_allele\").str.replace(\"_.*\", \"\").alias(\"Gene_symbol\"),\n",
    "    pl.when(pl.col(\"Metadata_gene_allele\").str.contains(\"_\")).then(pl.lit(\"VAR\")).otherwise(pl.lit(\"WT\")).alias(\"Type\")\n",
    ")\n"
   ]
  },
  {
   "cell_type": "code",
   "execution_count": 41,
   "metadata": {},
   "outputs": [],
   "source": [
    "metrics = pl.read_csv(f\"{class_res}/metrics_summary.csv\").filter(pl.col(\"AUROC_mean\").is_not_null())\n",
    "variants = metrics.select(\"allele_0\").to_series().unique().to_list()"
   ]
  },
  {
   "cell_type": "code",
   "execution_count": 42,
   "metadata": {},
   "outputs": [],
   "source": [
    "def lmm(fix_var: str, rand_var: str, var: str, gene: str, dat):\n",
    "    # perform stat test\n",
    "    model = smf.mixedlm(f\"{fix_var} ~ Type\", data=dat, groups=dat[rand_var])\n",
    "    result = model.fit()\n",
    "    \n",
    "    # format results\n",
    "    summary_df = pl.DataFrame(result.summary().tables[1][1:2])\n",
    "    summary_df = summary_df.with_columns(\n",
    "        [pl.col(column).cast(pl.Float64).alias(column) for column in summary_df.columns]\n",
    "    )\n",
    "    summary_df = summary_df.with_columns(\n",
    "        pl.lit(var).alias(\"Variant\"),\n",
    "        pl.lit(gene).alias(\"Gene\")\n",
    "    )\n",
    "    \n",
    "    return(summary_df)"
   ]
  },
  {
   "cell_type": "code",
   "execution_count": null,
   "metadata": {},
   "outputs": [],
   "source": [
    "# Analyze to detect differences in intensity of diff compartments between WT and VAR\n",
    "# Takes ~2.5 minutes\n",
    "cell_res = []\n",
    "nuc_res = []\n",
    "cyto_res = []\n",
    "for variant in tqdm(variants):\n",
    "    # get data for variant\n",
    "    gene_symb = variant.split(\"_\")[0]\n",
    "    \n",
    "    # ensure that only wt-var pairs on same plate are included\n",
    "    var_int = cell_int.filter(pl.col(\"Metadata_gene_allele\") == variant)\n",
    "    var_plates = var_int.select(\"Metadata_Plate\").to_series().unique().to_list()\n",
    "    wt_int = cell_int.filter((pl.col(\"Metadata_gene_allele\") == gene_symb) &\n",
    "                          (pl.col(\"Metadata_Plate\").is_in(var_plates)))\n",
    "    wt_plates = wt_int.select(\"Metadata_Plate\").to_series().unique().to_list()\n",
    "    var_int = var_int.filter(pl.col(\"Metadata_Plate\").is_in(wt_plates))\n",
    "    \n",
    "    var_int = pl.concat([var_int, wt_int]).to_pandas()\n",
    "    \n",
    "    try:\n",
    "        # append results\n",
    "        cyto_res.append(lmm(\"Cytoplasm_Intensity_MeanIntensity_GFP\", \"Metadata_Plate\", variant, gene_symb, var_int))\n",
    "        cell_res.append(lmm(\"Cells_Intensity_MeanIntensity_GFP\", \"Metadata_Plate\", variant, gene_symb, var_int))\n",
    "        nuc_res.append(lmm(\"Nuclei_Intensity_MeanIntensity_GFP\", \"Metadata_Plate\", variant, gene_symb, var_int))\n",
    "        \n",
    "    except Exception as e:\n",
    "        print(f\"An error occurred with variant {variant}: {str(e)}\")\n",
    "\n",
    "cyto_res = pl.concat(cyto_res)\n",
    "cell_res = pl.concat(cell_res)\n",
    "nuc_res = pl.concat(nuc_res)"
   ]
  },
  {
   "cell_type": "code",
   "execution_count": 46,
   "metadata": {},
   "outputs": [
    {
     "data": {
      "text/html": [
       "<div><style>\n",
       ".dataframe > thead > tr,\n",
       ".dataframe > tbody > tr {\n",
       "  text-align: right;\n",
       "  white-space: pre-wrap;\n",
       "}\n",
       "</style>\n",
       "<small>shape: (792, 8)</small><table border=\"1\" class=\"dataframe\"><thead><tr><th>Coef.</th><th>Std.Err.</th><th>z</th><th>P&gt;|z|</th><th>[0.025</th><th>0.975]</th><th>Variant</th><th>Gene</th></tr><tr><td>f64</td><td>f64</td><td>f64</td><td>f64</td><td>f64</td><td>f64</td><td>str</td><td>str</td></tr></thead><tbody><tr><td>0.008</td><td>0.001</td><td>15.742</td><td>0.0</td><td>0.007</td><td>0.009</td><td>&quot;DES_Ala337Pro&quot;</td><td>&quot;DES&quot;</td></tr><tr><td>0.013</td><td>0.001</td><td>15.048</td><td>0.0</td><td>0.011</td><td>0.014</td><td>&quot;PNPO_Arg95His&quot;</td><td>&quot;PNPO&quot;</td></tr><tr><td>0.002</td><td>0.0</td><td>13.894</td><td>0.0</td><td>0.002</td><td>0.003</td><td>&quot;KRT2_Glu476Val…</td><td>&quot;KRT2&quot;</td></tr><tr><td>0.012</td><td>0.001</td><td>13.587</td><td>0.0</td><td>0.01</td><td>0.014</td><td>&quot;PNPO_Arg116Gln…</td><td>&quot;PNPO&quot;</td></tr><tr><td>0.013</td><td>0.001</td><td>13.346</td><td>0.0</td><td>0.011</td><td>0.015</td><td>&quot;RP2_Leu253Arg&quot;</td><td>&quot;RP2&quot;</td></tr><tr><td>0.013</td><td>0.001</td><td>13.247</td><td>0.0</td><td>0.011</td><td>0.015</td><td>&quot;RP2_Cys86Tyr&quot;</td><td>&quot;RP2&quot;</td></tr><tr><td>0.002</td><td>0.0</td><td>12.496</td><td>0.0</td><td>0.001</td><td>0.002</td><td>&quot;POMT1_Trp560Cy…</td><td>&quot;POMT1&quot;</td></tr><tr><td>0.001</td><td>0.0</td><td>11.969</td><td>0.0</td><td>0.001</td><td>0.002</td><td>&quot;RASA1_Tyr426Cy…</td><td>&quot;RASA1&quot;</td></tr><tr><td>0.008</td><td>0.001</td><td>11.537</td><td>0.0</td><td>0.007</td><td>0.009</td><td>&quot;DES_Tyr331Asn&quot;</td><td>&quot;DES&quot;</td></tr><tr><td>0.005</td><td>0.0</td><td>11.403</td><td>0.0</td><td>0.004</td><td>0.006</td><td>&quot;PRKAR1A_Ile327…</td><td>&quot;PRKAR1A&quot;</td></tr><tr><td>0.007</td><td>0.001</td><td>11.265</td><td>0.0</td><td>0.006</td><td>0.008</td><td>&quot;DIABLO_Ser126L…</td><td>&quot;DIABLO&quot;</td></tr><tr><td>0.01</td><td>0.001</td><td>11.168</td><td>0.0</td><td>0.008</td><td>0.011</td><td>&quot;RP2_Arg118Leu&quot;</td><td>&quot;RP2&quot;</td></tr><tr><td>&hellip;</td><td>&hellip;</td><td>&hellip;</td><td>&hellip;</td><td>&hellip;</td><td>&hellip;</td><td>&hellip;</td><td>&hellip;</td></tr><tr><td>-0.004</td><td>0.0</td><td>-11.447</td><td>0.0</td><td>-0.005</td><td>-0.003</td><td>&quot;APOA1_Trp74Arg…</td><td>&quot;APOA1&quot;</td></tr><tr><td>-0.002</td><td>0.0</td><td>-11.757</td><td>0.0</td><td>-0.002</td><td>-0.002</td><td>&quot;NT5C3A_Asp132V…</td><td>&quot;NT5C3A&quot;</td></tr><tr><td>-0.002</td><td>0.0</td><td>-12.166</td><td>0.0</td><td>-0.002</td><td>-0.001</td><td>&quot;TPM1_Glu180Val…</td><td>&quot;TPM1&quot;</td></tr><tr><td>-0.048</td><td>0.004</td><td>-12.524</td><td>0.0</td><td>-0.056</td><td>-0.04</td><td>&quot;SFTPC_Ile73Thr…</td><td>&quot;SFTPC&quot;</td></tr><tr><td>-0.063</td><td>0.005</td><td>-12.525</td><td>0.0</td><td>-0.073</td><td>-0.053</td><td>&quot;UROD_Gly318Arg…</td><td>&quot;UROD&quot;</td></tr><tr><td>-0.006</td><td>0.0</td><td>-12.741</td><td>0.0</td><td>-0.007</td><td>-0.005</td><td>&quot;IL2RG_Tyr89Cys…</td><td>&quot;IL2RG&quot;</td></tr><tr><td>-0.003</td><td>0.0</td><td>-13.514</td><td>0.0</td><td>-0.003</td><td>-0.003</td><td>&quot;LITAF_Ile92Val…</td><td>&quot;LITAF&quot;</td></tr><tr><td>-0.012</td><td>0.001</td><td>-13.545</td><td>0.0</td><td>-0.013</td><td>-0.01</td><td>&quot;COQ8A_His80Tyr…</td><td>&quot;COQ8A&quot;</td></tr><tr><td>-0.004</td><td>0.0</td><td>-14.27</td><td>0.0</td><td>-0.004</td><td>-0.003</td><td>&quot;EMD_Met1Val&quot;</td><td>&quot;EMD&quot;</td></tr><tr><td>-0.012</td><td>0.001</td><td>-15.654</td><td>0.0</td><td>-0.014</td><td>-0.011</td><td>&quot;EXOC8_Glu261Gl…</td><td>&quot;EXOC8&quot;</td></tr><tr><td>-0.029</td><td>0.002</td><td>-16.276</td><td>0.0</td><td>-0.033</td><td>-0.026</td><td>&quot;RNF135_Arg286H…</td><td>&quot;RNF135&quot;</td></tr><tr><td>-0.007</td><td>0.0</td><td>-26.668</td><td>0.0</td><td>-0.007</td><td>-0.006</td><td>&quot;APOA1_Leu84Arg…</td><td>&quot;APOA1&quot;</td></tr></tbody></table></div>"
      ],
      "text/plain": [
       "shape: (792, 8)\n",
       "┌────────┬──────────┬─────────┬───────┬────────┬────────┬──────────────────┬────────┐\n",
       "│ Coef.  ┆ Std.Err. ┆ z       ┆ P>|z| ┆ [0.025 ┆ 0.975] ┆ Variant          ┆ Gene   │\n",
       "│ ---    ┆ ---      ┆ ---     ┆ ---   ┆ ---    ┆ ---    ┆ ---              ┆ ---    │\n",
       "│ f64    ┆ f64      ┆ f64     ┆ f64   ┆ f64    ┆ f64    ┆ str              ┆ str    │\n",
       "╞════════╪══════════╪═════════╪═══════╪════════╪════════╪══════════════════╪════════╡\n",
       "│ 0.008  ┆ 0.001    ┆ 15.742  ┆ 0.0   ┆ 0.007  ┆ 0.009  ┆ DES_Ala337Pro    ┆ DES    │\n",
       "│ 0.013  ┆ 0.001    ┆ 15.048  ┆ 0.0   ┆ 0.011  ┆ 0.014  ┆ PNPO_Arg95His    ┆ PNPO   │\n",
       "│ 0.002  ┆ 0.0      ┆ 13.894  ┆ 0.0   ┆ 0.002  ┆ 0.003  ┆ KRT2_Glu476Val   ┆ KRT2   │\n",
       "│ 0.012  ┆ 0.001    ┆ 13.587  ┆ 0.0   ┆ 0.01   ┆ 0.014  ┆ PNPO_Arg116Gln   ┆ PNPO   │\n",
       "│ 0.013  ┆ 0.001    ┆ 13.346  ┆ 0.0   ┆ 0.011  ┆ 0.015  ┆ RP2_Leu253Arg    ┆ RP2    │\n",
       "│ …      ┆ …        ┆ …       ┆ …     ┆ …      ┆ …      ┆ …                ┆ …      │\n",
       "│ -0.012 ┆ 0.001    ┆ -13.545 ┆ 0.0   ┆ -0.013 ┆ -0.01  ┆ COQ8A_His80Tyr   ┆ COQ8A  │\n",
       "│ -0.004 ┆ 0.0      ┆ -14.27  ┆ 0.0   ┆ -0.004 ┆ -0.003 ┆ EMD_Met1Val      ┆ EMD    │\n",
       "│ -0.012 ┆ 0.001    ┆ -15.654 ┆ 0.0   ┆ -0.014 ┆ -0.011 ┆ EXOC8_Glu261Gly  ┆ EXOC8  │\n",
       "│ -0.029 ┆ 0.002    ┆ -16.276 ┆ 0.0   ┆ -0.033 ┆ -0.026 ┆ RNF135_Arg286His ┆ RNF135 │\n",
       "│ -0.007 ┆ 0.0      ┆ -26.668 ┆ 0.0   ┆ -0.007 ┆ -0.006 ┆ APOA1_Leu84Arg   ┆ APOA1  │\n",
       "└────────┴──────────┴─────────┴───────┴────────┴────────┴──────────────────┴────────┘"
      ]
     },
     "execution_count": 46,
     "metadata": {},
     "output_type": "execute_result"
    }
   ],
   "source": [
    "cell_res.sort(pl.col(\"z\"), descending=True)"
   ]
  },
  {
   "cell_type": "code",
   "execution_count": 47,
   "metadata": {},
   "outputs": [
    {
     "name": "stdout",
     "output_type": "stream",
     "text": [
      "(792, 8)\n",
      "(417, 8)\n",
      "(375, 8)\n",
      "(792, 8)\n",
      "(405, 8)\n",
      "(387, 8)\n",
      "(793, 8)\n",
      "(424, 8)\n",
      "(369, 8)\n"
     ]
    }
   ],
   "source": [
    "print(cell_res.shape)\n",
    "print(cell_res.filter(pl.col(\"z\") > 0).shape)\n",
    "print(cell_res.filter(pl.col(\"z\") < 0).shape)\n",
    "\n",
    "print(nuc_res.shape)\n",
    "print(nuc_res.filter(pl.col(\"z\") > 0).shape)\n",
    "print(nuc_res.filter(pl.col(\"z\") < 0).shape)\n",
    "\n",
    "print(cyto_res.shape)\n",
    "print(cyto_res.filter(pl.col(\"z\") > 0).shape)\n",
    "print(cyto_res.filter(pl.col(\"z\") < 0).shape)"
   ]
  },
  {
   "cell_type": "code",
   "execution_count": 32,
   "metadata": {},
   "outputs": [
    {
     "name": "stderr",
     "output_type": "stream",
     "text": [
      "/dgx1nas1/storage/data/jess/miniforge3/envs/varchamp/lib/python3.8/site-packages/plotnine/stats/stat_bin.py:109: PlotnineWarning: 'stat_bin()' using 'bins = 623'. Pick better value with 'binwidth'.\n"
     ]
    },
    {
     "data": {
      "image/png": "[encoded data removed]",
      "text/plain": [
       "<Figure size 640x480 with 1 Axes>"
      ]
     },
     "metadata": {
      "image/png": {
       "height": 480,
       "width": 640
      }
     },
     "output_type": "display_data"
    },
    {
     "name": "stdout",
     "output_type": "stream",
     "text": [
      "\n"
     ]
    }
   ],
   "source": [
    "from plotnine import ggplot, aes, geom_histogram, theme_bw, xlab\n",
    "\n",
    "plot1 = (ggplot(nuc_res) \n",
    "+ aes(x = \"z\")\n",
    "+ geom_histogram()\n",
    "+ theme_bw()\n",
    "+ xlab(\"z-statistic\"))\n",
    "\n",
    "print(plot1)"
   ]
  }
 ],
 "metadata": {
  "kernelspec": {
   "display_name": "varchamp",
   "language": "python",
   "name": "python3"
  },
  "language_info": {
   "codemirror_mode": {
    "name": "ipython",
    "version": 3
   },
   "file_extension": ".py",
   "mimetype": "text/x-python",
   "name": "python",
   "nbconvert_exporter": "python",
   "pygments_lexer": "ipython3",
   "version": "3.8.undefined"
  }
 },
 "nbformat": 4,
 "nbformat_minor": 2
}
