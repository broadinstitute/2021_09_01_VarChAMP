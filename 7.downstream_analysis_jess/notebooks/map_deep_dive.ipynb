{
 "cells": [
  {
   "cell_type": "markdown",
   "metadata": {},
   "source": [
    "# Run mAP line-by-line\n",
    "**Author:** Jessica Ewald <br>\n",
    "\n",
    "The purpose of this script is to run through mAP line-by-line for a few cells that return a mAP of 1 to try understand why this happens. Code chunks will be copied from the copairs repo to accomplish this. "
   ]
  },
  {
   "cell_type": "code",
   "execution_count": 1,
   "metadata": {},
   "outputs": [
    {
     "name": "stderr",
     "output_type": "stream",
     "text": [
      "DEBUG:jupyter_black:config: {'line_length': 79, 'target_versions': {<TargetVersion.PY310: 10>}}\n"
     ]
    },
    {
     "data": {
      "application/javascript": "\n            (function() {\n                jb_set_cell(\"# For other profiles, the pairwise sim is only NaN when the other profile has a NaN\\npos_res.loc[pos_res[\\\"First_profile\\\"] == 6542]\")\n            })();\n            ",
      "text/plain": [
       "<IPython.core.display.Javascript object>"
      ]
     },
     "metadata": {},
     "output_type": "display_data"
    }
   ],
   "source": [
    "# general imports\n",
    "import pathlib\n",
    "import pandas as pd\n",
    "import numpy as np\n",
    "import polars as pl\n",
    "import seaborn as sns\n",
    "import black\n",
    "import jupyter_black\n",
    "jupyter_black.load(\n",
    "    lab=False,\n",
    "    line_length=79,\n",
    "    verbosity=\"DEBUG\",\n",
    "    target_version=black.TargetVersion.PY310,\n",
    ")\n",
    "import warnings\n",
    "warnings.filterwarnings(\"ignore\")\n",
    "\n",
    "# copairs imports\n",
    "import itertools\n",
    "import copairs as cps\n",
    "from copairs.matching import Matcher\n",
    "from copairs import compute\n",
    "from typing import List, Tuple\n"
   ]
  },
  {
   "cell_type": "markdown",
   "metadata": {},
   "source": [
    "Function defined by me:"
   ]
  },
  {
   "cell_type": "code",
   "execution_count": 3,
   "metadata": {},
   "outputs": [],
   "source": [
    "# Function for formatting map input\n",
    "def prep_for_map(df_path: str, map_cols: [str], sample_col: [str], sample_n: int = 5): # type: ignore\n",
    "\n",
    "    # define filters\n",
    "    q = pl.scan_parquet(df_path).filter(\n",
    "        (pl.col(\"Metadata_node_type\") != \"TC\") &  # remove transfection controls\n",
    "        (pl.col(\"Metadata_node_type\") != \"NC\") &\n",
    "        (pl.col(\"Metadata_node_type\") != \"PC\") &\n",
    "        (pl.col(\"Metadata_node_type\") != \"CC\") &\n",
    "        (pl.col(\"Metadata_allele\") != \"_NA\") & \n",
    "        (pl.sum_horizontal(pl.col(map_cols).is_null()) == 0)  # remove any row with missing values for selected meta columns\n",
    "        ).with_columns(pl.concat_str(sample_col).alias('Metadata_samplecol'))\n",
    "    \n",
    "    # if a sample column name was provided, randomly sample sample_n rows from each column category\n",
    "    if sample_col:\n",
    "        q = q.filter(pl.int_range(0, pl.len()).shuffle().over('Metadata_samplecol') < sample_n)\n",
    "    \n",
    "    # different data frames for metadata and profiling data\n",
    "    map_cols_id = map_cols.copy()\n",
    "    # map_cols_id.append(\"Metadata_CellID\")\n",
    "    meta_cols = q.select(map_cols_id)\n",
    "    meta_df = meta_cols.collect().to_pandas()\n",
    "\n",
    "    feat_col = [i for i in q.columns if \"Metadata_\" not in i] \n",
    "    q = q.select(feat_col)\n",
    "    feat_df = q.collect().to_pandas()\n",
    "\n",
    "    map_input = {'meta': meta_df, 'feats': feat_df}\n",
    "\n",
    "    return map_input\n"
   ]
  },
  {
   "cell_type": "markdown",
   "metadata": {},
   "source": [
    "Copies of copairs functions that are not exported."
   ]
  },
  {
   "cell_type": "code",
   "execution_count": null,
   "metadata": {},
   "outputs": [],
   "source": [
    "def flatten_str_list(*args):\n",
    "    \"\"\"create a single list with all the params given\"\"\"\n",
    "    columns = set()\n",
    "    for col in args:\n",
    "        if isinstance(col, str):\n",
    "            columns.add(col)\n",
    "        elif isinstance(col, dict):\n",
    "            columns.update(itertools.chain.from_iterable(col.values()))\n",
    "        else:\n",
    "            columns.update(col)\n",
    "    columns = list(columns)\n",
    "    return columns\n",
    "\n",
    "def evaluate_and_filter(df, columns) -> Tuple[pd.DataFrame, List[str]]:\n",
    "    \"\"\"Evaluate the query and filter the dataframe\"\"\"\n",
    "    parsed_cols = []\n",
    "    for col in columns:\n",
    "        if col in df.columns:\n",
    "            parsed_cols.append(col)\n",
    "            continue\n",
    "\n",
    "        column_names = re.findall(r\"(\\w+)\\s*[=<>!]+\", col)\n",
    "        valid_column_names = [col for col in column_names if col in df.columns]\n",
    "        if not valid_column_names:\n",
    "            raise ValueError(f\"Invalid query or column name: {col}\")\n",
    "\n",
    "        try:\n",
    "            df = df.query(col)\n",
    "            parsed_cols.extend(valid_column_names)\n",
    "        except:\n",
    "            raise ValueError(f\"Invalid query expression: {col}\")\n",
    "\n",
    "    return df, parsed_cols\n",
    "\n",
    "def build_rank_lists(pos_pairs, neg_pairs, pos_sims, neg_sims):\n",
    "    labels = np.concatenate(\n",
    "        [\n",
    "            np.ones(pos_pairs.size, dtype=np.int32),\n",
    "            np.zeros(neg_pairs.size, dtype=np.int32),\n",
    "        ]\n",
    "    )\n",
    "    ix = np.concatenate([pos_pairs.ravel(), neg_pairs.ravel()])\n",
    "    sim_all = np.concatenate([np.repeat(pos_sims, 2), np.repeat(neg_sims, 2)])\n",
    "    ix_sort = np.lexsort([1 - sim_all, ix])\n",
    "    rel_k_list = labels[ix_sort]\n",
    "    paired_ix, counts = np.unique(ix, return_counts=True)\n",
    "    return paired_ix, rel_k_list, counts"
   ]
  },
  {
   "cell_type": "markdown",
   "metadata": {},
   "source": [
    "Define some paths / average precision function inputs"
   ]
  },
  {
   "cell_type": "code",
   "execution_count": 4,
   "metadata": {},
   "outputs": [],
   "source": [
    "# Set paths for accessing data\n",
    "batch_name = 'B1A1R1'\n",
    "data_dir = pathlib.Path(\"/dgx1nas1/storage/data/jess/varchamp/sc_data/processed_profiles\").resolve(strict=True)\n",
    "anno_cellID = pathlib.Path(data_dir / f\"{batch_name}_annotated.parquet\")\n",
    "\n",
    "# Set paramters for mAP\n",
    "pos_sameby = ['Metadata_allele']\n",
    "pos_diffby = ['Metadata_Plate']\n",
    "neg_sameby = ['Metadata_Plate']\n",
    "neg_diffby = ['Metadata_allele']\n",
    "batch_size = 20000\n",
    "sample_n_cells = 5\n",
    "sample_neg = True\n",
    "map_cols = list(set(pos_sameby + pos_diffby + neg_sameby + neg_diffby))\n"
   ]
  },
  {
   "cell_type": "markdown",
   "metadata": {},
   "source": [
    "Reformat data for copairs. This step took ~4.5 minutes when DGX was empty."
   ]
  },
  {
   "cell_type": "code",
   "execution_count": 5,
   "metadata": {},
   "outputs": [],
   "source": [
    "# Prepare the data (filter, sample, & format)\n",
    "map_input = prep_for_map(anno_cellID, map_cols, ['Metadata_Well', 'Metadata_Plate'], sample_n_cells)"
   ]
  },
  {
   "cell_type": "code",
   "execution_count": 6,
   "metadata": {},
   "outputs": [],
   "source": [
    "# Define map inputs\n",
    "meta = map_input['meta']\n",
    "feats = map_input['feats'].values\n",
    "sample_factor = 10"
   ]
  },
  {
   "cell_type": "markdown",
   "metadata": {},
   "source": [
    "The \"average_precision\" function starts here. It is broken down into chunks. Some extra plots etc are added to further investigate the results. "
   ]
  },
  {
   "cell_type": "code",
   "execution_count": 7,
   "metadata": {},
   "outputs": [],
   "source": [
    "# Format inputs & define matcher\n",
    "columns = flatten_str_list(pos_sameby, pos_diffby, neg_sameby, neg_diffby)\n",
    "meta = meta.reset_index(drop=True).copy()\n",
    "\n",
    "matcher = Matcher(*evaluate_and_filter(meta, columns), seed=0)\n"
   ]
  },
  {
   "cell_type": "code",
   "execution_count": 8,
   "metadata": {},
   "outputs": [],
   "source": [
    "# Compute positive pair indices\n",
    "pos_pairs = matcher.get_all_pairs(sameby=pos_sameby, diffby=pos_diffby)\n",
    "pos_total = sum(len(p) for p in pos_pairs.values())\n",
    "\n",
    "pos_pairs = np.fromiter(\n",
    "    itertools.chain.from_iterable(pos_pairs.values()),\n",
    "    dtype=np.dtype((np.int32, 2)),\n",
    "    count=pos_total,\n",
    ")"
   ]
  },
  {
   "cell_type": "code",
   "execution_count": 9,
   "metadata": {},
   "outputs": [],
   "source": [
    "# Compute negative pair indices\n",
    "neg_pairs = matcher.get_all_pairs(sameby=neg_sameby, diffby=neg_diffby)\n",
    "neg_total = sum(len(p) for p in neg_pairs.values())\n",
    "neg_pairs = np.fromiter(\n",
    "    itertools.chain.from_iterable(neg_pairs.values()),\n",
    "    dtype=np.dtype((np.int32, 2)),\n",
    "    count=neg_total,\n",
    ")"
   ]
  },
  {
   "cell_type": "code",
   "execution_count": 10,
   "metadata": {},
   "outputs": [],
   "source": [
    "# if sample_neg, randomly sample negative pairs\n",
    "# in this case it reduces # pairs from ~21 million to ~2 million\n",
    "if sample_neg:\n",
    "    sample_size = pos_pairs.shape[0]*sample_factor\n",
    "    if sample_size < neg_pairs.shape[0]:\n",
    "        sampled_rows = np.random.choice(neg_pairs.shape[0], size=sample_size, replace=False)\n",
    "        neg_pairs = neg_pairs[sampled_rows]"
   ]
  },
  {
   "cell_type": "code",
   "execution_count": 36,
   "metadata": {},
   "outputs": [
    {
     "data": {
      "application/vnd.jupyter.widget-view+json": {
       "model_id": "925f4b7138cc4fb2bafce7fb2fbd2f39",
       "version_major": 2,
       "version_minor": 0
      },
      "text/plain": [
       "  0%|          | 0/11 [00:00<?, ?it/s]"
      ]
     },
     "metadata": {},
     "output_type": "display_data"
    },
    {
     "name": "stdout",
     "output_type": "stream",
     "text": [
      "There are 25.0% NaN pairwise similarity values in the positive pairs\n"
     ]
    }
   ],
   "source": [
    "# Compute positive cosine distances\n",
    "pos_sims = compute.pairwise_cosine(feats, pos_pairs, batch_size)\n",
    "print(f'There are {np.round((sum(np.isnan(pos_sims))/len(pos_sims)) *100)}% NaN pairwise similarity values in the positive pairs')"
   ]
  },
  {
   "cell_type": "code",
   "execution_count": 20,
   "metadata": {},
   "outputs": [
    {
     "data": {
      "application/vnd.jupyter.widget-view+json": {
       "model_id": "f03b1d1647794f59bfb3e4dafc28511d",
       "version_major": 2,
       "version_minor": 0
      },
      "text/plain": [
       "  0%|          | 0/102 [00:00<?, ?it/s]"
      ]
     },
     "metadata": {},
     "output_type": "display_data"
    },
    {
     "name": "stdout",
     "output_type": "stream",
     "text": [
      "There are 25.0% NaN pairwise similarity values in the negative pairs\n"
     ]
    }
   ],
   "source": [
    "# Compute negative cosine distances\n",
    "neg_sims = compute.pairwise_cosine(feats, neg_pairs, batch_size)\n",
    "print(f'There are {np.round((sum(np.isnan(neg_sims))/len(neg_sims)) *100)}% NaN pairwise similarity values in the negative pairs')"
   ]
  },
  {
   "cell_type": "code",
   "execution_count": 21,
   "metadata": {},
   "outputs": [],
   "source": [
    "# Build ranked lists\n",
    "paired_ix, rel_k_list, counts = build_rank_lists(\n",
    "    pos_pairs, neg_pairs, pos_sims, neg_sims\n",
    ")\n",
    "# Compute average precision\n",
    "ap_scores, null_confs = compute.ap_contiguous(rel_k_list, counts)"
   ]
  },
  {
   "cell_type": "code",
   "execution_count": 22,
   "metadata": {},
   "outputs": [],
   "source": [
    "# Populate metadata with results\n",
    "meta[\"n_pos_pairs\"] = 0\n",
    "meta[\"n_total_pairs\"] = 0\n",
    "meta.loc[paired_ix, \"average_precision\"] = ap_scores\n",
    "meta.loc[paired_ix, \"n_pos_pairs\"] = null_confs[:, 0]\n",
    "meta.loc[paired_ix, \"n_total_pairs\"] = null_confs[:, 1]"
   ]
  },
  {
   "cell_type": "code",
   "execution_count": 37,
   "metadata": {},
   "outputs": [],
   "source": [
    "# put sims and pairs side-by-side\n",
    "pos_sims = pos_sims.reshape(-1, 1) \n",
    "pos_res = np.concatenate((pos_pairs, pos_sims), axis = 1)\n",
    "\n",
    "# add the reverse version so that all pairs corresponding to one cell ID can be accessed through searching one column\n",
    "pos_res = np.concatenate((pos_res, pos_res[:, [1,0,2]]), axis = 0)\n"
   ]
  },
  {
   "cell_type": "markdown",
   "metadata": {},
   "source": [
    "Here is an example of a profile where the pairwise similarity values are NaN for every pair. "
   ]
  },
  {
   "cell_type": "code",
   "execution_count": 43,
   "metadata": {},
   "outputs": [
    {
     "data": {
      "text/html": [
       "<div>\n",
       "<style scoped>\n",
       "    .dataframe tbody tr th:only-of-type {\n",
       "        vertical-align: middle;\n",
       "    }\n",
       "\n",
       "    .dataframe tbody tr th {\n",
       "        vertical-align: top;\n",
       "    }\n",
       "\n",
       "    .dataframe thead th {\n",
       "        text-align: right;\n",
       "    }\n",
       "</style>\n",
       "<table border=\"1\" class=\"dataframe\">\n",
       "  <thead>\n",
       "    <tr style=\"text-align: right;\">\n",
       "      <th></th>\n",
       "      <th>First_profile</th>\n",
       "      <th>Second_profile</th>\n",
       "      <th>Pw_sim</th>\n",
       "    </tr>\n",
       "  </thead>\n",
       "  <tbody>\n",
       "    <tr>\n",
       "      <th>149</th>\n",
       "      <td>14322.0</td>\n",
       "      <td>6519.0</td>\n",
       "      <td>NaN</td>\n",
       "    </tr>\n",
       "    <tr>\n",
       "      <th>202862</th>\n",
       "      <td>14322.0</td>\n",
       "      <td>6541.0</td>\n",
       "      <td>NaN</td>\n",
       "    </tr>\n",
       "    <tr>\n",
       "      <th>202877</th>\n",
       "      <td>14322.0</td>\n",
       "      <td>6542.0</td>\n",
       "      <td>NaN</td>\n",
       "    </tr>\n",
       "    <tr>\n",
       "      <th>202892</th>\n",
       "      <td>14322.0</td>\n",
       "      <td>6543.0</td>\n",
       "      <td>NaN</td>\n",
       "    </tr>\n",
       "    <tr>\n",
       "      <th>202907</th>\n",
       "      <td>14322.0</td>\n",
       "      <td>6546.0</td>\n",
       "      <td>NaN</td>\n",
       "    </tr>\n",
       "    <tr>\n",
       "      <th>202918</th>\n",
       "      <td>14322.0</td>\n",
       "      <td>21316.0</td>\n",
       "      <td>NaN</td>\n",
       "    </tr>\n",
       "    <tr>\n",
       "      <th>202929</th>\n",
       "      <td>14322.0</td>\n",
       "      <td>21317.0</td>\n",
       "      <td>NaN</td>\n",
       "    </tr>\n",
       "    <tr>\n",
       "      <th>202940</th>\n",
       "      <td>14322.0</td>\n",
       "      <td>21318.0</td>\n",
       "      <td>NaN</td>\n",
       "    </tr>\n",
       "    <tr>\n",
       "      <th>202951</th>\n",
       "      <td>14322.0</td>\n",
       "      <td>21319.0</td>\n",
       "      <td>NaN</td>\n",
       "    </tr>\n",
       "    <tr>\n",
       "      <th>202969</th>\n",
       "      <td>14322.0</td>\n",
       "      <td>21339.0</td>\n",
       "      <td>NaN</td>\n",
       "    </tr>\n",
       "    <tr>\n",
       "      <th>202974</th>\n",
       "      <td>14322.0</td>\n",
       "      <td>19556.0</td>\n",
       "      <td>NaN</td>\n",
       "    </tr>\n",
       "    <tr>\n",
       "      <th>202979</th>\n",
       "      <td>14322.0</td>\n",
       "      <td>19557.0</td>\n",
       "      <td>NaN</td>\n",
       "    </tr>\n",
       "    <tr>\n",
       "      <th>202984</th>\n",
       "      <td>14322.0</td>\n",
       "      <td>19558.0</td>\n",
       "      <td>NaN</td>\n",
       "    </tr>\n",
       "    <tr>\n",
       "      <th>202989</th>\n",
       "      <td>14322.0</td>\n",
       "      <td>19559.0</td>\n",
       "      <td>NaN</td>\n",
       "    </tr>\n",
       "    <tr>\n",
       "      <th>202994</th>\n",
       "      <td>14322.0</td>\n",
       "      <td>19560.0</td>\n",
       "      <td>NaN</td>\n",
       "    </tr>\n",
       "  </tbody>\n",
       "</table>\n",
       "</div>"
      ],
      "text/plain": [
       "        First_profile  Second_profile  Pw_sim\n",
       "149           14322.0          6519.0     NaN\n",
       "202862        14322.0          6541.0     NaN\n",
       "202877        14322.0          6542.0     NaN\n",
       "202892        14322.0          6543.0     NaN\n",
       "202907        14322.0          6546.0     NaN\n",
       "202918        14322.0         21316.0     NaN\n",
       "202929        14322.0         21317.0     NaN\n",
       "202940        14322.0         21318.0     NaN\n",
       "202951        14322.0         21319.0     NaN\n",
       "202969        14322.0         21339.0     NaN\n",
       "202974        14322.0         19556.0     NaN\n",
       "202979        14322.0         19557.0     NaN\n",
       "202984        14322.0         19558.0     NaN\n",
       "202989        14322.0         19559.0     NaN\n",
       "202994        14322.0         19560.0     NaN"
      ]
     },
     "execution_count": 43,
     "metadata": {},
     "output_type": "execute_result"
    }
   ],
   "source": [
    "# show that for an example profile with a NaN, all pairwise similarities are NaNs\n",
    "pos_res = pd.DataFrame(pos_res, columns = ['First_profile', 'Second_profile', 'Pw_sim'])\n",
    "pos_res.loc[pos_res['First_profile'] == 14322]\n"
   ]
  },
  {
   "cell_type": "code",
   "execution_count": 45,
   "metadata": {},
   "outputs": [
    {
     "data": {
      "text/html": [
       "<div>\n",
       "<style scoped>\n",
       "    .dataframe tbody tr th:only-of-type {\n",
       "        vertical-align: middle;\n",
       "    }\n",
       "\n",
       "    .dataframe tbody tr th {\n",
       "        vertical-align: top;\n",
       "    }\n",
       "\n",
       "    .dataframe thead th {\n",
       "        text-align: right;\n",
       "    }\n",
       "</style>\n",
       "<table border=\"1\" class=\"dataframe\">\n",
       "  <thead>\n",
       "    <tr style=\"text-align: right;\">\n",
       "      <th></th>\n",
       "      <th>First_profile</th>\n",
       "      <th>Second_profile</th>\n",
       "      <th>Pw_sim</th>\n",
       "    </tr>\n",
       "  </thead>\n",
       "  <tbody>\n",
       "    <tr>\n",
       "      <th>15</th>\n",
       "      <td>6542.0</td>\n",
       "      <td>21316.0</td>\n",
       "      <td>0.976342</td>\n",
       "    </tr>\n",
       "    <tr>\n",
       "      <th>16</th>\n",
       "      <td>6542.0</td>\n",
       "      <td>21317.0</td>\n",
       "      <td>0.955220</td>\n",
       "    </tr>\n",
       "    <tr>\n",
       "      <th>17</th>\n",
       "      <td>6542.0</td>\n",
       "      <td>21318.0</td>\n",
       "      <td>0.963460</td>\n",
       "    </tr>\n",
       "    <tr>\n",
       "      <th>18</th>\n",
       "      <td>6542.0</td>\n",
       "      <td>21319.0</td>\n",
       "      <td>0.912039</td>\n",
       "    </tr>\n",
       "    <tr>\n",
       "      <th>19</th>\n",
       "      <td>6542.0</td>\n",
       "      <td>19556.0</td>\n",
       "      <td>NaN</td>\n",
       "    </tr>\n",
       "    <tr>\n",
       "      <th>20</th>\n",
       "      <td>6542.0</td>\n",
       "      <td>19557.0</td>\n",
       "      <td>0.966662</td>\n",
       "    </tr>\n",
       "    <tr>\n",
       "      <th>21</th>\n",
       "      <td>6542.0</td>\n",
       "      <td>19558.0</td>\n",
       "      <td>0.775481</td>\n",
       "    </tr>\n",
       "    <tr>\n",
       "      <th>22</th>\n",
       "      <td>6542.0</td>\n",
       "      <td>19559.0</td>\n",
       "      <td>NaN</td>\n",
       "    </tr>\n",
       "    <tr>\n",
       "      <th>23</th>\n",
       "      <td>6542.0</td>\n",
       "      <td>19560.0</td>\n",
       "      <td>0.720479</td>\n",
       "    </tr>\n",
       "    <tr>\n",
       "      <th>24</th>\n",
       "      <td>6542.0</td>\n",
       "      <td>14316.0</td>\n",
       "      <td>0.984594</td>\n",
       "    </tr>\n",
       "    <tr>\n",
       "      <th>25</th>\n",
       "      <td>6542.0</td>\n",
       "      <td>14317.0</td>\n",
       "      <td>0.978453</td>\n",
       "    </tr>\n",
       "    <tr>\n",
       "      <th>26</th>\n",
       "      <td>6542.0</td>\n",
       "      <td>14318.0</td>\n",
       "      <td>0.816503</td>\n",
       "    </tr>\n",
       "    <tr>\n",
       "      <th>27</th>\n",
       "      <td>6542.0</td>\n",
       "      <td>14322.0</td>\n",
       "      <td>NaN</td>\n",
       "    </tr>\n",
       "    <tr>\n",
       "      <th>28</th>\n",
       "      <td>6542.0</td>\n",
       "      <td>14292.0</td>\n",
       "      <td>0.976855</td>\n",
       "    </tr>\n",
       "    <tr>\n",
       "      <th>29</th>\n",
       "      <td>6542.0</td>\n",
       "      <td>21339.0</td>\n",
       "      <td>0.970034</td>\n",
       "    </tr>\n",
       "  </tbody>\n",
       "</table>\n",
       "</div>"
      ],
      "text/plain": [
       "    First_profile  Second_profile    Pw_sim\n",
       "15         6542.0         21316.0  0.976342\n",
       "16         6542.0         21317.0  0.955220\n",
       "17         6542.0         21318.0  0.963460\n",
       "18         6542.0         21319.0  0.912039\n",
       "19         6542.0         19556.0       NaN\n",
       "20         6542.0         19557.0  0.966662\n",
       "21         6542.0         19558.0  0.775481\n",
       "22         6542.0         19559.0       NaN\n",
       "23         6542.0         19560.0  0.720479\n",
       "24         6542.0         14316.0  0.984594\n",
       "25         6542.0         14317.0  0.978453\n",
       "26         6542.0         14318.0  0.816503\n",
       "27         6542.0         14322.0       NaN\n",
       "28         6542.0         14292.0  0.976855\n",
       "29         6542.0         21339.0  0.970034"
      ]
     },
     "execution_count": 45,
     "metadata": {},
     "output_type": "execute_result"
    }
   ],
   "source": [
    "# For other profiles, the pairwise sim is only NaN when the other profile has a NaN\n",
    "pos_res.loc[pos_res['First_profile'] == 6542]"
   ]
  },
  {
   "cell_type": "code",
   "execution_count": 24,
   "metadata": {},
   "outputs": [
    {
     "data": {
      "text/html": [
       "<div>\n",
       "<style scoped>\n",
       "    .dataframe tbody tr th:only-of-type {\n",
       "        vertical-align: middle;\n",
       "    }\n",
       "\n",
       "    .dataframe tbody tr th {\n",
       "        vertical-align: top;\n",
       "    }\n",
       "\n",
       "    .dataframe thead th {\n",
       "        text-align: right;\n",
       "    }\n",
       "</style>\n",
       "<table border=\"1\" class=\"dataframe\">\n",
       "  <thead>\n",
       "    <tr style=\"text-align: right;\">\n",
       "      <th></th>\n",
       "      <th>Metadata_allele</th>\n",
       "      <th>Metadata_Plate</th>\n",
       "      <th>n_pos_pairs</th>\n",
       "      <th>n_total_pairs</th>\n",
       "      <th>average_precision</th>\n",
       "      <th>NaN_per_cell</th>\n",
       "    </tr>\n",
       "  </thead>\n",
       "  <tbody>\n",
       "    <tr>\n",
       "      <th>0</th>\n",
       "      <td>FBP1_</td>\n",
       "      <td>2023-05-26_B1A1R1_P2T1</td>\n",
       "      <td>35</td>\n",
       "      <td>229</td>\n",
       "      <td>0.209349</td>\n",
       "      <td>0</td>\n",
       "    </tr>\n",
       "    <tr>\n",
       "      <th>1</th>\n",
       "      <td>FBP1_</td>\n",
       "      <td>2023-05-26_B1A1R1_P2T1</td>\n",
       "      <td>35</td>\n",
       "      <td>205</td>\n",
       "      <td>0.198680</td>\n",
       "      <td>0</td>\n",
       "    </tr>\n",
       "    <tr>\n",
       "      <th>2</th>\n",
       "      <td>FBP1_</td>\n",
       "      <td>2023-05-26_B1A1R1_P2T1</td>\n",
       "      <td>35</td>\n",
       "      <td>189</td>\n",
       "      <td>0.314503</td>\n",
       "      <td>0</td>\n",
       "    </tr>\n",
       "    <tr>\n",
       "      <th>3</th>\n",
       "      <td>GFAP_Glu205Lys</td>\n",
       "      <td>2023-05-26_B1A1R1_P2T1</td>\n",
       "      <td>15</td>\n",
       "      <td>180</td>\n",
       "      <td>0.089638</td>\n",
       "      <td>0</td>\n",
       "    </tr>\n",
       "    <tr>\n",
       "      <th>4</th>\n",
       "      <td>GFAP_Glu205Lys</td>\n",
       "      <td>2023-05-26_B1A1R1_P2T1</td>\n",
       "      <td>15</td>\n",
       "      <td>158</td>\n",
       "      <td>0.123770</td>\n",
       "      <td>0</td>\n",
       "    </tr>\n",
       "    <tr>\n",
       "      <th>...</th>\n",
       "      <td>...</td>\n",
       "      <td>...</td>\n",
       "      <td>...</td>\n",
       "      <td>...</td>\n",
       "      <td>...</td>\n",
       "      <td>...</td>\n",
       "    </tr>\n",
       "    <tr>\n",
       "      <th>26064</th>\n",
       "      <td>ZMYND10_Arg340Gln</td>\n",
       "      <td>2023-05-30_B1A1R1_P4T4</td>\n",
       "      <td>15</td>\n",
       "      <td>150</td>\n",
       "      <td>1.000000</td>\n",
       "      <td>9</td>\n",
       "    </tr>\n",
       "    <tr>\n",
       "      <th>26065</th>\n",
       "      <td>ZMYND10_Arg340Gln</td>\n",
       "      <td>2023-05-30_B1A1R1_P4T4</td>\n",
       "      <td>15</td>\n",
       "      <td>140</td>\n",
       "      <td>0.245668</td>\n",
       "      <td>0</td>\n",
       "    </tr>\n",
       "    <tr>\n",
       "      <th>26066</th>\n",
       "      <td>ZMYND10_Arg340Gln</td>\n",
       "      <td>2023-05-30_B1A1R1_P4T4</td>\n",
       "      <td>15</td>\n",
       "      <td>141</td>\n",
       "      <td>0.221692</td>\n",
       "      <td>0</td>\n",
       "    </tr>\n",
       "    <tr>\n",
       "      <th>26067</th>\n",
       "      <td>UBQLN2_Pro506Thr</td>\n",
       "      <td>2023-05-30_B1A1R1_P4T4</td>\n",
       "      <td>11</td>\n",
       "      <td>122</td>\n",
       "      <td>1.000000</td>\n",
       "      <td>1</td>\n",
       "    </tr>\n",
       "    <tr>\n",
       "      <th>26068</th>\n",
       "      <td>UROD_</td>\n",
       "      <td>2023-05-30_B1A1R1_P4T4</td>\n",
       "      <td>15</td>\n",
       "      <td>131</td>\n",
       "      <td>0.151801</td>\n",
       "      <td>0</td>\n",
       "    </tr>\n",
       "  </tbody>\n",
       "</table>\n",
       "<p>26069 rows × 6 columns</p>\n",
       "</div>"
      ],
      "text/plain": [
       "         Metadata_allele          Metadata_Plate  n_pos_pairs  n_total_pairs  \\\n",
       "0                  FBP1_  2023-05-26_B1A1R1_P2T1           35            229   \n",
       "1                  FBP1_  2023-05-26_B1A1R1_P2T1           35            205   \n",
       "2                  FBP1_  2023-05-26_B1A1R1_P2T1           35            189   \n",
       "3         GFAP_Glu205Lys  2023-05-26_B1A1R1_P2T1           15            180   \n",
       "4         GFAP_Glu205Lys  2023-05-26_B1A1R1_P2T1           15            158   \n",
       "...                  ...                     ...          ...            ...   \n",
       "26064  ZMYND10_Arg340Gln  2023-05-30_B1A1R1_P4T4           15            150   \n",
       "26065  ZMYND10_Arg340Gln  2023-05-30_B1A1R1_P4T4           15            140   \n",
       "26066  ZMYND10_Arg340Gln  2023-05-30_B1A1R1_P4T4           15            141   \n",
       "26067   UBQLN2_Pro506Thr  2023-05-30_B1A1R1_P4T4           11            122   \n",
       "26068              UROD_  2023-05-30_B1A1R1_P4T4           15            131   \n",
       "\n",
       "       average_precision  NaN_per_cell  \n",
       "0               0.209349             0  \n",
       "1               0.198680             0  \n",
       "2               0.314503             0  \n",
       "3               0.089638             0  \n",
       "4               0.123770             0  \n",
       "...                  ...           ...  \n",
       "26064           1.000000             9  \n",
       "26065           0.245668             0  \n",
       "26066           0.221692             0  \n",
       "26067           1.000000             1  \n",
       "26068           0.151801             0  \n",
       "\n",
       "[26069 rows x 6 columns]"
      ]
     },
     "execution_count": 24,
     "metadata": {},
     "output_type": "execute_result"
    }
   ],
   "source": [
    "# Count NaN per cell\n",
    "nan_mask = np.isnan(feats)\n",
    "nan_per_cell = np.sum(nan_mask, axis=1)\n",
    "meta['NaN_per_cell'] = nan_per_cell\n",
    "meta"
   ]
  },
  {
   "cell_type": "markdown",
   "metadata": {},
   "source": [
    "Every cell that has even a single NaN feature gets a pairwise cosine similarity of NaN with each profile that it is compared to (see two examples in the table printed above). The strategy for handling ties in copairs return an average precision of 1 when the entire rank list of pairwise similarities are NaNs."
   ]
  }
 ],
 "metadata": {
  "kernelspec": {
   "display_name": "varchamp",
   "language": "python",
   "name": "python3"
  },
  "language_info": {
   "codemirror_mode": {
    "name": "ipython",
    "version": 3
   },
   "file_extension": ".py",
   "mimetype": "text/x-python",
   "name": "python",
   "nbconvert_exporter": "python",
   "pygments_lexer": "ipython3",
   "version": "3.8.5"
  }
 },
 "nbformat": 4,
 "nbformat_minor": 2
}
