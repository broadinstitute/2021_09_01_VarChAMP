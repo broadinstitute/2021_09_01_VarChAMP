{
 "cells": [
  {
   "cell_type": "markdown",
   "metadata": {},
   "source": [
    "# Investigating well position effect\n",
    "**Author:** Jessica Ewald <br>\n",
    "\n",
    "The purpose of this notebook is to quantify well position effect using two plates with 48X repeated ALK WT and one ALK VAR (a positive control). Previously, classifiers were constructed between cells in each WT versus each VAR well pair, between each possible pair of VAR wells and each possible pair of WT pairs. The WT-WT and VAR-VAR comparisons can be interrogated to get an estimate of well position effect across different positions. The WT-VAR comparisons will give an idea of the size of the morphological perturbation relative to the well position effect. "
   ]
  },
  {
   "cell_type": "code",
   "execution_count": 1,
   "metadata": {},
   "outputs": [
    {
     "name": "stderr",
     "output_type": "stream",
     "text": [
      "DEBUG:jupyter_black:config: {'line_length': 79, 'target_versions': {<TargetVersion.PY310: 10>}}\n"
     ]
    },
    {
     "data": {
      "application/javascript": "\n            (function() {\n                jb_set_cell(\"df = pd.read_csv(f\\\"{result_dir}/{files[10]}\\\")\")\n            })();\n            ",
      "text/plain": [
       "<IPython.core.display.Javascript object>"
      ]
     },
     "metadata": {},
     "output_type": "display_data"
    }
   ],
   "source": [
    "# Imports\n",
    "import pathlib\n",
    "import polars as pl\n",
    "import pandas as pd\n",
    "import numpy as np\n",
    "import os\n",
    "\n",
    "import black\n",
    "import jupyter_black\n",
    "\n",
    "jupyter_black.load(\n",
    "    lab=False,\n",
    "    line_length=79,\n",
    "    verbosity=\"DEBUG\",\n",
    "    target_version=black.TargetVersion.PY310,\n",
    ")\n",
    "\n",
    "import warnings\n",
    "warnings.filterwarnings(\"ignore\")"
   ]
  },
  {
   "cell_type": "code",
   "execution_count": 6,
   "metadata": {},
   "outputs": [
    {
     "data": {
      "text/plain": [
       "['B4A3R1_non_protein_REF_control_feat_importance_normalized_feature_selected.csv',\n",
       " 'B4A3R1_non_protein_feat_importance_normalized_feature_selected.csv',\n",
       " 'B4A3R1_protein_VAR_control_feat_importance_normalized_feature_selected.csv',\n",
       " 'B4A3R1_non_protein_VAR_control_feat_importance_normalized_feature_selected.csv',\n",
       " 'B4A3R1_non_protein_REF_control_f1score_normalized_feature_selected.csv',\n",
       " 'B4A3R1_non_protein_VAR_control_f1score_normalized_feature_selected.csv',\n",
       " 'B4A3R1_protein_REF_control_feat_importance_normalized_feature_selected.csv',\n",
       " 'B4A3R1_protein_REF_control_f1score_normalized_feature_selected.csv',\n",
       " 'B4A3R1_protein_VAR_control_f1score_normalized_feature_selected.csv',\n",
       " 'B4A3R1_non_protein_f1score_normalized_feature_selected.csv',\n",
       " 'B4A3R1_protein_f1score_normalized_feature_selected.csv',\n",
       " 'B4A3R1_protein_feat_importance_normalized_feature_selected.csv']"
      ]
     },
     "execution_count": 6,
     "metadata": {},
     "output_type": "execute_result"
    }
   ],
   "source": [
    "result_dir = pathlib.Path(f'/dgx1nas1/storage/data/jess/varchamp/sc_data/classification_results/B4A3R1/ALK_WT_VAR')\n",
    "files = os.listdir(result_dir)\n",
    "files"
   ]
  },
  {
   "cell_type": "code",
   "execution_count": 13,
   "metadata": {},
   "outputs": [],
   "source": [
    "df = pd.read_csv(f'{result_dir}/{files[10]}')"
   ]
  },
  {
   "cell_type": "markdown",
   "metadata": {},
   "source": [
    "From a quick examination of the results, we see that cells in all pairs of wells are almost perfectly separable. Since the signal detected by our classifier is saturated, we will have to either make the classification task more difficult, or compute distance in some other way (perhaps directly: Euclidean, cosine, etc, with and without PCA transformation). That way we can at least assess the well position effect relative to the genetic perturbation."
   ]
  }
 ],
 "metadata": {
  "kernelspec": {
   "display_name": "pooledrare",
   "language": "python",
   "name": "python3"
  },
  "language_info": {
   "codemirror_mode": {
    "name": "ipython",
    "version": 3
   },
   "file_extension": ".py",
   "mimetype": "text/x-python",
   "name": "python",
   "nbconvert_exporter": "python",
   "pygments_lexer": "ipython3",
   "version": "3.8.5"
  }
 },
 "nbformat": 4,
 "nbformat_minor": 2
}
