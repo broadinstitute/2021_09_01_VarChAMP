{
 "cells": [
  {
   "cell_type": "markdown",
   "metadata": {},
   "source": [
    "# Calculate overlap between Varchamp and pooled-rare perturbations\n",
    "Author: Jess Ewald\n",
    "\n",
    "Varchamp and pooled-rare are both investigating mislocalization of proteins in rare diseases. There is some overlap in perturbations across the two datasets; it would be a good idea to leverage this overlap to examine reproducibility, etc. "
   ]
  },
  {
   "cell_type": "code",
   "execution_count": 1,
   "metadata": {},
   "outputs": [
    {
     "name": "stderr",
     "output_type": "stream",
     "text": [
      "DEBUG:jupyter_black:config: {'line_length': 79, 'target_versions': {<TargetVersion.PY310: 10>}}\n"
     ]
    },
    {
     "data": {
      "application/javascript": "\n            (function() {\n                jb_set_cell(\"print(len(varchamp_converted))\\nprint(len(pooled_alleles))\\n\\nallele_intersect = [\\n    value for value in varchamp_converted if value in pooled_alleles\\n]\\nprint(len(allele_intersect))\")\n            })();\n            ",
      "text/plain": [
       "<IPython.core.display.Javascript object>"
      ]
     },
     "metadata": {},
     "output_type": "display_data"
    }
   ],
   "source": [
    "# Imports\n",
    "import polars as pl\n",
    "import os\n",
    "\n",
    "import black\n",
    "import jupyter_black\n",
    "\n",
    "jupyter_black.load(\n",
    "    lab=False,\n",
    "    line_length=79,\n",
    "    verbosity=\"DEBUG\",\n",
    "    target_version=black.TargetVersion.PY310,\n",
    ")\n",
    "\n",
    "import warnings\n",
    "warnings.filterwarnings(\"ignore\")"
   ]
  },
  {
   "cell_type": "code",
   "execution_count": 5,
   "metadata": {},
   "outputs": [],
   "source": [
    "# Paths\n",
    "varchamp_pm_path = f\"/dgx1nas1/storage/data/jess/varchamp/platemaps\"\n",
    "pooled_data_dir = f\"/dgx1nas1/storage/data/jess/pooled/sc_data/processed_profiles/\"\n",
    "pooled_dat_path = f\"{pooled_data_dir}/pilot_corrected_normalized_featselected.parquet\""
   ]
  },
  {
   "cell_type": "code",
   "execution_count": 24,
   "metadata": {},
   "outputs": [],
   "source": [
    "# Read in Varchamp batch 1 platemaps\n",
    "B7_plates = [\"B7A1R1_P1.txt\", \"B7A1R1_P2.txt\", \"B7A1R1_P3.txt\", \"B7A1R1_P4.txt\", \"B7A2R1_P1.txt\"]\n",
    "varchamp = pl.DataFrame()\n",
    "for plate in B7_plates:\n",
    "    temp_pm = pl.read_csv(f\"{varchamp_pm_path}/{plate}\", separator=\"\\t\")\n",
    "    varchamp = pl.concat([varchamp, temp_pm], how=\"vertical\")"
   ]
  },
  {
   "cell_type": "code",
   "execution_count": 25,
   "metadata": {},
   "outputs": [],
   "source": [
    "# Read in pooled-rare metadata\n",
    "pooled = pl.scan_parquet(pooled_dat_path)\n",
    "meta_cols = [i for i in pooled.columns if \"Metadata_\" in i] \n",
    "pooled = pooled.select(meta_cols).collect()\n"
   ]
  },
  {
   "cell_type": "code",
   "execution_count": 26,
   "metadata": {},
   "outputs": [],
   "source": [
    "# Get alleles in each dataset\n",
    "pooled_alleles = pooled.select(\"Metadata_Foci_Barcode_MatchedTo_GeneCode\").to_series().unique().to_list()\n",
    "varchamp_alleles = varchamp.select(\"gene_allele\").to_series().unique().to_list()"
   ]
  },
  {
   "cell_type": "code",
   "execution_count": 27,
   "metadata": {},
   "outputs": [],
   "source": [
    "# Convert perturbation format: pooled-rare uses single letter aa code while varchamp uses three letter abbreviation\n",
    "aa_dict = {\n",
    "    \"Gly\": \"G\",\n",
    "    \"Ala\": \"A\",\n",
    "    \"Val\": \"V\",\n",
    "    \"Leu\": \"L\",\n",
    "    \"Ile\": \"I\", \n",
    "    \"Thr\": \"T\",\n",
    "    \"Ser\": \"S\",\n",
    "    \"Met\": \"M\",\n",
    "    \"Cys\": \"C\",\n",
    "    \"Pro\": \"P\",\n",
    "    \"Phe\": \"F\",\n",
    "    \"Tyr\": \"Y\",\n",
    "    \"Trp\": \"W\",\n",
    "    \"His\": \"H\",\n",
    "    \"Lys\": \"K\",\n",
    "    \"Arg\": \"R\",\n",
    "    \"Asp\": \"D\",\n",
    "    \"Glu\": \"E\",\n",
    "    \"Asn\": \"N\",\n",
    "    \"Gln\": \"Q\"\n",
    "}\n"
   ]
  },
  {
   "cell_type": "code",
   "execution_count": 33,
   "metadata": {},
   "outputs": [],
   "source": [
    "varchamp_converted = []\n",
    "for allele in varchamp_alleles:\n",
    "    if allele:\n",
    "        temp = allele.split(\"_\")\n",
    "        if len(temp) == 2:\n",
    "            perturb = temp[1]\n",
    "            \n",
    "            if perturb != \"RASA1\":\n",
    "                first = perturb[0:3]\n",
    "                second = perturb[len(perturb) - 3:]\n",
    "                \n",
    "                perturb = perturb.replace(first, aa_dict[first])\n",
    "                perturb = perturb.replace(second, aa_dict[second])\n",
    "                \n",
    "                converted = temp[0] + \" \" + perturb\n",
    "                varchamp_converted.append(converted)\n",
    "            else:\n",
    "                varchamp_converted.append(temp[0])\n",
    "        else:    \n",
    "            varchamp_converted.append(temp[0])\n",
    "        "
   ]
  },
  {
   "cell_type": "code",
   "execution_count": 36,
   "metadata": {},
   "outputs": [
    {
     "name": "stdout",
     "output_type": "stream",
     "text": [
      "1391\n",
      "290\n",
      "38\n"
     ]
    }
   ],
   "source": [
    "print(len(varchamp_converted))\n",
    "print(len(pooled_alleles))\n",
    "\n",
    "allele_intersect = [value for value in varchamp_converted if value in pooled_alleles]\n",
    "print(len(allele_intersect))\n",
    "\n"
   ]
  },
  {
   "cell_type": "markdown",
   "metadata": {},
   "source": [
    "Of the 290 alleles in pooled-rare, 38 are also in Varchamp. It's possible that more pooled-rare alleles will be profiled in Varchamp in coming batches. "
   ]
  }
 ],
 "metadata": {
  "kernelspec": {
   "display_name": "varchamp",
   "language": "python",
   "name": "python3"
  },
  "language_info": {
   "codemirror_mode": {
    "name": "ipython",
    "version": 3
   },
   "file_extension": ".py",
   "mimetype": "text/x-python",
   "name": "python",
   "nbconvert_exporter": "python",
   "pygments_lexer": "ipython3",
   "version": "3.8.5"
  }
 },
 "nbformat": 4,
 "nbformat_minor": 2
}
