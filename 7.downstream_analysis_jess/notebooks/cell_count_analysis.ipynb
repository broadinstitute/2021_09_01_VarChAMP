{
 "cells": [
  {
   "cell_type": "markdown",
   "metadata": {},
   "source": [
    "# Analyze Cell Count\n",
    "\n",
    "Author: Jess Ewald"
   ]
  },
  {
   "cell_type": "code",
   "execution_count": 36,
   "metadata": {},
   "outputs": [],
   "source": [
    "# Imports\n",
    "import polars as pl\n",
    "import numpy as np\n",
    "from sh import aws\n",
    "import os\n",
    "from skimage.io import imread\n",
    "from matplotlib import pyplot as plt\n",
    "import matplotlib as mpl\n",
    "from scipy import stats\n",
    "from statsmodels.stats.multitest import multipletests\n",
    "import statsmodels.formula.api as smf\n",
    "from tqdm import tqdm\n",
    "\n",
    "from importlib import reload\n",
    "import displayImages as di\n",
    "reload(di)\n",
    "\n",
    "import black\n",
    "import jupyter_black\n",
    "\n",
    "jupyter_black.load(\n",
    "    lab=False,\n",
    "    line_length=79,\n",
    "    verbosity=\"DEBUG\",\n",
    "    target_version=black.TargetVersion.PY310,\n",
    ")\n",
    "\n",
    "import warnings\n",
    "warnings.filterwarnings(\"ignore\")"
   ]
  },
  {
   "cell_type": "code",
   "execution_count": 2,
   "metadata": {},
   "outputs": [],
   "source": [
    "pm_dir = \"/dgx1nas1/storage/data/jess/varchamp/platemaps\"\n",
    "\n",
    "# concatenate all platemaps\n",
    "pms = [\"B7A1R1_P1.txt\", \"B7A1R1_P2.txt\", \"B7A1R1_P3.txt\", \"B7A1R1_P4.txt\", \"B7A2R1_P1.txt\", \"B8A1R2_P1.txt\", \"B8A1R2_P2.txt\", \"B8A1R2_P3.txt\", \"B8A1R2_P4.txt\", \"B8A2R2_P1.txt\"]\n",
    "\n",
    "pm_dfs = []\n",
    "for pm in pms:\n",
    "    try:\n",
    "        temp = pl.read_csv(f\"{pm_dir}/{pm}\", separator=\"\\t\").select(['plate_map_name', 'well_position', 'control_type', 'gene_allele'])\n",
    "        pm_dfs.append(temp)\n",
    "    except Exception as e:\n",
    "        print(\"Error reading {pm}: {e}\")\n",
    "    \n",
    "pm_df = pl.concat(pm_dfs)"
   ]
  },
  {
   "cell_type": "code",
   "execution_count": 3,
   "metadata": {},
   "outputs": [],
   "source": [
    "# Get cell count per well\n",
    "cc = pl.scan_parquet(\"/dgx1nas1/storage/data/sam/codes/2021_09_01_VarChAMP/6.downstream_analysis_snakemake/outputs/batch_profiles/2024_01_23_Batch_7/profiles.parquet\")\n",
    "cc = cc.select(['Metadata_well_position', 'Metadata_Plate', 'Metadata_gene_allele']).collect()\n",
    "cc = cc.group_by(['Metadata_well_position', 'Metadata_Plate', 'Metadata_gene_allele']).agg(pl.count().alias(\"Cell_count\"))\n",
    "cc = cc.with_columns(pl.col(\"Metadata_Plate\").str.slice(11, 22).alias(\"Metadata_Plate\"))\n",
    "\n",
    "cc8 = pl.scan_parquet(\"/dgx1nas1/storage/data/sam/codes/2021_09_01_VarChAMP/6.downstream_analysis_snakemake/outputs/batch_profiles/2024_02_06_Batch_8/profiles.parquet\")\n",
    "cc8 = cc8.select(['Metadata_well_position', 'Metadata_Plate', 'Metadata_gene_allele']).collect()\n",
    "cc8 = cc8.group_by(['Metadata_well_position', 'Metadata_Plate', 'Metadata_gene_allele']).agg(pl.count().alias(\"Cell_count\"))\n",
    "cc8 = cc8.with_columns(pl.col(\"Metadata_Plate\").str.slice(11, 22).alias(\"Metadata_Plate\"))\n",
    "\n",
    "cc = pl.concat([cc, cc8])"
   ]
  },
  {
   "cell_type": "code",
   "execution_count": 23,
   "metadata": {},
   "outputs": [],
   "source": [
    "# Add extra annotations\n",
    "cc_reg = cc.with_columns(\n",
    "    pl.col(\"Metadata_Plate\").str.replace(\"_.*\", \"\").alias(\"Platemap\"),\n",
    "    pl.col(\"Metadata_gene_allele\").str.replace(\"_.*\", \"\").alias(\"Gene_symbol\"),\n",
    "    pl.when(pl.col(\"Metadata_gene_allele\").str.contains(\"_\")).then(pl.lit(\"VAR\")).otherwise(pl.lit(\"WT\")).alias(\"Type\")\n",
    ")\n",
    "variants = cc_reg.filter(pl.col(\"Type\") == \"VAR\").select(\"Metadata_gene_allele\").to_series().unique().to_list()"
   ]
  },
  {
   "cell_type": "code",
   "execution_count": 41,
   "metadata": {},
   "outputs": [
    {
     "name": "stderr",
     "output_type": "stream",
     "text": [
      "  5%|▌         | 52/1029 [00:06<01:21, 11.95it/s]"
     ]
    },
    {
     "name": "stdout",
     "output_type": "stream",
     "text": [
      "An error occurred with variant TMEM43_Ala366Thr: negative dimensions are not allowed\n"
     ]
    },
    {
     "name": "stderr",
     "output_type": "stream",
     "text": [
      "  9%|▉         | 93/1029 [00:09<01:11, 13.18it/s]"
     ]
    },
    {
     "name": "stdout",
     "output_type": "stream",
     "text": [
      "An error occurred with variant TMEM43_Arg28Trp: negative dimensions are not allowed\n"
     ]
    },
    {
     "name": "stderr",
     "output_type": "stream",
     "text": [
      " 15%|█▌        | 157/1029 [00:16<01:16, 11.45it/s]"
     ]
    },
    {
     "name": "stdout",
     "output_type": "stream",
     "text": [
      "An error occurred with variant TMEM43_Tyr371His: negative dimensions are not allowed\n"
     ]
    },
    {
     "name": "stderr",
     "output_type": "stream",
     "text": [
      " 19%|█▉        | 193/1029 [00:19<01:07, 12.47it/s]"
     ]
    },
    {
     "name": "stdout",
     "output_type": "stream",
     "text": [
      "An error occurred with variant TMEM43_Arg312Trp: negative dimensions are not allowed\n"
     ]
    },
    {
     "name": "stderr",
     "output_type": "stream",
     "text": [
      " 26%|██▌       | 266/1029 [00:26<01:09, 10.94it/s]"
     ]
    },
    {
     "name": "stdout",
     "output_type": "stream",
     "text": [
      "An error occurred with variant TMEM43_Glu85Lys: negative dimensions are not allowed\n"
     ]
    },
    {
     "name": "stderr",
     "output_type": "stream",
     "text": [
      " 29%|██▉       | 303/1029 [00:30<00:59, 12.19it/s]"
     ]
    },
    {
     "name": "stdout",
     "output_type": "stream",
     "text": [
      "An error occurred with variant TMEM43_Arg299Thr: negative dimensions are not allowed\n"
     ]
    },
    {
     "name": "stderr",
     "output_type": "stream",
     "text": [
      " 33%|███▎      | 338/1029 [00:35<01:04, 10.67it/s]"
     ]
    },
    {
     "name": "stdout",
     "output_type": "stream",
     "text": [
      "An error occurred with variant TMEM43_Thr277Ser: negative dimensions are not allowed\n"
     ]
    },
    {
     "name": "stderr",
     "output_type": "stream",
     "text": [
      " 84%|████████▍ | 862/1029 [01:27<00:14, 11.30it/s]"
     ]
    },
    {
     "name": "stdout",
     "output_type": "stream",
     "text": [
      "An error occurred with variant TMEM43_Arg220Cys: negative dimensions are not allowed\n"
     ]
    },
    {
     "name": "stderr",
     "output_type": "stream",
     "text": [
      " 85%|████████▌ | 877/1029 [01:28<00:11, 13.28it/s]"
     ]
    },
    {
     "name": "stdout",
     "output_type": "stream",
     "text": [
      "An error occurred with variant BLMH_Ile443Val: negative dimensions are not allowed\n"
     ]
    },
    {
     "name": "stderr",
     "output_type": "stream",
     "text": [
      "100%|██████████| 1029/1029 [01:43<00:00,  9.98it/s]\n"
     ]
    }
   ],
   "source": [
    "cc_res = []\n",
    "for variant in tqdm(variants):\n",
    "    # get data for variant\n",
    "    gene_symb = variant.split(\"_\")[0]\n",
    "    \n",
    "    # ensure that only wt-var pairs on same plate are included\n",
    "    var_cc = cc_reg.filter(pl.col(\"Metadata_gene_allele\") == variant)\n",
    "    var_plates = var_cc.select(\"Metadata_Plate\").to_series().unique().to_list()\n",
    "    wt_cc = cc_reg.filter((pl.col(\"Metadata_gene_allele\") == gene_symb) &\n",
    "                          (pl.col(\"Metadata_Plate\").is_in(var_plates)))\n",
    "    wt_plates = wt_cc.select(\"Metadata_Plate\").to_series().unique().to_list()\n",
    "    var_cc = var_cc.filter(pl.col(\"Metadata_Plate\").is_in(wt_plates))\n",
    "    \n",
    "    var_cc = pl.concat([var_cc, wt_cc])\n",
    "    \n",
    "    try:\n",
    "        # perform stat test\n",
    "        model = smf.mixedlm(\"Cell_count ~ Type\", data=var_cc.to_pandas(), groups=var_cc.to_pandas()[\"Metadata_Plate\"])\n",
    "        result = model.fit()\n",
    "        \n",
    "        # format results\n",
    "        summary_df = pl.DataFrame(result.summary().tables[1][1:2])\n",
    "        summary_df = summary_df.with_columns(\n",
    "            [pl.col(column).cast(pl.Float64).alias(column) for column in summary_df.columns]\n",
    "        )\n",
    "        summary_df = summary_df.with_columns(\n",
    "            pl.lit(variant).alias(\"Variant\"),\n",
    "            pl.lit(gene_symb).alias(\"Gene\")\n",
    "        )\n",
    "        \n",
    "        # append results\n",
    "        cc_res.append(summary_df)\n",
    "    except Exception as e:\n",
    "        print(f\"An error occurred with variant {variant}: {str(e)}\")\n",
    "\n",
    "cc_res = pl.concat(cc_res)"
   ]
  },
  {
   "cell_type": "code",
   "execution_count": 42,
   "metadata": {},
   "outputs": [],
   "source": [
    "def calculate_p_value(z):\n",
    "    # Calculate the two-tailed p-value\n",
    "    return 2 * (1 - stats.norm.cdf(abs(z)))\n",
    "\n",
    "cc_res = cc_res.with_columns(\n",
    "    pl.col(\"z\").apply(calculate_p_value).alias(\"p_value\")\n",
    ")\n",
    "\n",
    "# muliple hypothesis corrections\n",
    "p_values = cc_res[\"p_value\"].to_numpy()\n",
    "_, pvals_corrected, _, _ = multipletests(p_values, alpha=0.05, method='fdr_bh')\n",
    "cc_res = cc_res.with_columns(pl.Series(\"fdr\", pvals_corrected))"
   ]
  },
  {
   "cell_type": "code",
   "execution_count": 43,
   "metadata": {},
   "outputs": [
    {
     "name": "stdout",
     "output_type": "stream",
     "text": [
      "(1020, 10)\n",
      "(495, 10)\n"
     ]
    }
   ],
   "source": [
    "print(cc_res.shape)\n",
    "print(cc_res.filter(pl.col(\"fdr\") < 0.05).shape)"
   ]
  },
  {
   "cell_type": "code",
   "execution_count": 33,
   "metadata": {},
   "outputs": [
    {
     "data": {
      "text/html": [
       "<div><style>\n",
       ".dataframe > thead > tr,\n",
       ".dataframe > tbody > tr {\n",
       "  text-align: right;\n",
       "  white-space: pre-wrap;\n",
       "}\n",
       "</style>\n",
       "<small>shape: (16, 7)</small><table border=\"1\" class=\"dataframe\"><thead><tr><th>Metadata_well_position</th><th>Metadata_Plate</th><th>Metadata_gene_allele</th><th>Cell_count</th><th>Platemap</th><th>Gene_symbol</th><th>Type</th></tr><tr><td>str</td><td>str</td><td>str</td><td>u32</td><td>str</td><td>str</td><td>str</td></tr></thead><tbody><tr><td>&quot;E09&quot;</td><td>&quot;B7A1R1_P2T1&quot;</td><td>&quot;GALE&quot;</td><td>159</td><td>&quot;B7A1R1&quot;</td><td>&quot;GALE&quot;</td><td>&quot;WT&quot;</td></tr><tr><td>&quot;E09&quot;</td><td>&quot;B7A1R1_P2T4&quot;</td><td>&quot;GALE&quot;</td><td>82</td><td>&quot;B7A1R1&quot;</td><td>&quot;GALE&quot;</td><td>&quot;WT&quot;</td></tr><tr><td>&quot;E09&quot;</td><td>&quot;B7A1R1_P2T2&quot;</td><td>&quot;GALE&quot;</td><td>210</td><td>&quot;B7A1R1&quot;</td><td>&quot;GALE&quot;</td><td>&quot;WT&quot;</td></tr><tr><td>&quot;E09&quot;</td><td>&quot;B7A1R1_P2T3&quot;</td><td>&quot;GALE&quot;</td><td>166</td><td>&quot;B7A1R1&quot;</td><td>&quot;GALE&quot;</td><td>&quot;WT&quot;</td></tr><tr><td>&quot;E09&quot;</td><td>&quot;B8A1R2_P2T4&quot;</td><td>&quot;GALE&quot;</td><td>85</td><td>&quot;B8A1R2&quot;</td><td>&quot;GALE&quot;</td><td>&quot;WT&quot;</td></tr><tr><td>&quot;E09&quot;</td><td>&quot;B8A1R2_P2T1&quot;</td><td>&quot;GALE&quot;</td><td>126</td><td>&quot;B8A1R2&quot;</td><td>&quot;GALE&quot;</td><td>&quot;WT&quot;</td></tr><tr><td>&quot;E09&quot;</td><td>&quot;B8A1R2_P2T2&quot;</td><td>&quot;GALE&quot;</td><td>118</td><td>&quot;B8A1R2&quot;</td><td>&quot;GALE&quot;</td><td>&quot;WT&quot;</td></tr><tr><td>&quot;E09&quot;</td><td>&quot;B8A1R2_P2T3&quot;</td><td>&quot;GALE&quot;</td><td>115</td><td>&quot;B8A1R2&quot;</td><td>&quot;GALE&quot;</td><td>&quot;WT&quot;</td></tr><tr><td>&quot;K09&quot;</td><td>&quot;B7A1R1_P2T4&quot;</td><td>&quot;GALE_Asp103Gly…</td><td>44</td><td>&quot;B7A1R1&quot;</td><td>&quot;GALE&quot;</td><td>&quot;VAR&quot;</td></tr><tr><td>&quot;K09&quot;</td><td>&quot;B7A1R1_P2T2&quot;</td><td>&quot;GALE_Asp103Gly…</td><td>137</td><td>&quot;B7A1R1&quot;</td><td>&quot;GALE&quot;</td><td>&quot;VAR&quot;</td></tr><tr><td>&quot;K09&quot;</td><td>&quot;B7A1R1_P2T3&quot;</td><td>&quot;GALE_Asp103Gly…</td><td>127</td><td>&quot;B7A1R1&quot;</td><td>&quot;GALE&quot;</td><td>&quot;VAR&quot;</td></tr><tr><td>&quot;K09&quot;</td><td>&quot;B7A1R1_P2T1&quot;</td><td>&quot;GALE_Asp103Gly…</td><td>109</td><td>&quot;B7A1R1&quot;</td><td>&quot;GALE&quot;</td><td>&quot;VAR&quot;</td></tr><tr><td>&quot;K09&quot;</td><td>&quot;B8A1R2_P2T1&quot;</td><td>&quot;GALE_Asp103Gly…</td><td>80</td><td>&quot;B8A1R2&quot;</td><td>&quot;GALE&quot;</td><td>&quot;VAR&quot;</td></tr><tr><td>&quot;K09&quot;</td><td>&quot;B8A1R2_P2T3&quot;</td><td>&quot;GALE_Asp103Gly…</td><td>60</td><td>&quot;B8A1R2&quot;</td><td>&quot;GALE&quot;</td><td>&quot;VAR&quot;</td></tr><tr><td>&quot;K09&quot;</td><td>&quot;B8A1R2_P2T4&quot;</td><td>&quot;GALE_Asp103Gly…</td><td>30</td><td>&quot;B8A1R2&quot;</td><td>&quot;GALE&quot;</td><td>&quot;VAR&quot;</td></tr><tr><td>&quot;K09&quot;</td><td>&quot;B8A1R2_P2T2&quot;</td><td>&quot;GALE_Asp103Gly…</td><td>68</td><td>&quot;B8A1R2&quot;</td><td>&quot;GALE&quot;</td><td>&quot;VAR&quot;</td></tr></tbody></table></div>"
      ],
      "text/plain": [
       "shape: (16, 7)\n",
       "┌──────────────────┬────────────────┬─────────────────┬────────────┬──────────┬─────────────┬──────┐\n",
       "│ Metadata_well_po ┆ Metadata_Plate ┆ Metadata_gene_a ┆ Cell_count ┆ Platemap ┆ Gene_symbol ┆ Type │\n",
       "│ sition           ┆ ---            ┆ llele           ┆ ---        ┆ ---      ┆ ---         ┆ ---  │\n",
       "│ ---              ┆ str            ┆ ---             ┆ u32        ┆ str      ┆ str         ┆ str  │\n",
       "│ str              ┆                ┆ str             ┆            ┆          ┆             ┆      │\n",
       "╞══════════════════╪════════════════╪═════════════════╪════════════╪══════════╪═════════════╪══════╡\n",
       "│ E09              ┆ B7A1R1_P2T1    ┆ GALE            ┆ 159        ┆ B7A1R1   ┆ GALE        ┆ WT   │\n",
       "│ E09              ┆ B7A1R1_P2T4    ┆ GALE            ┆ 82         ┆ B7A1R1   ┆ GALE        ┆ WT   │\n",
       "│ E09              ┆ B7A1R1_P2T2    ┆ GALE            ┆ 210        ┆ B7A1R1   ┆ GALE        ┆ WT   │\n",
       "│ E09              ┆ B7A1R1_P2T3    ┆ GALE            ┆ 166        ┆ B7A1R1   ┆ GALE        ┆ WT   │\n",
       "│ E09              ┆ B8A1R2_P2T4    ┆ GALE            ┆ 85         ┆ B8A1R2   ┆ GALE        ┆ WT   │\n",
       "│ …                ┆ …              ┆ …               ┆ …          ┆ …        ┆ …           ┆ …    │\n",
       "│ K09              ┆ B7A1R1_P2T1    ┆ GALE_Asp103Gly  ┆ 109        ┆ B7A1R1   ┆ GALE        ┆ VAR  │\n",
       "│ K09              ┆ B8A1R2_P2T1    ┆ GALE_Asp103Gly  ┆ 80         ┆ B8A1R2   ┆ GALE        ┆ VAR  │\n",
       "│ K09              ┆ B8A1R2_P2T3    ┆ GALE_Asp103Gly  ┆ 60         ┆ B8A1R2   ┆ GALE        ┆ VAR  │\n",
       "│ K09              ┆ B8A1R2_P2T4    ┆ GALE_Asp103Gly  ┆ 30         ┆ B8A1R2   ┆ GALE        ┆ VAR  │\n",
       "│ K09              ┆ B8A1R2_P2T2    ┆ GALE_Asp103Gly  ┆ 68         ┆ B8A1R2   ┆ GALE        ┆ VAR  │\n",
       "└──────────────────┴────────────────┴─────────────────┴────────────┴──────────┴─────────────┴──────┘"
      ]
     },
     "execution_count": 33,
     "metadata": {},
     "output_type": "execute_result"
    }
   ],
   "source": [
    "cc_reg.filter(pl.col(\"Metadata_gene_allele\").is_in([\"GALE_Asp103Gly\", \"GALE\"])).sort([\"Metadata_gene_allele\", \"Platemap\"])"
   ]
  }
 ],
 "metadata": {
  "kernelspec": {
   "display_name": "varchamp",
   "language": "python",
   "name": "python3"
  },
  "language_info": {
   "codemirror_mode": {
    "name": "ipython",
    "version": 3
   },
   "file_extension": ".py",
   "mimetype": "text/x-python",
   "name": "python",
   "nbconvert_exporter": "python",
   "pygments_lexer": "ipython3",
   "version": "3.8.5"
  }
 },
 "nbformat": 4,
 "nbformat_minor": 2
}
