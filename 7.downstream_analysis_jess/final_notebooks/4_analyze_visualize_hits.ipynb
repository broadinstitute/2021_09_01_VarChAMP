{
 "cells": [
  {
   "cell_type": "markdown",
   "metadata": {},
   "source": [
    "# Analyze and visualize hits\n",
    "\n",
    "Here we compute the number of hits per ClinVar category, and also plot selected sites from allele pairs of interest."
   ]
  },
  {
   "cell_type": "code",
   "execution_count": 1,
   "metadata": {},
   "outputs": [
    {
     "data": {
      "text/plain": [
       "<module 'displayImages' from '/dgx1nas1/storage/data/jess/repos/2021_09_01_VarChAMP/7.downstream_analysis_jess/final_notebooks/displayImages.py'>"
      ]
     },
     "execution_count": 1,
     "metadata": {},
     "output_type": "execute_result"
    }
   ],
   "source": [
    "# imports\n",
    "import collections\n",
    "from importlib import reload\n",
    "\n",
    "import displayImages as di\n",
    "import polars as pl\n",
    "from tqdm import tqdm\n",
    "\n",
    "reload(di)"
   ]
  },
  {
   "cell_type": "code",
   "execution_count": 2,
   "metadata": {},
   "outputs": [],
   "source": [
    "# Read in data and set parameters\n",
    "metrics_dir = \"/dgx1nas1/storage/data/jess/varchamp/sc_data/classification_results/B7B8_1percent_updatedmeta\"\n",
    "prof_dir = \"/dgx1nas1/storage/data/jess/repos/2021_09_01_VarChAMP/6.downstream_analysis_snakemake/outputs/batch_profiles\"\n",
    "img_dir = \"/dgx1nas1/storage/data/jess/varchamp/images\"\n",
    "metrics_df = pl.read_csv(f\"{metrics_dir}/metrics.csv\")\n",
    "metrics_wtvar = pl.read_csv(f\"{metrics_dir}/metrics_summary.csv\")\n",
    "thresh = 3  # previously 10\n",
    "min_class_num = 2"
   ]
  },
  {
   "cell_type": "markdown",
   "metadata": {},
   "source": [
    "## Annotate with Clinvar labels"
   ]
  },
  {
   "cell_type": "code",
   "execution_count": 3,
   "metadata": {},
   "outputs": [
    {
     "name": "stdout",
     "output_type": "stream",
     "text": [
      "(942, 11)\n",
      "(962, 12)\n"
     ]
    }
   ],
   "source": [
    "# split into morphology and localization, and count the proportion of classifiers that surpass the 0.99 NULL F1 score\n",
    "morph_wtvar = metrics_wtvar.filter(pl.col(\"Classifier_type\") == \"morphology\")\n",
    "local_wtvar = metrics_wtvar.filter(pl.col(\"Classifier_type\") == \"localization\")\n",
    "print(local_wtvar.shape)\n",
    "\n",
    "# Analyze wrt clinvar annotations\n",
    "clinvar = pl.read_csv(\"../data/allele_collection_clinical_significance.csv\")\n",
    "clinvar = clinvar.with_columns(\n",
    "    pl.concat_str([\"symbol\", \"aa_change\"], separator=\"_\").alias(\"allele_0\")\n",
    ")\n",
    "\n",
    "local_wtvar = local_wtvar.join(\n",
    "    clinvar.select([\"allele_0\", \"clinvar_cs\"]), on=\"allele_0\"\n",
    ")\n",
    "print(local_wtvar.shape)"
   ]
  },
  {
   "cell_type": "code",
   "execution_count": 4,
   "metadata": {},
   "outputs": [],
   "source": [
    "# Alleles must be mislocalized in both batches\n",
    "local_wtvar = local_wtvar.with_columns(\n",
    "    pl.when(pl.col(\"AUROC_mean\") > pl.col(\"AUROC_thresh\"))\n",
    "    .then(1)\n",
    "    .otherwise(0)\n",
    "    .alias(\"Mislocalized\")\n",
    ").unique()\n",
    "\n",
    "misloc_binary = (\n",
    "    local_wtvar.pivot(\n",
    "        index=[\"allele_0\", \"Allele_set\", \"clinvar_cs\"],\n",
    "        columns=\"Batch\",\n",
    "        values=\"Mislocalized\",\n",
    "    )\n",
    "    .with_columns(\n",
    "        ((pl.col(\"batch7\") == 1) & (pl.col(\"batch8\") == 1)).alias(\n",
    "            \"Mislocalized_both_batches\"\n",
    "        )\n",
    "    )\n",
    "    .rename({\"batch7\": \"mislocalized_batch7\", \"batch8\": \"mislocalized_batch8\"})\n",
    ")\n",
    "\n",
    "misloc_auroc = local_wtvar.pivot(\n",
    "    index=[\"allele_0\"],\n",
    "    columns=\"Batch\",\n",
    "    values=\"AUROC_mean\",\n",
    ").rename({\"batch7\": \"auroc_batch7\", \"batch8\": \"auroc_batch8\"})\n",
    "\n",
    "misloc_summary = misloc_binary.join(misloc_auroc, on=\"allele_0\")"
   ]
  },
  {
   "cell_type": "code",
   "execution_count": 5,
   "metadata": {},
   "outputs": [],
   "source": [
    "misloc_summary.write_csv(\"../results/summary_auroc.csv\")"
   ]
  },
  {
   "cell_type": "code",
   "execution_count": 6,
   "metadata": {},
   "outputs": [
    {
     "name": "stdout",
     "output_type": "stream",
     "text": [
      "Benign\n"
     ]
    },
    {
     "ename": "ColumnNotFoundError",
     "evalue": "unable to find column \"Mislocalized_both_batches\"; valid columns: [\"Classifier_type\", \"allele_0\", \"Allele_set\", \"Batch\", \"AUROC_thresh\", \"AUROC_mean\", \"trainsize_0_mean\", \"testsize_0_mean\", \"trainsize_1_mean\", \"testsize_1_mean\", \"Training_imbalance_mean\", \"clinvar_cs\", \"Mislocalized\"]\n\nError originated just after this operation:\nDF [\"Classifier_type\", \"allele_0\", \"Allele_set\", \"Batch\"]; PROJECT */13 COLUMNS; SELECTION: \"None\"",
     "output_type": "error",
     "traceback": [
      "\u001b[0;31m---------------------------------------------------------------------------\u001b[0m",
      "\u001b[0;31mColumnNotFoundError\u001b[0m                       Traceback (most recent call last)",
      "Cell \u001b[0;32mIn[6], line 8\u001b[0m\n\u001b[1;32m      4\u001b[0m path_local \u001b[38;5;241m=\u001b[39m local_wtvar\u001b[38;5;241m.\u001b[39mfilter(pl\u001b[38;5;241m.\u001b[39mcol(\u001b[38;5;124m\"\u001b[39m\u001b[38;5;124mclinvar_cs\u001b[39m\u001b[38;5;124m\"\u001b[39m) \u001b[38;5;241m==\u001b[39m \u001b[38;5;124m\"\u001b[39m\u001b[38;5;124mPathogenic\u001b[39m\u001b[38;5;124m\"\u001b[39m)\n\u001b[1;32m      6\u001b[0m \u001b[38;5;28mprint\u001b[39m(\u001b[38;5;124m\"\u001b[39m\u001b[38;5;124mBenign\u001b[39m\u001b[38;5;124m\"\u001b[39m)\n\u001b[1;32m      7\u001b[0m \u001b[38;5;28mprint\u001b[39m(\n\u001b[0;32m----> 8\u001b[0m     \u001b[43mbenign_local\u001b[49m\u001b[38;5;241;43m.\u001b[39;49m\u001b[43mfilter\u001b[49m\u001b[43m(\u001b[49m\u001b[43mpl\u001b[49m\u001b[38;5;241;43m.\u001b[39;49m\u001b[43mcol\u001b[49m\u001b[43m(\u001b[49m\u001b[38;5;124;43m\"\u001b[39;49m\u001b[38;5;124;43mMislocalized_both_batches\u001b[39;49m\u001b[38;5;124;43m\"\u001b[39;49m\u001b[43m)\u001b[49m\u001b[43m)\u001b[49m\u001b[38;5;241m.\u001b[39mshape[\u001b[38;5;241m0\u001b[39m]\n\u001b[1;32m      9\u001b[0m     \u001b[38;5;241m/\u001b[39m benign_local\u001b[38;5;241m.\u001b[39mshape[\u001b[38;5;241m0\u001b[39m]\n\u001b[1;32m     10\u001b[0m )\n\u001b[1;32m     11\u001b[0m \u001b[38;5;28mprint\u001b[39m(\n\u001b[1;32m     12\u001b[0m     \u001b[38;5;124m\"\u001b[39m\u001b[38;5;124m# misloc: \u001b[39m\u001b[38;5;124m\"\u001b[39m\n\u001b[1;32m     13\u001b[0m     \u001b[38;5;241m+\u001b[39m \u001b[38;5;28mstr\u001b[39m(benign_local\u001b[38;5;241m.\u001b[39mfilter(pl\u001b[38;5;241m.\u001b[39mcol(\u001b[38;5;124m\"\u001b[39m\u001b[38;5;124mMislocalized_both_batches\u001b[39m\u001b[38;5;124m\"\u001b[39m))\u001b[38;5;241m.\u001b[39mshape[\u001b[38;5;241m0\u001b[39m])\n\u001b[1;32m     14\u001b[0m )\n\u001b[1;32m     15\u001b[0m \u001b[38;5;28mprint\u001b[39m(\u001b[38;5;124m\"\u001b[39m\u001b[38;5;124mtotal #: \u001b[39m\u001b[38;5;124m\"\u001b[39m \u001b[38;5;241m+\u001b[39m \u001b[38;5;28mstr\u001b[39m(benign_local\u001b[38;5;241m.\u001b[39mshape[\u001b[38;5;241m0\u001b[39m]))\n",
      "File \u001b[0;32m/dgx1nas1/storage/data/jess/miniforge3/envs/varchamp/lib/python3.8/site-packages/polars/dataframe/frame.py:4284\u001b[0m, in \u001b[0;36mDataFrame.filter\u001b[0;34m(self, *predicates, **constraints)\u001b[0m\n\u001b[1;32m   4186\u001b[0m \u001b[38;5;28;01mdef\u001b[39;00m \u001b[38;5;21mfilter\u001b[39m(\n\u001b[1;32m   4187\u001b[0m     \u001b[38;5;28mself\u001b[39m,\n\u001b[1;32m   4188\u001b[0m     \u001b[38;5;241m*\u001b[39mpredicates: (\n\u001b[0;32m   (...)\u001b[0m\n\u001b[1;32m   4195\u001b[0m     \u001b[38;5;241m*\u001b[39m\u001b[38;5;241m*\u001b[39mconstraints: Any,\n\u001b[1;32m   4196\u001b[0m ) \u001b[38;5;241m-\u001b[39m\u001b[38;5;241m>\u001b[39m DataFrame:\n\u001b[1;32m   4197\u001b[0m \u001b[38;5;250m    \u001b[39m\u001b[38;5;124;03m\"\"\"\u001b[39;00m\n\u001b[1;32m   4198\u001b[0m \u001b[38;5;124;03m    Filter the rows in the DataFrame based on one or more predicate expressions.\u001b[39;00m\n\u001b[1;32m   4199\u001b[0m \n\u001b[0;32m   (...)\u001b[0m\n\u001b[1;32m   4282\u001b[0m \u001b[38;5;124;03m    └─────┴─────┴─────┘\u001b[39;00m\n\u001b[1;32m   4283\u001b[0m \u001b[38;5;124;03m    \"\"\"\u001b[39;00m\n\u001b[0;32m-> 4284\u001b[0m     \u001b[38;5;28;01mreturn\u001b[39;00m \u001b[38;5;28;43mself\u001b[39;49m\u001b[38;5;241;43m.\u001b[39;49m\u001b[43mlazy\u001b[49m\u001b[43m(\u001b[49m\u001b[43m)\u001b[49m\u001b[38;5;241;43m.\u001b[39;49m\u001b[43mfilter\u001b[49m\u001b[43m(\u001b[49m\u001b[38;5;241;43m*\u001b[39;49m\u001b[43mpredicates\u001b[49m\u001b[43m,\u001b[49m\u001b[43m \u001b[49m\u001b[38;5;241;43m*\u001b[39;49m\u001b[38;5;241;43m*\u001b[39;49m\u001b[43mconstraints\u001b[49m\u001b[43m)\u001b[49m\u001b[38;5;241;43m.\u001b[39;49m\u001b[43mcollect\u001b[49m\u001b[43m(\u001b[49m\u001b[43m_eager\u001b[49m\u001b[38;5;241;43m=\u001b[39;49m\u001b[38;5;28;43;01mTrue\u001b[39;49;00m\u001b[43m)\u001b[49m\n",
      "File \u001b[0;32m/dgx1nas1/storage/data/jess/miniforge3/envs/varchamp/lib/python3.8/site-packages/polars/lazyframe/frame.py:1940\u001b[0m, in \u001b[0;36mLazyFrame.collect\u001b[0;34m(self, type_coercion, predicate_pushdown, projection_pushdown, simplify_expression, slice_pushdown, comm_subplan_elim, comm_subexpr_elim, no_optimization, streaming, background, _eager)\u001b[0m\n\u001b[1;32m   1937\u001b[0m \u001b[38;5;28;01mif\u001b[39;00m background:\n\u001b[1;32m   1938\u001b[0m     \u001b[38;5;28;01mreturn\u001b[39;00m InProcessQuery(ldf\u001b[38;5;241m.\u001b[39mcollect_concurrently())\n\u001b[0;32m-> 1940\u001b[0m \u001b[38;5;28;01mreturn\u001b[39;00m wrap_df(\u001b[43mldf\u001b[49m\u001b[38;5;241;43m.\u001b[39;49m\u001b[43mcollect\u001b[49m\u001b[43m(\u001b[49m\u001b[43m)\u001b[49m)\n",
      "\u001b[0;31mColumnNotFoundError\u001b[0m: unable to find column \"Mislocalized_both_batches\"; valid columns: [\"Classifier_type\", \"allele_0\", \"Allele_set\", \"Batch\", \"AUROC_thresh\", \"AUROC_mean\", \"trainsize_0_mean\", \"testsize_0_mean\", \"trainsize_1_mean\", \"testsize_1_mean\", \"Training_imbalance_mean\", \"clinvar_cs\", \"Mislocalized\"]\n\nError originated just after this operation:\nDF [\"Classifier_type\", \"allele_0\", \"Allele_set\", \"Batch\"]; PROJECT */13 COLUMNS; SELECTION: \"None\""
     ]
    }
   ],
   "source": [
    "# count %  mislocalized by label type\n",
    "benign_local = local_wtvar.filter(pl.col(\"clinvar_cs\") == \"Benign\")\n",
    "vus_local = local_wtvar.filter(pl.col(\"clinvar_cs\") == \"VUS\")\n",
    "path_local = local_wtvar.filter(pl.col(\"clinvar_cs\") == \"Pathogenic\")\n",
    "\n",
    "print(\"Benign\")\n",
    "print(\n",
    "    benign_local.filter(pl.col(\"Mislocalized_both_batches\")).shape[0]\n",
    "    / benign_local.shape[0]\n",
    ")\n",
    "print(\n",
    "    \"# misloc: \"\n",
    "    + str(benign_local.filter(pl.col(\"Mislocalized_both_batches\")).shape[0])\n",
    ")\n",
    "print(\"total #: \" + str(benign_local.shape[0]))\n",
    "print(\"\\n\")\n",
    "\n",
    "print(\"VUS\")\n",
    "print(\n",
    "    vus_local.filter(pl.col(\"Mislocalized_both_batches\")).shape[0] / vus_local.shape[0]\n",
    ")\n",
    "print(\n",
    "    \"# misloc: \" + str(vus_local.filter(pl.col(\"Mislocalized_both_batches\")).shape[0])\n",
    ")\n",
    "print(\"total #: \" + str(vus_local.shape[0]))\n",
    "print(\"\\n\")\n",
    "\n",
    "print(\"Pathogenic\")\n",
    "print(\n",
    "    path_local.filter(pl.col(\"Mislocalized_both_batches\")).shape[0]\n",
    "    / path_local.shape[0]\n",
    ")\n",
    "print(\n",
    "    \"# misloc: \" + str(path_local.filter(pl.col(\"Mislocalized_both_batches\")).shape[0])\n",
    ")\n",
    "print(\"total #: \" + str(path_local.shape[0]))"
   ]
  },
  {
   "cell_type": "code",
   "execution_count": null,
   "metadata": {},
   "outputs": [],
   "source": [
    "# Define different lists of alleles of interest\n",
    "\n",
    "misloc_benign = (\n",
    "    benign_local.filter(pl.col(\"Mislocalized_both_batches\"))\n",
    "    .select(\"allele_0\")\n",
    "    .to_series()\n",
    "    .to_list()\n",
    ")\n",
    "\n",
    "misloc_path = (\n",
    "    path_local.filter(pl.col(\"Mislocalized_both_batches\"))\n",
    "    .select(\"allele_0\")\n",
    "    .to_series()\n",
    "    .to_list()\n",
    ")[0:5]\n",
    "\n",
    "misloc_all = (\n",
    "    local_wtvar.filter(pl.col(\"Mislocalized_both_batches\"))\n",
    "    .select(\"allele_0\")\n",
    "    .to_series()\n",
    "    .to_list()\n",
    ")"
   ]
  },
  {
   "cell_type": "code",
   "execution_count": 11,
   "metadata": {},
   "outputs": [],
   "source": [
    "# Make barplot\n",
    "import matplotlib.pyplot as plt\n",
    "\n",
    "values = {\n",
    "    \"Pathogenic\": 34,\n",
    "    \"VUS\": 28,\n",
    "    \"Conflicting\": 23,\n",
    "    \"Benign\": 16,\n",
    "    \"No annotation\": 24,\n",
    "}\n",
    "\n",
    "# Set the font to Arial\n",
    "plt.rcParams[\"font.family\"] = \"Arial\"\n",
    "\n",
    "# Create the barplot\n",
    "plt.figure(figsize=(8, 6))\n",
    "bars = plt.bar(values.keys(), values.values(), color=\"skyblue\")\n",
    "\n",
    "# Add labels and title\n",
    "plt.xlabel(\"Categories\", fontsize=12)\n",
    "plt.ylabel(\"Hit rate (%)\", fontsize=12)\n",
    "\n",
    "# Calculate the total for percentage\n",
    "total = sum(values.values())\n",
    "\n",
    "# Add the percentage labels on top of each bar\n",
    "for bar in bars:\n",
    "    height = bar.get_height()\n",
    "    plt.text(\n",
    "        bar.get_x() + bar.get_width() / 2,\n",
    "        height,\n",
    "        f\"{int(height)}%\",\n",
    "        ha=\"center\",\n",
    "        va=\"bottom\",\n",
    "        fontsize=12,\n",
    "    )\n",
    "\n",
    "# Show the plot\n",
    "plt.tight_layout()\n",
    "plt.savefig(\n",
    "    \"/dgx1nas1/storage/data/jess/repos/2021_09_01_VarChAMP/7.downstream_analysis_jess/results/variant_hit_rate.pdf\",\n",
    "    format=\"pdf\",\n",
    ")\n",
    "plt.close()"
   ]
  },
  {
   "cell_type": "markdown",
   "metadata": {},
   "source": [
    "## Plot images"
   ]
  },
  {
   "cell_type": "code",
   "execution_count": 4,
   "metadata": {},
   "outputs": [],
   "source": [
    "# Get metadata required for plotting (for batch 7 only here)\n",
    "pm_df = pl.scan_parquet(\n",
    "    f\"{prof_dir}/2024_01_23_Batch_7/profiles_tcdropped_filtered_var_mad_outlier_featselect_filtcells_metacorr.parquet\"\n",
    ")\n",
    "meta_cols = [\n",
    "    \"Metadata_Well\",\n",
    "    \"Metadata_Plate\",\n",
    "    \"Metadata_gene_allele\",\n",
    "    \"Metadata_node_type\",\n",
    "]\n",
    "pm_df = pm_df.select(meta_cols).unique().collect()\n",
    "\n",
    "pm_df = pm_df.rename({\n",
    "    \"Metadata_Well\": \"Well\",\n",
    "    \"Metadata_Plate\": \"Plate\",\n",
    "    \"Metadata_gene_allele\": \"Allele\",\n",
    "    \"Metadata_node_type\": \"control_type\",\n",
    "}).with_columns(\n",
    "    pl.lit(\"05\").alias(\"Site\"),\n",
    "    pl.col(\"Plate\").str.slice(11, 6).alias(\"Batch\"),\n",
    "    pl.col(\"Plate\").str.slice(11, 9).alias(\"Plate\"),\n",
    ")\n",
    "\n",
    "rep_df = pl.DataFrame({\n",
    "    \"Batch\": [\n",
    "        \"B7A1R1\",\n",
    "        \"B7A1R1\",\n",
    "        \"B7A1R1\",\n",
    "        \"B7A1R1\",\n",
    "        \"B7A2R1\",\n",
    "        \"B7A2R1\",\n",
    "        \"B7A2R1\",\n",
    "        \"B7A2R1\",\n",
    "        \"B8A1R2\",\n",
    "        \"B8A1R2\",\n",
    "        \"B8A1R2\",\n",
    "        \"B8A1R2\",\n",
    "        \"B8A2R2\",\n",
    "        \"B8A2R2\",\n",
    "        \"B8A2R2\",\n",
    "        \"B8A2R2\",\n",
    "    ],\n",
    "    \"Replicate\": [\n",
    "        \"T1\",\n",
    "        \"T2\",\n",
    "        \"T3\",\n",
    "        \"T4\",\n",
    "        \"T1\",\n",
    "        \"T2\",\n",
    "        \"T3\",\n",
    "        \"T4\",\n",
    "        \"T1\",\n",
    "        \"T2\",\n",
    "        \"T3\",\n",
    "        \"T4\",\n",
    "        \"T1\",\n",
    "        \"T2\",\n",
    "        \"T3\",\n",
    "        \"T4\",\n",
    "    ],\n",
    "})\n",
    "\n",
    "pm_df = pm_df.join(rep_df, on=\"Batch\")"
   ]
  },
  {
   "cell_type": "code",
   "execution_count": 5,
   "metadata": {},
   "outputs": [],
   "source": [
    "# Define allele list and plot dir\n",
    "alleles = [\"AIPL1_Arg302Leu\", \"AIPL1_Thr114Ile\", \"AIPL1_Met79Thr\"]\n",
    "plot_dir = f\"{img_dir}/B7B8_poster\""
   ]
  },
  {
   "cell_type": "code",
   "execution_count": 6,
   "metadata": {},
   "outputs": [
    {
     "name": "stderr",
     "output_type": "stream",
     "text": [
      "100%|██████████| 3/3 [00:43<00:00, 14.41s/it]\n"
     ]
    }
   ],
   "source": [
    "# plot the 5th site from all images, organized by classifier\n",
    "counter = 0\n",
    "for var_allele in tqdm(alleles):\n",
    "    padded_counter = str(counter).zfill(3)\n",
    "\n",
    "    gfp_nm = f\"{str(padded_counter)}_{var_allele}_GFP.png\"\n",
    "\n",
    "    wt_allele = var_allele.split(\"_\")[0]\n",
    "    plot_img = (\n",
    "        pm_df.filter(\n",
    "            ((pl.col(\"Allele\") == var_allele) | (pl.col(\"Allele\") == wt_allele))\n",
    "        )\n",
    "        .unique()\n",
    "        .sort([\"Allele\", \"Batch\", \"Replicate\"])\n",
    "    )\n",
    "\n",
    "    # filter to keep only images where there is a single WT-VAR pair in each plate\n",
    "    plates_img = (\n",
    "        plot_img.select([\"Plate\", \"control_type\"])\n",
    "        .unique()\n",
    "        .select(\"Plate\")\n",
    "        .to_series()\n",
    "        .to_list()\n",
    "    )\n",
    "    plates_img = collections.Counter(plates_img)\n",
    "    plates_img = (\n",
    "        pl.DataFrame(plates_img)\n",
    "        .melt()\n",
    "        .filter(pl.col(\"value\") == 2)\n",
    "        .select(\"variable\")\n",
    "        .to_series()\n",
    "        .to_list()\n",
    "    )\n",
    "    plot_img = plot_img.filter(pl.col(\"Plate\").is_in(plates_img))\n",
    "\n",
    "    di.plotMultiImages(\n",
    "        plot_img, \"GFP\", 0.99, 4, display=False, plotpath=f\"{plot_dir}/{gfp_nm}\"\n",
    "    )\n",
    "    counter = counter + 1"
   ]
  },
  {
   "cell_type": "markdown",
   "metadata": {},
   "source": [
    "## Flag hits likely due to abundance difference\n",
    "\n"
   ]
  },
  {
   "cell_type": "code",
   "execution_count": null,
   "metadata": {},
   "outputs": [],
   "source": []
  }
 ],
 "metadata": {
  "kernelspec": {
   "display_name": "varchamp",
   "language": "python",
   "name": "python3"
  },
  "language_info": {
   "codemirror_mode": {
    "name": "ipython",
    "version": 3
   },
   "file_extension": ".py",
   "mimetype": "text/x-python",
   "name": "python",
   "nbconvert_exporter": "python",
   "pygments_lexer": "ipython3",
   "version": "3.8.5"
  }
 },
 "nbformat": 4,
 "nbformat_minor": 2
}
