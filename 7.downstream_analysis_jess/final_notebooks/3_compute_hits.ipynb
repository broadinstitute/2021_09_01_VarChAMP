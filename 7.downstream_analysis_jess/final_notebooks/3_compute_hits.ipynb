{
 "cells": [
  {
   "cell_type": "markdown",
   "metadata": {},
   "source": [
    "# Compute hits\n",
    "\n",
    "Apply filters based on class imbalance and minimum number of classifiers per allele pair, compute the mean AUROC per batch, and determine whether each batch passed its respective threshold."
   ]
  },
  {
   "cell_type": "code",
   "execution_count": 1,
   "metadata": {},
   "outputs": [],
   "source": [
    "# imports\n",
    "import polars as pl"
   ]
  },
  {
   "cell_type": "code",
   "execution_count": 11,
   "metadata": {},
   "outputs": [],
   "source": [
    "# Read in data and set parameters\n",
    "metrics_dir = \"/dgx1nas1/storage/data/jess/varchamp/sc_data/classification_results/B7B8_1percent_updatedmeta\"\n",
    "metrics_df = pl.read_csv(f\"{metrics_dir}/metrics.csv\")\n",
    "thresh = 3  # previously 10\n",
    "min_class_num = 2"
   ]
  },
  {
   "cell_type": "code",
   "execution_count": 12,
   "metadata": {},
   "outputs": [
    {
     "name": "stdout",
     "output_type": "stream",
     "text": [
      "shape: (4, 3)\n",
      "┌─────────────────┬────────┬──────────────┐\n",
      "│ Classifier_type ┆ Batch  ┆ AUROC_thresh │\n",
      "│ ---             ┆ ---    ┆ ---          │\n",
      "│ str             ┆ str    ┆ f64          │\n",
      "╞═════════════════╪════════╪══════════════╡\n",
      "│ morphology      ┆ batch8 ┆ 0.991648     │\n",
      "│ localization    ┆ batch8 ┆ 0.819394     │\n",
      "│ morphology      ┆ batch7 ┆ 0.971686     │\n",
      "│ localization    ┆ batch7 ┆ 0.719226     │\n",
      "└─────────────────┴────────┴──────────────┘\n"
     ]
    }
   ],
   "source": [
    "# Add useful columns (type, batch)\n",
    "metrics_df = metrics_df.with_columns(\n",
    "    pl.col(\"Plate\").str.slice(13, 7).str.replace(\"R.*_\", \"\").alias(\"Allele_set\")\n",
    ")\n",
    "\n",
    "metrics_df = metrics_df.with_columns(\n",
    "    pl.when(pl.col(\"Full_Classifier_ID\").str.contains(\"true\"))\n",
    "    .then(pl.lit(\"localization\"))\n",
    "    .otherwise(pl.lit(\"morphology\"))\n",
    "    .alias(\"Classifier_type\"),\n",
    "    pl.when(pl.col(\"Full_Classifier_ID\").str.contains(\"B7A\"))\n",
    "    .then(pl.lit(\"batch7\"))\n",
    "    .otherwise(pl.lit(\"batch8\"))\n",
    "    .alias(\"Batch\"),\n",
    ")\n",
    "\n",
    "# Filter based on class imbalance\n",
    "metrics_ctrl = (\n",
    "    metrics_df.filter(\n",
    "        (pl.col(\"Training_imbalance\") < thresh) & (pl.col(\"Metadata_Control\"))\n",
    "    )\n",
    "    .select([\"Classifier_type\", \"Batch\", \"AUROC\"])\n",
    "    .group_by([\"Classifier_type\", \"Batch\"])\n",
    "    .quantile(0.99)\n",
    ").rename({\"AUROC\": \"AUROC_thresh\"})\n",
    "\n",
    "print(metrics_ctrl)"
   ]
  },
  {
   "cell_type": "code",
   "execution_count": 13,
   "metadata": {},
   "outputs": [],
   "source": [
    "# Merge with metrics_df and decide whether it passed the threshold\n",
    "metrics_df = metrics_df.join(metrics_ctrl, on=[\"Classifier_type\", \"Batch\"])"
   ]
  },
  {
   "cell_type": "code",
   "execution_count": 14,
   "metadata": {},
   "outputs": [
    {
     "name": "stdout",
     "output_type": "stream",
     "text": [
      "(573, 5)\n",
      "573\n",
      "113\n",
      "(471, 5)\n",
      "471\n",
      "102\n"
     ]
    }
   ],
   "source": [
    "# Must be at least min_class_num classifiers per batch\n",
    "# Number of classifiers is the same for localization and morph, so just use morph\n",
    "classifier_count = (\n",
    "    metrics_df.filter(\n",
    "        (pl.col(\"Training_imbalance\") < thresh)\n",
    "        & (~pl.col(\"Metadata_Control\"))\n",
    "        & (pl.col(\"Classifier_type\") == \"localization\")\n",
    "    )\n",
    "    .group_by([\"allele_0\", \"Allele_set\", \"Batch\", \"allele_1\"])\n",
    "    .agg([pl.len().alias(\"Number_classifiers\")])\n",
    ")\n",
    "classifier_count = classifier_count.pivot(\n",
    "    index=[\"allele_0\", \"allele_1\", \"Allele_set\"],\n",
    "    columns=\"Batch\",\n",
    "    values=\"Number_classifiers\",\n",
    ")\n",
    "\n",
    "print(classifier_count.shape)\n",
    "print(len(classifier_count.select(\"allele_0\").to_series().unique().to_list()))\n",
    "print(len(classifier_count.select(\"allele_1\").to_series().unique().to_list()))\n",
    "\n",
    "classifier_count = classifier_count.filter(\n",
    "    (pl.col(\"batch7\") >= min_class_num) & (pl.col(\"batch8\") >= min_class_num)\n",
    ")\n",
    "\n",
    "print(classifier_count.shape)\n",
    "print(len(classifier_count.select(\"allele_0\").to_series().unique().to_list()))\n",
    "print(len(classifier_count.select(\"allele_1\").to_series().unique().to_list()))\n",
    "\n",
    "# filter based on this\n",
    "keep_alleles = classifier_count.select(\"allele_0\").to_series().unique().to_list()\n",
    "metrics_df = metrics_df.filter(\n",
    "    ~((~pl.col(\"Metadata_Control\")) & ~pl.col(\"allele_0\").is_in(keep_alleles))\n",
    ")"
   ]
  },
  {
   "cell_type": "code",
   "execution_count": 15,
   "metadata": {},
   "outputs": [
    {
     "name": "stderr",
     "output_type": "stream",
     "text": [
      "/tmp/ipykernel_12994/4071021549.py:24: DeprecationWarning: `suffix` is deprecated. It has been moved to `name.suffix`.\n"
     ]
    }
   ],
   "source": [
    "# Filter by imbalance and calculate mean AUROC for each batch\n",
    "metrics_wtvar = (\n",
    "    (\n",
    "        metrics_df.filter(\n",
    "            (pl.col(\"Training_imbalance\") < thresh) & (~pl.col(\"Metadata_Control\"))\n",
    "        )\n",
    "    )\n",
    "    .select([\n",
    "        \"AUROC\",\n",
    "        \"Classifier_type\",\n",
    "        \"Batch\",\n",
    "        \"AUROC_thresh\",\n",
    "        \"allele_0\",\n",
    "        \"trainsize_0\",\n",
    "        \"testsize_0\",\n",
    "        \"trainsize_1\",\n",
    "        \"testsize_1\",\n",
    "        \"Allele_set\",\n",
    "        \"Training_imbalance\",\n",
    "    ])\n",
    "    .group_by([\"Classifier_type\", \"allele_0\", \"Allele_set\", \"Batch\", \"AUROC_thresh\"])\n",
    "    .agg([\n",
    "        pl.all()\n",
    "        .exclude([\"Classifier_type\", \"allele_0\", \"Allele_set\", \"Batch\", \"AUROC_thresh\"])\n",
    "        .mean()\n",
    "        .suffix(\"_mean\")\n",
    "    ])\n",
    ")\n",
    "\n",
    "# Write out results\n",
    "metrics_wtvar.write_csv(f\"{metrics_dir}/metrics_summary.csv\")"
   ]
  }
 ],
 "metadata": {
  "kernelspec": {
   "display_name": "varchamp",
   "language": "python",
   "name": "python3"
  },
  "language_info": {
   "codemirror_mode": {
    "name": "ipython",
    "version": 3
   },
   "file_extension": ".py",
   "mimetype": "text/x-python",
   "name": "python",
   "nbconvert_exporter": "python",
   "pygments_lexer": "ipython3",
   "version": "3.8.5"
  }
 },
 "nbformat": 4,
 "nbformat_minor": 2
}
