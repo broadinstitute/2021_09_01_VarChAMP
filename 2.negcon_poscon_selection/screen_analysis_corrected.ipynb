{
 "cells": [
  {
   "cell_type": "markdown",
   "id": "8e24e5e9",
   "metadata": {},
   "source": [
    "- For our positive controls, ideally we’d like to establish a reference ORF paired with two mutants, one showing strong shifts and one subtle in the protein channel as well as detectable changes in morphology. In this case, profiling would especially be helpful. For the NegCons, we must slim down our selection to only 4 ORFs – I’m not sure if you guys have preference for selection there.\n",
    "\n",
    "\n",
    "- Regarding the PosCons, we’d like to select either IMPDH1 or ALK as our reference allele, \n",
    "  plus two of their respective variants (one which shows strong morphological shifts/localization patterns,\n",
    "  and one that’s subtle). For NegCons, we can only select 4 to include in our screen – \n",
    "  I’ll leave it up to you guys which 4 best suit your needs.\n",
    "\n",
    "\n",
    "- You can disregard all wells that are not labelled either PosCon or NegCon for this screen. \n",
    "  And please keep in mind each quadrant received a varying dose of viral supernatant. \n",
    "  The amount I settled on for our final pipeline is 6 uL, so perhaps you want to pay attention to the wells which     received a vTitre = 6.\n"
   ]
  },
  {
   "cell_type": "code",
   "execution_count": 1,
   "id": "5e3aed2d",
   "metadata": {},
   "outputs": [],
   "source": [
    "%load_ext autoreload\n",
    "%autoreload 2\n",
    "%matplotlib notebook\n",
    "import pandas as pd\n",
    "import numpy as np\n",
    "import seaborn as sns\n",
    "sns.set_style(\"whitegrid\")\n",
    "import sklearn.preprocessing as sp\n",
    "import pickle\n",
    "# from imblearn.over_sampling import SMOTE  \n",
    "from sklearn.metrics import accuracy_score,confusion_matrix\n",
    "import matplotlib.pyplot as plt\n",
    "import os\n",
    "\n",
    "from scipy.stats import pearsonr\n",
    "import scipy\n",
    "from matplotlib import rcParams\n",
    "from sklearn.cluster import KMeans\n",
    "import sys\n",
    "sys.path.insert(0, '/home/ubuntu/workspace_SingleCell/SingleCell_Morphological_Analysis/') \n",
    "from singlecell.preprocess import handle_nans, extract_cpfeature_names\n",
    "\n",
    "import sys\n",
    "sys.path.insert(0, '/home/ubuntu/workspace_rare/2017_09_27_RareDiseases_Taipale/') \n",
    "from utils import preprocessing,meanProfileAnalysis,visualization,impactscore\n",
    "from datetime import date\n",
    "today = date.today()"
   ]
  },
  {
   "cell_type": "markdown",
   "id": "a353a56c",
   "metadata": {},
   "source": [
    "#### Read cleaned metadata from \"metadata/reprocessed\" folder"
   ]
  },
  {
   "cell_type": "code",
   "execution_count": null,
   "id": "8e8d1f12",
   "metadata": {},
   "outputs": [],
   "source": [
    "rootDir='/home/ubuntu/bucket/projects/2017_10_19_Profiling_rare_ORFs/workspace/'\n",
    "batch='2022_08_22_Batch_1'\n",
    "annot_df=pd.read_csv(rootDir+'/metadata/reprocessed/'+batch+'.csv')\n",
    "annot_df.head()\n",
    "\n",
    "annot_df.head()"
   ]
  },
  {
   "cell_type": "code",
   "execution_count": null,
   "id": "045418e7",
   "metadata": {},
   "outputs": [],
   "source": [
    "annot_df['control_type'].unique()"
   ]
  },
  {
   "cell_type": "code",
   "execution_count": null,
   "id": "881a15cc",
   "metadata": {},
   "outputs": [],
   "source": []
  },
  {
   "cell_type": "code",
   "execution_count": null,
   "id": "36a86b5f",
   "metadata": {},
   "outputs": [],
   "source": []
  },
  {
   "cell_type": "markdown",
   "id": "6831837b",
   "metadata": {
    "heading_collapsed": true
   },
   "source": [
    "#### Save raw int features for thrsh calculation and transfection detection"
   ]
  },
  {
   "cell_type": "code",
   "execution_count": null,
   "id": "194cbf70",
   "metadata": {
    "hidden": true
   },
   "outputs": [],
   "source": [
    "rootPath='/home/ubuntu/bucket/projects/2017_10_19_Profiling_rare_ORFs/workspace'\n",
    "########################## \n",
    "channels_used=['GFP']\n",
    "\n",
    "listOfBatchPlates=annot_df.Metadata_batch_Plate.unique().tolist();\n",
    "for bp in listOfBatchPlates:\n",
    "    _=preprocessing.saveRawIntensityFeatures(bp,annot_df,rootPath,channels_used);"
   ]
  },
  {
   "cell_type": "code",
   "execution_count": null,
   "id": "23f48dbe",
   "metadata": {
    "hidden": true
   },
   "outputs": [],
   "source": []
  },
  {
   "cell_type": "code",
   "execution_count": null,
   "id": "6f2aa812",
   "metadata": {
    "hidden": true
   },
   "outputs": [],
   "source": [
    "listOfPlates=annot_df.Metadata_Plate.unique().tolist();\n",
    "\n",
    "scaler0 = preprocessing.MinMaxScaler(feature_range=(0,1))\n",
    "\n",
    "df_inten = pd.DataFrame();\n",
    "df_inten_scaled_perPlate = pd.DataFrame();\n",
    "# listOfPlates=['20X_CP_CP127_1']\n",
    "for p in listOfPlates: #[0:1]:\n",
    "    fileNameToSave=rootDir+'/backend/plate_raw_intensity_features/'+batch+'/df_intensityFeatures_'+p;\n",
    "    intFeaturesDf=pd.read_pickle(fileNameToSave, compression='infer');    \n",
    "    df_inten=df_inten.append(intFeaturesDf, ignore_index=True)  \n",
    "    df_inten_scaled0 = intFeaturesDf.copy()\n",
    "    intFeatures=intFeaturesDf.columns[intFeaturesDf.columns.str.contains(\"GFP\")].tolist()\n",
    "    for ifi in intFeatures:\n",
    "        qpi=intFeaturesDf[ifi].quantile(0.999)\n",
    "        intFeaturesDf[ifi]=intFeaturesDf[ifi].clip(0, qpi)\n",
    "        \n",
    "        \n",
    "    dataScaled=scaler0.fit_transform(intFeaturesDf.loc[:,intFeatures])\n",
    "    df_inten_scaled0[intFeatures]=dataScaled\n",
    "    df_inten_scaled_perPlate =df_inten_scaled_perPlate.append(df_inten_scaled0, ignore_index=True)  \n",
    "print(df_inten.shape)   \n",
    "\n",
    "df_inten=pd.merge(df_inten, annot_df, how='inner', on=['Metadata_Plate','Metadata_Well']);\n",
    "df_inten_scaled_perPlate=pd.merge(df_inten_scaled_perPlate, annot_df, how='inner', on=['Metadata_Plate','Metadata_Well']);\n",
    "\n",
    "intFeatures=['Cells_Intensity_UpperQuartileIntensity_GFP',\n",
    " 'Cells_Intensity_MeanIntensity_GFP']\n",
    "# Cells_Intensity_UpperQuartileIntensity_DsRed\n",
    "# Cells_Intensity_UpperQuartileIntensity_Protein\n",
    "log_scale_enabled=True\n",
    "binss=1000\n",
    "\n",
    "rcParams['patch.force_edgecolor'] = False\n",
    "# df_inten=df_inten_scaled_perPlate.copy()\n",
    "perc95all_m1a_x=[]\n",
    "perc95all_m1b_x=[]\n",
    "fig, axes = plt.subplots(2,len(intFeatures), figsize=(9,6),sharex=True)\n",
    "\n",
    "\n",
    "\n",
    "for i in range(len(intFeatures)):\n",
    "    #### Method 1 -a\n",
    "    allDataTandU=df_inten[intFeatures[i]].values\n",
    "#     sns.distplot(allDataTandU,kde=False,bins=2000,label=\"T+U\",ax=axes[0,i],color=\"navy\")\n",
    "    sns.histplot(data=df_inten,x=intFeatures[i], bins=binss,stat=\"density\",\\\n",
    "             element=\"step\",common_norm=False,legend=True,log_scale=log_scale_enabled,ax=axes[0,i])\n",
    "\n",
    "    perc95=np.percentile(allDataTandU, 99);axes[0,i].axvline(x=perc95,linestyle=':',color=\"r\")\n",
    "    perc95all_m1a_x.append(perc95);\n",
    "    axes[0,i].set_title('_'.join(intFeatures[i].split('_')[2:]));\n",
    "#     axes[0,0].set_ylabel('Method 1- a');\n",
    "    axes[0,0].set_ylabel('All single cells');\n",
    "\n",
    "    #### Method 1 -b\n",
    "#     data2plotTrans=df_inten[~df_inten['Variant'].isin(untrans_vars)][intFeatures[i]].values\n",
    "    data2plotUtrans=df_inten[df_inten['control']][intFeatures[i]].values\n",
    "\n",
    "    sns.histplot(data=df_inten,x=intFeatures[i], bins=binss,stat=\"density\",\\\n",
    "             hue=\"control\",element=\"step\",common_norm=False,legend=True,log_scale=log_scale_enabled,ax=axes[1,i])\n",
    "\n",
    "    print(np.percentile(data2plotUtrans, 40))\n",
    "    perc95=np.percentile(data2plotUtrans, 99);axes[1,i].axvline(x=perc95,linestyle=':',color=\"r\");\n",
    "\n",
    "    perc95all_m1b_x.append(perc95)\n",
    "plt.tight_layout()\n",
    "# axes[1,0].legend();"
   ]
  },
  {
   "cell_type": "markdown",
   "id": "86547b85",
   "metadata": {
    "heading_collapsed": true
   },
   "source": [
    "#### 4. Generate replicate level profiles based on fixed cell mean intensity thrsh\n",
    "- For this batch all the cells are assumed to be transfected and therefore transfection_params_dict={} "
   ]
  },
  {
   "cell_type": "code",
   "execution_count": null,
   "id": "55063f68",
   "metadata": {
    "hidden": true
   },
   "outputs": [],
   "source": [
    "transfection_params_dict={} \n",
    "\n",
    "feature_scaling_params_dict={'feature_scaler': 'Robust'}\n",
    "all_params={}\n",
    "all_params['enrichement_profiles_params']={}\n",
    "all_params['transfection_params_dict']=transfection_params_dict\n",
    "all_params['feature_scaling_params_dict']=feature_scaling_params_dict\n",
    "all_params['save_single_cells']=True\n",
    "\n",
    "\n",
    "listOfBatchPlates=annot_df.Metadata_batch_Plate.unique().tolist();\n",
    "\n",
    "for bp in listOfBatchPlates:\n",
    "    preprocessing.generate_population_profiles(bp,annot_df,rootDir,all_params);"
   ]
  },
  {
   "cell_type": "code",
   "execution_count": null,
   "id": "61ff5b84",
   "metadata": {
    "hidden": true
   },
   "outputs": [],
   "source": []
  },
  {
   "cell_type": "markdown",
   "id": "5bdc95ed",
   "metadata": {},
   "source": [
    "#### 5. Load and preprocess replicate level profiles"
   ]
  },
  {
   "cell_type": "code",
   "execution_count": null,
   "id": "1ce927ea",
   "metadata": {},
   "outputs": [],
   "source": [
    "# sc_per_plate_scaling # 'sc_scaled_per_plate','raw'\n",
    "# zscored_profiles # 'untransfected','untransfected_stringent'\n",
    "feature_scaling_params_dict={'sc_per_plate_scaling':'sc_scaled_per_plate',\\\n",
    "                             'zscored_profiles':[False,'untransfected'],\\\n",
    "                             'post_scale_all_profiles':[False,'Standard']} \n",
    "\n",
    "dirs_params_dict={'rootDir':rootDir,\\\n",
    "                  'profiles_folder_in_workspace': 'population_profiles'}\n",
    "read_pop_params={}\n",
    "read_pop_params['dirs_params_dict']=dirs_params_dict\n",
    "read_pop_params['feature_scaling_params_dict']=feature_scaling_params_dict\n",
    "read_pop_params['protein_channel_suffix']='GFP'\n",
    "\n",
    "df_scaled_annot,cpFeats_A,cpFeats_P,cpFeats_NP=\\\n",
    "meanProfileAnalysis.read_merge_preprocess_meanProfiles(annot_df,read_pop_params);\n",
    "\n",
    "# dfTransSummary = df_scaled_annot[['Metadata_batch_Plate','Metadata_Sample_Unique','n_transf','n_untransf','transf_Ratio']]\n",
    "dfTransSummary=df_scaled_annot[annot_df.columns.tolist()+['n_transf','n_untransf','transf_Ratio']];\n"
   ]
  },
  {
   "cell_type": "code",
   "execution_count": null,
   "id": "a1c61730",
   "metadata": {},
   "outputs": [],
   "source": []
  },
  {
   "cell_type": "markdown",
   "id": "12a937ca",
   "metadata": {},
   "source": [
    "#### 6. Calculate replicate correlation of profiles\n",
    "Save curve plots and values to results/replicate_corr_curves"
   ]
  },
  {
   "cell_type": "code",
   "execution_count": null,
   "id": "a6c63e64",
   "metadata": {},
   "outputs": [],
   "source": [
    "from singlecell.process.replicate_correlation import replicate_null_corr_coefs\n",
    "from singlecell.process import normalize_funcs\n",
    "\n",
    "df_rep_level=df_scaled_annot[df_scaled_annot['transfection_status']==1].reset_index(drop=True)\n",
    "\n",
    "df_rep_level_scaled=normalize_funcs.standardize_per_catX(df_rep_level,'Metadata_batch_Plate',cpFeats_P+cpFeats_NP).copy();\n",
    "# df_rep_level_scaled = normalize_funcs.standardize_df_columns(df_rep_level,cpFeats_P+cpFeats_NP,'Standard')\n",
    "\n",
    "nOfReps=df_rep_level_scaled.groupby(['Metadata_Sample_Unique']).size().reset_index()\n",
    "pairWithReplicates=nOfReps.loc[nOfReps[0]!=1,:].reset_index()['Metadata_Sample_Unique']#.groupby([0]).size()\n",
    "\n",
    "scal_status=df_rep_level_scaled['normalization'].unique()[0]\n",
    "# zscor_status=df_rep_level_scaled['zscored'].unique().astype(str)[0]\n",
    "zscor_status='nan'\n",
    "# if not np.isnan(df_rep_level_scaled['zscored'].unique()[0])\n",
    "\n",
    "saveDir=rootDir+'/results/replicate_corr_curves/'+batch\n",
    "# \n",
    "os.makedirs(saveDir, exist_ok=True)\n",
    "\n",
    "pertColName='Metadata_Sample_Unique'\n",
    "repCor4impactList=[]\n",
    "for f,ch,t in zip([cpFeats_P,cpFeats_NP],['p','np'],['Protein_Channel','NonProtein_Channels']):\n",
    "    print(ch,t)\n",
    "    t2=t+', '+scal_status+', zscored: '+zscor_status\n",
    "    fh_2save,repCorrDf=replicate_null_corr_coefs(df_rep_level_scaled,pertColName,f,1,title=t2,hist_bins=10)\n",
    "    fh_2save.savefig(saveDir+'/'+ch+'_'+scal_status+'_'+zscor_status+'.png')\n",
    "    repCorrDf=repCorrDf.add_suffix('_'+ch)\n",
    "    repCor4impactList.append(repCorrDf);\n",
    "    \n",
    "repCorr_df_avg=pd.concat(repCor4impactList,axis=1).reset_index().rename(columns={'index':pertColName})\n",
    "repCorr_df_avg.to_csv(saveDir+'/'+scal_status+'_'+zscor_status+'.csv',index=False)\n",
    "df_rep_level_scaled=pd.merge(df_rep_level_scaled,repCorr_df_avg,how='left',on=pertColName)"
   ]
  },
  {
   "cell_type": "markdown",
   "id": "65a12462",
   "metadata": {},
   "source": [
    "#### 7. Calculate WT-MT impact scores and save\n",
    "- Approach 1: average replicate level profiles and score treatment level profiles\n",
    "- Approach 2: calculate impact scores per plate"
   ]
  },
  {
   "cell_type": "code",
   "execution_count": null,
   "id": "ec5d1a88",
   "metadata": {},
   "outputs": [],
   "source": [
    "# Approach 1\n",
    "\n",
    "df_rep_level_scaled['Gene-dose']=df_rep_level_scaled['Gene']+'-'+df_rep_level_scaled['vTitre'].astype(str)\n",
    "wt_mt_cols=['Gene-dose','Metadata_Sample_Unique']\n",
    "impact_scores_trt_profs = impactscore.impact_score_wt_mt(df_rep_level_scaled,repCorr_df_avg,[cpFeats_P,cpFeats_NP],\\\n",
    "                                                        wt_mt_cols);\n",
    "   \n",
    "saveDir=rootDir+'/results/Impact-Scores/Method-MeanProfiles/'+batch\n",
    "os.makedirs(saveDir, exist_ok=True)\n",
    "impact_scores_trt_profs.to_csv(saveDir+'/impact_scores_trt_'+today.strftime(\"%Y%m%d\")+'.csv',index=False)"
   ]
  },
  {
   "cell_type": "code",
   "execution_count": null,
   "id": "f8705055",
   "metadata": {},
   "outputs": [],
   "source": [
    "# print(impact_scores_trt_profs.to_markdown())"
   ]
  },
  {
   "cell_type": "code",
   "execution_count": null,
   "id": "ddc68a00",
   "metadata": {},
   "outputs": [],
   "source": [
    "control_type='negcon'\n",
    "neg_con_unq=annot_df.loc[(annot_df['control_type']==control_type) &(annot_df['vTitre']==6),\\\n",
    "                         'Metadata_Sample_Unique'].tolist()\n",
    "control_type='poscon'\n",
    "pos_con_unq=annot_df.loc[(annot_df['control_type']==control_type) &(annot_df['vTitre']==6),\\\n",
    "                         'Metadata_Sample_Unique'].tolist()"
   ]
  },
  {
   "cell_type": "code",
   "execution_count": null,
   "id": "90efcf5d",
   "metadata": {},
   "outputs": [],
   "source": [
    "print(impact_scores_trt_profs.to_markdown())"
   ]
  },
  {
   "cell_type": "code",
   "execution_count": null,
   "id": "8988d296",
   "metadata": {},
   "outputs": [],
   "source": [
    "annot_df[(annot_df['control_type']=='negcon') &(annot_df['vTitre']==6)].groupby('Metadata_Sample_Unique').size()"
   ]
  },
  {
   "cell_type": "code",
   "execution_count": null,
   "id": "390fe8a5",
   "metadata": {},
   "outputs": [],
   "source": [
    "print(impact_scores_trt_profs[impact_scores_trt_profs['Metadata_Sample_Unique'].isin(pos_con_unq)].to_markdown(index=False))"
   ]
  },
  {
   "cell_type": "code",
   "execution_count": null,
   "id": "e5ad2095",
   "metadata": {},
   "outputs": [],
   "source": [
    "print(repCorr_df_avg[repCorr_df_avg['Metadata_Sample_Unique'].isin(neg_con_unq)].to_markdown(index=False))"
   ]
  },
  {
   "cell_type": "code",
   "execution_count": null,
   "id": "387f0678",
   "metadata": {},
   "outputs": [],
   "source": [
    "# impact_scores_trt_profs\n",
    "# repCorr_df_avg"
   ]
  },
  {
   "cell_type": "code",
   "execution_count": null,
   "id": "a0beccf1",
   "metadata": {},
   "outputs": [],
   "source": [
    "featColNames_ls=[cpFeats_P,cpFeats_NP]\n",
    "impact_scores_df_chs_ls=[]\n",
    "for f,ch in zip(featColNames_ls,['p','np']):\n",
    "    impact_corr_mat=df_rep_level_scaled.groupby([wt_mt_cols[0],wt_mt_cols[1]]).mean()[f].T.corr()\n",
    "\n",
    "    genes_variant_size=impact_corr_mat.groupby(wt_mt_cols[0]).size().reset_index()\n",
    "    genes_with_variant=list(set(genes_variant_size.loc[genes_variant_size[0]>1,wt_mt_cols[0]].tolist()) &\\\n",
    "                            set(df_rep_level_scaled[wt_mt_cols[1]].unique().tolist()))\n",
    "    impact_scores_df_ls=[]\n",
    "    for g in genes_with_variant:\n",
    "        per_gene_df=impact_corr_mat.loc[g][g][g].reset_index()\n",
    "    #     per_gene_df['Gene']=per_gene_df.columns[1]\n",
    "        per_gene_df[wt_mt_cols[0]]=g\n",
    "        per_gene_df['wt_RepCor_'+ch]=repCorr_df_avg.loc[repCorr_df_avg[wt_mt_cols[1]]==g,'RepCor_'+ch].values[0]\n",
    "\n",
    "        impact_scores_df_ls.append(per_gene_df.rename(columns={g:'cc_'+ch}))\n",
    "\n",
    "    impact_scores_df=pd.concat(impact_scores_df_ls,ignore_index=True)\n",
    "    impact_scores_df_chs_ls.append(impact_scores_df)\n",
    "\n",
    "impact_scores_df_chs=pd.concat(impact_scores_df_chs_ls,axis=1).T.drop_duplicates().T"
   ]
  },
  {
   "cell_type": "code",
   "execution_count": null,
   "id": "6aee1676",
   "metadata": {},
   "outputs": [],
   "source": [
    "# impact_corr_mat.loc[g][g]\n",
    "df_rep_level_scaled[['Gene-dose','Metadata_Sample_Unique','vTitre']]"
   ]
  },
  {
   "cell_type": "code",
   "execution_count": null,
   "id": "89e8ff2f",
   "metadata": {},
   "outputs": [],
   "source": [
    "# pd.concat(repCor4impactList,axis=1).reset_index()"
   ]
  },
  {
   "cell_type": "code",
   "execution_count": null,
   "id": "b1cd5488",
   "metadata": {},
   "outputs": [],
   "source": [
    "results_df.Variant.unique()"
   ]
  },
  {
   "cell_type": "code",
   "execution_count": null,
   "id": "0fd6f21f",
   "metadata": {},
   "outputs": [],
   "source": [
    "palette = sns.color_palette(\"Paired\",20)"
   ]
  },
  {
   "cell_type": "code",
   "execution_count": null,
   "id": "2bf8b650",
   "metadata": {},
   "outputs": [],
   "source": [
    "palette[1]"
   ]
  },
  {
   "cell_type": "code",
   "execution_count": null,
   "id": "802df859",
   "metadata": {},
   "outputs": [],
   "source": []
  }
 ],
 "metadata": {
  "kernelspec": {
   "display_name": "rare",
   "language": "python",
   "name": "rare"
  },
  "language_info": {
   "codemirror_mode": {
    "name": "ipython",
    "version": 3
   },
   "file_extension": ".py",
   "mimetype": "text/x-python",
   "name": "python",
   "nbconvert_exporter": "python",
   "pygments_lexer": "ipython3",
   "version": "3.8.12"
  }
 },
 "nbformat": 4,
 "nbformat_minor": 5
}
