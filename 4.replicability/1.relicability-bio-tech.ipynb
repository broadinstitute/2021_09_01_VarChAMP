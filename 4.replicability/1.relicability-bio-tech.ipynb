{
 "cells": [
  {
   "attachments": {},
   "cell_type": "markdown",
   "id": "f772b1a2",
   "metadata": {},
   "source": [
    "##### Yu Han June, 2023\n",
    "This script is evolved from 0.replicability. I seperated protein vs. non protein channel features. 2. biological retrieval is plotted, scatters are color coded with 1. techinical retrieval. Specifics are detailed here: https://github.com/broadinstitute/2021_09_01_VarCHAMP/issues/5#issuecomment-1591387742"
   ]
  },
  {
   "cell_type": "code",
   "execution_count": 1,
   "id": "d999b87e",
   "metadata": {},
   "outputs": [],
   "source": [
    "import pandas as pd\n",
    "import numpy as np\n",
    "from copairs.map import aggregate\n",
    "from copairs.map import run_pipeline\n",
    "import seaborn as sns\n",
    "import matplotlib.pyplot as plt\n"
   ]
  },
  {
   "cell_type": "code",
   "execution_count": 2,
   "id": "2d10829b",
   "metadata": {},
   "outputs": [
    {
     "data": {
      "text/html": [
       "<div>\n",
       "<style scoped>\n",
       "    .dataframe tbody tr th:only-of-type {\n",
       "        vertical-align: middle;\n",
       "    }\n",
       "\n",
       "    .dataframe tbody tr th {\n",
       "        vertical-align: top;\n",
       "    }\n",
       "\n",
       "    .dataframe thead th {\n",
       "        text-align: right;\n",
       "    }\n",
       "</style>\n",
       "<table border=\"1\" class=\"dataframe\">\n",
       "  <thead>\n",
       "    <tr style=\"text-align: right;\">\n",
       "      <th></th>\n",
       "      <th>Metadata_Well</th>\n",
       "      <th>384_ID</th>\n",
       "      <th>entryID</th>\n",
       "      <th>Symbol</th>\n",
       "      <th>entry_plate.x</th>\n",
       "      <th>entry_well.x</th>\n",
       "      <th>entry_numb</th>\n",
       "      <th>dest_plate_96</th>\n",
       "      <th>dest_well_96</th>\n",
       "      <th>dest_numb_96</th>\n",
       "      <th>...</th>\n",
       "      <th>r384</th>\n",
       "      <th>c384</th>\n",
       "      <th>Metadata_Plate</th>\n",
       "      <th>batch</th>\n",
       "      <th>control</th>\n",
       "      <th>Gene</th>\n",
       "      <th>MT</th>\n",
       "      <th>Variant</th>\n",
       "      <th>Metadata_Sample_Unique</th>\n",
       "      <th>Metadata_batch_Plate</th>\n",
       "    </tr>\n",
       "  </thead>\n",
       "  <tbody>\n",
       "    <tr>\n",
       "      <th>0</th>\n",
       "      <td>A01</td>\n",
       "      <td>1_1</td>\n",
       "      <td>DisWTGDEh03_F06</td>\n",
       "      <td>ACSF3</td>\n",
       "      <td>DisWTGDEh03</td>\n",
       "      <td>F06</td>\n",
       "      <td>46.0</td>\n",
       "      <td>FVrry_P01_Q01</td>\n",
       "      <td>A01</td>\n",
       "      <td>1.0</td>\n",
       "      <td>...</td>\n",
       "      <td>1.0</td>\n",
       "      <td>1.0</td>\n",
       "      <td>2022_10_11_PPL9_P1</td>\n",
       "      <td>2023_02_23_Batch_3</td>\n",
       "      <td>False</td>\n",
       "      <td>ACSF3</td>\n",
       "      <td>NaN</td>\n",
       "      <td>ACSF3</td>\n",
       "      <td>ACSF3</td>\n",
       "      <td>2023_02_23_Batch_3-2022_10_11_PPL9_P1</td>\n",
       "    </tr>\n",
       "    <tr>\n",
       "      <th>1</th>\n",
       "      <td>C01</td>\n",
       "      <td>3_1</td>\n",
       "      <td>VUSmut_GDEh03_A02</td>\n",
       "      <td>ACSF3</td>\n",
       "      <td>VUSmut_GDEh03</td>\n",
       "      <td>A02</td>\n",
       "      <td>9.0</td>\n",
       "      <td>FVrry_P01_Q01</td>\n",
       "      <td>B01</td>\n",
       "      <td>2.0</td>\n",
       "      <td>...</td>\n",
       "      <td>3.0</td>\n",
       "      <td>1.0</td>\n",
       "      <td>2022_10_11_PPL9_P1</td>\n",
       "      <td>2023_02_23_Batch_3</td>\n",
       "      <td>False</td>\n",
       "      <td>ACSF3</td>\n",
       "      <td>Ala197Thr</td>\n",
       "      <td>ACSF3 Ala197Thr</td>\n",
       "      <td>ACSF3 Ala197Thr</td>\n",
       "      <td>2023_02_23_Batch_3-2022_10_11_PPL9_P1</td>\n",
       "    </tr>\n",
       "  </tbody>\n",
       "</table>\n",
       "<p>2 rows × 32 columns</p>\n",
       "</div>"
      ],
      "text/plain": [
       "  Metadata_Well 384_ID            entryID Symbol  entry_plate.x entry_well.x   \n",
       "0           A01    1_1    DisWTGDEh03_F06  ACSF3    DisWTGDEh03          F06  \\\n",
       "1           C01    3_1  VUSmut_GDEh03_A02  ACSF3  VUSmut_GDEh03          A02   \n",
       "\n",
       "   entry_numb  dest_plate_96 dest_well_96  dest_numb_96  ...  r384 c384   \n",
       "0        46.0  FVrry_P01_Q01          A01           1.0  ...   1.0  1.0  \\\n",
       "1         9.0  FVrry_P01_Q01          B01           2.0  ...   3.0  1.0   \n",
       "\n",
       "       Metadata_Plate               batch control   Gene         MT   \n",
       "0  2022_10_11_PPL9_P1  2023_02_23_Batch_3   False  ACSF3        NaN  \\\n",
       "1  2022_10_11_PPL9_P1  2023_02_23_Batch_3   False  ACSF3  Ala197Thr   \n",
       "\n",
       "           Variant  Metadata_Sample_Unique   \n",
       "0            ACSF3                   ACSF3  \\\n",
       "1  ACSF3 Ala197Thr         ACSF3 Ala197Thr   \n",
       "\n",
       "                    Metadata_batch_Plate  \n",
       "0  2023_02_23_Batch_3-2022_10_11_PPL9_P1  \n",
       "1  2023_02_23_Batch_3-2022_10_11_PPL9_P1  \n",
       "\n",
       "[2 rows x 32 columns]"
      ]
     },
     "execution_count": 2,
     "metadata": {},
     "output_type": "execute_result"
    }
   ],
   "source": [
    "#read profile\n",
    "df_p1=pd.read_csv('../../varchamp_profiles/2023_02_23_Batch_3/2022_10_11_PPL9_P1/2022_10_11_PPL9_P1_normalized_feature_select_batch.csv.gz')\n",
    "df_p2=pd.read_csv('../../varchamp_profiles/2023_02_23_Batch_3/2022_09_29_PPL9_P2/2022_09_29_PPL9_P2_normalized_feature_select_batch.csv.gz')\n",
    "df_p3=pd.read_csv('../../varchamp_profiles/2023_02_23_Batch_3/2022_09_29_PPL9_P3/2022_09_29_PPL9_P3_normalized_feature_select_batch.csv.gz')\n",
    "#read metadata\n",
    "df_metadata=pd.read_csv('../../varchamp_profiles/2023_02_23_Batch_3.csv')\n",
    "df_metadata.head(2)"
   ]
  },
  {
   "cell_type": "code",
   "execution_count": 3,
   "id": "497e3194",
   "metadata": {},
   "outputs": [
    {
     "data": {
      "text/html": [
       "<div>\n",
       "<style scoped>\n",
       "    .dataframe tbody tr th:only-of-type {\n",
       "        vertical-align: middle;\n",
       "    }\n",
       "\n",
       "    .dataframe tbody tr th {\n",
       "        vertical-align: top;\n",
       "    }\n",
       "\n",
       "    .dataframe thead th {\n",
       "        text-align: right;\n",
       "    }\n",
       "</style>\n",
       "<table border=\"1\" class=\"dataframe\">\n",
       "  <thead>\n",
       "    <tr style=\"text-align: right;\">\n",
       "      <th></th>\n",
       "      <th>Metadata_384_ID</th>\n",
       "      <th>Metadata_entryID</th>\n",
       "      <th>Metadata_Symbol</th>\n",
       "      <th>Metadata_entry_plate.x</th>\n",
       "      <th>Metadata_entry_well.x</th>\n",
       "      <th>Metadata_entry_numb</th>\n",
       "      <th>Metadata_dest_plate_96</th>\n",
       "      <th>Metadata_dest_well_96</th>\n",
       "      <th>Metadata_dest_numb_96</th>\n",
       "      <th>Metadata_orf_id</th>\n",
       "      <th>...</th>\n",
       "      <th>Nuclei_Texture_SumEntropy_DNA_20_01_256</th>\n",
       "      <th>Nuclei_Texture_SumEntropy_DNA_20_02_256</th>\n",
       "      <th>Nuclei_Texture_SumEntropy_DNA_20_03_256</th>\n",
       "      <th>Nuclei_Texture_SumVariance_AGP_20_02_256</th>\n",
       "      <th>Nuclei_Texture_SumVariance_DNA_20_01_256</th>\n",
       "      <th>Nuclei_Texture_SumVariance_DNA_20_02_256</th>\n",
       "      <th>Nuclei_Texture_SumVariance_DNA_20_03_256</th>\n",
       "      <th>Nuclei_Texture_SumVariance_GFP_5_01_256</th>\n",
       "      <th>Nuclei_Texture_SumVariance_Mito_20_03_256</th>\n",
       "      <th>Nuclei_Texture_Variance_AGP_10_00_256</th>\n",
       "    </tr>\n",
       "  </thead>\n",
       "  <tbody>\n",
       "    <tr>\n",
       "      <th>0</th>\n",
       "      <td>1_1</td>\n",
       "      <td>DisWTGDEh03_F06</td>\n",
       "      <td>ACSF3</td>\n",
       "      <td>DisWTGDEh03</td>\n",
       "      <td>F06</td>\n",
       "      <td>46.0</td>\n",
       "      <td>FVrry_P01_Q01</td>\n",
       "      <td>A01</td>\n",
       "      <td>1.0</td>\n",
       "      <td>71337.0</td>\n",
       "      <td>...</td>\n",
       "      <td>-1.6834</td>\n",
       "      <td>-1.84680</td>\n",
       "      <td>-1.56960</td>\n",
       "      <td>-0.43763</td>\n",
       "      <td>-1.05170</td>\n",
       "      <td>-1.06410</td>\n",
       "      <td>-0.99208</td>\n",
       "      <td>-0.59723</td>\n",
       "      <td>0.94397</td>\n",
       "      <td>-0.54754</td>\n",
       "    </tr>\n",
       "    <tr>\n",
       "      <th>1</th>\n",
       "      <td>3_1</td>\n",
       "      <td>VUSmut_GDEh03_A02</td>\n",
       "      <td>ACSF3</td>\n",
       "      <td>VUSmut_GDEh03</td>\n",
       "      <td>A02</td>\n",
       "      <td>9.0</td>\n",
       "      <td>FVrry_P01_Q01</td>\n",
       "      <td>B01</td>\n",
       "      <td>2.0</td>\n",
       "      <td>71337.0</td>\n",
       "      <td>...</td>\n",
       "      <td>0.1716</td>\n",
       "      <td>0.42315</td>\n",
       "      <td>0.38591</td>\n",
       "      <td>-0.64088</td>\n",
       "      <td>0.37808</td>\n",
       "      <td>0.38868</td>\n",
       "      <td>1.27990</td>\n",
       "      <td>-0.65973</td>\n",
       "      <td>4.86160</td>\n",
       "      <td>-0.73677</td>\n",
       "    </tr>\n",
       "  </tbody>\n",
       "</table>\n",
       "<p>2 rows × 716 columns</p>\n",
       "</div>"
      ],
      "text/plain": [
       "  Metadata_384_ID   Metadata_entryID Metadata_Symbol Metadata_entry_plate.x   \n",
       "0             1_1    DisWTGDEh03_F06           ACSF3            DisWTGDEh03  \\\n",
       "1             3_1  VUSmut_GDEh03_A02           ACSF3          VUSmut_GDEh03   \n",
       "\n",
       "  Metadata_entry_well.x  Metadata_entry_numb Metadata_dest_plate_96   \n",
       "0                   F06                 46.0          FVrry_P01_Q01  \\\n",
       "1                   A02                  9.0          FVrry_P01_Q01   \n",
       "\n",
       "  Metadata_dest_well_96  Metadata_dest_numb_96  Metadata_orf_id  ...   \n",
       "0                   A01                    1.0          71337.0  ...  \\\n",
       "1                   B01                    2.0          71337.0  ...   \n",
       "\n",
       "  Nuclei_Texture_SumEntropy_DNA_20_01_256   \n",
       "0                                 -1.6834  \\\n",
       "1                                  0.1716   \n",
       "\n",
       "   Nuclei_Texture_SumEntropy_DNA_20_02_256   \n",
       "0                                 -1.84680  \\\n",
       "1                                  0.42315   \n",
       "\n",
       "  Nuclei_Texture_SumEntropy_DNA_20_03_256   \n",
       "0                                -1.56960  \\\n",
       "1                                 0.38591   \n",
       "\n",
       "  Nuclei_Texture_SumVariance_AGP_20_02_256   \n",
       "0                                 -0.43763  \\\n",
       "1                                 -0.64088   \n",
       "\n",
       "  Nuclei_Texture_SumVariance_DNA_20_01_256   \n",
       "0                                 -1.05170  \\\n",
       "1                                  0.37808   \n",
       "\n",
       "  Nuclei_Texture_SumVariance_DNA_20_02_256   \n",
       "0                                 -1.06410  \\\n",
       "1                                  0.38868   \n",
       "\n",
       "   Nuclei_Texture_SumVariance_DNA_20_03_256   \n",
       "0                                  -0.99208  \\\n",
       "1                                   1.27990   \n",
       "\n",
       "   Nuclei_Texture_SumVariance_GFP_5_01_256   \n",
       "0                                 -0.59723  \\\n",
       "1                                 -0.65973   \n",
       "\n",
       "  Nuclei_Texture_SumVariance_Mito_20_03_256   \n",
       "0                                   0.94397  \\\n",
       "1                                   4.86160   \n",
       "\n",
       "   Nuclei_Texture_Variance_AGP_10_00_256  \n",
       "0                               -0.54754  \n",
       "1                               -0.73677  \n",
       "\n",
       "[2 rows x 716 columns]"
      ]
     },
     "execution_count": 3,
     "metadata": {},
     "output_type": "execute_result"
    }
   ],
   "source": [
    "#concatenate df_p1, df_p2, df_p3\n",
    "df=pd.concat([df_p1,df_p2,df_p3],axis=0)\n",
    "#remove Metadata_Symbol=516-TC in df\n",
    "df_profile=df[df['Metadata_Symbol']!='516 - TC']\n",
    "df_profile.head(2)"
   ]
  },
  {
   "cell_type": "code",
   "execution_count": 4,
   "id": "b66bfb84",
   "metadata": {},
   "outputs": [
    {
     "data": {
      "text/html": [
       "<div>\n",
       "<style scoped>\n",
       "    .dataframe tbody tr th:only-of-type {\n",
       "        vertical-align: middle;\n",
       "    }\n",
       "\n",
       "    .dataframe tbody tr th {\n",
       "        vertical-align: top;\n",
       "    }\n",
       "\n",
       "    .dataframe thead th {\n",
       "        text-align: right;\n",
       "    }\n",
       "</style>\n",
       "<table border=\"1\" class=\"dataframe\">\n",
       "  <thead>\n",
       "    <tr style=\"text-align: right;\">\n",
       "      <th></th>\n",
       "      <th>Metadata_384_ID</th>\n",
       "      <th>Metadata_entryID</th>\n",
       "      <th>Metadata_Symbol</th>\n",
       "      <th>Metadata_entry_plate.x</th>\n",
       "      <th>Metadata_entry_well.x</th>\n",
       "      <th>Metadata_entry_numb</th>\n",
       "      <th>Metadata_dest_plate_96</th>\n",
       "      <th>Metadata_dest_well_96</th>\n",
       "      <th>Metadata_dest_numb_96</th>\n",
       "      <th>Metadata_orf_id</th>\n",
       "      <th>...</th>\n",
       "      <th>Nuclei_Texture_SumVariance_DNA_20_01_256</th>\n",
       "      <th>Nuclei_Texture_SumVariance_DNA_20_02_256</th>\n",
       "      <th>Nuclei_Texture_SumVariance_DNA_20_03_256</th>\n",
       "      <th>Nuclei_Texture_SumVariance_GFP_5_01_256</th>\n",
       "      <th>Nuclei_Texture_SumVariance_Mito_20_03_256</th>\n",
       "      <th>Nuclei_Texture_Variance_AGP_10_00_256</th>\n",
       "      <th>Metadata_Gene</th>\n",
       "      <th>Metadata_MT</th>\n",
       "      <th>Metadata_Sample_Unique</th>\n",
       "      <th>Metadata_type</th>\n",
       "    </tr>\n",
       "  </thead>\n",
       "  <tbody>\n",
       "    <tr>\n",
       "      <th>0</th>\n",
       "      <td>1_1</td>\n",
       "      <td>DisWTGDEh03_F06</td>\n",
       "      <td>ACSF3</td>\n",
       "      <td>DisWTGDEh03</td>\n",
       "      <td>F06</td>\n",
       "      <td>46.0</td>\n",
       "      <td>FVrry_P01_Q01</td>\n",
       "      <td>A01</td>\n",
       "      <td>1.0</td>\n",
       "      <td>71337.0</td>\n",
       "      <td>...</td>\n",
       "      <td>-1.05170</td>\n",
       "      <td>-1.06410</td>\n",
       "      <td>-0.99208</td>\n",
       "      <td>-0.59723</td>\n",
       "      <td>0.94397</td>\n",
       "      <td>-0.54754</td>\n",
       "      <td>ACSF3</td>\n",
       "      <td>NaN</td>\n",
       "      <td>ACSF3</td>\n",
       "      <td>WT</td>\n",
       "    </tr>\n",
       "    <tr>\n",
       "      <th>1</th>\n",
       "      <td>3_1</td>\n",
       "      <td>VUSmut_GDEh03_A02</td>\n",
       "      <td>ACSF3</td>\n",
       "      <td>VUSmut_GDEh03</td>\n",
       "      <td>A02</td>\n",
       "      <td>9.0</td>\n",
       "      <td>FVrry_P01_Q01</td>\n",
       "      <td>B01</td>\n",
       "      <td>2.0</td>\n",
       "      <td>71337.0</td>\n",
       "      <td>...</td>\n",
       "      <td>0.37808</td>\n",
       "      <td>0.38868</td>\n",
       "      <td>1.27990</td>\n",
       "      <td>-0.65973</td>\n",
       "      <td>4.86160</td>\n",
       "      <td>-0.73677</td>\n",
       "      <td>ACSF3</td>\n",
       "      <td>Ala197Thr</td>\n",
       "      <td>ACSF3 Ala197Thr</td>\n",
       "      <td>MT</td>\n",
       "    </tr>\n",
       "  </tbody>\n",
       "</table>\n",
       "<p>2 rows × 720 columns</p>\n",
       "</div>"
      ],
      "text/plain": [
       "  Metadata_384_ID   Metadata_entryID Metadata_Symbol Metadata_entry_plate.x   \n",
       "0             1_1    DisWTGDEh03_F06           ACSF3            DisWTGDEh03  \\\n",
       "1             3_1  VUSmut_GDEh03_A02           ACSF3          VUSmut_GDEh03   \n",
       "\n",
       "  Metadata_entry_well.x  Metadata_entry_numb Metadata_dest_plate_96   \n",
       "0                   F06                 46.0          FVrry_P01_Q01  \\\n",
       "1                   A02                  9.0          FVrry_P01_Q01   \n",
       "\n",
       "  Metadata_dest_well_96  Metadata_dest_numb_96  Metadata_orf_id  ...   \n",
       "0                   A01                    1.0          71337.0  ...  \\\n",
       "1                   B01                    2.0          71337.0  ...   \n",
       "\n",
       "  Nuclei_Texture_SumVariance_DNA_20_01_256   \n",
       "0                                 -1.05170  \\\n",
       "1                                  0.37808   \n",
       "\n",
       "   Nuclei_Texture_SumVariance_DNA_20_02_256   \n",
       "0                                  -1.06410  \\\n",
       "1                                   0.38868   \n",
       "\n",
       "  Nuclei_Texture_SumVariance_DNA_20_03_256   \n",
       "0                                 -0.99208  \\\n",
       "1                                  1.27990   \n",
       "\n",
       "  Nuclei_Texture_SumVariance_GFP_5_01_256   \n",
       "0                                -0.59723  \\\n",
       "1                                -0.65973   \n",
       "\n",
       "  Nuclei_Texture_SumVariance_Mito_20_03_256   \n",
       "0                                   0.94397  \\\n",
       "1                                   4.86160   \n",
       "\n",
       "  Nuclei_Texture_Variance_AGP_10_00_256  Metadata_Gene  Metadata_MT   \n",
       "0                              -0.54754          ACSF3          NaN  \\\n",
       "1                              -0.73677          ACSF3    Ala197Thr   \n",
       "\n",
       "  Metadata_Sample_Unique  Metadata_type  \n",
       "0                  ACSF3             WT  \n",
       "1        ACSF3 Ala197Thr             MT  \n",
       "\n",
       "[2 rows x 720 columns]"
      ]
     },
     "execution_count": 4,
     "metadata": {},
     "output_type": "execute_result"
    }
   ],
   "source": [
    "#merge Gene, MT, and Metadata_Sample_Unique from df_metadata to df_profile \n",
    "#based on columns of Metadata_Well and Metadata_Plate\n",
    "df_merge=df_profile.merge(df_metadata[['Metadata_Well','Metadata_Plate','Gene','MT','Metadata_Sample_Unique']],on=['Metadata_Well','Metadata_Plate'],how='left')\n",
    "#change Gene to Metadata_Gene and MT to Metadata_MT\n",
    "df_merge.rename(columns={'Gene':'Metadata_Gene','MT':'Metadata_MT'},inplace=True)\n",
    "#add a column of Metadata_type where if Metadata_MT is NaN, Metadata_type is 'WT', otherwise 'MT'\n",
    "df_merge['Metadata_type']=np.where(df_merge['Metadata_MT'].isnull(),'WT','MT')\n",
    "df_merge.head(2)"
   ]
  },
  {
   "cell_type": "code",
   "execution_count": 5,
   "id": "97d827e4",
   "metadata": {},
   "outputs": [],
   "source": [
    "#extract meta and feat columns\n",
    "meta_cols = [c for c in df_merge.columns if c.startswith('Meta')]\n",
    "feat_cols = [c for c in df_merge.columns if not c.startswith('Meta')]\n",
    "#select protein channel features, where GFP exists in feat_cols\n",
    "feat_cols_protein=[c for c in feat_cols if 'GFP' in c]\n",
    "#select non-protein channel features, where GFP does not exist in feat_cols\n",
    "feat_cols_non_protein=[c for c in feat_cols if 'GFP' not in c]"
   ]
  },
  {
   "cell_type": "code",
   "execution_count": 6,
   "id": "7b1cf02b",
   "metadata": {},
   "outputs": [],
   "source": [
    "meta = df_merge[meta_cols]\n",
    "feats_protein = df_merge[feat_cols_non_protein].values"
   ]
  },
  {
   "attachments": {},
   "cell_type": "markdown",
   "id": "a1766680",
   "metadata": {},
   "source": [
    "#### retrieve replicates from non replicates"
   ]
  },
  {
   "cell_type": "code",
   "execution_count": 7,
   "id": "559b84a6",
   "metadata": {},
   "outputs": [],
   "source": [
    "#pos is what you are matching on\n",
    "#sameby is what condition shall be the same (e.g., same perturbation, same target)\n",
    "pos_sameby = ['Metadata_Sample_Unique']\n",
    "#diffby is what condition shall be different (e.g., different plate)\n",
    "pos_diffby = []\n",
    "\n",
    "#neg is what you are matching against\n",
    "#sameby is barely used unless you want to limit the sample, e.g., only against control in the ssame plate\n",
    "neg_sameby = []\n",
    "#diffby is what condition shall be different (e.g., control vs. non control)\n",
    "neg_diffby = ['Metadata_Sample_Unique']\n",
    "null_size = 10000"
   ]
  },
  {
   "cell_type": "code",
   "execution_count": 8,
   "id": "bee9aa3f",
   "metadata": {},
   "outputs": [
    {
     "data": {
      "application/vnd.jupyter.widget-view+json": {
       "model_id": "e127712e35694a7090e62b7f6cdad29d",
       "version_major": 2,
       "version_minor": 0
      },
      "text/plain": [
       "  0%|          | 0/1 [00:00<?, ?it/s]"
      ]
     },
     "metadata": {},
     "output_type": "display_data"
    },
    {
     "data": {
      "application/vnd.jupyter.widget-view+json": {
       "model_id": "7153ee5c20a24a828eb470b3d137820b",
       "version_major": 2,
       "version_minor": 0
      },
      "text/plain": [
       "  0%|          | 0/29 [00:00<?, ?it/s]"
      ]
     },
     "metadata": {},
     "output_type": "display_data"
    },
    {
     "data": {
      "text/plain": [
       "above_p_threshold  above_q_threshold\n",
       "False              False                205\n",
       "True               False                 96\n",
       "                   True                  45\n",
       "Name: count, dtype: int64"
      ]
     },
     "execution_count": 8,
     "metadata": {},
     "output_type": "execute_result"
    }
   ],
   "source": [
    "tech_result = run_pipeline(meta, feats_protein, pos_sameby, pos_diffby, neg_sameby, neg_diffby, null_size)\n",
    "#combine scores from samples with the same Metadata_Sample_Unique\n",
    "tech_result_agg=aggregate(tech_result, 'Metadata_Sample_Unique', threshold=0.05)\n",
    "tech_result_agg[['above_p_threshold', 'above_q_threshold']].value_counts()"
   ]
  },
  {
   "cell_type": "code",
   "execution_count": 9,
   "id": "047ef9fd",
   "metadata": {},
   "outputs": [],
   "source": [
    "#assign a column where the value is the first part of Metadata_Sample_Unique seperated by space\n",
    "tech_result_agg['Metadata_Gene']=tech_result_agg['Metadata_Sample_Unique'].str.split(' ').str[0]\n",
    "tech_result_agg['Metadata_MT']=tech_result_agg['Metadata_Sample_Unique'].str.split(' ').str[1]"
   ]
  },
  {
   "cell_type": "code",
   "execution_count": 10,
   "id": "831d6c63",
   "metadata": {},
   "outputs": [],
   "source": [
    "#assign a column where if the value of Metadata_MT is NaN, the value is 'WT', otherwise 'MT'\n",
    "tech_result_agg['Metadata_type']=np.where(tech_result_agg['Metadata_MT'].isnull(),'WT','MT')"
   ]
  },
  {
   "cell_type": "code",
   "execution_count": 11,
   "id": "1a7555c3",
   "metadata": {},
   "outputs": [
    {
     "name": "stderr",
     "output_type": "stream",
     "text": [
      "<ipython-input-11-5a298b5d1e98>:6: SettingWithCopyWarning: \n",
      "A value is trying to be set on a copy of a slice from a DataFrame\n",
      "\n",
      "See the caveats in the documentation: https://pandas.pydata.org/pandas-docs/stable/user_guide/indexing.html#returning-a-view-versus-a-copy\n",
      "  df_wt_above_p.rename(columns={'above_p_threshold':'above_p_threshold_wt'},inplace=True)\n"
     ]
    }
   ],
   "source": [
    "#create a dataframe where Metadata_type is WT\n",
    "df_wt=tech_result_agg[tech_result_agg['Metadata_type']=='WT']\n",
    "#select above_p_threshold and Metadata_Gene columns\n",
    "df_wt_above_p=df_wt[['above_p_threshold','Metadata_Gene']]\n",
    "#rename above_p_threshold to above_p_threshold_wt\n",
    "df_wt_above_p.rename(columns={'above_p_threshold':'above_p_threshold_wt'},inplace=True)\n",
    "#merge df_wt_above_p to copy based on Metadata_Gene\n",
    "df_wt_above_p_merge=tech_result_agg.merge(df_wt_above_p,on='Metadata_Gene',how='left')\n",
    "#remove all WT from df_wt_above_p_merge\n",
    "df_result=df_wt_above_p_merge[df_wt_above_p_merge['Metadata_type']!='WT']"
   ]
  },
  {
   "cell_type": "code",
   "execution_count": 12,
   "id": "fb017c7e",
   "metadata": {},
   "outputs": [
    {
     "name": "stderr",
     "output_type": "stream",
     "text": [
      "<ipython-input-12-d1a6ab6a6ca4>:5: SettingWithCopyWarning: \n",
      "A value is trying to be set on a copy of a slice from a DataFrame.\n",
      "Try using .loc[row_indexer,col_indexer] = value instead\n",
      "\n",
      "See the caveats in the documentation: https://pandas.pydata.org/pandas-docs/stable/user_guide/indexing.html#returning-a-view-versus-a-copy\n",
      "  df_result['True_Type']=np.where((df_result['above_p_threshold']==True)&(df_result['above_p_threshold_wt']==False),'True_MT',\n"
     ]
    }
   ],
   "source": [
    "# if only above_p_threshold is True, assign True_MT to a new column True_Type\n",
    "# if only above_p_threshold_wt is True, assign True_WT to a new column True_Type\n",
    "# if both above_p_threshold and above_p_threshold_wt are True, assign True_Both to a new column True_Type\n",
    "# rest is False \n",
    "df_result['True_Type']=np.where((df_result['above_p_threshold']==True)&(df_result['above_p_threshold_wt']==False),'True_MT',\n",
    "                                 np.where((df_result['above_p_threshold']==False)&(df_result['above_p_threshold_wt']==True),'True_WT',\n",
    "                                            np.where((df_result['above_p_threshold']==True)&(df_result['above_p_threshold_wt']==True),'True_Both','False')))\n",
    "\n",
    "\n",
    "#only Metadata_Sample_Unique and True_Type columns\n",
    "df_result=df_result[['Metadata_Sample_Unique','True_Type']]\n"
   ]
  },
  {
   "attachments": {},
   "cell_type": "markdown",
   "id": "e7a3874d",
   "metadata": {},
   "source": [
    "#### retrieve mutants from its WT"
   ]
  },
  {
   "cell_type": "code",
   "execution_count": 13,
   "id": "1bb50831",
   "metadata": {},
   "outputs": [],
   "source": [
    "pos_sameby = ['Metadata_Gene']\n",
    "pos_diffby = ['Metadata_type']\n",
    "neg_sameby = []\n",
    "neg_diffby = ['Metadata_Gene']\n",
    "null_size = 10000"
   ]
  },
  {
   "cell_type": "code",
   "execution_count": 14,
   "id": "a32155c0",
   "metadata": {},
   "outputs": [
    {
     "data": {
      "application/vnd.jupyter.widget-view+json": {
       "model_id": "a7d2eea7ef5c4a1fa21554e0accecfed",
       "version_major": 2,
       "version_minor": 0
      },
      "text/plain": [
       "  0%|          | 0/1 [00:00<?, ?it/s]"
      ]
     },
     "metadata": {},
     "output_type": "display_data"
    },
    {
     "data": {
      "application/vnd.jupyter.widget-view+json": {
       "model_id": "fdf8a7d55a3c445797ee83e25207f9ac",
       "version_major": 2,
       "version_minor": 0
      },
      "text/plain": [
       "  0%|          | 0/28 [00:00<?, ?it/s]"
      ]
     },
     "metadata": {},
     "output_type": "display_data"
    },
    {
     "data": {
      "text/plain": [
       "above_p_threshold  above_q_threshold\n",
       "False              False                187\n",
       "True               True                  35\n",
       "                   False                 32\n",
       "Name: count, dtype: int64"
      ]
     },
     "execution_count": 14,
     "metadata": {},
     "output_type": "execute_result"
    }
   ],
   "source": [
    "bio_result = run_pipeline(meta, feats_protein, pos_sameby, pos_diffby, neg_sameby, neg_diffby, null_size)\n",
    "#remove Metadata_type=WT\n",
    "bio_result=bio_result[bio_result['Metadata_type']!='WT']\n",
    "bio_result_agg=aggregate(bio_result, 'Metadata_Sample_Unique', threshold=0.05)\n",
    "bio_result_agg[['above_p_threshold', 'above_q_threshold']].value_counts()"
   ]
  },
  {
   "cell_type": "code",
   "execution_count": 15,
   "id": "ea07ae77",
   "metadata": {},
   "outputs": [
    {
     "data": {
      "text/html": [
       "<div>\n",
       "<style scoped>\n",
       "    .dataframe tbody tr th:only-of-type {\n",
       "        vertical-align: middle;\n",
       "    }\n",
       "\n",
       "    .dataframe tbody tr th {\n",
       "        vertical-align: top;\n",
       "    }\n",
       "\n",
       "    .dataframe thead th {\n",
       "        text-align: right;\n",
       "    }\n",
       "</style>\n",
       "<table border=\"1\" class=\"dataframe\">\n",
       "  <thead>\n",
       "    <tr style=\"text-align: right;\">\n",
       "      <th></th>\n",
       "      <th>Metadata_Sample_Unique</th>\n",
       "      <th>average_precision</th>\n",
       "      <th>nlog10pvalue</th>\n",
       "      <th>q_value</th>\n",
       "      <th>nlog10qvalue</th>\n",
       "      <th>above_p_threshold</th>\n",
       "      <th>above_q_threshold</th>\n",
       "    </tr>\n",
       "  </thead>\n",
       "  <tbody>\n",
       "    <tr>\n",
       "      <th>0</th>\n",
       "      <td>ACSF3 Ala197Thr</td>\n",
       "      <td>0.018725</td>\n",
       "      <td>0.863534</td>\n",
       "      <td>0.307766</td>\n",
       "      <td>0.511779</td>\n",
       "      <td>False</td>\n",
       "      <td>False</td>\n",
       "    </tr>\n",
       "    <tr>\n",
       "      <th>1</th>\n",
       "      <td>ACSF3 Arg10Trp</td>\n",
       "      <td>0.020284</td>\n",
       "      <td>1.113655</td>\n",
       "      <td>0.241085</td>\n",
       "      <td>0.617829</td>\n",
       "      <td>False</td>\n",
       "      <td>False</td>\n",
       "    </tr>\n",
       "  </tbody>\n",
       "</table>\n",
       "</div>"
      ],
      "text/plain": [
       "  Metadata_Sample_Unique  average_precision  nlog10pvalue   q_value   \n",
       "0        ACSF3 Ala197Thr           0.018725      0.863534  0.307766  \\\n",
       "1         ACSF3 Arg10Trp           0.020284      1.113655  0.241085   \n",
       "\n",
       "   nlog10qvalue  above_p_threshold  above_q_threshold  \n",
       "0      0.511779              False              False  \n",
       "1      0.617829              False              False  "
      ]
     },
     "execution_count": 15,
     "metadata": {},
     "output_type": "execute_result"
    }
   ],
   "source": [
    "bio_result_agg.head(2)"
   ]
  },
  {
   "cell_type": "code",
   "execution_count": 16,
   "id": "98818f2a",
   "metadata": {},
   "outputs": [],
   "source": [
    "#merge bio_result_agg and df_resul on Metadata_Sample_Unique to include nlog10p_value_bio, average_precision_bio, True_Type\n",
    "result_merge=bio_result_agg.merge(df_result,how='left',on='Metadata_Sample_Unique')\n",
    "#save column Metadata_Sample_Unique, nlog10pvalue_bio, average_precision_bio, True_Type\n",
    "result_merge=result_merge[['Metadata_Sample_Unique','nlog10pvalue','average_precision','True_Type']]"
   ]
  },
  {
   "cell_type": "code",
   "execution_count": 23,
   "id": "b72f04bd",
   "metadata": {},
   "outputs": [
    {
     "data": {
      "image/png": "[encoded data removed]",
      "text/plain": [
       "<Figure size 1000x1000 with 1 Axes>"
      ]
     },
     "metadata": {},
     "output_type": "display_data"
    }
   ],
   "source": [
    "#use sns scatter plot to plot nlog10pvalue_bio and color the points based on above_p_threshold_condition\n",
    "#sns.scatterplot(data=result_merge, x='average_precision',y='nlog10pvalue',hue='True_Type')\n",
    "#set four defined colors to True_Type\n",
    "colors = {'True_MT':'b', 'True_WT':'c', 'True_Both':'m', 'False':'black'}\n",
    "#use colors as color palette\n",
    "palette = colors.values()\n",
    "#use colors as hue_order\n",
    "hue_order = colors.keys()\n",
    "#use sns scatter plot to plot nlog10pvalue_bio and color the points based on above_p_threshold_condition\n",
    "sns.scatterplot(data=result_merge, x='average_precision',y='nlog10pvalue',hue='True_Type',palette=palette,hue_order=hue_order)\n",
    "#set x axis limit at 0.1\n",
    "plt.xlim(0,0.1)\n",
    "plt.axhline(y=-np.log10(0.05), color='r', linestyle='--')\n",
    "plt.show()"
   ]
  },
  {
   "cell_type": "code",
   "execution_count": null,
   "id": "d6b7b9d4",
   "metadata": {},
   "outputs": [],
   "source": []
  }
 ],
 "metadata": {
  "kernelspec": {
   "display_name": "Python 3",
   "language": "python",
   "name": "python3"
  },
  "language_info": {
   "codemirror_mode": {
    "name": "ipython",
    "version": 3
   },
   "file_extension": ".py",
   "mimetype": "text/x-python",
   "name": "python",
   "nbconvert_exporter": "python",
   "pygments_lexer": "ipython3",
   "version": "3.8.5"
  }
 },
 "nbformat": 4,
 "nbformat_minor": 5
}
