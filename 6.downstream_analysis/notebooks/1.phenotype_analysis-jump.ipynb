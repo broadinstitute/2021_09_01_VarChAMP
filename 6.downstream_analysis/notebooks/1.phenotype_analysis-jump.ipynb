{
 "cells": [
  {
   "cell_type": "code",
   "execution_count": 2,
   "id": "791af53f",
   "metadata": {},
   "outputs": [
    {
     "name": "stderr",
     "output_type": "stream",
     "text": [
      "DEBUG:jupyter_black:config: {'line_length': 79, 'target_versions': {<TargetVersion.PY310: 10>}}\n"
     ]
    },
    {
     "data": {
      "application/javascript": [
       "\n",
       "            (function() {\n",
       "                jb_set_cell(\"df_well = df_well.loc[:, meta_well + feat_col]\\n\\nctrl_wells = control_profiles.Metadata_Well.unique()\\ndf_well_controls = df_well[\\n    df_well[\\\"Metadata_Well\\\"].isin(ctrl_wells)\\n].reset_index(drop=True)\")\n",
       "            })();\n",
       "            "
      ],
      "text/plain": [
       "<IPython.core.display.Javascript object>"
      ]
     },
     "metadata": {},
     "output_type": "display_data"
    },
    {
     "name": "stderr",
     "output_type": "stream",
     "text": [
      "/dgx1nas1/storage/data/sam/.conda/envs/varchamp/lib/python3.11/site-packages/tqdm/auto.py:21: TqdmWarning: IProgress not found. Please update jupyter and ipywidgets. See https://ipywidgets.readthedocs.io/en/stable/user_install.html\n",
      "  from .autonotebook import tqdm as notebook_tqdm\n"
     ]
    }
   ],
   "source": [
    "import pandas as pd\n",
    "import numpy as np\n",
    "\n",
    "import black\n",
    "import jupyter_black\n",
    "\n",
    "jupyter_black.load(\n",
    "    lab=False,\n",
    "    line_length=79,\n",
    "    verbosity=\"DEBUG\",\n",
    "    target_version=black.TargetVersion.PY310,\n",
    ")\n",
    "\n",
    "from tqdm.auto import tqdm\n",
    "\n",
    "import warnings\n",
    "warnings.filterwarnings(\"ignore\")\n",
    "\n",
    "from sklearn.model_selection import cross_val_score, train_test_split\n",
    "from sklearn.metrics import f1_score, classification_report\n",
    "\n",
    "import xgboost as xgb\n",
    "import random\n",
    "\n",
    "import scipy"
   ]
  },
  {
   "cell_type": "code",
   "execution_count": 3,
   "id": "b8706c28",
   "metadata": {},
   "outputs": [],
   "source": [
    "# data_dir = \"../../2021_09_01_VarChAMP_local/6.downstream_analysis/results/\"\n",
    "# feature_type = \"_normalized_feature_selected\""
   ]
  },
  {
   "cell_type": "code",
   "execution_count": 19,
   "id": "6302054d",
   "metadata": {},
   "outputs": [],
   "source": [
    "data_dir = \"/dgx1nas1/storage/data/sam/results/cpjump\"\n",
    "feature_type = \"_annotated_normalized_feature_selected\"\n",
    "plate = \"BR00121425_single_cell_profile\""
   ]
  },
  {
   "cell_type": "code",
   "execution_count": 38,
   "id": "c4e86ae6",
   "metadata": {},
   "outputs": [
    {
     "ename": "FileNotFoundError",
     "evalue": "[Errno 2] No such file or directory: '/dgx1nas1/storage/data/sam/results/cpjump/BR00121425_single_cell_profile_annotated_normalized_feature_selected.csv.gz'",
     "output_type": "error",
     "traceback": [
      "\u001b[0;31m---------------------------------------------------------------------------\u001b[0m",
      "\u001b[0;31mFileNotFoundError\u001b[0m                         Traceback (most recent call last)",
      "Cell \u001b[0;32mIn[38], line 3\u001b[0m\n\u001b[1;32m      1\u001b[0m sc_profiles_path \u001b[38;5;241m=\u001b[39m \u001b[38;5;124mf\u001b[39m\u001b[38;5;124m\"\u001b[39m\u001b[38;5;132;01m{\u001b[39;00mdata_dir\u001b[38;5;132;01m}\u001b[39;00m\u001b[38;5;124m/\u001b[39m\u001b[38;5;132;01m{\u001b[39;00mplate\u001b[38;5;132;01m}\u001b[39;00m\u001b[38;5;132;01m{\u001b[39;00mfeature_type\u001b[38;5;132;01m}\u001b[39;00m\u001b[38;5;124m.csv.gz\u001b[39m\u001b[38;5;124m\"\u001b[39m\n\u001b[0;32m----> 3\u001b[0m sc_profiles \u001b[38;5;241m=\u001b[39m pd\u001b[38;5;241m.\u001b[39mread_csv(sc_profiles_path)\n",
      "File \u001b[0;32m/dgx1nas1/storage/data/sam/.conda/envs/varchamp/lib/python3.11/site-packages/pandas/io/parsers/readers.py:948\u001b[0m, in \u001b[0;36mread_csv\u001b[0;34m(filepath_or_buffer, sep, delimiter, header, names, index_col, usecols, dtype, engine, converters, true_values, false_values, skipinitialspace, skiprows, skipfooter, nrows, na_values, keep_default_na, na_filter, verbose, skip_blank_lines, parse_dates, infer_datetime_format, keep_date_col, date_parser, date_format, dayfirst, cache_dates, iterator, chunksize, compression, thousands, decimal, lineterminator, quotechar, quoting, doublequote, escapechar, comment, encoding, encoding_errors, dialect, on_bad_lines, delim_whitespace, low_memory, memory_map, float_precision, storage_options, dtype_backend)\u001b[0m\n\u001b[1;32m    935\u001b[0m kwds_defaults \u001b[38;5;241m=\u001b[39m _refine_defaults_read(\n\u001b[1;32m    936\u001b[0m     dialect,\n\u001b[1;32m    937\u001b[0m     delimiter,\n\u001b[0;32m   (...)\u001b[0m\n\u001b[1;32m    944\u001b[0m     dtype_backend\u001b[38;5;241m=\u001b[39mdtype_backend,\n\u001b[1;32m    945\u001b[0m )\n\u001b[1;32m    946\u001b[0m kwds\u001b[38;5;241m.\u001b[39mupdate(kwds_defaults)\n\u001b[0;32m--> 948\u001b[0m \u001b[38;5;28;01mreturn\u001b[39;00m _read(filepath_or_buffer, kwds)\n",
      "File \u001b[0;32m/dgx1nas1/storage/data/sam/.conda/envs/varchamp/lib/python3.11/site-packages/pandas/io/parsers/readers.py:611\u001b[0m, in \u001b[0;36m_read\u001b[0;34m(filepath_or_buffer, kwds)\u001b[0m\n\u001b[1;32m    608\u001b[0m _validate_names(kwds\u001b[38;5;241m.\u001b[39mget(\u001b[38;5;124m\"\u001b[39m\u001b[38;5;124mnames\u001b[39m\u001b[38;5;124m\"\u001b[39m, \u001b[38;5;28;01mNone\u001b[39;00m))\n\u001b[1;32m    610\u001b[0m \u001b[38;5;66;03m# Create the parser.\u001b[39;00m\n\u001b[0;32m--> 611\u001b[0m parser \u001b[38;5;241m=\u001b[39m TextFileReader(filepath_or_buffer, \u001b[38;5;241m*\u001b[39m\u001b[38;5;241m*\u001b[39mkwds)\n\u001b[1;32m    613\u001b[0m \u001b[38;5;28;01mif\u001b[39;00m chunksize \u001b[38;5;129;01mor\u001b[39;00m iterator:\n\u001b[1;32m    614\u001b[0m     \u001b[38;5;28;01mreturn\u001b[39;00m parser\n",
      "File \u001b[0;32m/dgx1nas1/storage/data/sam/.conda/envs/varchamp/lib/python3.11/site-packages/pandas/io/parsers/readers.py:1448\u001b[0m, in \u001b[0;36mTextFileReader.__init__\u001b[0;34m(self, f, engine, **kwds)\u001b[0m\n\u001b[1;32m   1445\u001b[0m     \u001b[38;5;28mself\u001b[39m\u001b[38;5;241m.\u001b[39moptions[\u001b[38;5;124m\"\u001b[39m\u001b[38;5;124mhas_index_names\u001b[39m\u001b[38;5;124m\"\u001b[39m] \u001b[38;5;241m=\u001b[39m kwds[\u001b[38;5;124m\"\u001b[39m\u001b[38;5;124mhas_index_names\u001b[39m\u001b[38;5;124m\"\u001b[39m]\n\u001b[1;32m   1447\u001b[0m \u001b[38;5;28mself\u001b[39m\u001b[38;5;241m.\u001b[39mhandles: IOHandles \u001b[38;5;241m|\u001b[39m \u001b[38;5;28;01mNone\u001b[39;00m \u001b[38;5;241m=\u001b[39m \u001b[38;5;28;01mNone\u001b[39;00m\n\u001b[0;32m-> 1448\u001b[0m \u001b[38;5;28mself\u001b[39m\u001b[38;5;241m.\u001b[39m_engine \u001b[38;5;241m=\u001b[39m \u001b[38;5;28mself\u001b[39m\u001b[38;5;241m.\u001b[39m_make_engine(f, \u001b[38;5;28mself\u001b[39m\u001b[38;5;241m.\u001b[39mengine)\n",
      "File \u001b[0;32m/dgx1nas1/storage/data/sam/.conda/envs/varchamp/lib/python3.11/site-packages/pandas/io/parsers/readers.py:1705\u001b[0m, in \u001b[0;36mTextFileReader._make_engine\u001b[0;34m(self, f, engine)\u001b[0m\n\u001b[1;32m   1703\u001b[0m     \u001b[38;5;28;01mif\u001b[39;00m \u001b[38;5;124m\"\u001b[39m\u001b[38;5;124mb\u001b[39m\u001b[38;5;124m\"\u001b[39m \u001b[38;5;129;01mnot\u001b[39;00m \u001b[38;5;129;01min\u001b[39;00m mode:\n\u001b[1;32m   1704\u001b[0m         mode \u001b[38;5;241m+\u001b[39m\u001b[38;5;241m=\u001b[39m \u001b[38;5;124m\"\u001b[39m\u001b[38;5;124mb\u001b[39m\u001b[38;5;124m\"\u001b[39m\n\u001b[0;32m-> 1705\u001b[0m \u001b[38;5;28mself\u001b[39m\u001b[38;5;241m.\u001b[39mhandles \u001b[38;5;241m=\u001b[39m get_handle(\n\u001b[1;32m   1706\u001b[0m     f,\n\u001b[1;32m   1707\u001b[0m     mode,\n\u001b[1;32m   1708\u001b[0m     encoding\u001b[38;5;241m=\u001b[39m\u001b[38;5;28mself\u001b[39m\u001b[38;5;241m.\u001b[39moptions\u001b[38;5;241m.\u001b[39mget(\u001b[38;5;124m\"\u001b[39m\u001b[38;5;124mencoding\u001b[39m\u001b[38;5;124m\"\u001b[39m, \u001b[38;5;28;01mNone\u001b[39;00m),\n\u001b[1;32m   1709\u001b[0m     compression\u001b[38;5;241m=\u001b[39m\u001b[38;5;28mself\u001b[39m\u001b[38;5;241m.\u001b[39moptions\u001b[38;5;241m.\u001b[39mget(\u001b[38;5;124m\"\u001b[39m\u001b[38;5;124mcompression\u001b[39m\u001b[38;5;124m\"\u001b[39m, \u001b[38;5;28;01mNone\u001b[39;00m),\n\u001b[1;32m   1710\u001b[0m     memory_map\u001b[38;5;241m=\u001b[39m\u001b[38;5;28mself\u001b[39m\u001b[38;5;241m.\u001b[39moptions\u001b[38;5;241m.\u001b[39mget(\u001b[38;5;124m\"\u001b[39m\u001b[38;5;124mmemory_map\u001b[39m\u001b[38;5;124m\"\u001b[39m, \u001b[38;5;28;01mFalse\u001b[39;00m),\n\u001b[1;32m   1711\u001b[0m     is_text\u001b[38;5;241m=\u001b[39mis_text,\n\u001b[1;32m   1712\u001b[0m     errors\u001b[38;5;241m=\u001b[39m\u001b[38;5;28mself\u001b[39m\u001b[38;5;241m.\u001b[39moptions\u001b[38;5;241m.\u001b[39mget(\u001b[38;5;124m\"\u001b[39m\u001b[38;5;124mencoding_errors\u001b[39m\u001b[38;5;124m\"\u001b[39m, \u001b[38;5;124m\"\u001b[39m\u001b[38;5;124mstrict\u001b[39m\u001b[38;5;124m\"\u001b[39m),\n\u001b[1;32m   1713\u001b[0m     storage_options\u001b[38;5;241m=\u001b[39m\u001b[38;5;28mself\u001b[39m\u001b[38;5;241m.\u001b[39moptions\u001b[38;5;241m.\u001b[39mget(\u001b[38;5;124m\"\u001b[39m\u001b[38;5;124mstorage_options\u001b[39m\u001b[38;5;124m\"\u001b[39m, \u001b[38;5;28;01mNone\u001b[39;00m),\n\u001b[1;32m   1714\u001b[0m )\n\u001b[1;32m   1715\u001b[0m \u001b[38;5;28;01massert\u001b[39;00m \u001b[38;5;28mself\u001b[39m\u001b[38;5;241m.\u001b[39mhandles \u001b[38;5;129;01mis\u001b[39;00m \u001b[38;5;129;01mnot\u001b[39;00m \u001b[38;5;28;01mNone\u001b[39;00m\n\u001b[1;32m   1716\u001b[0m f \u001b[38;5;241m=\u001b[39m \u001b[38;5;28mself\u001b[39m\u001b[38;5;241m.\u001b[39mhandles\u001b[38;5;241m.\u001b[39mhandle\n",
      "File \u001b[0;32m/dgx1nas1/storage/data/sam/.conda/envs/varchamp/lib/python3.11/site-packages/pandas/io/common.py:755\u001b[0m, in \u001b[0;36mget_handle\u001b[0;34m(path_or_buf, mode, encoding, compression, memory_map, is_text, errors, storage_options)\u001b[0m\n\u001b[1;32m    751\u001b[0m \u001b[38;5;28;01mif\u001b[39;00m compression \u001b[38;5;241m==\u001b[39m \u001b[38;5;124m\"\u001b[39m\u001b[38;5;124mgzip\u001b[39m\u001b[38;5;124m\"\u001b[39m:\n\u001b[1;32m    752\u001b[0m     \u001b[38;5;28;01mif\u001b[39;00m \u001b[38;5;28misinstance\u001b[39m(handle, \u001b[38;5;28mstr\u001b[39m):\n\u001b[1;32m    753\u001b[0m         \u001b[38;5;66;03m# error: Incompatible types in assignment (expression has type\u001b[39;00m\n\u001b[1;32m    754\u001b[0m         \u001b[38;5;66;03m# \"GzipFile\", variable has type \"Union[str, BaseBuffer]\")\u001b[39;00m\n\u001b[0;32m--> 755\u001b[0m         handle \u001b[38;5;241m=\u001b[39m gzip\u001b[38;5;241m.\u001b[39mGzipFile(  \u001b[38;5;66;03m# type: ignore[assignment]\u001b[39;00m\n\u001b[1;32m    756\u001b[0m             filename\u001b[38;5;241m=\u001b[39mhandle,\n\u001b[1;32m    757\u001b[0m             mode\u001b[38;5;241m=\u001b[39mioargs\u001b[38;5;241m.\u001b[39mmode,\n\u001b[1;32m    758\u001b[0m             \u001b[38;5;241m*\u001b[39m\u001b[38;5;241m*\u001b[39mcompression_args,\n\u001b[1;32m    759\u001b[0m         )\n\u001b[1;32m    760\u001b[0m     \u001b[38;5;28;01melse\u001b[39;00m:\n\u001b[1;32m    761\u001b[0m         handle \u001b[38;5;241m=\u001b[39m gzip\u001b[38;5;241m.\u001b[39mGzipFile(\n\u001b[1;32m    762\u001b[0m             \u001b[38;5;66;03m# No overload variant of \"GzipFile\" matches argument types\u001b[39;00m\n\u001b[1;32m    763\u001b[0m             \u001b[38;5;66;03m# \"Union[str, BaseBuffer]\", \"str\", \"Dict[str, Any]\"\u001b[39;00m\n\u001b[0;32m   (...)\u001b[0m\n\u001b[1;32m    766\u001b[0m             \u001b[38;5;241m*\u001b[39m\u001b[38;5;241m*\u001b[39mcompression_args,\n\u001b[1;32m    767\u001b[0m         )\n",
      "File \u001b[0;32m/dgx1nas1/storage/data/sam/.conda/envs/varchamp/lib/python3.11/gzip.py:174\u001b[0m, in \u001b[0;36mGzipFile.__init__\u001b[0;34m(self, filename, mode, compresslevel, fileobj, mtime)\u001b[0m\n\u001b[1;32m    172\u001b[0m     mode \u001b[38;5;241m+\u001b[39m\u001b[38;5;241m=\u001b[39m \u001b[38;5;124m'\u001b[39m\u001b[38;5;124mb\u001b[39m\u001b[38;5;124m'\u001b[39m\n\u001b[1;32m    173\u001b[0m \u001b[38;5;28;01mif\u001b[39;00m fileobj \u001b[38;5;129;01mis\u001b[39;00m \u001b[38;5;28;01mNone\u001b[39;00m:\n\u001b[0;32m--> 174\u001b[0m     fileobj \u001b[38;5;241m=\u001b[39m \u001b[38;5;28mself\u001b[39m\u001b[38;5;241m.\u001b[39mmyfileobj \u001b[38;5;241m=\u001b[39m builtins\u001b[38;5;241m.\u001b[39mopen(filename, mode \u001b[38;5;129;01mor\u001b[39;00m \u001b[38;5;124m'\u001b[39m\u001b[38;5;124mrb\u001b[39m\u001b[38;5;124m'\u001b[39m)\n\u001b[1;32m    175\u001b[0m \u001b[38;5;28;01mif\u001b[39;00m filename \u001b[38;5;129;01mis\u001b[39;00m \u001b[38;5;28;01mNone\u001b[39;00m:\n\u001b[1;32m    176\u001b[0m     filename \u001b[38;5;241m=\u001b[39m \u001b[38;5;28mgetattr\u001b[39m(fileobj, \u001b[38;5;124m'\u001b[39m\u001b[38;5;124mname\u001b[39m\u001b[38;5;124m'\u001b[39m, \u001b[38;5;124m'\u001b[39m\u001b[38;5;124m'\u001b[39m)\n",
      "\u001b[0;31mFileNotFoundError\u001b[0m: [Errno 2] No such file or directory: '/dgx1nas1/storage/data/sam/results/cpjump/BR00121425_single_cell_profile_annotated_normalized_feature_selected.csv.gz'"
     ]
    }
   ],
   "source": [
    "sc_profiles_path = f\"{data_dir}/{plate}{feature_type}.csv.gz\"\n",
    "\n",
    "sc_profiles = pd.read_csv(sc_profiles_path)"
   ]
  },
  {
   "cell_type": "code",
   "execution_count": 5,
   "id": "17131f31",
   "metadata": {},
   "outputs": [],
   "source": [
    "# sc_profiles_path = (\n",
    "#     f\"{data_dir}B1A1R1_P1T1_single_cell_profile{feature_type}.csv.gz\"\n",
    "# )\n",
    "\n",
    "# sc_profiles = pd.read_csv(sc_profiles_path)"
   ]
  },
  {
   "cell_type": "code",
   "execution_count": 37,
   "id": "decb742b",
   "metadata": {},
   "outputs": [
    {
     "ename": "NameError",
     "evalue": "name 'sc_profiles' is not defined",
     "output_type": "error",
     "traceback": [
      "\u001b[0;31m---------------------------------------------------------------------------\u001b[0m",
      "\u001b[0;31mNameError\u001b[0m                                 Traceback (most recent call last)",
      "Cell \u001b[0;32mIn[37], line 2\u001b[0m\n\u001b[1;32m      1\u001b[0m \u001b[38;5;66;03m# sc_profiles.drop([\"ObjectNumber\", \"ObjectNumber_Cells\"], axis=1, inplace=True)\u001b[39;00m\n\u001b[0;32m----> 2\u001b[0m meta_col \u001b[38;5;241m=\u001b[39m [i \u001b[38;5;28;01mfor\u001b[39;00m i \u001b[38;5;129;01min\u001b[39;00m sc_profiles\u001b[38;5;241m.\u001b[39mcolumns \u001b[38;5;28;01mif\u001b[39;00m \u001b[38;5;124m\"\u001b[39m\u001b[38;5;124mMetadata_\u001b[39m\u001b[38;5;124m\"\u001b[39m \u001b[38;5;129;01min\u001b[39;00m i]\n\u001b[1;32m      3\u001b[0m feat_col \u001b[38;5;241m=\u001b[39m [i \u001b[38;5;28;01mfor\u001b[39;00m i \u001b[38;5;129;01min\u001b[39;00m sc_profiles\u001b[38;5;241m.\u001b[39mcolumns \u001b[38;5;28;01mif\u001b[39;00m \u001b[38;5;124m\"\u001b[39m\u001b[38;5;124mMetadata_\u001b[39m\u001b[38;5;124m\"\u001b[39m \u001b[38;5;129;01mnot\u001b[39;00m \u001b[38;5;129;01min\u001b[39;00m i]\n",
      "\u001b[0;31mNameError\u001b[0m: name 'sc_profiles' is not defined"
     ]
    }
   ],
   "source": [
    "# sc_profiles.drop([\"ObjectNumber\", \"ObjectNumber_Cells\"], axis=1, inplace=True)\n",
    "meta_col = [i for i in sc_profiles.columns if \"Metadata_\" in i]\n",
    "feat_col = [i for i in sc_profiles.columns if \"Metadata_\" not in i]"
   ]
  },
  {
   "cell_type": "markdown",
   "id": "3ca5a881",
   "metadata": {},
   "source": [
    "### Variant against Reference Classification"
   ]
  },
  {
   "cell_type": "code",
   "execution_count": null,
   "id": "e99408c8",
   "metadata": {},
   "outputs": [],
   "source": [
    "treatment_profiles = sc_profiles[\n",
    "    ~sc_profiles[\"Metadata_broad_sample\"].isna().reset_index(drop=True)\n",
    "].reset_index(drop=True)"
   ]
  },
  {
   "cell_type": "code",
   "execution_count": 159,
   "id": "a2afcc39",
   "metadata": {},
   "outputs": [],
   "source": [
    "cpd_lst = list(treatment_profiles[\"Metadata_broad_sample\"].unique())\n",
    "well_count = {cpd: treatment_profiles[treatment_profiles[\"Metadata_broad_sample\"]==cpd]\n",
    "              ['Metadata_Well'].unique().size for cpd in cpd_lst}\n",
    "cpd_keep = [i for i in cpd_lst if well_count[i]==1]\n",
    "cpd_keep = random.sample(cpd_keep, 64)"
   ]
  },
  {
   "cell_type": "code",
   "execution_count": 160,
   "id": "b5eb606a",
   "metadata": {},
   "outputs": [],
   "source": [
    "treatment_profiles = treatment_profiles[treatment_profiles['Metadata_broad_sample'].isin(cpd_keep)]"
   ]
  },
  {
   "cell_type": "code",
   "execution_count": 106,
   "id": "5aace8b4",
   "metadata": {},
   "outputs": [],
   "source": [
    "# treatment_profiles = sc_profiles[\n",
    "#     ~sc_profiles[\"Metadata_broad_sample\"].isna().reset_index(drop=True)\n",
    "# ].reset_index(drop=True)\n",
    "# cpd_lst = list(treatment_profiles[\"Metadata_broad_sample\"].unique())\n",
    "# group1 = random.sample(cpd_lst, len(cpd_lst)//2)\n",
    "# group2 = [i for i in cpd_lst if i not in group1]\n",
    "# group_dict = dict(zip(group1, group2))"
   ]
  },
  {
   "cell_type": "code",
   "execution_count": 161,
   "id": "8eddc32f",
   "metadata": {},
   "outputs": [],
   "source": [
    "treatment_group = treatment_profiles.groupby('Metadata_broad_sample').groups"
   ]
  },
  {
   "cell_type": "code",
   "execution_count": 164,
   "id": "6bb462b3",
   "metadata": {},
   "outputs": [
    {
     "data": {
      "application/vnd.jupyter.widget-view+json": {
       "model_id": "3757a1be09ec4ef09538854079ed6807",
       "version_major": 2,
       "version_minor": 0
      },
      "text/plain": [
       "  0%|          | 0/63 [00:00<?, ?it/s]"
      ]
     },
     "metadata": {},
     "output_type": "display_data"
    }
   ],
   "source": [
    "f1score_macro_list = []\n",
    "f1score_macro_shuff_list = []\n",
    "gene_list = []\n",
    "pair_list = []\n",
    "feat_list = []\n",
    "\n",
    "for i in tqdm(range(len(cpd_keep) - 1)):\n",
    "    cpd_one = cpd_keep[i]\n",
    "    for j in range(i + 1, len(cpd_keep)):\n",
    "        cpd_two = cpd_keep[j]\n",
    "\n",
    "        gene_profiles = treatment_profiles.loc[treatment_group[cpd_one]]\n",
    "        comp_profiles = treatment_profiles.loc[treatment_group[cpd_two]]\n",
    "\n",
    "\n",
    "        gene_profiles[\"Label\"] = 1\n",
    "        comp_profiles[\"Label\"] = 0\n",
    "        all_profiles = pd.concat(\n",
    "                [gene_profiles, comp_profiles], ignore_index=True\n",
    "            )\n",
    "        X, y = all_profiles[feat_col], all_profiles[[\"Label\"]]\n",
    "\n",
    "        # Split the data\n",
    "        X_train, X_test, y_train, y_test = train_test_split(\n",
    "            X, y, test_size=0.3, random_state=1\n",
    "        )\n",
    "\n",
    "        # Create shuffled train labels\n",
    "    #     y_train_shuff = y_train.copy()\n",
    "    #     y_train_shuff[\"Label\"] = np.random.permutation(y_train.values)\n",
    "\n",
    "        # Model train and predict\n",
    "        model = xgb.XGBClassifier().fit(X_train, y_train)\n",
    "        preds = model.predict(X_test)\n",
    "\n",
    "        # Store feature importance\n",
    "        feat_importances = pd.Series(\n",
    "            model.feature_importances_, index=X_train.columns\n",
    "        )\n",
    "        feat_list.append(feat_importances)\n",
    "\n",
    "        #         # Model trained with shuffled label data (null)\n",
    "        #         model_shuff = xgb.XGBClassifier().fit(X_train, y_train_shuff)\n",
    "        #         preds_shuff = model_shuff.predict(X_test)\n",
    "\n",
    "        # Evaluate with metrics\n",
    "        f1score_macro = f1_score(y_test, preds, average=\"macro\")\n",
    "        #         f1score_macro_shuff = f1_score(y_test, preds_shuff, average=\"macro\")\n",
    "\n",
    "        f1score_macro_list.append(f1score_macro)\n",
    "        #         f1score_macro_shuff_list.append(f1score_macro_shuff)\n",
    "        gene_list.append(cpd_one)\n",
    "        pair_list.append(cpd_two)"
   ]
  },
  {
   "cell_type": "code",
   "execution_count": 109,
   "id": "017eda24",
   "metadata": {},
   "outputs": [],
   "source": [
    "df_feat_one = pd.DataFrame({\"Gene\": gene_list, \"Variant\": pair_list})\n",
    "df_feat_two = pd.DataFrame(feat_list)\n",
    "df_feat = pd.concat([df_feat_one, df_feat_two], axis=1)"
   ]
  },
  {
   "cell_type": "code",
   "execution_count": 110,
   "id": "46299cd3",
   "metadata": {},
   "outputs": [],
   "source": [
    "df_feat.to_csv(\n",
    "    f\"{data_dir}{protein_suffix}_var_feat_importance{feature_type}.csv\",\n",
    "    index=False,\n",
    ")"
   ]
  },
  {
   "cell_type": "code",
   "execution_count": 111,
   "id": "5ac622bd",
   "metadata": {},
   "outputs": [
    {
     "data": {
      "text/plain": [
       "153"
      ]
     },
     "execution_count": 111,
     "metadata": {},
     "output_type": "execute_result"
    }
   ],
   "source": [
    "len(f1score_macro_list)"
   ]
  },
  {
   "cell_type": "code",
   "execution_count": 165,
   "id": "54c22fed",
   "metadata": {},
   "outputs": [],
   "source": [
    "result_csv = pd.DataFrame(\n",
    "    {\n",
    "        \"Gene\": gene_list,\n",
    "        \"Variant\": pair_list,\n",
    "        \"F1_Score\": f1score_macro_list\n",
    "        # \"F1_Score_shuffled\": f1score_macro_shuff_list,\n",
    "    }\n",
    ")\n",
    "result_csv.to_csv(\n",
    "    f\"{data_dir}/compound_pred_{feature_type}.csv\",\n",
    "    index=False,\n",
    ")"
   ]
  },
  {
   "cell_type": "markdown",
   "id": "3c5ff271",
   "metadata": {},
   "source": [
    "### Controls - Well Location Classification"
   ]
  },
  {
   "cell_type": "code",
   "execution_count": 33,
   "id": "fe1a0575",
   "metadata": {},
   "outputs": [],
   "source": [
    "control_profiles = sc_profiles[\n",
    "    sc_profiles[\"Metadata_broad_sample\"].isna()\n",
    "].reset_index(drop=True)\n",
    "\n",
    "control_group = control_profiles.groupby(\"Metadata_Well\").groups"
   ]
  },
  {
   "cell_type": "code",
   "execution_count": 49,
   "id": "02e8ad06",
   "metadata": {},
   "outputs": [],
   "source": [
    "control_group = control_profiles.groupby(\"Metadata_Well\").groups\n",
    "well_list = list(control_profiles[\"Metadata_Well\"].unique())"
   ]
  },
  {
   "cell_type": "code",
   "execution_count": 12,
   "id": "efdcfb6e",
   "metadata": {
    "collapsed": true,
    "jupyter": {
     "outputs_hidden": true
    }
   },
   "outputs": [
    {
     "data": {
      "application/vnd.jupyter.widget-view+json": {
       "model_id": "2f35f7cea984488c95ce87ee591a9d84",
       "version_major": 2,
       "version_minor": 0
      },
      "text/plain": [
       "  0%|          | 0/63 [00:00<?, ?it/s]"
      ]
     },
     "metadata": {},
     "output_type": "display_data"
    },
    {
     "data": {
      "application/vnd.jupyter.widget-view+json": {
       "model_id": "fb35236a03594a728b7763fc0a1e1d7f",
       "version_major": 2,
       "version_minor": 0
      },
      "text/plain": [
       "  0%|          | 0/62 [00:00<?, ?it/s]"
      ]
     },
     "metadata": {},
     "output_type": "display_data"
    },
    {
     "data": {
      "application/vnd.jupyter.widget-view+json": {
       "model_id": "056574a17a1c402e93f31a817523ba1e",
       "version_major": 2,
       "version_minor": 0
      },
      "text/plain": [
       "  0%|          | 0/61 [00:00<?, ?it/s]"
      ]
     },
     "metadata": {},
     "output_type": "display_data"
    },
    {
     "data": {
      "application/vnd.jupyter.widget-view+json": {
       "model_id": "935d220e255c410fae0a722f95756b18",
       "version_major": 2,
       "version_minor": 0
      },
      "text/plain": [
       "  0%|          | 0/60 [00:00<?, ?it/s]"
      ]
     },
     "metadata": {},
     "output_type": "display_data"
    },
    {
     "data": {
      "application/vnd.jupyter.widget-view+json": {
       "model_id": "1c68ee8319804fa6a09612e9dafe25f9",
       "version_major": 2,
       "version_minor": 0
      },
      "text/plain": [
       "  0%|          | 0/59 [00:00<?, ?it/s]"
      ]
     },
     "metadata": {},
     "output_type": "display_data"
    },
    {
     "data": {
      "application/vnd.jupyter.widget-view+json": {
       "model_id": "c3bd1a794d6247a594651414e2491e37",
       "version_major": 2,
       "version_minor": 0
      },
      "text/plain": [
       "  0%|          | 0/58 [00:00<?, ?it/s]"
      ]
     },
     "metadata": {},
     "output_type": "display_data"
    },
    {
     "data": {
      "application/vnd.jupyter.widget-view+json": {
       "model_id": "711ac2f2a40c4febbe0e40793cb83c97",
       "version_major": 2,
       "version_minor": 0
      },
      "text/plain": [
       "  0%|          | 0/57 [00:00<?, ?it/s]"
      ]
     },
     "metadata": {},
     "output_type": "display_data"
    },
    {
     "data": {
      "application/vnd.jupyter.widget-view+json": {
       "model_id": "11c1916b9a7e45628c77b61ae06bd036",
       "version_major": 2,
       "version_minor": 0
      },
      "text/plain": [
       "  0%|          | 0/56 [00:00<?, ?it/s]"
      ]
     },
     "metadata": {},
     "output_type": "display_data"
    },
    {
     "data": {
      "application/vnd.jupyter.widget-view+json": {
       "model_id": "2f797463bbb64ddf83c216e4a5b90771",
       "version_major": 2,
       "version_minor": 0
      },
      "text/plain": [
       "  0%|          | 0/55 [00:00<?, ?it/s]"
      ]
     },
     "metadata": {},
     "output_type": "display_data"
    },
    {
     "data": {
      "application/vnd.jupyter.widget-view+json": {
       "model_id": "ba530a60dc6548ea8231746f2ebbbc7b",
       "version_major": 2,
       "version_minor": 0
      },
      "text/plain": [
       "  0%|          | 0/54 [00:00<?, ?it/s]"
      ]
     },
     "metadata": {},
     "output_type": "display_data"
    },
    {
     "data": {
      "application/vnd.jupyter.widget-view+json": {
       "model_id": "dce8aa5cd90e4978a4e565cdbbcf99cb",
       "version_major": 2,
       "version_minor": 0
      },
      "text/plain": [
       "  0%|          | 0/53 [00:00<?, ?it/s]"
      ]
     },
     "metadata": {},
     "output_type": "display_data"
    },
    {
     "data": {
      "application/vnd.jupyter.widget-view+json": {
       "model_id": "efda6ae9cb5249d4a4600b02cf37a679",
       "version_major": 2,
       "version_minor": 0
      },
      "text/plain": [
       "  0%|          | 0/52 [00:00<?, ?it/s]"
      ]
     },
     "metadata": {},
     "output_type": "display_data"
    },
    {
     "data": {
      "application/vnd.jupyter.widget-view+json": {
       "model_id": "410201bdcda846f086229fa0e11d6da6",
       "version_major": 2,
       "version_minor": 0
      },
      "text/plain": [
       "  0%|          | 0/51 [00:00<?, ?it/s]"
      ]
     },
     "metadata": {},
     "output_type": "display_data"
    },
    {
     "data": {
      "application/vnd.jupyter.widget-view+json": {
       "model_id": "e3774c983b044c26a5ade3083a015f55",
       "version_major": 2,
       "version_minor": 0
      },
      "text/plain": [
       "  0%|          | 0/50 [00:00<?, ?it/s]"
      ]
     },
     "metadata": {},
     "output_type": "display_data"
    },
    {
     "data": {
      "application/vnd.jupyter.widget-view+json": {
       "model_id": "03107f4715d8496299f6ee4d79474cd3",
       "version_major": 2,
       "version_minor": 0
      },
      "text/plain": [
       "  0%|          | 0/49 [00:00<?, ?it/s]"
      ]
     },
     "metadata": {},
     "output_type": "display_data"
    },
    {
     "data": {
      "application/vnd.jupyter.widget-view+json": {
       "model_id": "da3a839525f54235b05163e174cf61b0",
       "version_major": 2,
       "version_minor": 0
      },
      "text/plain": [
       "  0%|          | 0/48 [00:00<?, ?it/s]"
      ]
     },
     "metadata": {},
     "output_type": "display_data"
    },
    {
     "data": {
      "application/vnd.jupyter.widget-view+json": {
       "model_id": "c26f3b2d747248fbaa463b045e7bb1b4",
       "version_major": 2,
       "version_minor": 0
      },
      "text/plain": [
       "  0%|          | 0/47 [00:00<?, ?it/s]"
      ]
     },
     "metadata": {},
     "output_type": "display_data"
    },
    {
     "data": {
      "application/vnd.jupyter.widget-view+json": {
       "model_id": "01ed7465725b45dc871102fb41e99421",
       "version_major": 2,
       "version_minor": 0
      },
      "text/plain": [
       "  0%|          | 0/46 [00:00<?, ?it/s]"
      ]
     },
     "metadata": {},
     "output_type": "display_data"
    },
    {
     "data": {
      "application/vnd.jupyter.widget-view+json": {
       "model_id": "ca977e92a70045348caa8ec98a5647ef",
       "version_major": 2,
       "version_minor": 0
      },
      "text/plain": [
       "  0%|          | 0/45 [00:00<?, ?it/s]"
      ]
     },
     "metadata": {},
     "output_type": "display_data"
    },
    {
     "data": {
      "application/vnd.jupyter.widget-view+json": {
       "model_id": "9e6e67a3e0d24e18b45b979c43c65516",
       "version_major": 2,
       "version_minor": 0
      },
      "text/plain": [
       "  0%|          | 0/44 [00:00<?, ?it/s]"
      ]
     },
     "metadata": {},
     "output_type": "display_data"
    },
    {
     "data": {
      "application/vnd.jupyter.widget-view+json": {
       "model_id": "ddf7291fb8754c05a09af56996ed05fc",
       "version_major": 2,
       "version_minor": 0
      },
      "text/plain": [
       "  0%|          | 0/43 [00:00<?, ?it/s]"
      ]
     },
     "metadata": {},
     "output_type": "display_data"
    },
    {
     "data": {
      "application/vnd.jupyter.widget-view+json": {
       "model_id": "ce3bf59dab094efba3d4ecb1988ac73d",
       "version_major": 2,
       "version_minor": 0
      },
      "text/plain": [
       "  0%|          | 0/42 [00:00<?, ?it/s]"
      ]
     },
     "metadata": {},
     "output_type": "display_data"
    },
    {
     "data": {
      "application/vnd.jupyter.widget-view+json": {
       "model_id": "73468dd7b0ec4910bff7b67054685e11",
       "version_major": 2,
       "version_minor": 0
      },
      "text/plain": [
       "  0%|          | 0/41 [00:00<?, ?it/s]"
      ]
     },
     "metadata": {},
     "output_type": "display_data"
    },
    {
     "data": {
      "application/vnd.jupyter.widget-view+json": {
       "model_id": "965b73d69cba40908588927eea894b18",
       "version_major": 2,
       "version_minor": 0
      },
      "text/plain": [
       "  0%|          | 0/40 [00:00<?, ?it/s]"
      ]
     },
     "metadata": {},
     "output_type": "display_data"
    },
    {
     "data": {
      "application/vnd.jupyter.widget-view+json": {
       "model_id": "e987e1311bde4ce9a966dd79c8699b79",
       "version_major": 2,
       "version_minor": 0
      },
      "text/plain": [
       "  0%|          | 0/39 [00:00<?, ?it/s]"
      ]
     },
     "metadata": {},
     "output_type": "display_data"
    },
    {
     "data": {
      "application/vnd.jupyter.widget-view+json": {
       "model_id": "01f05a1f589c41f5ba303be5dc3fab22",
       "version_major": 2,
       "version_minor": 0
      },
      "text/plain": [
       "  0%|          | 0/38 [00:00<?, ?it/s]"
      ]
     },
     "metadata": {},
     "output_type": "display_data"
    },
    {
     "data": {
      "application/vnd.jupyter.widget-view+json": {
       "model_id": "cde0ca2b61044faca52970ff8043eb1b",
       "version_major": 2,
       "version_minor": 0
      },
      "text/plain": [
       "  0%|          | 0/37 [00:00<?, ?it/s]"
      ]
     },
     "metadata": {},
     "output_type": "display_data"
    },
    {
     "data": {
      "application/vnd.jupyter.widget-view+json": {
       "model_id": "c13a7bd55a4148aebf93071084fece3a",
       "version_major": 2,
       "version_minor": 0
      },
      "text/plain": [
       "  0%|          | 0/36 [00:00<?, ?it/s]"
      ]
     },
     "metadata": {},
     "output_type": "display_data"
    },
    {
     "data": {
      "application/vnd.jupyter.widget-view+json": {
       "model_id": "16d6029fd47f4b37bd660c2f30e4ccaa",
       "version_major": 2,
       "version_minor": 0
      },
      "text/plain": [
       "  0%|          | 0/35 [00:00<?, ?it/s]"
      ]
     },
     "metadata": {},
     "output_type": "display_data"
    },
    {
     "data": {
      "application/vnd.jupyter.widget-view+json": {
       "model_id": "8c1f84d0cf834efb98371d5cbcafb933",
       "version_major": 2,
       "version_minor": 0
      },
      "text/plain": [
       "  0%|          | 0/34 [00:00<?, ?it/s]"
      ]
     },
     "metadata": {},
     "output_type": "display_data"
    },
    {
     "data": {
      "application/vnd.jupyter.widget-view+json": {
       "model_id": "0d5e648fb3c645e3b38cf292cd703f25",
       "version_major": 2,
       "version_minor": 0
      },
      "text/plain": [
       "  0%|          | 0/33 [00:00<?, ?it/s]"
      ]
     },
     "metadata": {},
     "output_type": "display_data"
    },
    {
     "data": {
      "application/vnd.jupyter.widget-view+json": {
       "model_id": "7d4a47d70096414ea10a71da528bd16e",
       "version_major": 2,
       "version_minor": 0
      },
      "text/plain": [
       "  0%|          | 0/32 [00:00<?, ?it/s]"
      ]
     },
     "metadata": {},
     "output_type": "display_data"
    },
    {
     "data": {
      "application/vnd.jupyter.widget-view+json": {
       "model_id": "e84c0888155b44dbb9c8d61c80572bcd",
       "version_major": 2,
       "version_minor": 0
      },
      "text/plain": [
       "  0%|          | 0/31 [00:00<?, ?it/s]"
      ]
     },
     "metadata": {},
     "output_type": "display_data"
    },
    {
     "data": {
      "application/vnd.jupyter.widget-view+json": {
       "model_id": "a0f98ab877b441fba85c1e1bb532d5be",
       "version_major": 2,
       "version_minor": 0
      },
      "text/plain": [
       "  0%|          | 0/30 [00:00<?, ?it/s]"
      ]
     },
     "metadata": {},
     "output_type": "display_data"
    },
    {
     "data": {
      "application/vnd.jupyter.widget-view+json": {
       "model_id": "e9dacc1bc0cb418fb0dd1980c7d87951",
       "version_major": 2,
       "version_minor": 0
      },
      "text/plain": [
       "  0%|          | 0/29 [00:00<?, ?it/s]"
      ]
     },
     "metadata": {},
     "output_type": "display_data"
    },
    {
     "data": {
      "application/vnd.jupyter.widget-view+json": {
       "model_id": "38483c9247024eeda9c2d2a56e81b9b6",
       "version_major": 2,
       "version_minor": 0
      },
      "text/plain": [
       "  0%|          | 0/28 [00:00<?, ?it/s]"
      ]
     },
     "metadata": {},
     "output_type": "display_data"
    },
    {
     "data": {
      "application/vnd.jupyter.widget-view+json": {
       "model_id": "994a1e735ebf436eb9e97deacff2f066",
       "version_major": 2,
       "version_minor": 0
      },
      "text/plain": [
       "  0%|          | 0/27 [00:00<?, ?it/s]"
      ]
     },
     "metadata": {},
     "output_type": "display_data"
    },
    {
     "data": {
      "application/vnd.jupyter.widget-view+json": {
       "model_id": "8fdf04ab0c85413694c2ac85706528de",
       "version_major": 2,
       "version_minor": 0
      },
      "text/plain": [
       "  0%|          | 0/26 [00:00<?, ?it/s]"
      ]
     },
     "metadata": {},
     "output_type": "display_data"
    },
    {
     "data": {
      "application/vnd.jupyter.widget-view+json": {
       "model_id": "622d182a20194417968afa9981f62b1c",
       "version_major": 2,
       "version_minor": 0
      },
      "text/plain": [
       "  0%|          | 0/25 [00:00<?, ?it/s]"
      ]
     },
     "metadata": {},
     "output_type": "display_data"
    },
    {
     "data": {
      "application/vnd.jupyter.widget-view+json": {
       "model_id": "d921a8a25e704a858c7deb853c15cc62",
       "version_major": 2,
       "version_minor": 0
      },
      "text/plain": [
       "  0%|          | 0/24 [00:00<?, ?it/s]"
      ]
     },
     "metadata": {},
     "output_type": "display_data"
    },
    {
     "data": {
      "application/vnd.jupyter.widget-view+json": {
       "model_id": "5befb45a9e784c33bfcde774eaca9ede",
       "version_major": 2,
       "version_minor": 0
      },
      "text/plain": [
       "  0%|          | 0/23 [00:00<?, ?it/s]"
      ]
     },
     "metadata": {},
     "output_type": "display_data"
    },
    {
     "data": {
      "application/vnd.jupyter.widget-view+json": {
       "model_id": "66805d9398414590b084ed54e097e4fa",
       "version_major": 2,
       "version_minor": 0
      },
      "text/plain": [
       "  0%|          | 0/22 [00:00<?, ?it/s]"
      ]
     },
     "metadata": {},
     "output_type": "display_data"
    },
    {
     "data": {
      "application/vnd.jupyter.widget-view+json": {
       "model_id": "c1b7010fb3ae492ab12dbc6220a7330e",
       "version_major": 2,
       "version_minor": 0
      },
      "text/plain": [
       "  0%|          | 0/21 [00:00<?, ?it/s]"
      ]
     },
     "metadata": {},
     "output_type": "display_data"
    },
    {
     "data": {
      "application/vnd.jupyter.widget-view+json": {
       "model_id": "de5f8d5081dd4e89af105db45d75a692",
       "version_major": 2,
       "version_minor": 0
      },
      "text/plain": [
       "  0%|          | 0/20 [00:00<?, ?it/s]"
      ]
     },
     "metadata": {},
     "output_type": "display_data"
    },
    {
     "data": {
      "application/vnd.jupyter.widget-view+json": {
       "model_id": "453d723f619d44b0ae5bc6641e2f1315",
       "version_major": 2,
       "version_minor": 0
      },
      "text/plain": [
       "  0%|          | 0/19 [00:00<?, ?it/s]"
      ]
     },
     "metadata": {},
     "output_type": "display_data"
    },
    {
     "data": {
      "application/vnd.jupyter.widget-view+json": {
       "model_id": "14e4202f084e4b109bc325c44f787046",
       "version_major": 2,
       "version_minor": 0
      },
      "text/plain": [
       "  0%|          | 0/18 [00:00<?, ?it/s]"
      ]
     },
     "metadata": {},
     "output_type": "display_data"
    },
    {
     "data": {
      "application/vnd.jupyter.widget-view+json": {
       "model_id": "12ef03ab1c3c40b0b9d96090cc8c97ac",
       "version_major": 2,
       "version_minor": 0
      },
      "text/plain": [
       "  0%|          | 0/17 [00:00<?, ?it/s]"
      ]
     },
     "metadata": {},
     "output_type": "display_data"
    },
    {
     "data": {
      "application/vnd.jupyter.widget-view+json": {
       "model_id": "a915b0dd818d477fbcde9ced2ff84f8e",
       "version_major": 2,
       "version_minor": 0
      },
      "text/plain": [
       "  0%|          | 0/16 [00:00<?, ?it/s]"
      ]
     },
     "metadata": {},
     "output_type": "display_data"
    },
    {
     "data": {
      "application/vnd.jupyter.widget-view+json": {
       "model_id": "06afa630b38943dcb27a171b1450bfd7",
       "version_major": 2,
       "version_minor": 0
      },
      "text/plain": [
       "  0%|          | 0/15 [00:00<?, ?it/s]"
      ]
     },
     "metadata": {},
     "output_type": "display_data"
    },
    {
     "data": {
      "application/vnd.jupyter.widget-view+json": {
       "model_id": "10eea53272304e09a014238e14aa9324",
       "version_major": 2,
       "version_minor": 0
      },
      "text/plain": [
       "  0%|          | 0/14 [00:00<?, ?it/s]"
      ]
     },
     "metadata": {},
     "output_type": "display_data"
    },
    {
     "data": {
      "application/vnd.jupyter.widget-view+json": {
       "model_id": "4f475458766f4c37ae42277266ecfdb2",
       "version_major": 2,
       "version_minor": 0
      },
      "text/plain": [
       "  0%|          | 0/13 [00:00<?, ?it/s]"
      ]
     },
     "metadata": {},
     "output_type": "display_data"
    },
    {
     "data": {
      "application/vnd.jupyter.widget-view+json": {
       "model_id": "22de1e749eb34dfbb1764362cc52be5a",
       "version_major": 2,
       "version_minor": 0
      },
      "text/plain": [
       "  0%|          | 0/12 [00:00<?, ?it/s]"
      ]
     },
     "metadata": {},
     "output_type": "display_data"
    },
    {
     "data": {
      "application/vnd.jupyter.widget-view+json": {
       "model_id": "659d2df9e6704be9ba6df0a6617af585",
       "version_major": 2,
       "version_minor": 0
      },
      "text/plain": [
       "  0%|          | 0/11 [00:00<?, ?it/s]"
      ]
     },
     "metadata": {},
     "output_type": "display_data"
    },
    {
     "data": {
      "application/vnd.jupyter.widget-view+json": {
       "model_id": "49587e6cac374a73be181cd578e4677d",
       "version_major": 2,
       "version_minor": 0
      },
      "text/plain": [
       "  0%|          | 0/10 [00:00<?, ?it/s]"
      ]
     },
     "metadata": {},
     "output_type": "display_data"
    },
    {
     "data": {
      "application/vnd.jupyter.widget-view+json": {
       "model_id": "f6c9e29949a8467eb1b6da89697cf3de",
       "version_major": 2,
       "version_minor": 0
      },
      "text/plain": [
       "  0%|          | 0/9 [00:00<?, ?it/s]"
      ]
     },
     "metadata": {},
     "output_type": "display_data"
    },
    {
     "data": {
      "application/vnd.jupyter.widget-view+json": {
       "model_id": "337a7641932d4735860c9d2d4093fa97",
       "version_major": 2,
       "version_minor": 0
      },
      "text/plain": [
       "  0%|          | 0/8 [00:00<?, ?it/s]"
      ]
     },
     "metadata": {},
     "output_type": "display_data"
    },
    {
     "data": {
      "application/vnd.jupyter.widget-view+json": {
       "model_id": "fe51c31d735d47558cc9b1e812274811",
       "version_major": 2,
       "version_minor": 0
      },
      "text/plain": [
       "  0%|          | 0/7 [00:00<?, ?it/s]"
      ]
     },
     "metadata": {},
     "output_type": "display_data"
    },
    {
     "data": {
      "application/vnd.jupyter.widget-view+json": {
       "model_id": "38b614700a254917807bad81c935a71f",
       "version_major": 2,
       "version_minor": 0
      },
      "text/plain": [
       "  0%|          | 0/6 [00:00<?, ?it/s]"
      ]
     },
     "metadata": {},
     "output_type": "display_data"
    },
    {
     "data": {
      "application/vnd.jupyter.widget-view+json": {
       "model_id": "e0e55f0e4e654e69b73cde7538cb530a",
       "version_major": 2,
       "version_minor": 0
      },
      "text/plain": [
       "  0%|          | 0/5 [00:00<?, ?it/s]"
      ]
     },
     "metadata": {},
     "output_type": "display_data"
    },
    {
     "data": {
      "application/vnd.jupyter.widget-view+json": {
       "model_id": "76ff8c5c13644cf2b5f0358a2f194474",
       "version_major": 2,
       "version_minor": 0
      },
      "text/plain": [
       "  0%|          | 0/4 [00:00<?, ?it/s]"
      ]
     },
     "metadata": {},
     "output_type": "display_data"
    },
    {
     "data": {
      "application/vnd.jupyter.widget-view+json": {
       "model_id": "0f6d7df7091f4ea7a39982cf4ecb388b",
       "version_major": 2,
       "version_minor": 0
      },
      "text/plain": [
       "  0%|          | 0/3 [00:00<?, ?it/s]"
      ]
     },
     "metadata": {},
     "output_type": "display_data"
    },
    {
     "data": {
      "application/vnd.jupyter.widget-view+json": {
       "model_id": "a0c19c09b9d445dcb250ee1a35693656",
       "version_major": 2,
       "version_minor": 0
      },
      "text/plain": [
       "  0%|          | 0/2 [00:00<?, ?it/s]"
      ]
     },
     "metadata": {},
     "output_type": "display_data"
    },
    {
     "data": {
      "application/vnd.jupyter.widget-view+json": {
       "model_id": "b19c278ff19341bbad2aa6bdc8d27d42",
       "version_major": 2,
       "version_minor": 0
      },
      "text/plain": [
       "  0%|          | 0/1 [00:00<?, ?it/s]"
      ]
     },
     "metadata": {},
     "output_type": "display_data"
    }
   ],
   "source": [
    "f1score_macro_list = []\n",
    "gene_list = []\n",
    "pair_list = []\n",
    "f1score_macro_shuff_list = []\n",
    "feat_list = []\n",
    "\n",
    "for i in range(len(well_list) - 1):\n",
    "    well_one = well_list[i]\n",
    "    for j in tqdm(range(i + 1, len(well_list))):\n",
    "        well_two = well_list[j]\n",
    "\n",
    "        df_well_one = control_profiles.loc[control_group[well_one]]\n",
    "        df_well_two = control_profiles.loc[control_group[well_two]]\n",
    "\n",
    "        df_well_one[\"Label\"] = 1\n",
    "        df_well_two[\"Label\"] = 0\n",
    "\n",
    "        all_profiles = pd.concat([df_well_one, df_well_two], ignore_index=True)\n",
    "        X, y = all_profiles[feat_col], all_profiles[[\"Label\"]]\n",
    "\n",
    "        # Split the data\n",
    "        X_train, X_test, y_train, y_test = train_test_split(\n",
    "            X, y, test_size=0.3, random_state=1\n",
    "        )\n",
    "\n",
    "        # Create shuffled train labels\n",
    "        #     y_train_shuff = y_train.copy()\n",
    "        #     y_train_shuff[\"Label\"] = np.random.permutation(y_train.values)\n",
    "\n",
    "        # Model train and predict\n",
    "        model = xgb.XGBClassifier().fit(X_train, y_train)\n",
    "        preds = model.predict(X_test)\n",
    "\n",
    "        # Store feature importance\n",
    "        feat_importances = pd.Series(\n",
    "            model.feature_importances_, index=X_train.columns\n",
    "        )\n",
    "        feat_list.append(feat_importances)\n",
    "\n",
    "        #             model_shuff = xgb.XGBClassifier().fit(X_train, y_train_shuff)\n",
    "        #             preds_shuff = model_shuff.predict(X_test)\n",
    "\n",
    "        # Evaluate with metrics\n",
    "        f1score_macro = f1_score(y_test, preds, average=\"macro\")\n",
    "        #             f1score_macro_shuff = f1_score(y_test, preds_shuff, average=\"macro\")\n",
    "\n",
    "        #             f1score_macro_shuff_list.append(f1score_macro_shuff)\n",
    "        f1score_macro_list.append(f1score_macro)\n",
    "        gene_list.append(well_one)\n",
    "        pair_list.append(well_two)"
   ]
  },
  {
   "cell_type": "code",
   "execution_count": 13,
   "id": "6c1a589d",
   "metadata": {},
   "outputs": [],
   "source": [
    "ctrl_feat_one = pd.DataFrame({\"Gene\": gene_list, \"Variant\": pair_list})\n",
    "ctrl_feat_two = pd.DataFrame(feat_list)\n",
    "ctrl_feat = pd.concat([ctrl_feat_one, ctrl_feat_two], axis=1)"
   ]
  },
  {
   "cell_type": "code",
   "execution_count": 16,
   "id": "3dfceb9f",
   "metadata": {},
   "outputs": [],
   "source": [
    "ctrl_feat.to_csv(\n",
    "    f\"{data_dir}ctrl_feat_importance{feature_type}.csv\",\n",
    "    index=False,\n",
    ")"
   ]
  },
  {
   "cell_type": "code",
   "execution_count": 17,
   "id": "994f2711",
   "metadata": {},
   "outputs": [],
   "source": [
    "control_csv = pd.DataFrame(\n",
    "    {\n",
    "        \"Treatment\": gene_list,\n",
    "        \"Well_Pair\": pair_list,\n",
    "        \"F1_Score\": f1score_macro_list\n",
    "        # \"F1_Score_shuffled\": f1score_macro_shuff_list,\n",
    "    }\n",
    ")\n",
    "control_csv.to_csv(\n",
    "    f\"{data_dir}control_prediction{feature_type}.csv\",\n",
    "    index=False,\n",
    ")"
   ]
  },
  {
   "cell_type": "code",
   "execution_count": 18,
   "id": "7f801068",
   "metadata": {},
   "outputs": [
    {
     "data": {
      "text/html": [
       "<div>\n",
       "<style scoped>\n",
       "    .dataframe tbody tr th:only-of-type {\n",
       "        vertical-align: middle;\n",
       "    }\n",
       "\n",
       "    .dataframe tbody tr th {\n",
       "        vertical-align: top;\n",
       "    }\n",
       "\n",
       "    .dataframe thead th {\n",
       "        text-align: right;\n",
       "    }\n",
       "</style>\n",
       "<table border=\"1\" class=\"dataframe\">\n",
       "  <thead>\n",
       "    <tr style=\"text-align: right;\">\n",
       "      <th></th>\n",
       "      <th>Treatment</th>\n",
       "      <th>Well_Pair</th>\n",
       "      <th>F1_Score</th>\n",
       "    </tr>\n",
       "  </thead>\n",
       "  <tbody>\n",
       "    <tr>\n",
       "      <th>0</th>\n",
       "      <td>A05</td>\n",
       "      <td>A20</td>\n",
       "      <td>0.873941</td>\n",
       "    </tr>\n",
       "    <tr>\n",
       "      <th>1</th>\n",
       "      <td>A05</td>\n",
       "      <td>B12</td>\n",
       "      <td>0.857850</td>\n",
       "    </tr>\n",
       "    <tr>\n",
       "      <th>2</th>\n",
       "      <td>A05</td>\n",
       "      <td>B13</td>\n",
       "      <td>0.916295</td>\n",
       "    </tr>\n",
       "    <tr>\n",
       "      <th>3</th>\n",
       "      <td>A05</td>\n",
       "      <td>C09</td>\n",
       "      <td>0.932413</td>\n",
       "    </tr>\n",
       "    <tr>\n",
       "      <th>4</th>\n",
       "      <td>A05</td>\n",
       "      <td>C16</td>\n",
       "      <td>0.915825</td>\n",
       "    </tr>\n",
       "    <tr>\n",
       "      <th>...</th>\n",
       "      <td>...</td>\n",
       "      <td>...</td>\n",
       "      <td>...</td>\n",
       "    </tr>\n",
       "    <tr>\n",
       "      <th>2011</th>\n",
       "      <td>O11</td>\n",
       "      <td>P11</td>\n",
       "      <td>0.764310</td>\n",
       "    </tr>\n",
       "    <tr>\n",
       "      <th>2012</th>\n",
       "      <td>O11</td>\n",
       "      <td>P24</td>\n",
       "      <td>0.932127</td>\n",
       "    </tr>\n",
       "    <tr>\n",
       "      <th>2013</th>\n",
       "      <td>O12</td>\n",
       "      <td>P11</td>\n",
       "      <td>0.824010</td>\n",
       "    </tr>\n",
       "    <tr>\n",
       "      <th>2014</th>\n",
       "      <td>O12</td>\n",
       "      <td>P24</td>\n",
       "      <td>0.966330</td>\n",
       "    </tr>\n",
       "    <tr>\n",
       "      <th>2015</th>\n",
       "      <td>P11</td>\n",
       "      <td>P24</td>\n",
       "      <td>0.923810</td>\n",
       "    </tr>\n",
       "  </tbody>\n",
       "</table>\n",
       "<p>2016 rows × 3 columns</p>\n",
       "</div>"
      ],
      "text/plain": [
       "     Treatment Well_Pair  F1_Score\n",
       "0          A05       A20  0.873941\n",
       "1          A05       B12  0.857850\n",
       "2          A05       B13  0.916295\n",
       "3          A05       C09  0.932413\n",
       "4          A05       C16  0.915825\n",
       "...        ...       ...       ...\n",
       "2011       O11       P11  0.764310\n",
       "2012       O11       P24  0.932127\n",
       "2013       O12       P11  0.824010\n",
       "2014       O12       P24  0.966330\n",
       "2015       P11       P24  0.923810\n",
       "\n",
       "[2016 rows x 3 columns]"
      ]
     },
     "execution_count": 18,
     "metadata": {},
     "output_type": "execute_result"
    }
   ],
   "source": [
    "control_csv"
   ]
  },
  {
   "cell_type": "markdown",
   "id": "9d589389-b678-49d9-9bba-e61895dc3398",
   "metadata": {},
   "source": [
    "### Compute Bulk Level Cosine Similarity"
   ]
  },
  {
   "cell_type": "code",
   "execution_count": 34,
   "id": "bd7ebab3",
   "metadata": {},
   "outputs": [],
   "source": [
    "df_well = pd.read_csv('/dgx1nas1/storage/data/sam/BR00121425.csv')"
   ]
  },
  {
   "cell_type": "code",
   "execution_count": 35,
   "id": "5d5d367f",
   "metadata": {},
   "outputs": [],
   "source": [
    "meta_well = [i for i in df_well.columns if 'Metadata' in i]\n",
    "feat_well = [i for i in df_well.columns if 'Metadata' not in i]"
   ]
  },
  {
   "cell_type": "code",
   "execution_count": 36,
   "id": "2aea8d6a",
   "metadata": {},
   "outputs": [
    {
     "ename": "NameError",
     "evalue": "name 'feat_col' is not defined",
     "output_type": "error",
     "traceback": [
      "\u001b[0;31m---------------------------------------------------------------------------\u001b[0m",
      "\u001b[0;31mNameError\u001b[0m                                 Traceback (most recent call last)",
      "Cell \u001b[0;32mIn[36], line 1\u001b[0m\n\u001b[0;32m----> 1\u001b[0m df_well \u001b[38;5;241m=\u001b[39m df_well\u001b[38;5;241m.\u001b[39mloc[:, meta_well \u001b[38;5;241m+\u001b[39m feat_col]\n\u001b[1;32m      3\u001b[0m ctrl_wells \u001b[38;5;241m=\u001b[39m control_profiles\u001b[38;5;241m.\u001b[39mMetadata_Well\u001b[38;5;241m.\u001b[39munique()\n\u001b[1;32m      4\u001b[0m df_well_controls \u001b[38;5;241m=\u001b[39m df_well[df_well[\u001b[38;5;124m'\u001b[39m\u001b[38;5;124mMetadata_Well\u001b[39m\u001b[38;5;124m'\u001b[39m]\u001b[38;5;241m.\u001b[39misin(ctrl_wells)]\u001b[38;5;241m.\u001b[39mreset_index(drop\u001b[38;5;241m=\u001b[39m\u001b[38;5;28;01mTrue\u001b[39;00m)\n",
      "\u001b[0;31mNameError\u001b[0m: name 'feat_col' is not defined"
     ]
    }
   ],
   "source": [
    "df_well = df_well.loc[:, meta_well + feat_col]\n",
    "\n",
    "ctrl_wells = control_profiles.Metadata_Well.unique()\n",
    "df_well_controls = df_well[df_well['Metadata_Well'].isin(ctrl_wells)].reset_index(drop=True)"
   ]
  },
  {
   "cell_type": "code",
   "execution_count": 61,
   "id": "c0cd6ec0",
   "metadata": {
    "collapsed": true,
    "jupyter": {
     "outputs_hidden": true
    }
   },
   "outputs": [
    {
     "data": {
      "application/vnd.jupyter.widget-view+json": {
       "model_id": "3629b72a23bf4f4981e2872e03515cd8",
       "version_major": 2,
       "version_minor": 0
      },
      "text/plain": [
       "  0%|          | 0/63 [00:00<?, ?it/s]"
      ]
     },
     "metadata": {},
     "output_type": "display_data"
    },
    {
     "data": {
      "application/vnd.jupyter.widget-view+json": {
       "model_id": "b1f82f0166b4468cb3636b2562be563a",
       "version_major": 2,
       "version_minor": 0
      },
      "text/plain": [
       "  0%|          | 0/62 [00:00<?, ?it/s]"
      ]
     },
     "metadata": {},
     "output_type": "display_data"
    },
    {
     "data": {
      "application/vnd.jupyter.widget-view+json": {
       "model_id": "36038f8835d0445bbe12558988228486",
       "version_major": 2,
       "version_minor": 0
      },
      "text/plain": [
       "  0%|          | 0/61 [00:00<?, ?it/s]"
      ]
     },
     "metadata": {},
     "output_type": "display_data"
    },
    {
     "data": {
      "application/vnd.jupyter.widget-view+json": {
       "model_id": "2aba1c5aa7b9424cb070670f5b5daf44",
       "version_major": 2,
       "version_minor": 0
      },
      "text/plain": [
       "  0%|          | 0/60 [00:00<?, ?it/s]"
      ]
     },
     "metadata": {},
     "output_type": "display_data"
    },
    {
     "data": {
      "application/vnd.jupyter.widget-view+json": {
       "model_id": "7deed7e4328542c1b3197a302b8c0fb9",
       "version_major": 2,
       "version_minor": 0
      },
      "text/plain": [
       "  0%|          | 0/59 [00:00<?, ?it/s]"
      ]
     },
     "metadata": {},
     "output_type": "display_data"
    },
    {
     "data": {
      "application/vnd.jupyter.widget-view+json": {
       "model_id": "a9f6486491d444b5872f3caa2bfae6c2",
       "version_major": 2,
       "version_minor": 0
      },
      "text/plain": [
       "  0%|          | 0/58 [00:00<?, ?it/s]"
      ]
     },
     "metadata": {},
     "output_type": "display_data"
    },
    {
     "data": {
      "application/vnd.jupyter.widget-view+json": {
       "model_id": "939a1e9237f44b079aff527e55a6de34",
       "version_major": 2,
       "version_minor": 0
      },
      "text/plain": [
       "  0%|          | 0/57 [00:00<?, ?it/s]"
      ]
     },
     "metadata": {},
     "output_type": "display_data"
    },
    {
     "data": {
      "application/vnd.jupyter.widget-view+json": {
       "model_id": "14dcb5887ecb4ddf9981a2fed587f29f",
       "version_major": 2,
       "version_minor": 0
      },
      "text/plain": [
       "  0%|          | 0/56 [00:00<?, ?it/s]"
      ]
     },
     "metadata": {},
     "output_type": "display_data"
    },
    {
     "data": {
      "application/vnd.jupyter.widget-view+json": {
       "model_id": "0a8d6296f2bc462b810196a7db6139a9",
       "version_major": 2,
       "version_minor": 0
      },
      "text/plain": [
       "  0%|          | 0/55 [00:00<?, ?it/s]"
      ]
     },
     "metadata": {},
     "output_type": "display_data"
    },
    {
     "data": {
      "application/vnd.jupyter.widget-view+json": {
       "model_id": "7aa6eadc4744426dad0f20358e2ae66f",
       "version_major": 2,
       "version_minor": 0
      },
      "text/plain": [
       "  0%|          | 0/54 [00:00<?, ?it/s]"
      ]
     },
     "metadata": {},
     "output_type": "display_data"
    },
    {
     "data": {
      "application/vnd.jupyter.widget-view+json": {
       "model_id": "e5de43902384468482a6dec41a90094a",
       "version_major": 2,
       "version_minor": 0
      },
      "text/plain": [
       "  0%|          | 0/53 [00:00<?, ?it/s]"
      ]
     },
     "metadata": {},
     "output_type": "display_data"
    },
    {
     "data": {
      "application/vnd.jupyter.widget-view+json": {
       "model_id": "9dcbdcfb4f3c4e65919d982c64faba93",
       "version_major": 2,
       "version_minor": 0
      },
      "text/plain": [
       "  0%|          | 0/52 [00:00<?, ?it/s]"
      ]
     },
     "metadata": {},
     "output_type": "display_data"
    },
    {
     "data": {
      "application/vnd.jupyter.widget-view+json": {
       "model_id": "1144c81b950f42c3aa2943ee9e460a84",
       "version_major": 2,
       "version_minor": 0
      },
      "text/plain": [
       "  0%|          | 0/51 [00:00<?, ?it/s]"
      ]
     },
     "metadata": {},
     "output_type": "display_data"
    },
    {
     "data": {
      "application/vnd.jupyter.widget-view+json": {
       "model_id": "58212677039c4f6e8e917fde5fc88650",
       "version_major": 2,
       "version_minor": 0
      },
      "text/plain": [
       "  0%|          | 0/50 [00:00<?, ?it/s]"
      ]
     },
     "metadata": {},
     "output_type": "display_data"
    },
    {
     "data": {
      "application/vnd.jupyter.widget-view+json": {
       "model_id": "7076714e6fae46ff87e704ed8a8860f0",
       "version_major": 2,
       "version_minor": 0
      },
      "text/plain": [
       "  0%|          | 0/49 [00:00<?, ?it/s]"
      ]
     },
     "metadata": {},
     "output_type": "display_data"
    },
    {
     "data": {
      "application/vnd.jupyter.widget-view+json": {
       "model_id": "d57ab2ef919c4676a0e79538d4d4d522",
       "version_major": 2,
       "version_minor": 0
      },
      "text/plain": [
       "  0%|          | 0/48 [00:00<?, ?it/s]"
      ]
     },
     "metadata": {},
     "output_type": "display_data"
    },
    {
     "data": {
      "application/vnd.jupyter.widget-view+json": {
       "model_id": "adf8b89bb41843d4a2e38c16a69003e0",
       "version_major": 2,
       "version_minor": 0
      },
      "text/plain": [
       "  0%|          | 0/47 [00:00<?, ?it/s]"
      ]
     },
     "metadata": {},
     "output_type": "display_data"
    },
    {
     "data": {
      "application/vnd.jupyter.widget-view+json": {
       "model_id": "51b8cf576f7e4f12ab6ac465bfa36142",
       "version_major": 2,
       "version_minor": 0
      },
      "text/plain": [
       "  0%|          | 0/46 [00:00<?, ?it/s]"
      ]
     },
     "metadata": {},
     "output_type": "display_data"
    },
    {
     "data": {
      "application/vnd.jupyter.widget-view+json": {
       "model_id": "5513b27b58db4eaba4805226dab67409",
       "version_major": 2,
       "version_minor": 0
      },
      "text/plain": [
       "  0%|          | 0/45 [00:00<?, ?it/s]"
      ]
     },
     "metadata": {},
     "output_type": "display_data"
    },
    {
     "data": {
      "application/vnd.jupyter.widget-view+json": {
       "model_id": "9db82af9855c47eba80240961f295157",
       "version_major": 2,
       "version_minor": 0
      },
      "text/plain": [
       "  0%|          | 0/44 [00:00<?, ?it/s]"
      ]
     },
     "metadata": {},
     "output_type": "display_data"
    },
    {
     "data": {
      "application/vnd.jupyter.widget-view+json": {
       "model_id": "836bc58144a0412c82fbaf6385a98062",
       "version_major": 2,
       "version_minor": 0
      },
      "text/plain": [
       "  0%|          | 0/43 [00:00<?, ?it/s]"
      ]
     },
     "metadata": {},
     "output_type": "display_data"
    },
    {
     "data": {
      "application/vnd.jupyter.widget-view+json": {
       "model_id": "c7adbf0becd14bb19b769ef38525e7a7",
       "version_major": 2,
       "version_minor": 0
      },
      "text/plain": [
       "  0%|          | 0/42 [00:00<?, ?it/s]"
      ]
     },
     "metadata": {},
     "output_type": "display_data"
    },
    {
     "data": {
      "application/vnd.jupyter.widget-view+json": {
       "model_id": "5ff142672f7a433ebeebfe8237a6fbf6",
       "version_major": 2,
       "version_minor": 0
      },
      "text/plain": [
       "  0%|          | 0/41 [00:00<?, ?it/s]"
      ]
     },
     "metadata": {},
     "output_type": "display_data"
    },
    {
     "data": {
      "application/vnd.jupyter.widget-view+json": {
       "model_id": "6ff17a2a53c04afd8aa7520cca1038bb",
       "version_major": 2,
       "version_minor": 0
      },
      "text/plain": [
       "  0%|          | 0/40 [00:00<?, ?it/s]"
      ]
     },
     "metadata": {},
     "output_type": "display_data"
    },
    {
     "data": {
      "application/vnd.jupyter.widget-view+json": {
       "model_id": "ab0fb79a4f2b47d582bc03e99ac8c015",
       "version_major": 2,
       "version_minor": 0
      },
      "text/plain": [
       "  0%|          | 0/39 [00:00<?, ?it/s]"
      ]
     },
     "metadata": {},
     "output_type": "display_data"
    },
    {
     "data": {
      "application/vnd.jupyter.widget-view+json": {
       "model_id": "dd76b7322c354469926e035c7a45a75f",
       "version_major": 2,
       "version_minor": 0
      },
      "text/plain": [
       "  0%|          | 0/38 [00:00<?, ?it/s]"
      ]
     },
     "metadata": {},
     "output_type": "display_data"
    },
    {
     "data": {
      "application/vnd.jupyter.widget-view+json": {
       "model_id": "d184a28d89c1410ab29595b1939e931d",
       "version_major": 2,
       "version_minor": 0
      },
      "text/plain": [
       "  0%|          | 0/37 [00:00<?, ?it/s]"
      ]
     },
     "metadata": {},
     "output_type": "display_data"
    },
    {
     "data": {
      "application/vnd.jupyter.widget-view+json": {
       "model_id": "5224596000b7450093299baa3726e32b",
       "version_major": 2,
       "version_minor": 0
      },
      "text/plain": [
       "  0%|          | 0/36 [00:00<?, ?it/s]"
      ]
     },
     "metadata": {},
     "output_type": "display_data"
    },
    {
     "data": {
      "application/vnd.jupyter.widget-view+json": {
       "model_id": "47880a8c4bdc4b98aa9c68c965faf328",
       "version_major": 2,
       "version_minor": 0
      },
      "text/plain": [
       "  0%|          | 0/35 [00:00<?, ?it/s]"
      ]
     },
     "metadata": {},
     "output_type": "display_data"
    },
    {
     "data": {
      "application/vnd.jupyter.widget-view+json": {
       "model_id": "cf88b9557760415483e16ee86ca234e5",
       "version_major": 2,
       "version_minor": 0
      },
      "text/plain": [
       "  0%|          | 0/34 [00:00<?, ?it/s]"
      ]
     },
     "metadata": {},
     "output_type": "display_data"
    },
    {
     "data": {
      "application/vnd.jupyter.widget-view+json": {
       "model_id": "fa97eb2eb88e477b965fa4e7b1423388",
       "version_major": 2,
       "version_minor": 0
      },
      "text/plain": [
       "  0%|          | 0/33 [00:00<?, ?it/s]"
      ]
     },
     "metadata": {},
     "output_type": "display_data"
    },
    {
     "data": {
      "application/vnd.jupyter.widget-view+json": {
       "model_id": "79cef5b4317840a6a7b906de4ec4e8fb",
       "version_major": 2,
       "version_minor": 0
      },
      "text/plain": [
       "  0%|          | 0/32 [00:00<?, ?it/s]"
      ]
     },
     "metadata": {},
     "output_type": "display_data"
    },
    {
     "data": {
      "application/vnd.jupyter.widget-view+json": {
       "model_id": "756490f706624a5192c3de2d729dfba3",
       "version_major": 2,
       "version_minor": 0
      },
      "text/plain": [
       "  0%|          | 0/31 [00:00<?, ?it/s]"
      ]
     },
     "metadata": {},
     "output_type": "display_data"
    },
    {
     "data": {
      "application/vnd.jupyter.widget-view+json": {
       "model_id": "2ee1f58e58204c40a43f3cb4af47e4da",
       "version_major": 2,
       "version_minor": 0
      },
      "text/plain": [
       "  0%|          | 0/30 [00:00<?, ?it/s]"
      ]
     },
     "metadata": {},
     "output_type": "display_data"
    },
    {
     "data": {
      "application/vnd.jupyter.widget-view+json": {
       "model_id": "d7cc34daf9c44c4cb9d68133b4da6a06",
       "version_major": 2,
       "version_minor": 0
      },
      "text/plain": [
       "  0%|          | 0/29 [00:00<?, ?it/s]"
      ]
     },
     "metadata": {},
     "output_type": "display_data"
    },
    {
     "data": {
      "application/vnd.jupyter.widget-view+json": {
       "model_id": "7fd27366900c4597a156cac151e11c97",
       "version_major": 2,
       "version_minor": 0
      },
      "text/plain": [
       "  0%|          | 0/28 [00:00<?, ?it/s]"
      ]
     },
     "metadata": {},
     "output_type": "display_data"
    },
    {
     "data": {
      "application/vnd.jupyter.widget-view+json": {
       "model_id": "905a6fc6ae0049deb3cb43e12759597d",
       "version_major": 2,
       "version_minor": 0
      },
      "text/plain": [
       "  0%|          | 0/27 [00:00<?, ?it/s]"
      ]
     },
     "metadata": {},
     "output_type": "display_data"
    },
    {
     "data": {
      "application/vnd.jupyter.widget-view+json": {
       "model_id": "a7c654bb72b64eabbc5ce35295522669",
       "version_major": 2,
       "version_minor": 0
      },
      "text/plain": [
       "  0%|          | 0/26 [00:00<?, ?it/s]"
      ]
     },
     "metadata": {},
     "output_type": "display_data"
    },
    {
     "data": {
      "application/vnd.jupyter.widget-view+json": {
       "model_id": "f02674ec5af447ed98583c9ff9933bca",
       "version_major": 2,
       "version_minor": 0
      },
      "text/plain": [
       "  0%|          | 0/25 [00:00<?, ?it/s]"
      ]
     },
     "metadata": {},
     "output_type": "display_data"
    },
    {
     "data": {
      "application/vnd.jupyter.widget-view+json": {
       "model_id": "50f06d68f7214b92af4a79c9700721d7",
       "version_major": 2,
       "version_minor": 0
      },
      "text/plain": [
       "  0%|          | 0/24 [00:00<?, ?it/s]"
      ]
     },
     "metadata": {},
     "output_type": "display_data"
    },
    {
     "data": {
      "application/vnd.jupyter.widget-view+json": {
       "model_id": "9b1e8cc539864f868626df4cbfc2bfb8",
       "version_major": 2,
       "version_minor": 0
      },
      "text/plain": [
       "  0%|          | 0/23 [00:00<?, ?it/s]"
      ]
     },
     "metadata": {},
     "output_type": "display_data"
    },
    {
     "data": {
      "application/vnd.jupyter.widget-view+json": {
       "model_id": "af64ef3adf584c4a92d1ea93a27a733c",
       "version_major": 2,
       "version_minor": 0
      },
      "text/plain": [
       "  0%|          | 0/22 [00:00<?, ?it/s]"
      ]
     },
     "metadata": {},
     "output_type": "display_data"
    },
    {
     "data": {
      "application/vnd.jupyter.widget-view+json": {
       "model_id": "445aafa8dabe42989648e0dd77fe851a",
       "version_major": 2,
       "version_minor": 0
      },
      "text/plain": [
       "  0%|          | 0/21 [00:00<?, ?it/s]"
      ]
     },
     "metadata": {},
     "output_type": "display_data"
    },
    {
     "data": {
      "application/vnd.jupyter.widget-view+json": {
       "model_id": "fae5e8c4a52a4fe0abdd5af335d1bb5e",
       "version_major": 2,
       "version_minor": 0
      },
      "text/plain": [
       "  0%|          | 0/20 [00:00<?, ?it/s]"
      ]
     },
     "metadata": {},
     "output_type": "display_data"
    },
    {
     "data": {
      "application/vnd.jupyter.widget-view+json": {
       "model_id": "78a0c1b4972840c09f0923e063c470b4",
       "version_major": 2,
       "version_minor": 0
      },
      "text/plain": [
       "  0%|          | 0/19 [00:00<?, ?it/s]"
      ]
     },
     "metadata": {},
     "output_type": "display_data"
    },
    {
     "data": {
      "application/vnd.jupyter.widget-view+json": {
       "model_id": "c6226c132ad4474990df92cdb59a29d3",
       "version_major": 2,
       "version_minor": 0
      },
      "text/plain": [
       "  0%|          | 0/18 [00:00<?, ?it/s]"
      ]
     },
     "metadata": {},
     "output_type": "display_data"
    },
    {
     "data": {
      "application/vnd.jupyter.widget-view+json": {
       "model_id": "e29c88ed27954d06975f29e0cfba5331",
       "version_major": 2,
       "version_minor": 0
      },
      "text/plain": [
       "  0%|          | 0/17 [00:00<?, ?it/s]"
      ]
     },
     "metadata": {},
     "output_type": "display_data"
    },
    {
     "data": {
      "application/vnd.jupyter.widget-view+json": {
       "model_id": "14eedd80a30845749673852a79fc3cf6",
       "version_major": 2,
       "version_minor": 0
      },
      "text/plain": [
       "  0%|          | 0/16 [00:00<?, ?it/s]"
      ]
     },
     "metadata": {},
     "output_type": "display_data"
    },
    {
     "data": {
      "application/vnd.jupyter.widget-view+json": {
       "model_id": "b503ff441ea34a5bb236e172b2796b0f",
       "version_major": 2,
       "version_minor": 0
      },
      "text/plain": [
       "  0%|          | 0/15 [00:00<?, ?it/s]"
      ]
     },
     "metadata": {},
     "output_type": "display_data"
    },
    {
     "data": {
      "application/vnd.jupyter.widget-view+json": {
       "model_id": "f1037de6fb2f4a0f83a0bbb54deebca0",
       "version_major": 2,
       "version_minor": 0
      },
      "text/plain": [
       "  0%|          | 0/14 [00:00<?, ?it/s]"
      ]
     },
     "metadata": {},
     "output_type": "display_data"
    },
    {
     "data": {
      "application/vnd.jupyter.widget-view+json": {
       "model_id": "685235ccee9c481cbba4c4015d31d8cf",
       "version_major": 2,
       "version_minor": 0
      },
      "text/plain": [
       "  0%|          | 0/13 [00:00<?, ?it/s]"
      ]
     },
     "metadata": {},
     "output_type": "display_data"
    },
    {
     "data": {
      "application/vnd.jupyter.widget-view+json": {
       "model_id": "fabcce97bdee4e57bb1f560e2cefb63c",
       "version_major": 2,
       "version_minor": 0
      },
      "text/plain": [
       "  0%|          | 0/12 [00:00<?, ?it/s]"
      ]
     },
     "metadata": {},
     "output_type": "display_data"
    },
    {
     "data": {
      "application/vnd.jupyter.widget-view+json": {
       "model_id": "0efe6c5dfae448b0a0d6e77c6f2b16ed",
       "version_major": 2,
       "version_minor": 0
      },
      "text/plain": [
       "  0%|          | 0/11 [00:00<?, ?it/s]"
      ]
     },
     "metadata": {},
     "output_type": "display_data"
    },
    {
     "data": {
      "application/vnd.jupyter.widget-view+json": {
       "model_id": "3cf25a812f664fc8bf9a789b3d6a84a7",
       "version_major": 2,
       "version_minor": 0
      },
      "text/plain": [
       "  0%|          | 0/10 [00:00<?, ?it/s]"
      ]
     },
     "metadata": {},
     "output_type": "display_data"
    },
    {
     "data": {
      "application/vnd.jupyter.widget-view+json": {
       "model_id": "6b38004410f841caa2e8eb5d6ed63639",
       "version_major": 2,
       "version_minor": 0
      },
      "text/plain": [
       "  0%|          | 0/9 [00:00<?, ?it/s]"
      ]
     },
     "metadata": {},
     "output_type": "display_data"
    },
    {
     "data": {
      "application/vnd.jupyter.widget-view+json": {
       "model_id": "402dc746d019460f9246a41a8ca4e17f",
       "version_major": 2,
       "version_minor": 0
      },
      "text/plain": [
       "  0%|          | 0/8 [00:00<?, ?it/s]"
      ]
     },
     "metadata": {},
     "output_type": "display_data"
    },
    {
     "data": {
      "application/vnd.jupyter.widget-view+json": {
       "model_id": "f21aa5d773d048319e241e301859f3dc",
       "version_major": 2,
       "version_minor": 0
      },
      "text/plain": [
       "  0%|          | 0/7 [00:00<?, ?it/s]"
      ]
     },
     "metadata": {},
     "output_type": "display_data"
    },
    {
     "data": {
      "application/vnd.jupyter.widget-view+json": {
       "model_id": "27241b3227924fec8da6c857f5f20c26",
       "version_major": 2,
       "version_minor": 0
      },
      "text/plain": [
       "  0%|          | 0/6 [00:00<?, ?it/s]"
      ]
     },
     "metadata": {},
     "output_type": "display_data"
    },
    {
     "data": {
      "application/vnd.jupyter.widget-view+json": {
       "model_id": "dc24ffafc7a84e7c96f4247c79552372",
       "version_major": 2,
       "version_minor": 0
      },
      "text/plain": [
       "  0%|          | 0/5 [00:00<?, ?it/s]"
      ]
     },
     "metadata": {},
     "output_type": "display_data"
    },
    {
     "data": {
      "application/vnd.jupyter.widget-view+json": {
       "model_id": "2ee581648bfe46bf95594a23d2376115",
       "version_major": 2,
       "version_minor": 0
      },
      "text/plain": [
       "  0%|          | 0/4 [00:00<?, ?it/s]"
      ]
     },
     "metadata": {},
     "output_type": "display_data"
    },
    {
     "data": {
      "application/vnd.jupyter.widget-view+json": {
       "model_id": "8b98d08f236348beb8944a558aeabe0c",
       "version_major": 2,
       "version_minor": 0
      },
      "text/plain": [
       "  0%|          | 0/3 [00:00<?, ?it/s]"
      ]
     },
     "metadata": {},
     "output_type": "display_data"
    },
    {
     "data": {
      "application/vnd.jupyter.widget-view+json": {
       "model_id": "0c08bfbf714a49459bd122c35b8feaaa",
       "version_major": 2,
       "version_minor": 0
      },
      "text/plain": [
       "  0%|          | 0/2 [00:00<?, ?it/s]"
      ]
     },
     "metadata": {},
     "output_type": "display_data"
    },
    {
     "data": {
      "application/vnd.jupyter.widget-view+json": {
       "model_id": "2d1ceb41889a466f97f6fdfd7fa96953",
       "version_major": 2,
       "version_minor": 0
      },
      "text/plain": [
       "  0%|          | 0/1 [00:00<?, ?it/s]"
      ]
     },
     "metadata": {},
     "output_type": "display_data"
    }
   ],
   "source": [
    "cos_sim_list = []\n",
    "gene_list = []\n",
    "pair_list = []\n",
    "for i in tqdm(range(len(well_list) - 1)):\n",
    "    well_one = well_list[i]\n",
    "    df_well_one = df_well_controls[df_well_controls['Metadata_Well']==well_one][feat_col].values.squeeze()\n",
    "    for j in range(i + 1, len(well_list)):\n",
    "        well_two = well_list[j]\n",
    "        df_well_two = df_well_controls[df_well_controls['Metadata_Well']==well_two][feat_col].values.squeeze()\n",
    "        \n",
    "        cos_sim = scipy.spatial.distance.cosine(df_well_one, df_well_two)\n",
    "        \n",
    "        cos_sim_list.append(cos_sim)\n",
    "        gene_list.append(well_one)\n",
    "        pair_list.append(well_two)"
   ]
  },
  {
   "cell_type": "code",
   "execution_count": 67,
   "id": "67200afc",
   "metadata": {},
   "outputs": [],
   "source": [
    "cluster_csv = pd.DataFrame(\n",
    "    {\n",
    "        \"Well_One\": gene_list,\n",
    "        \"Well_Two\": pair_list,\n",
    "        \"Cosine\": cos_sim_list\n",
    "    }\n",
    ")"
   ]
  },
  {
   "cell_type": "code",
   "execution_count": null,
   "id": "a18b1790",
   "metadata": {},
   "outputs": [],
   "source": [
    "def plot_feature_correlations(Xinput):\n",
    "  sns.clustermap(\n",
    "      np.corrcoef(Xinput.transpose()),\n",
    "      metric=\"cosine\",\n",
    "      vmin=-1,\n",
    "      vmax=1,\n",
    "      cmap=sns.diverging_palette(20, 220, n=200)\n",
    "      ).fig.suptitle(f\"\")"
   ]
  },
  {
   "cell_type": "code",
   "execution_count": 125,
   "id": "ddd38484",
   "metadata": {},
   "outputs": [
    {
     "data": {
      "text/plain": [
       "64"
      ]
     },
     "execution_count": 125,
     "metadata": {},
     "output_type": "execute_result"
    }
   ],
   "source": [
    "len(well_list)"
   ]
  },
  {
   "cell_type": "markdown",
   "id": "39ab1ab1",
   "metadata": {},
   "source": [
    "### Visualization"
   ]
  },
  {
   "cell_type": "code",
   "execution_count": 1,
   "id": "e5857776",
   "metadata": {},
   "outputs": [],
   "source": [
    "import seaborn as sb\n",
    "import matplotlib.pyplot as plt"
   ]
  },
  {
   "cell_type": "code",
   "execution_count": 23,
   "id": "0d9d4b3f",
   "metadata": {},
   "outputs": [
    {
     "data": {
      "text/html": [
       "<div>\n",
       "<style scoped>\n",
       "    .dataframe tbody tr th:only-of-type {\n",
       "        vertical-align: middle;\n",
       "    }\n",
       "\n",
       "    .dataframe tbody tr th {\n",
       "        vertical-align: top;\n",
       "    }\n",
       "\n",
       "    .dataframe thead th {\n",
       "        text-align: right;\n",
       "    }\n",
       "</style>\n",
       "<table border=\"1\" class=\"dataframe\">\n",
       "  <thead>\n",
       "    <tr style=\"text-align: right;\">\n",
       "      <th></th>\n",
       "      <th>Treatment</th>\n",
       "      <th>Well_Pair</th>\n",
       "      <th>F1_Score</th>\n",
       "    </tr>\n",
       "  </thead>\n",
       "  <tbody>\n",
       "    <tr>\n",
       "      <th>0</th>\n",
       "      <td>A05</td>\n",
       "      <td>A20</td>\n",
       "      <td>0.873941</td>\n",
       "    </tr>\n",
       "    <tr>\n",
       "      <th>1</th>\n",
       "      <td>A05</td>\n",
       "      <td>B12</td>\n",
       "      <td>0.857850</td>\n",
       "    </tr>\n",
       "    <tr>\n",
       "      <th>2</th>\n",
       "      <td>A05</td>\n",
       "      <td>B13</td>\n",
       "      <td>0.916295</td>\n",
       "    </tr>\n",
       "    <tr>\n",
       "      <th>3</th>\n",
       "      <td>A05</td>\n",
       "      <td>C09</td>\n",
       "      <td>0.932413</td>\n",
       "    </tr>\n",
       "    <tr>\n",
       "      <th>4</th>\n",
       "      <td>A05</td>\n",
       "      <td>C16</td>\n",
       "      <td>0.915825</td>\n",
       "    </tr>\n",
       "    <tr>\n",
       "      <th>...</th>\n",
       "      <td>...</td>\n",
       "      <td>...</td>\n",
       "      <td>...</td>\n",
       "    </tr>\n",
       "    <tr>\n",
       "      <th>2011</th>\n",
       "      <td>O11</td>\n",
       "      <td>P11</td>\n",
       "      <td>0.764310</td>\n",
       "    </tr>\n",
       "    <tr>\n",
       "      <th>2012</th>\n",
       "      <td>O11</td>\n",
       "      <td>P24</td>\n",
       "      <td>0.932127</td>\n",
       "    </tr>\n",
       "    <tr>\n",
       "      <th>2013</th>\n",
       "      <td>O12</td>\n",
       "      <td>P11</td>\n",
       "      <td>0.824010</td>\n",
       "    </tr>\n",
       "    <tr>\n",
       "      <th>2014</th>\n",
       "      <td>O12</td>\n",
       "      <td>P24</td>\n",
       "      <td>0.966330</td>\n",
       "    </tr>\n",
       "    <tr>\n",
       "      <th>2015</th>\n",
       "      <td>P11</td>\n",
       "      <td>P24</td>\n",
       "      <td>0.923810</td>\n",
       "    </tr>\n",
       "  </tbody>\n",
       "</table>\n",
       "<p>2016 rows × 3 columns</p>\n",
       "</div>"
      ],
      "text/plain": [
       "     Treatment Well_Pair  F1_Score\n",
       "0          A05       A20  0.873941\n",
       "1          A05       B12  0.857850\n",
       "2          A05       B13  0.916295\n",
       "3          A05       C09  0.932413\n",
       "4          A05       C16  0.915825\n",
       "...        ...       ...       ...\n",
       "2011       O11       P11  0.764310\n",
       "2012       O11       P24  0.932127\n",
       "2013       O12       P11  0.824010\n",
       "2014       O12       P24  0.966330\n",
       "2015       P11       P24  0.923810\n",
       "\n",
       "[2016 rows x 3 columns]"
      ]
     },
     "execution_count": 23,
     "metadata": {},
     "output_type": "execute_result"
    }
   ],
   "source": [
    "# control_csv = pd.read_csv(f\"{data_dir}/protein_control_prediction{feature_type}.csv\")\n",
    "control_csv = pd.read_csv(f\"{data_dir}/control_prediction_annotated_normalized_feature_selected_sphering.csv\")\n",
    "control_csv"
   ]
  },
  {
   "cell_type": "code",
   "execution_count": 26,
   "id": "7af3bc96",
   "metadata": {},
   "outputs": [
    {
     "data": {
      "text/html": [
       "<div>\n",
       "<style scoped>\n",
       "    .dataframe tbody tr th:only-of-type {\n",
       "        vertical-align: middle;\n",
       "    }\n",
       "\n",
       "    .dataframe tbody tr th {\n",
       "        vertical-align: top;\n",
       "    }\n",
       "\n",
       "    .dataframe thead th {\n",
       "        text-align: right;\n",
       "    }\n",
       "</style>\n",
       "<table border=\"1\" class=\"dataframe\">\n",
       "  <thead>\n",
       "    <tr style=\"text-align: right;\">\n",
       "      <th></th>\n",
       "      <th>Gene</th>\n",
       "      <th>Variant</th>\n",
       "      <th>F1_Score</th>\n",
       "    </tr>\n",
       "  </thead>\n",
       "  <tbody>\n",
       "    <tr>\n",
       "      <th>0</th>\n",
       "      <td>BRD-A64173453-015-03-1</td>\n",
       "      <td>BRD-K81405859-300-01-4</td>\n",
       "      <td>0.991534</td>\n",
       "    </tr>\n",
       "    <tr>\n",
       "      <th>1</th>\n",
       "      <td>BRD-A64173453-015-03-1</td>\n",
       "      <td>BRD-K61918008-001-07-1</td>\n",
       "      <td>0.957839</td>\n",
       "    </tr>\n",
       "    <tr>\n",
       "      <th>2</th>\n",
       "      <td>BRD-A64173453-015-03-1</td>\n",
       "      <td>BRD-K09338665-001-07-1</td>\n",
       "      <td>0.940974</td>\n",
       "    </tr>\n",
       "    <tr>\n",
       "      <th>3</th>\n",
       "      <td>BRD-A64173453-015-03-1</td>\n",
       "      <td>BRD-A18992208-003-02-7</td>\n",
       "      <td>0.966207</td>\n",
       "    </tr>\n",
       "    <tr>\n",
       "      <th>4</th>\n",
       "      <td>BRD-A64173453-015-03-1</td>\n",
       "      <td>BRD-A58048407-001-20-4</td>\n",
       "      <td>0.932127</td>\n",
       "    </tr>\n",
       "    <tr>\n",
       "      <th>...</th>\n",
       "      <td>...</td>\n",
       "      <td>...</td>\n",
       "      <td>...</td>\n",
       "    </tr>\n",
       "    <tr>\n",
       "      <th>2011</th>\n",
       "      <td>BRD-K80666802-003-02-9</td>\n",
       "      <td>BRD-K77087341-001-02-4</td>\n",
       "      <td>0.948849</td>\n",
       "    </tr>\n",
       "    <tr>\n",
       "      <th>2012</th>\n",
       "      <td>BRD-K80666802-003-02-9</td>\n",
       "      <td>BRD-A30815329-001-10-5</td>\n",
       "      <td>0.957839</td>\n",
       "    </tr>\n",
       "    <tr>\n",
       "      <th>2013</th>\n",
       "      <td>BRD-K45746021-003-01-9</td>\n",
       "      <td>BRD-K77087341-001-02-4</td>\n",
       "      <td>0.966330</td>\n",
       "    </tr>\n",
       "    <tr>\n",
       "      <th>2014</th>\n",
       "      <td>BRD-K45746021-003-01-9</td>\n",
       "      <td>BRD-A30815329-001-10-5</td>\n",
       "      <td>0.957839</td>\n",
       "    </tr>\n",
       "    <tr>\n",
       "      <th>2015</th>\n",
       "      <td>BRD-K77087341-001-02-4</td>\n",
       "      <td>BRD-A30815329-001-10-5</td>\n",
       "      <td>0.982950</td>\n",
       "    </tr>\n",
       "  </tbody>\n",
       "</table>\n",
       "<p>2016 rows × 3 columns</p>\n",
       "</div>"
      ],
      "text/plain": [
       "                        Gene                 Variant  F1_Score\n",
       "0     BRD-A64173453-015-03-1  BRD-K81405859-300-01-4  0.991534\n",
       "1     BRD-A64173453-015-03-1  BRD-K61918008-001-07-1  0.957839\n",
       "2     BRD-A64173453-015-03-1  BRD-K09338665-001-07-1  0.940974\n",
       "3     BRD-A64173453-015-03-1  BRD-A18992208-003-02-7  0.966207\n",
       "4     BRD-A64173453-015-03-1  BRD-A58048407-001-20-4  0.932127\n",
       "...                      ...                     ...       ...\n",
       "2011  BRD-K80666802-003-02-9  BRD-K77087341-001-02-4  0.948849\n",
       "2012  BRD-K80666802-003-02-9  BRD-A30815329-001-10-5  0.957839\n",
       "2013  BRD-K45746021-003-01-9  BRD-K77087341-001-02-4  0.966330\n",
       "2014  BRD-K45746021-003-01-9  BRD-A30815329-001-10-5  0.957839\n",
       "2015  BRD-K77087341-001-02-4  BRD-A30815329-001-10-5  0.982950\n",
       "\n",
       "[2016 rows x 3 columns]"
      ]
     },
     "execution_count": 26,
     "metadata": {},
     "output_type": "execute_result"
    }
   ],
   "source": [
    "result_csv = pd.read_csv(f\"{data_dir}/compound_pred__annotated_normalized_feature_selected.csv\")\n",
    "result_csv"
   ]
  },
  {
   "cell_type": "code",
   "execution_count": 27,
   "id": "b1f87154",
   "metadata": {},
   "outputs": [],
   "source": [
    "control_csv[\"Type\"] = \"Control\"\n",
    "result_csv['Type'] = 'Compound'\n",
    "all_csv = pd.concat([control_csv, result_csv], ignore_index=True)"
   ]
  },
  {
   "cell_type": "code",
   "execution_count": 28,
   "id": "1c0f52f8",
   "metadata": {},
   "outputs": [],
   "source": [
    "thresh = np.percentile(control_csv[\"F1_Score\"], 95)\n",
    "num_pass = np.where(result_csv['F1_Score']> thresh)[0].size"
   ]
  },
  {
   "cell_type": "code",
   "execution_count": 29,
   "id": "46c32f5e",
   "metadata": {},
   "outputs": [
    {
     "name": "stdout",
     "output_type": "stream",
     "text": [
      "95% threshold for controls: 0.9658994032395568\n",
      "Number of compound pairs pass threshold: 1087\n"
     ]
    }
   ],
   "source": [
    "print(f'95% threshold for controls: {thresh}')\n",
    "print(f'Number of compound pairs pass threshold: {num_pass}')"
   ]
  },
  {
   "cell_type": "code",
   "execution_count": 30,
   "id": "e53b5bcb",
   "metadata": {},
   "outputs": [
    {
     "data": {
      "image/png": "[encoded data removed]",
      "text/plain": [
       "<Figure size 640x480 with 1 Axes>"
      ]
     },
     "metadata": {},
     "output_type": "display_data"
    }
   ],
   "source": [
    "plt.figure()\n",
    "sb.histplot(data=all_csv, x=\"F1_Score\", hue=\"Type\", bins=100, stat='percent')\n",
    "plt.title(\"F1 Score of Compound classification vs DMSO well classification\")\n",
    "plt.show()"
   ]
  },
  {
   "cell_type": "code",
   "execution_count": 31,
   "id": "55982ab0",
   "metadata": {},
   "outputs": [
    {
     "data": {
      "image/png": "[encoded data removed]",
      "text/plain": [
       "<Figure size 640x480 with 1 Axes>"
      ]
     },
     "metadata": {},
     "output_type": "display_data"
    }
   ],
   "source": [
    "sb.boxplot(data=control_csv, x=\"F1_Score\")\n",
    "plt.title(\"Control Classification\")\n",
    "plt.show()"
   ]
  },
  {
   "cell_type": "code",
   "execution_count": 33,
   "id": "411f3c43-e9d8-4146-a01a-c236119e7f4b",
   "metadata": {},
   "outputs": [
    {
     "data": {
      "text/html": [
       "<div>\n",
       "<style scoped>\n",
       "    .dataframe tbody tr th:only-of-type {\n",
       "        vertical-align: middle;\n",
       "    }\n",
       "\n",
       "    .dataframe tbody tr th {\n",
       "        vertical-align: top;\n",
       "    }\n",
       "\n",
       "    .dataframe thead th {\n",
       "        text-align: right;\n",
       "    }\n",
       "</style>\n",
       "<table border=\"1\" class=\"dataframe\">\n",
       "  <thead>\n",
       "    <tr style=\"text-align: right;\">\n",
       "      <th></th>\n",
       "      <th>Treatment</th>\n",
       "      <th>Well_Pair</th>\n",
       "      <th>F1_Score</th>\n",
       "      <th>Type</th>\n",
       "    </tr>\n",
       "  </thead>\n",
       "  <tbody>\n",
       "    <tr>\n",
       "      <th>0</th>\n",
       "      <td>A05</td>\n",
       "      <td>A20</td>\n",
       "      <td>0.873941</td>\n",
       "      <td>Control</td>\n",
       "    </tr>\n",
       "    <tr>\n",
       "      <th>1</th>\n",
       "      <td>A05</td>\n",
       "      <td>B12</td>\n",
       "      <td>0.857850</td>\n",
       "      <td>Control</td>\n",
       "    </tr>\n",
       "    <tr>\n",
       "      <th>2</th>\n",
       "      <td>A05</td>\n",
       "      <td>B13</td>\n",
       "      <td>0.916295</td>\n",
       "      <td>Control</td>\n",
       "    </tr>\n",
       "    <tr>\n",
       "      <th>3</th>\n",
       "      <td>A05</td>\n",
       "      <td>C09</td>\n",
       "      <td>0.932413</td>\n",
       "      <td>Control</td>\n",
       "    </tr>\n",
       "    <tr>\n",
       "      <th>4</th>\n",
       "      <td>A05</td>\n",
       "      <td>C16</td>\n",
       "      <td>0.915825</td>\n",
       "      <td>Control</td>\n",
       "    </tr>\n",
       "    <tr>\n",
       "      <th>...</th>\n",
       "      <td>...</td>\n",
       "      <td>...</td>\n",
       "      <td>...</td>\n",
       "      <td>...</td>\n",
       "    </tr>\n",
       "    <tr>\n",
       "      <th>2011</th>\n",
       "      <td>O11</td>\n",
       "      <td>P11</td>\n",
       "      <td>0.764310</td>\n",
       "      <td>Control</td>\n",
       "    </tr>\n",
       "    <tr>\n",
       "      <th>2012</th>\n",
       "      <td>O11</td>\n",
       "      <td>P24</td>\n",
       "      <td>0.932127</td>\n",
       "      <td>Control</td>\n",
       "    </tr>\n",
       "    <tr>\n",
       "      <th>2013</th>\n",
       "      <td>O12</td>\n",
       "      <td>P11</td>\n",
       "      <td>0.824010</td>\n",
       "      <td>Control</td>\n",
       "    </tr>\n",
       "    <tr>\n",
       "      <th>2014</th>\n",
       "      <td>O12</td>\n",
       "      <td>P24</td>\n",
       "      <td>0.966330</td>\n",
       "      <td>Control</td>\n",
       "    </tr>\n",
       "    <tr>\n",
       "      <th>2015</th>\n",
       "      <td>P11</td>\n",
       "      <td>P24</td>\n",
       "      <td>0.923810</td>\n",
       "      <td>Control</td>\n",
       "    </tr>\n",
       "  </tbody>\n",
       "</table>\n",
       "<p>2016 rows × 4 columns</p>\n",
       "</div>"
      ],
      "text/plain": [
       "     Treatment Well_Pair  F1_Score     Type\n",
       "0          A05       A20  0.873941  Control\n",
       "1          A05       B12  0.857850  Control\n",
       "2          A05       B13  0.916295  Control\n",
       "3          A05       C09  0.932413  Control\n",
       "4          A05       C16  0.915825  Control\n",
       "...        ...       ...       ...      ...\n",
       "2011       O11       P11  0.764310  Control\n",
       "2012       O11       P24  0.932127  Control\n",
       "2013       O12       P11  0.824010  Control\n",
       "2014       O12       P24  0.966330  Control\n",
       "2015       P11       P24  0.923810  Control\n",
       "\n",
       "[2016 rows x 4 columns]"
      ]
     },
     "execution_count": 33,
     "metadata": {},
     "output_type": "execute_result"
    }
   ],
   "source": [
    "control_csv"
   ]
  },
  {
   "cell_type": "code",
   "execution_count": 9,
   "id": "cd5ddc54",
   "metadata": {},
   "outputs": [],
   "source": [
    "# Pivot and rescale for visualization\n",
    "X = control_csv.pivot(\n",
    "    index=\"Treatment\", columns=\"Well_Pair\", values=\"F1_Score\"\n",
    ")"
   ]
  },
  {
   "cell_type": "code",
   "execution_count": 26,
   "id": "05297b66",
   "metadata": {},
   "outputs": [
    {
     "data": {
      "image/png": "[encoded data removed]",
      "text/plain": [
       "<Figure size 1500x1500 with 2 Axes>"
      ]
     },
     "metadata": {},
     "output_type": "display_data"
    }
   ],
   "source": [
    "sb.set(rc={\"figure.figsize\": (15, 15)})\n",
    "colmap = sb.diverging_palette(240, 15, s=100, l=30, as_cmap=True)\n",
    "\n",
    "ax = sb.heatmap(\n",
    "    X,\n",
    "    cmap=colmap,\n",
    "    square=True,\n",
    "    xticklabels=True,\n",
    "    yticklabels=True,\n",
    "    cbar_kws={\"shrink\": 0.30},\n",
    ")\n",
    "plt.tick_params(\n",
    "    axis=\"both\",\n",
    "    which=\"major\",\n",
    "    rotation=90,\n",
    "    labelsize=8,\n",
    "    labelbottom=False,\n",
    "    bottom=False,\n",
    "    top=False,\n",
    "    labeltop=True,\n",
    "    right=False,\n",
    "    labelright=True,\n",
    "    left=False,\n",
    "    labelleft=False,\n",
    ")\n",
    "plt.yticks(rotation=0)\n",
    "# ax.set_aspect(\"equal\")\n",
    "plt.show()"
   ]
  },
  {
   "cell_type": "code",
   "execution_count": 80,
   "id": "a2d5b184",
   "metadata": {},
   "outputs": [],
   "source": [
    "cluster_csv['1-COS'] = cluster_csv['Cosine'].apply(lambda x: 1-x)"
   ]
  },
  {
   "cell_type": "code",
   "execution_count": 122,
   "id": "124bda93",
   "metadata": {},
   "outputs": [],
   "source": [
    "# Pivot and rescale for visualization\n",
    "Y = cluster_csv.pivot_table(\n",
    "    index=\"Well_One\", columns=\"Well_Two\", values=\"Cosine\"\n",
    ")"
   ]
  },
  {
   "cell_type": "code",
   "execution_count": 118,
   "id": "a4f257fa",
   "metadata": {},
   "outputs": [],
   "source": [
    "for well in Y.columns[:-1]:\n",
    "    Y.loc[well, well]= 1"
   ]
  },
  {
   "cell_type": "code",
   "execution_count": 123,
   "id": "37bbac93",
   "metadata": {},
   "outputs": [
    {
     "data": {
      "image/png": "[encoded data removed]",
      "text/plain": [
       "<Figure size 1500x1500 with 2 Axes>"
      ]
     },
     "metadata": {},
     "output_type": "display_data"
    }
   ],
   "source": [
    "plt.figure()\n",
    "sb.set(rc={\"figure.figsize\": (15, 15)})\n",
    "colmap = sb.diverging_palette(240, 15, s=100, l=30, as_cmap=True)\n",
    "\n",
    "ax = sb.heatmap(\n",
    "    Y,\n",
    "    cmap=colmap,\n",
    "    square=True,\n",
    "    xticklabels=True,\n",
    "    yticklabels=True,\n",
    "    cbar_kws={\"shrink\": 0.30},\n",
    ")\n",
    "plt.tick_params(\n",
    "    axis=\"both\",\n",
    "    which=\"major\",\n",
    "    rotation=90,\n",
    "    labelsize=8,\n",
    "    labelbottom=False,\n",
    "    bottom=False,\n",
    "    top=False,\n",
    "    labeltop=True,\n",
    "    right=False,\n",
    "    labelright=True,\n",
    "    left=False,\n",
    "    labelleft=False,\n",
    ")\n",
    "plt.yticks(rotation=0)\n",
    "# ax.set_aspect(\"equal\")\n",
    "plt.show()"
   ]
  },
  {
   "cell_type": "code",
   "execution_count": 103,
   "id": "40cf21d5",
   "metadata": {},
   "outputs": [
    {
     "data": {
      "text/html": [
       "<div>\n",
       "<style scoped>\n",
       "    .dataframe tbody tr th:only-of-type {\n",
       "        vertical-align: middle;\n",
       "    }\n",
       "\n",
       "    .dataframe tbody tr th {\n",
       "        vertical-align: top;\n",
       "    }\n",
       "\n",
       "    .dataframe thead th {\n",
       "        text-align: right;\n",
       "    }\n",
       "</style>\n",
       "<table border=\"1\" class=\"dataframe\">\n",
       "  <thead>\n",
       "    <tr style=\"text-align: right;\">\n",
       "      <th>Well_Two</th>\n",
       "      <th>A20</th>\n",
       "      <th>B12</th>\n",
       "      <th>B13</th>\n",
       "      <th>C09</th>\n",
       "      <th>C16</th>\n",
       "      <th>C17</th>\n",
       "      <th>D03</th>\n",
       "      <th>D06</th>\n",
       "      <th>D09</th>\n",
       "      <th>D17</th>\n",
       "      <th>...</th>\n",
       "      <th>M21</th>\n",
       "      <th>N01</th>\n",
       "      <th>N06</th>\n",
       "      <th>N07</th>\n",
       "      <th>N19</th>\n",
       "      <th>N20</th>\n",
       "      <th>O11</th>\n",
       "      <th>O12</th>\n",
       "      <th>P11</th>\n",
       "      <th>P24</th>\n",
       "    </tr>\n",
       "    <tr>\n",
       "      <th>Well_One</th>\n",
       "      <th></th>\n",
       "      <th></th>\n",
       "      <th></th>\n",
       "      <th></th>\n",
       "      <th></th>\n",
       "      <th></th>\n",
       "      <th></th>\n",
       "      <th></th>\n",
       "      <th></th>\n",
       "      <th></th>\n",
       "      <th></th>\n",
       "      <th></th>\n",
       "      <th></th>\n",
       "      <th></th>\n",
       "      <th></th>\n",
       "      <th></th>\n",
       "      <th></th>\n",
       "      <th></th>\n",
       "      <th></th>\n",
       "      <th></th>\n",
       "      <th></th>\n",
       "    </tr>\n",
       "  </thead>\n",
       "  <tbody>\n",
       "    <tr>\n",
       "      <th>A05</th>\n",
       "      <td>0.990397</td>\n",
       "      <td>0.996731</td>\n",
       "      <td>0.998628</td>\n",
       "      <td>0.856164</td>\n",
       "      <td>0.993045</td>\n",
       "      <td>0.997037</td>\n",
       "      <td>0.997302</td>\n",
       "      <td>0.995525</td>\n",
       "      <td>0.869160</td>\n",
       "      <td>0.997604</td>\n",
       "      <td>...</td>\n",
       "      <td>0.992644</td>\n",
       "      <td>0.997037</td>\n",
       "      <td>0.994565</td>\n",
       "      <td>0.998102</td>\n",
       "      <td>0.994938</td>\n",
       "      <td>0.992745</td>\n",
       "      <td>0.995887</td>\n",
       "      <td>0.996603</td>\n",
       "      <td>0.994977</td>\n",
       "      <td>0.976100</td>\n",
       "    </tr>\n",
       "    <tr>\n",
       "      <th>A20</th>\n",
       "      <td>1.000000</td>\n",
       "      <td>0.993395</td>\n",
       "      <td>0.991505</td>\n",
       "      <td>0.808733</td>\n",
       "      <td>0.995444</td>\n",
       "      <td>0.994109</td>\n",
       "      <td>0.985321</td>\n",
       "      <td>0.989378</td>\n",
       "      <td>0.825909</td>\n",
       "      <td>0.991796</td>\n",
       "      <td>...</td>\n",
       "      <td>0.996314</td>\n",
       "      <td>0.989426</td>\n",
       "      <td>0.990474</td>\n",
       "      <td>0.989521</td>\n",
       "      <td>0.993945</td>\n",
       "      <td>0.994022</td>\n",
       "      <td>0.995391</td>\n",
       "      <td>0.994632</td>\n",
       "      <td>0.996403</td>\n",
       "      <td>0.994551</td>\n",
       "    </tr>\n",
       "    <tr>\n",
       "      <th>B12</th>\n",
       "      <td>0.000000</td>\n",
       "      <td>1.000000</td>\n",
       "      <td>0.997166</td>\n",
       "      <td>0.841413</td>\n",
       "      <td>0.995775</td>\n",
       "      <td>0.995468</td>\n",
       "      <td>0.992832</td>\n",
       "      <td>0.998855</td>\n",
       "      <td>0.853864</td>\n",
       "      <td>0.995153</td>\n",
       "      <td>...</td>\n",
       "      <td>0.995436</td>\n",
       "      <td>0.997880</td>\n",
       "      <td>0.998636</td>\n",
       "      <td>0.998417</td>\n",
       "      <td>0.995954</td>\n",
       "      <td>0.996094</td>\n",
       "      <td>0.998595</td>\n",
       "      <td>0.999269</td>\n",
       "      <td>0.997209</td>\n",
       "      <td>0.981031</td>\n",
       "    </tr>\n",
       "    <tr>\n",
       "      <th>B13</th>\n",
       "      <td>0.000000</td>\n",
       "      <td>0.000000</td>\n",
       "      <td>1.000000</td>\n",
       "      <td>0.854674</td>\n",
       "      <td>0.995544</td>\n",
       "      <td>0.997973</td>\n",
       "      <td>0.998181</td>\n",
       "      <td>0.996413</td>\n",
       "      <td>0.870541</td>\n",
       "      <td>0.998759</td>\n",
       "      <td>...</td>\n",
       "      <td>0.994622</td>\n",
       "      <td>0.996980</td>\n",
       "      <td>0.995145</td>\n",
       "      <td>0.998025</td>\n",
       "      <td>0.996373</td>\n",
       "      <td>0.994494</td>\n",
       "      <td>0.996839</td>\n",
       "      <td>0.997603</td>\n",
       "      <td>0.996525</td>\n",
       "      <td>0.978655</td>\n",
       "    </tr>\n",
       "    <tr>\n",
       "      <th>C09</th>\n",
       "      <td>0.000000</td>\n",
       "      <td>0.000000</td>\n",
       "      <td>0.000000</td>\n",
       "      <td>1.000000</td>\n",
       "      <td>0.833201</td>\n",
       "      <td>0.857784</td>\n",
       "      <td>0.874387</td>\n",
       "      <td>0.856691</td>\n",
       "      <td>0.992105</td>\n",
       "      <td>0.863821</td>\n",
       "      <td>...</td>\n",
       "      <td>0.844846</td>\n",
       "      <td>0.853433</td>\n",
       "      <td>0.848531</td>\n",
       "      <td>0.859020</td>\n",
       "      <td>0.853226</td>\n",
       "      <td>0.848746</td>\n",
       "      <td>0.843250</td>\n",
       "      <td>0.836652</td>\n",
       "      <td>0.830268</td>\n",
       "      <td>0.773522</td>\n",
       "    </tr>\n",
       "    <tr>\n",
       "      <th>...</th>\n",
       "      <td>...</td>\n",
       "      <td>...</td>\n",
       "      <td>...</td>\n",
       "      <td>...</td>\n",
       "      <td>...</td>\n",
       "      <td>...</td>\n",
       "      <td>...</td>\n",
       "      <td>...</td>\n",
       "      <td>...</td>\n",
       "      <td>...</td>\n",
       "      <td>...</td>\n",
       "      <td>...</td>\n",
       "      <td>...</td>\n",
       "      <td>...</td>\n",
       "      <td>...</td>\n",
       "      <td>...</td>\n",
       "      <td>...</td>\n",
       "      <td>...</td>\n",
       "      <td>...</td>\n",
       "      <td>...</td>\n",
       "      <td>...</td>\n",
       "    </tr>\n",
       "    <tr>\n",
       "      <th>N20</th>\n",
       "      <td>0.000000</td>\n",
       "      <td>0.000000</td>\n",
       "      <td>0.000000</td>\n",
       "      <td>0.000000</td>\n",
       "      <td>0.000000</td>\n",
       "      <td>0.000000</td>\n",
       "      <td>0.000000</td>\n",
       "      <td>0.000000</td>\n",
       "      <td>0.000000</td>\n",
       "      <td>0.000000</td>\n",
       "      <td>...</td>\n",
       "      <td>0.000000</td>\n",
       "      <td>0.000000</td>\n",
       "      <td>0.000000</td>\n",
       "      <td>0.000000</td>\n",
       "      <td>0.000000</td>\n",
       "      <td>1.000000</td>\n",
       "      <td>0.996406</td>\n",
       "      <td>0.995665</td>\n",
       "      <td>0.994420</td>\n",
       "      <td>0.981955</td>\n",
       "    </tr>\n",
       "    <tr>\n",
       "      <th>O11</th>\n",
       "      <td>0.000000</td>\n",
       "      <td>0.000000</td>\n",
       "      <td>0.000000</td>\n",
       "      <td>0.000000</td>\n",
       "      <td>0.000000</td>\n",
       "      <td>0.000000</td>\n",
       "      <td>0.000000</td>\n",
       "      <td>0.000000</td>\n",
       "      <td>0.000000</td>\n",
       "      <td>0.000000</td>\n",
       "      <td>...</td>\n",
       "      <td>0.000000</td>\n",
       "      <td>0.000000</td>\n",
       "      <td>0.000000</td>\n",
       "      <td>0.000000</td>\n",
       "      <td>0.000000</td>\n",
       "      <td>0.000000</td>\n",
       "      <td>1.000000</td>\n",
       "      <td>0.999328</td>\n",
       "      <td>0.999081</td>\n",
       "      <td>0.987112</td>\n",
       "    </tr>\n",
       "    <tr>\n",
       "      <th>O12</th>\n",
       "      <td>0.000000</td>\n",
       "      <td>0.000000</td>\n",
       "      <td>0.000000</td>\n",
       "      <td>0.000000</td>\n",
       "      <td>0.000000</td>\n",
       "      <td>0.000000</td>\n",
       "      <td>0.000000</td>\n",
       "      <td>0.000000</td>\n",
       "      <td>0.000000</td>\n",
       "      <td>0.000000</td>\n",
       "      <td>...</td>\n",
       "      <td>0.000000</td>\n",
       "      <td>0.000000</td>\n",
       "      <td>0.000000</td>\n",
       "      <td>0.000000</td>\n",
       "      <td>0.000000</td>\n",
       "      <td>0.000000</td>\n",
       "      <td>0.000000</td>\n",
       "      <td>1.000000</td>\n",
       "      <td>0.998702</td>\n",
       "      <td>0.985046</td>\n",
       "    </tr>\n",
       "    <tr>\n",
       "      <th>P11</th>\n",
       "      <td>0.000000</td>\n",
       "      <td>0.000000</td>\n",
       "      <td>0.000000</td>\n",
       "      <td>0.000000</td>\n",
       "      <td>0.000000</td>\n",
       "      <td>0.000000</td>\n",
       "      <td>0.000000</td>\n",
       "      <td>0.000000</td>\n",
       "      <td>0.000000</td>\n",
       "      <td>0.000000</td>\n",
       "      <td>...</td>\n",
       "      <td>0.000000</td>\n",
       "      <td>0.000000</td>\n",
       "      <td>0.000000</td>\n",
       "      <td>0.000000</td>\n",
       "      <td>0.000000</td>\n",
       "      <td>0.000000</td>\n",
       "      <td>0.000000</td>\n",
       "      <td>0.000000</td>\n",
       "      <td>1.000000</td>\n",
       "      <td>0.990563</td>\n",
       "    </tr>\n",
       "    <tr>\n",
       "      <th>P24</th>\n",
       "      <td>NaN</td>\n",
       "      <td>NaN</td>\n",
       "      <td>NaN</td>\n",
       "      <td>NaN</td>\n",
       "      <td>NaN</td>\n",
       "      <td>NaN</td>\n",
       "      <td>NaN</td>\n",
       "      <td>NaN</td>\n",
       "      <td>NaN</td>\n",
       "      <td>NaN</td>\n",
       "      <td>...</td>\n",
       "      <td>NaN</td>\n",
       "      <td>NaN</td>\n",
       "      <td>NaN</td>\n",
       "      <td>NaN</td>\n",
       "      <td>NaN</td>\n",
       "      <td>NaN</td>\n",
       "      <td>NaN</td>\n",
       "      <td>NaN</td>\n",
       "      <td>NaN</td>\n",
       "      <td>1.000000</td>\n",
       "    </tr>\n",
       "  </tbody>\n",
       "</table>\n",
       "<p>64 rows × 63 columns</p>\n",
       "</div>"
      ],
      "text/plain": [
       "Well_Two       A20       B12       B13       C09       C16       C17  \\\n",
       "Well_One                                                               \n",
       "A05       0.990397  0.996731  0.998628  0.856164  0.993045  0.997037   \n",
       "A20       1.000000  0.993395  0.991505  0.808733  0.995444  0.994109   \n",
       "B12       0.000000  1.000000  0.997166  0.841413  0.995775  0.995468   \n",
       "B13       0.000000  0.000000  1.000000  0.854674  0.995544  0.997973   \n",
       "C09       0.000000  0.000000  0.000000  1.000000  0.833201  0.857784   \n",
       "...            ...       ...       ...       ...       ...       ...   \n",
       "N20       0.000000  0.000000  0.000000  0.000000  0.000000  0.000000   \n",
       "O11       0.000000  0.000000  0.000000  0.000000  0.000000  0.000000   \n",
       "O12       0.000000  0.000000  0.000000  0.000000  0.000000  0.000000   \n",
       "P11       0.000000  0.000000  0.000000  0.000000  0.000000  0.000000   \n",
       "P24            NaN       NaN       NaN       NaN       NaN       NaN   \n",
       "\n",
       "Well_Two       D03       D06       D09       D17  ...       M21       N01  \\\n",
       "Well_One                                          ...                       \n",
       "A05       0.997302  0.995525  0.869160  0.997604  ...  0.992644  0.997037   \n",
       "A20       0.985321  0.989378  0.825909  0.991796  ...  0.996314  0.989426   \n",
       "B12       0.992832  0.998855  0.853864  0.995153  ...  0.995436  0.997880   \n",
       "B13       0.998181  0.996413  0.870541  0.998759  ...  0.994622  0.996980   \n",
       "C09       0.874387  0.856691  0.992105  0.863821  ...  0.844846  0.853433   \n",
       "...            ...       ...       ...       ...  ...       ...       ...   \n",
       "N20       0.000000  0.000000  0.000000  0.000000  ...  0.000000  0.000000   \n",
       "O11       0.000000  0.000000  0.000000  0.000000  ...  0.000000  0.000000   \n",
       "O12       0.000000  0.000000  0.000000  0.000000  ...  0.000000  0.000000   \n",
       "P11       0.000000  0.000000  0.000000  0.000000  ...  0.000000  0.000000   \n",
       "P24            NaN       NaN       NaN       NaN  ...       NaN       NaN   \n",
       "\n",
       "Well_Two       N06       N07       N19       N20       O11       O12  \\\n",
       "Well_One                                                               \n",
       "A05       0.994565  0.998102  0.994938  0.992745  0.995887  0.996603   \n",
       "A20       0.990474  0.989521  0.993945  0.994022  0.995391  0.994632   \n",
       "B12       0.998636  0.998417  0.995954  0.996094  0.998595  0.999269   \n",
       "B13       0.995145  0.998025  0.996373  0.994494  0.996839  0.997603   \n",
       "C09       0.848531  0.859020  0.853226  0.848746  0.843250  0.836652   \n",
       "...            ...       ...       ...       ...       ...       ...   \n",
       "N20       0.000000  0.000000  0.000000  1.000000  0.996406  0.995665   \n",
       "O11       0.000000  0.000000  0.000000  0.000000  1.000000  0.999328   \n",
       "O12       0.000000  0.000000  0.000000  0.000000  0.000000  1.000000   \n",
       "P11       0.000000  0.000000  0.000000  0.000000  0.000000  0.000000   \n",
       "P24            NaN       NaN       NaN       NaN       NaN       NaN   \n",
       "\n",
       "Well_Two       P11       P24  \n",
       "Well_One                      \n",
       "A05       0.994977  0.976100  \n",
       "A20       0.996403  0.994551  \n",
       "B12       0.997209  0.981031  \n",
       "B13       0.996525  0.978655  \n",
       "C09       0.830268  0.773522  \n",
       "...            ...       ...  \n",
       "N20       0.994420  0.981955  \n",
       "O11       0.999081  0.987112  \n",
       "O12       0.998702  0.985046  \n",
       "P11       1.000000  0.990563  \n",
       "P24            NaN  1.000000  \n",
       "\n",
       "[64 rows x 63 columns]"
      ]
     },
     "execution_count": 103,
     "metadata": {},
     "output_type": "execute_result"
    }
   ],
   "source": [
    "Y"
   ]
  },
  {
   "cell_type": "code",
   "execution_count": null,
   "id": "8903258c",
   "metadata": {},
   "outputs": [],
   "source": []
  }
 ],
 "metadata": {
  "kernelspec": {
   "display_name": "Python 3 (ipykernel)",
   "language": "python",
   "name": "python3"
  },
  "language_info": {
   "codemirror_mode": {
    "name": "ipython",
    "version": 3
   },
   "file_extension": ".py",
   "mimetype": "text/x-python",
   "name": "python",
   "nbconvert_exporter": "python",
   "pygments_lexer": "ipython3",
   "version": "3.11.5"
  }
 },
 "nbformat": 4,
 "nbformat_minor": 5
}
