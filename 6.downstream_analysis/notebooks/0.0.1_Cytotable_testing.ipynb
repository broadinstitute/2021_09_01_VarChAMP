{
 "cells": [
  {
   "cell_type": "code",
   "execution_count": null,
   "id": "43f8d6f0",
   "metadata": {},
   "outputs": [],
   "source": [
    "import pathlib\n",
    "import black\n",
    "import jupyter_black\n",
    "\n",
    "jupyter_black.load(\n",
    "    lab=False,\n",
    "    line_length=79,\n",
    "    verbosity=\"DEBUG\",\n",
    "    target_version=black.TargetVersion.PY310,\n",
    ")\n",
    "\n",
    "# ignore mix type warnings from pandas\n",
    "# import warnings\n",
    "# warnings.filterwarnings(\"ignore\")\n",
    "\n",
    "from cytotable import convert\n",
    "import time\n",
    "import os\n",
    "from tqdm import tqdm\n"
   ]
  },
  {
   "cell_type": "code",
   "execution_count": null,
   "id": "ddb6080e-9205-41ef-b68c-9771047203cb",
   "metadata": {},
   "outputs": [],
   "source": [
    "data_dir = '/dgx1nas1/storage/data/sam/varchamp'"
   ]
  },
  {
   "cell_type": "code",
   "execution_count": null,
   "id": "c0a83496-90e2-4e0b-acb9-41ee5caf4203",
   "metadata": {},
   "outputs": [],
   "source": [
    "file_list = [os.path.join(path, name) for path, subdirs, files in os.walk(data_dir) for name in files ]\n",
    "dest_file_list = ['/dgx1nas1/storage/data/sam/profiles/' + i.split('/')[-1] for i in file_list]"
   ]
  },
  {
   "cell_type": "code",
   "execution_count": null,
   "id": "b5afc281",
   "metadata": {},
   "outputs": [],
   "source": [
    "for i in tqdm(range(len(file_list))):\n",
    "    convert(\n",
    "        source_path=file_list[i],\n",
    "        dest_path=dest_file_list[i],\n",
    "        # identifying_columns = ident_columns,\n",
    "        dest_datatype=\"parquet\",\n",
    "        chunk_size=150000,\n",
    "        preset='cell-health-cellprofiler-to-cytominer-database',\n",
    "        join=True\n",
    "    )"
   ]
  }
 ],
 "metadata": {
  "kernelspec": {
   "display_name": "Python 3 (ipykernel)",
   "language": "python",
   "name": "python3"
  },
  "language_info": {
   "codemirror_mode": {
    "name": "ipython",
    "version": 3
   },
   "file_extension": ".py",
   "mimetype": "text/x-python",
   "name": "python",
   "nbconvert_exporter": "python",
   "pygments_lexer": "ipython3",
   "version": "3.10.12"
  }
 },
 "nbformat": 4,
 "nbformat_minor": 5
}
