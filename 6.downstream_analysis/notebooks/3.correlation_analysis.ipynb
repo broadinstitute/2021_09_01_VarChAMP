{
 "cells": [
  {
   "cell_type": "code",
   "execution_count": 3,
   "id": "ff639c99-46fc-44a6-acef-ebdfd78fe290",
   "metadata": {},
   "outputs": [
    {
     "name": "stderr",
     "output_type": "stream",
     "text": [
      "DEBUG:jupyter_black:config: {'line_length': 79, 'target_versions': {<TargetVersion.PY310: 10>}}\n"
     ]
    },
    {
     "data": {
      "application/javascript": [
       "\n",
       "            (function() {\n",
       "                jb_set_cell(\"df_well = pd.read_csv(\\n    \\\"/dgx1nas1/storage/data/sam/codes/2021_09_01_VarChAMP/6.downstream_analysis/2023_05_30_B1A1R1.csv\\\"\\n)\")\n",
       "            })();\n",
       "            "
      ],
      "text/plain": [
       "<IPython.core.display.Javascript object>"
      ]
     },
     "metadata": {},
     "output_type": "display_data"
    },
    {
     "name": "stderr",
     "output_type": "stream",
     "text": [
      "/dgx1nas1/storage/data/sam/.conda/envs/varchamp/lib/python3.11/site-packages/tqdm/auto.py:21: TqdmWarning: IProgress not found. Please update jupyter and ipywidgets. See https://ipywidgets.readthedocs.io/en/stable/user_install.html\n",
      "  from .autonotebook import tqdm as notebook_tqdm\n"
     ]
    }
   ],
   "source": [
    "import pandas as pd\n",
    "\n",
    "import black\n",
    "import jupyter_black\n",
    "\n",
    "jupyter_black.load(\n",
    "    lab=False,\n",
    "    line_length=79,\n",
    "    verbosity=\"DEBUG\",\n",
    "    target_version=black.TargetVersion.PY310,\n",
    ")\n",
    "\n",
    "from tqdm.auto import tqdm\n",
    "\n",
    "import warnings\n",
    "warnings.filterwarnings(\"ignore\")"
   ]
  },
  {
   "cell_type": "code",
   "execution_count": 4,
   "id": "fe356a17-6533-4182-9f4e-8ce51d53c615",
   "metadata": {},
   "outputs": [],
   "source": [
    "df_well = pd.read_csv('/dgx1nas1/storage/data/sam/codes/2021_09_01_VarChAMP/6.downstream_analysis/2023_05_30_B1A1R1.csv')"
   ]
  },
  {
   "cell_type": "code",
   "execution_count": 6,
   "id": "4d7c2c6d-662d-4bc2-919a-41e03eb9deff",
   "metadata": {},
   "outputs": [
    {
     "data": {
      "text/html": [
       "<div>\n",
       "<style scoped>\n",
       "    .dataframe tbody tr th:only-of-type {\n",
       "        vertical-align: middle;\n",
       "    }\n",
       "\n",
       "    .dataframe tbody tr th {\n",
       "        vertical-align: top;\n",
       "    }\n",
       "\n",
       "    .dataframe thead th {\n",
       "        text-align: right;\n",
       "    }\n",
       "</style>\n",
       "<table border=\"1\" class=\"dataframe\">\n",
       "  <thead>\n",
       "    <tr style=\"text-align: right;\">\n",
       "      <th></th>\n",
       "      <th>Metadata_Plate</th>\n",
       "      <th>Metadata_Well</th>\n",
       "      <th>Batch</th>\n",
       "      <th>allele_set</th>\n",
       "      <th>Symbol</th>\n",
       "      <th>entry_plate</th>\n",
       "      <th>entry_well</th>\n",
       "      <th>entry_numb</th>\n",
       "      <th>dest_plate</th>\n",
       "      <th>dest_well</th>\n",
       "      <th>...</th>\n",
       "      <th>384_well</th>\n",
       "      <th>384ID</th>\n",
       "      <th>allele</th>\n",
       "      <th>batch</th>\n",
       "      <th>control</th>\n",
       "      <th>Gene</th>\n",
       "      <th>MT</th>\n",
       "      <th>Variant</th>\n",
       "      <th>Metadata_Sample_Unique</th>\n",
       "      <th>Metadata_batch_Plate</th>\n",
       "    </tr>\n",
       "  </thead>\n",
       "  <tbody>\n",
       "    <tr>\n",
       "      <th>0</th>\n",
       "      <td>2023-05-25_B1A1R1_P1T3</td>\n",
       "      <td>A01</td>\n",
       "      <td>1</td>\n",
       "      <td>1</td>\n",
       "      <td>ACSF3</td>\n",
       "      <td>DisWTGDEh03</td>\n",
       "      <td>F06</td>\n",
       "      <td>46.0</td>\n",
       "      <td>FVrry_P01_Q01</td>\n",
       "      <td>A01</td>\n",
       "      <td>...</td>\n",
       "      <td>A_1</td>\n",
       "      <td>1_1</td>\n",
       "      <td>ACSF3_</td>\n",
       "      <td>2023_05_30_B1A1R1</td>\n",
       "      <td>False</td>\n",
       "      <td>ACSF3</td>\n",
       "      <td>NaN</td>\n",
       "      <td>ACSF3</td>\n",
       "      <td>ACSF3</td>\n",
       "      <td>2023_05_30_B1A1R1-2023-05-25_B1A1R1_P1T3</td>\n",
       "    </tr>\n",
       "    <tr>\n",
       "      <th>1</th>\n",
       "      <td>2023-05-25_B1A1R1_P1T3</td>\n",
       "      <td>A02</td>\n",
       "      <td>1</td>\n",
       "      <td>1</td>\n",
       "      <td>ALAS2</td>\n",
       "      <td>VUSmut_GDEh08</td>\n",
       "      <td>D04</td>\n",
       "      <td>28.0</td>\n",
       "      <td>FVrry_P01_Q02</td>\n",
       "      <td>A01</td>\n",
       "      <td>...</td>\n",
       "      <td>A_2</td>\n",
       "      <td>1_2</td>\n",
       "      <td>ALAS2_Asp153Val</td>\n",
       "      <td>2023_05_30_B1A1R1</td>\n",
       "      <td>False</td>\n",
       "      <td>ALAS2</td>\n",
       "      <td>Asp153Val</td>\n",
       "      <td>ALAS2 Asp153Val</td>\n",
       "      <td>ALAS2 Asp153Val</td>\n",
       "      <td>2023_05_30_B1A1R1-2023-05-25_B1A1R1_P1T3</td>\n",
       "    </tr>\n",
       "    <tr>\n",
       "      <th>2</th>\n",
       "      <td>2023-05-25_B1A1R1_P1T3</td>\n",
       "      <td>A03</td>\n",
       "      <td>1</td>\n",
       "      <td>1</td>\n",
       "      <td>ACSF3</td>\n",
       "      <td>VUSmut_GDEh03</td>\n",
       "      <td>D03</td>\n",
       "      <td>20.0</td>\n",
       "      <td>FVrry_P01_Q01</td>\n",
       "      <td>A02</td>\n",
       "      <td>...</td>\n",
       "      <td>A_3</td>\n",
       "      <td>1_3</td>\n",
       "      <td>ACSF3_Asp457Asn</td>\n",
       "      <td>2023_05_30_B1A1R1</td>\n",
       "      <td>False</td>\n",
       "      <td>ACSF3</td>\n",
       "      <td>Asp457Asn</td>\n",
       "      <td>ACSF3 Asp457Asn</td>\n",
       "      <td>ACSF3 Asp457Asn</td>\n",
       "      <td>2023_05_30_B1A1R1-2023-05-25_B1A1R1_P1T3</td>\n",
       "    </tr>\n",
       "    <tr>\n",
       "      <th>3</th>\n",
       "      <td>2023-05-25_B1A1R1_P1T3</td>\n",
       "      <td>A04</td>\n",
       "      <td>1</td>\n",
       "      <td>1</td>\n",
       "      <td>ANXA11</td>\n",
       "      <td>DisWTGDEh04</td>\n",
       "      <td>H06</td>\n",
       "      <td>48.0</td>\n",
       "      <td>FVrry_P01_Q02</td>\n",
       "      <td>A02</td>\n",
       "      <td>...</td>\n",
       "      <td>A_4</td>\n",
       "      <td>1_4</td>\n",
       "      <td>ANXA11_</td>\n",
       "      <td>2023_05_30_B1A1R1</td>\n",
       "      <td>False</td>\n",
       "      <td>ANXA11</td>\n",
       "      <td>NaN</td>\n",
       "      <td>ANXA11</td>\n",
       "      <td>ANXA11</td>\n",
       "      <td>2023_05_30_B1A1R1-2023-05-25_B1A1R1_P1T3</td>\n",
       "    </tr>\n",
       "    <tr>\n",
       "      <th>4</th>\n",
       "      <td>2023-05-25_B1A1R1_P1T3</td>\n",
       "      <td>A05</td>\n",
       "      <td>1</td>\n",
       "      <td>1</td>\n",
       "      <td>ACSF3</td>\n",
       "      <td>VUSmut_GDEh07</td>\n",
       "      <td>A09</td>\n",
       "      <td>65.0</td>\n",
       "      <td>FVrry_P01_Q01</td>\n",
       "      <td>A03</td>\n",
       "      <td>...</td>\n",
       "      <td>A_5</td>\n",
       "      <td>1_5</td>\n",
       "      <td>ACSF3_Glu359Lys</td>\n",
       "      <td>2023_05_30_B1A1R1</td>\n",
       "      <td>False</td>\n",
       "      <td>ACSF3</td>\n",
       "      <td>Glu359Lys</td>\n",
       "      <td>ACSF3 Glu359Lys</td>\n",
       "      <td>ACSF3 Glu359Lys</td>\n",
       "      <td>2023_05_30_B1A1R1-2023-05-25_B1A1R1_P1T3</td>\n",
       "    </tr>\n",
       "    <tr>\n",
       "      <th>...</th>\n",
       "      <td>...</td>\n",
       "      <td>...</td>\n",
       "      <td>...</td>\n",
       "      <td>...</td>\n",
       "      <td>...</td>\n",
       "      <td>...</td>\n",
       "      <td>...</td>\n",
       "      <td>...</td>\n",
       "      <td>...</td>\n",
       "      <td>...</td>\n",
       "      <td>...</td>\n",
       "      <td>...</td>\n",
       "      <td>...</td>\n",
       "      <td>...</td>\n",
       "      <td>...</td>\n",
       "      <td>...</td>\n",
       "      <td>...</td>\n",
       "      <td>...</td>\n",
       "      <td>...</td>\n",
       "      <td>...</td>\n",
       "      <td>...</td>\n",
       "    </tr>\n",
       "    <tr>\n",
       "      <th>5879</th>\n",
       "      <td>2023-05-26_B1A1R1_P2T3</td>\n",
       "      <td>P20</td>\n",
       "      <td>1</td>\n",
       "      <td>1</td>\n",
       "      <td>LITAF</td>\n",
       "      <td>VUSmut_GDEh02</td>\n",
       "      <td>F06</td>\n",
       "      <td>46.0</td>\n",
       "      <td>FVrry_P02_Q04</td>\n",
       "      <td>H10</td>\n",
       "      <td>...</td>\n",
       "      <td>P_20</td>\n",
       "      <td>16_20</td>\n",
       "      <td>LITAF_Gly53Ala</td>\n",
       "      <td>2023_05_30_B1A1R1</td>\n",
       "      <td>False</td>\n",
       "      <td>LITAF</td>\n",
       "      <td>Gly53Ala</td>\n",
       "      <td>LITAF Gly53Ala</td>\n",
       "      <td>LITAF Gly53Ala</td>\n",
       "      <td>2023_05_30_B1A1R1-2023-05-26_B1A1R1_P2T3</td>\n",
       "    </tr>\n",
       "    <tr>\n",
       "      <th>5880</th>\n",
       "      <td>2023-05-26_B1A1R1_P2T3</td>\n",
       "      <td>P21</td>\n",
       "      <td>1</td>\n",
       "      <td>1</td>\n",
       "      <td>KLHL3</td>\n",
       "      <td>VUSmut_GDEh06</td>\n",
       "      <td>F09</td>\n",
       "      <td>70.0</td>\n",
       "      <td>FVrry_P02_Q03</td>\n",
       "      <td>H11</td>\n",
       "      <td>...</td>\n",
       "      <td>P_21</td>\n",
       "      <td>16_21</td>\n",
       "      <td>KLHL3_Cys164Phe</td>\n",
       "      <td>2023_05_30_B1A1R1</td>\n",
       "      <td>False</td>\n",
       "      <td>KLHL3</td>\n",
       "      <td>Cys164Phe</td>\n",
       "      <td>KLHL3 Cys164Phe</td>\n",
       "      <td>KLHL3 Cys164Phe</td>\n",
       "      <td>2023_05_30_B1A1R1-2023-05-26_B1A1R1_P2T3</td>\n",
       "    </tr>\n",
       "    <tr>\n",
       "      <th>5881</th>\n",
       "      <td>2023-05-26_B1A1R1_P2T3</td>\n",
       "      <td>P22</td>\n",
       "      <td>1</td>\n",
       "      <td>1</td>\n",
       "      <td>LITAF</td>\n",
       "      <td>VUSmut_GDEh12</td>\n",
       "      <td>A01</td>\n",
       "      <td>1.0</td>\n",
       "      <td>FVrry_P02_Q04</td>\n",
       "      <td>H11</td>\n",
       "      <td>...</td>\n",
       "      <td>P_22</td>\n",
       "      <td>16_22</td>\n",
       "      <td>LITAF_Ile92Val</td>\n",
       "      <td>2023_05_30_B1A1R1</td>\n",
       "      <td>False</td>\n",
       "      <td>LITAF</td>\n",
       "      <td>Ile92Val</td>\n",
       "      <td>LITAF Ile92Val</td>\n",
       "      <td>LITAF Ile92Val</td>\n",
       "      <td>2023_05_30_B1A1R1-2023-05-26_B1A1R1_P2T3</td>\n",
       "    </tr>\n",
       "    <tr>\n",
       "      <th>5882</th>\n",
       "      <td>2023-05-26_B1A1R1_P2T3</td>\n",
       "      <td>P23</td>\n",
       "      <td>1</td>\n",
       "      <td>1</td>\n",
       "      <td>KRT4</td>\n",
       "      <td>DisWTGDEh02</td>\n",
       "      <td>C07</td>\n",
       "      <td>51.0</td>\n",
       "      <td>FVrry_P02_Q03</td>\n",
       "      <td>H12</td>\n",
       "      <td>...</td>\n",
       "      <td>P_23</td>\n",
       "      <td>16_23</td>\n",
       "      <td>KRT4_</td>\n",
       "      <td>2023_05_30_B1A1R1</td>\n",
       "      <td>False</td>\n",
       "      <td>KRT4</td>\n",
       "      <td>NaN</td>\n",
       "      <td>KRT4</td>\n",
       "      <td>KRT4</td>\n",
       "      <td>2023_05_30_B1A1R1-2023-05-26_B1A1R1_P2T3</td>\n",
       "    </tr>\n",
       "    <tr>\n",
       "      <th>5883</th>\n",
       "      <td>2023-05-26_B1A1R1_P2T3</td>\n",
       "      <td>P24</td>\n",
       "      <td>1</td>\n",
       "      <td>1</td>\n",
       "      <td>MCEE</td>\n",
       "      <td>DisWTGDEh03</td>\n",
       "      <td>F10</td>\n",
       "      <td>78.0</td>\n",
       "      <td>FVrry_P02_Q04</td>\n",
       "      <td>H12</td>\n",
       "      <td>...</td>\n",
       "      <td>P_24</td>\n",
       "      <td>16_24</td>\n",
       "      <td>MCEE_</td>\n",
       "      <td>2023_05_30_B1A1R1</td>\n",
       "      <td>False</td>\n",
       "      <td>MCEE</td>\n",
       "      <td>NaN</td>\n",
       "      <td>MCEE</td>\n",
       "      <td>MCEE</td>\n",
       "      <td>2023_05_30_B1A1R1-2023-05-26_B1A1R1_P2T3</td>\n",
       "    </tr>\n",
       "  </tbody>\n",
       "</table>\n",
       "<p>5884 rows × 28 columns</p>\n",
       "</div>"
      ],
      "text/plain": [
       "              Metadata_Plate Metadata_Well  Batch  allele_set  Symbol  \\\n",
       "0     2023-05-25_B1A1R1_P1T3           A01      1           1   ACSF3   \n",
       "1     2023-05-25_B1A1R1_P1T3           A02      1           1   ALAS2   \n",
       "2     2023-05-25_B1A1R1_P1T3           A03      1           1   ACSF3   \n",
       "3     2023-05-25_B1A1R1_P1T3           A04      1           1  ANXA11   \n",
       "4     2023-05-25_B1A1R1_P1T3           A05      1           1   ACSF3   \n",
       "...                      ...           ...    ...         ...     ...   \n",
       "5879  2023-05-26_B1A1R1_P2T3           P20      1           1   LITAF   \n",
       "5880  2023-05-26_B1A1R1_P2T3           P21      1           1   KLHL3   \n",
       "5881  2023-05-26_B1A1R1_P2T3           P22      1           1   LITAF   \n",
       "5882  2023-05-26_B1A1R1_P2T3           P23      1           1    KRT4   \n",
       "5883  2023-05-26_B1A1R1_P2T3           P24      1           1    MCEE   \n",
       "\n",
       "        entry_plate entry_well  entry_numb     dest_plate dest_well  ...  \\\n",
       "0       DisWTGDEh03        F06        46.0  FVrry_P01_Q01       A01  ...   \n",
       "1     VUSmut_GDEh08        D04        28.0  FVrry_P01_Q02       A01  ...   \n",
       "2     VUSmut_GDEh03        D03        20.0  FVrry_P01_Q01       A02  ...   \n",
       "3       DisWTGDEh04        H06        48.0  FVrry_P01_Q02       A02  ...   \n",
       "4     VUSmut_GDEh07        A09        65.0  FVrry_P01_Q01       A03  ...   \n",
       "...             ...        ...         ...            ...       ...  ...   \n",
       "5879  VUSmut_GDEh02        F06        46.0  FVrry_P02_Q04       H10  ...   \n",
       "5880  VUSmut_GDEh06        F09        70.0  FVrry_P02_Q03       H11  ...   \n",
       "5881  VUSmut_GDEh12        A01         1.0  FVrry_P02_Q04       H11  ...   \n",
       "5882    DisWTGDEh02        C07        51.0  FVrry_P02_Q03       H12  ...   \n",
       "5883    DisWTGDEh03        F10        78.0  FVrry_P02_Q04       H12  ...   \n",
       "\n",
       "     384_well  384ID           allele              batch  control    Gene  \\\n",
       "0         A_1    1_1           ACSF3_  2023_05_30_B1A1R1    False   ACSF3   \n",
       "1         A_2    1_2  ALAS2_Asp153Val  2023_05_30_B1A1R1    False   ALAS2   \n",
       "2         A_3    1_3  ACSF3_Asp457Asn  2023_05_30_B1A1R1    False   ACSF3   \n",
       "3         A_4    1_4          ANXA11_  2023_05_30_B1A1R1    False  ANXA11   \n",
       "4         A_5    1_5  ACSF3_Glu359Lys  2023_05_30_B1A1R1    False   ACSF3   \n",
       "...       ...    ...              ...                ...      ...     ...   \n",
       "5879     P_20  16_20   LITAF_Gly53Ala  2023_05_30_B1A1R1    False   LITAF   \n",
       "5880     P_21  16_21  KLHL3_Cys164Phe  2023_05_30_B1A1R1    False   KLHL3   \n",
       "5881     P_22  16_22   LITAF_Ile92Val  2023_05_30_B1A1R1    False   LITAF   \n",
       "5882     P_23  16_23            KRT4_  2023_05_30_B1A1R1    False    KRT4   \n",
       "5883     P_24  16_24            MCEE_  2023_05_30_B1A1R1    False    MCEE   \n",
       "\n",
       "             MT          Variant Metadata_Sample_Unique  \\\n",
       "0           NaN            ACSF3                  ACSF3   \n",
       "1     Asp153Val  ALAS2 Asp153Val        ALAS2 Asp153Val   \n",
       "2     Asp457Asn  ACSF3 Asp457Asn        ACSF3 Asp457Asn   \n",
       "3           NaN           ANXA11                 ANXA11   \n",
       "4     Glu359Lys  ACSF3 Glu359Lys        ACSF3 Glu359Lys   \n",
       "...         ...              ...                    ...   \n",
       "5879   Gly53Ala   LITAF Gly53Ala         LITAF Gly53Ala   \n",
       "5880  Cys164Phe  KLHL3 Cys164Phe        KLHL3 Cys164Phe   \n",
       "5881   Ile92Val   LITAF Ile92Val         LITAF Ile92Val   \n",
       "5882        NaN             KRT4                   KRT4   \n",
       "5883        NaN             MCEE                   MCEE   \n",
       "\n",
       "                          Metadata_batch_Plate  \n",
       "0     2023_05_30_B1A1R1-2023-05-25_B1A1R1_P1T3  \n",
       "1     2023_05_30_B1A1R1-2023-05-25_B1A1R1_P1T3  \n",
       "2     2023_05_30_B1A1R1-2023-05-25_B1A1R1_P1T3  \n",
       "3     2023_05_30_B1A1R1-2023-05-25_B1A1R1_P1T3  \n",
       "4     2023_05_30_B1A1R1-2023-05-25_B1A1R1_P1T3  \n",
       "...                                        ...  \n",
       "5879  2023_05_30_B1A1R1-2023-05-26_B1A1R1_P2T3  \n",
       "5880  2023_05_30_B1A1R1-2023-05-26_B1A1R1_P2T3  \n",
       "5881  2023_05_30_B1A1R1-2023-05-26_B1A1R1_P2T3  \n",
       "5882  2023_05_30_B1A1R1-2023-05-26_B1A1R1_P2T3  \n",
       "5883  2023_05_30_B1A1R1-2023-05-26_B1A1R1_P2T3  \n",
       "\n",
       "[5884 rows x 28 columns]"
      ]
     },
     "execution_count": 6,
     "metadata": {},
     "output_type": "execute_result"
    }
   ],
   "source": [
    "df_well"
   ]
  },
  {
   "cell_type": "code",
   "execution_count": null,
   "id": "26004528-b1bc-47c2-9abb-27d4c4bd43ba",
   "metadata": {},
   "outputs": [],
   "source": [
    "experiments = df_well[~df_well[\"control\"].astype('bool')].reset_index(drop=True)\n",
    "gene_group = df_well.groupby(\"Metadata_Gene\").groups\n",
    "\n",
    "controls = sc_profiles[sc_profiles[\"Metadata_control\"].astype('bool')].reset_index(drop=True)\n",
    "control_group = controls.groupby(\"Metadata_Sample_Unique\").groups\n"
   ]
  },
  {
   "cell_type": "markdown",
   "id": "8f995d42-60c6-487e-a0d3-dc7975c75965",
   "metadata": {},
   "source": [
    "### Compute Bulk Level Cosine Similarity"
   ]
  },
  {
   "cell_type": "code",
   "execution_count": null,
   "id": "0760b471-53c8-4d24-adab-f73d152c1c47",
   "metadata": {},
   "outputs": [],
   "source": [
    "for gene_key in tqdm(gene_group.keys()):\n",
    "    gene_profiles = sc_profiles.loc[gene_group[gene_key]]\n",
    "\n",
    "    # Ensure this gene has both reference and variants\n",
    "    if gene_profiles.Metadata_node_type.unique().size != 2:\n",
    "        continue\n",
    "\n",
    "    # All wildtype cells for the gene\n",
    "    ref_profiles = gene_profiles[\n",
    "        gene_profiles[\"Metadata_node_type\"] == \"disease_wt\"\n",
    "    ].reset_index(drop=True)\n",
    "\n",
    "    var_profiles = gene_profiles[\n",
    "        gene_profiles[\"Metadata_node_type\"] != \"disease_wt\"\n",
    "    ].reset_index(drop=True)\n",
    "\n",
    "    for var_row in var_profiles.itterrows():\n",
    "        # All cells from the specific variant"
   ]
  },
  {
   "cell_type": "code",
   "execution_count": null,
   "id": "e1a6d725-ea5d-46ab-ab81-45aedc287bad",
   "metadata": {},
   "outputs": [],
   "source": [
    "def experimental_group_runner(sc_profiles, gene_group, data_dir, feat_col, batch_name='', \n",
    "    protein_prefix='protein', feature_type='_normalized_feature_selected'):\n",
    "    gene_list = []\n",
    "    pair_list = []\n",
    "    feat_list = []\n",
    "    plate_one = []\n",
    "    plate_two = []\n",
    "    f1score_macro_list = []\n",
    "\n",
    "    for gene_key in tqdm(gene_group.keys()):\n",
    "        gene_profiles = sc_profiles.loc[gene_group[gene_key]]\n",
    "\n",
    "        # Ensure this gene has both reference and variants\n",
    "        if gene_profiles.Metadata_node_type.unique().size != 2:\n",
    "            continue\n",
    "\n",
    "        # All wildtype cells for the gene\n",
    "        ref_profiles = gene_profiles[\n",
    "            gene_profiles[\"Metadata_node_type\"] == \"disease_wt\"\n",
    "        ].reset_index(drop=True)\n",
    "\n",
    "        var_profiles = gene_profiles[\n",
    "            gene_profiles[\"Metadata_node_type\"] != \"disease_wt\"\n",
    "        ].reset_index(drop=True)\n",
    "\n",
    "        for var_row in var_profiles.itterrows():\n",
    "            # All cells from the specific variant\n",
    "\n",
    "            ref_profiles[\"Label\"] = 1\n",
    "            var_profiles[\"Label\"] = 0\n",
    "            \n",
    "            plate_list = list(set(ref_plate_list) & set(var_plate_list))\n",
    "            unique_ref_plate_list = list(set(ref_plate_list) - set(var_plate_list))\n",
    "            unique_var_plate_list = list(set(var_plate_list) - set(ref_plate_list))\n",
    "            \n",
    "            for plate in plate_list:\n",
    "                ref_plate_profiles = ref_profiles[ref_profiles['Metadata_Plate']==plate]\n",
    "                var_plate_profiles = var_profiles[var_profiles['Metadata_Plate']==plate]\n",
    "\n",
    "                all_profiles = pd.concat(\n",
    "                [ref_plate_profiles, var_plate_profiles], ignore_index=True\n",
    "                )\n",
    "\n",
    "                feat_importances, f1score_macro = classifier(all_profiles, feat_col)\n",
    "        \n",
    "                feat_list.append(feat_importances)\n",
    "                f1score_macro_list.append(f1score_macro)\n",
    "                gene_list.append(gene_key)\n",
    "                pair_list.append(var_key)\n",
    "                plate_one.append(plate)\n",
    "                plate_two.append(plate)\n",
    "\n",
    "            if len(plate_list) == 0:\n",
    "                for i in range(min(len(unique_ref_plate_list), len(unique_var_plate_list))):\n",
    "                    ref_plate_profiles = ref_profiles[ref_profiles['Metadata_Plate']==unique_ref_plate_list[i]]\n",
    "                    var_plate_profiles = var_profiles[var_profiles['Metadata_Plate']==unique_var_plate_list[i]]\n",
    "    \n",
    "                    all_profiles = pd.concat(\n",
    "                    [ref_plate_profiles, var_plate_profiles], ignore_index=True\n",
    "                    )\n",
    "    \n",
    "                    feat_importances, f1score_macro = classifier(all_profiles, feat_col, stratify_label='Metadata_Plate')\n",
    "            \n",
    "                    feat_list.append(feat_importances)\n",
    "                    f1score_macro_list.append(f1score_macro)\n",
    "                    gene_list.append(gene_key)\n",
    "                    pair_list.append(var_key)\n",
    "                    plate_one.append(unique_ref_plate_list[i])\n",
    "                    plate_two.append(unique_var_plate_list[i])\n",
    "\n",
    "    df_feat_one = pd.DataFrame({\"Gene\": gene_list, \"Variant\": pair_list})\n",
    "    df_feat_two = pd.DataFrame(feat_list)\n",
    "    df_feat = pd.concat([df_feat_one, df_feat_two], axis=1)\n",
    "\n",
    "    df_feat.to_csv(\n",
    "    f\"{data_dir}/{batch_name}_{protein_prefix}_feat_importance{feature_type}.csv\",\n",
    "    index=False,\n",
    ")\n",
    "\n",
    "    result_csv = pd.DataFrame(\n",
    "    {\n",
    "        \"Gene\": gene_list,\n",
    "        \"Variant\": pair_list,\n",
    "        \"F1_Score\": f1score_macro_list\n",
    "    }\n",
    ")\n",
    "    result_csv.to_csv(\n",
    "        f\"{data_dir}/{batch_name}_{protein_prefix}_f1score{feature_type}.csv\",\n",
    "        index=False,\n",
    "    )"
   ]
  },
  {
   "cell_type": "code",
   "execution_count": 35,
   "id": "2395e6bf-8717-4b23-a864-3c5263fb7355",
   "metadata": {},
   "outputs": [],
   "source": [
    "meta_well = [i for i in df_well.columns if 'Metadata' in i]\n",
    "feat_well = [i for i in df_well.columns if 'Metadata' not in i]"
   ]
  },
  {
   "cell_type": "code",
   "execution_count": 36,
   "id": "32df690f-621f-4d5d-9ace-47815b6da68a",
   "metadata": {},
   "outputs": [
    {
     "ename": "NameError",
     "evalue": "name 'feat_col' is not defined",
     "output_type": "error",
     "traceback": [
      "\u001b[0;31m---------------------------------------------------------------------------\u001b[0m",
      "\u001b[0;31mNameError\u001b[0m                                 Traceback (most recent call last)",
      "Cell \u001b[0;32mIn[36], line 1\u001b[0m\n\u001b[0;32m----> 1\u001b[0m df_well \u001b[38;5;241m=\u001b[39m df_well\u001b[38;5;241m.\u001b[39mloc[:, meta_well \u001b[38;5;241m+\u001b[39m feat_col]\n\u001b[1;32m      3\u001b[0m ctrl_wells \u001b[38;5;241m=\u001b[39m control_profiles\u001b[38;5;241m.\u001b[39mMetadata_Well\u001b[38;5;241m.\u001b[39munique()\n\u001b[1;32m      4\u001b[0m df_well_controls \u001b[38;5;241m=\u001b[39m df_well[df_well[\u001b[38;5;124m'\u001b[39m\u001b[38;5;124mMetadata_Well\u001b[39m\u001b[38;5;124m'\u001b[39m]\u001b[38;5;241m.\u001b[39misin(ctrl_wells)]\u001b[38;5;241m.\u001b[39mreset_index(drop\u001b[38;5;241m=\u001b[39m\u001b[38;5;28;01mTrue\u001b[39;00m)\n",
      "\u001b[0;31mNameError\u001b[0m: name 'feat_col' is not defined"
     ]
    }
   ],
   "source": [
    "df_well = df_well.loc[:, meta_well + feat_col]\n",
    "\n",
    "ctrl_wells = control_profiles.Metadata_Well.unique()\n",
    "df_well_controls = df_well[df_well['Metadata_Well'].isin(ctrl_wells)].reset_index(drop=True)"
   ]
  },
  {
   "cell_type": "code",
   "execution_count": 61,
   "id": "cdc7b326-3cc0-4ce2-9475-6c2ba98d5ea0",
   "metadata": {
    "collapsed": true,
    "jupyter": {
     "outputs_hidden": true
    }
   },
   "outputs": [
    {
     "data": {
      "application/vnd.jupyter.widget-view+json": {
       "model_id": "3629b72a23bf4f4981e2872e03515cd8",
       "version_major": 2,
       "version_minor": 0
      },
      "text/plain": [
       "  0%|          | 0/63 [00:00<?, ?it/s]"
      ]
     },
     "metadata": {},
     "output_type": "display_data"
    },
    {
     "data": {
      "application/vnd.jupyter.widget-view+json": {
       "model_id": "b1f82f0166b4468cb3636b2562be563a",
       "version_major": 2,
       "version_minor": 0
      },
      "text/plain": [
       "  0%|          | 0/62 [00:00<?, ?it/s]"
      ]
     },
     "metadata": {},
     "output_type": "display_data"
    },
    {
     "data": {
      "application/vnd.jupyter.widget-view+json": {
       "model_id": "36038f8835d0445bbe12558988228486",
       "version_major": 2,
       "version_minor": 0
      },
      "text/plain": [
       "  0%|          | 0/61 [00:00<?, ?it/s]"
      ]
     },
     "metadata": {},
     "output_type": "display_data"
    },
    {
     "data": {
      "application/vnd.jupyter.widget-view+json": {
       "model_id": "2aba1c5aa7b9424cb070670f5b5daf44",
       "version_major": 2,
       "version_minor": 0
      },
      "text/plain": [
       "  0%|          | 0/60 [00:00<?, ?it/s]"
      ]
     },
     "metadata": {},
     "output_type": "display_data"
    },
    {
     "data": {
      "application/vnd.jupyter.widget-view+json": {
       "model_id": "7deed7e4328542c1b3197a302b8c0fb9",
       "version_major": 2,
       "version_minor": 0
      },
      "text/plain": [
       "  0%|          | 0/59 [00:00<?, ?it/s]"
      ]
     },
     "metadata": {},
     "output_type": "display_data"
    },
    {
     "data": {
      "application/vnd.jupyter.widget-view+json": {
       "model_id": "a9f6486491d444b5872f3caa2bfae6c2",
       "version_major": 2,
       "version_minor": 0
      },
      "text/plain": [
       "  0%|          | 0/58 [00:00<?, ?it/s]"
      ]
     },
     "metadata": {},
     "output_type": "display_data"
    },
    {
     "data": {
      "application/vnd.jupyter.widget-view+json": {
       "model_id": "939a1e9237f44b079aff527e55a6de34",
       "version_major": 2,
       "version_minor": 0
      },
      "text/plain": [
       "  0%|          | 0/57 [00:00<?, ?it/s]"
      ]
     },
     "metadata": {},
     "output_type": "display_data"
    },
    {
     "data": {
      "application/vnd.jupyter.widget-view+json": {
       "model_id": "14dcb5887ecb4ddf9981a2fed587f29f",
       "version_major": 2,
       "version_minor": 0
      },
      "text/plain": [
       "  0%|          | 0/56 [00:00<?, ?it/s]"
      ]
     },
     "metadata": {},
     "output_type": "display_data"
    },
    {
     "data": {
      "application/vnd.jupyter.widget-view+json": {
       "model_id": "0a8d6296f2bc462b810196a7db6139a9",
       "version_major": 2,
       "version_minor": 0
      },
      "text/plain": [
       "  0%|          | 0/55 [00:00<?, ?it/s]"
      ]
     },
     "metadata": {},
     "output_type": "display_data"
    },
    {
     "data": {
      "application/vnd.jupyter.widget-view+json": {
       "model_id": "7aa6eadc4744426dad0f20358e2ae66f",
       "version_major": 2,
       "version_minor": 0
      },
      "text/plain": [
       "  0%|          | 0/54 [00:00<?, ?it/s]"
      ]
     },
     "metadata": {},
     "output_type": "display_data"
    },
    {
     "data": {
      "application/vnd.jupyter.widget-view+json": {
       "model_id": "e5de43902384468482a6dec41a90094a",
       "version_major": 2,
       "version_minor": 0
      },
      "text/plain": [
       "  0%|          | 0/53 [00:00<?, ?it/s]"
      ]
     },
     "metadata": {},
     "output_type": "display_data"
    },
    {
     "data": {
      "application/vnd.jupyter.widget-view+json": {
       "model_id": "9dcbdcfb4f3c4e65919d982c64faba93",
       "version_major": 2,
       "version_minor": 0
      },
      "text/plain": [
       "  0%|          | 0/52 [00:00<?, ?it/s]"
      ]
     },
     "metadata": {},
     "output_type": "display_data"
    },
    {
     "data": {
      "application/vnd.jupyter.widget-view+json": {
       "model_id": "1144c81b950f42c3aa2943ee9e460a84",
       "version_major": 2,
       "version_minor": 0
      },
      "text/plain": [
       "  0%|          | 0/51 [00:00<?, ?it/s]"
      ]
     },
     "metadata": {},
     "output_type": "display_data"
    },
    {
     "data": {
      "application/vnd.jupyter.widget-view+json": {
       "model_id": "58212677039c4f6e8e917fde5fc88650",
       "version_major": 2,
       "version_minor": 0
      },
      "text/plain": [
       "  0%|          | 0/50 [00:00<?, ?it/s]"
      ]
     },
     "metadata": {},
     "output_type": "display_data"
    },
    {
     "data": {
      "application/vnd.jupyter.widget-view+json": {
       "model_id": "7076714e6fae46ff87e704ed8a8860f0",
       "version_major": 2,
       "version_minor": 0
      },
      "text/plain": [
       "  0%|          | 0/49 [00:00<?, ?it/s]"
      ]
     },
     "metadata": {},
     "output_type": "display_data"
    },
    {
     "data": {
      "application/vnd.jupyter.widget-view+json": {
       "model_id": "d57ab2ef919c4676a0e79538d4d4d522",
       "version_major": 2,
       "version_minor": 0
      },
      "text/plain": [
       "  0%|          | 0/48 [00:00<?, ?it/s]"
      ]
     },
     "metadata": {},
     "output_type": "display_data"
    },
    {
     "data": {
      "application/vnd.jupyter.widget-view+json": {
       "model_id": "adf8b89bb41843d4a2e38c16a69003e0",
       "version_major": 2,
       "version_minor": 0
      },
      "text/plain": [
       "  0%|          | 0/47 [00:00<?, ?it/s]"
      ]
     },
     "metadata": {},
     "output_type": "display_data"
    },
    {
     "data": {
      "application/vnd.jupyter.widget-view+json": {
       "model_id": "51b8cf576f7e4f12ab6ac465bfa36142",
       "version_major": 2,
       "version_minor": 0
      },
      "text/plain": [
       "  0%|          | 0/46 [00:00<?, ?it/s]"
      ]
     },
     "metadata": {},
     "output_type": "display_data"
    },
    {
     "data": {
      "application/vnd.jupyter.widget-view+json": {
       "model_id": "5513b27b58db4eaba4805226dab67409",
       "version_major": 2,
       "version_minor": 0
      },
      "text/plain": [
       "  0%|          | 0/45 [00:00<?, ?it/s]"
      ]
     },
     "metadata": {},
     "output_type": "display_data"
    },
    {
     "data": {
      "application/vnd.jupyter.widget-view+json": {
       "model_id": "9db82af9855c47eba80240961f295157",
       "version_major": 2,
       "version_minor": 0
      },
      "text/plain": [
       "  0%|          | 0/44 [00:00<?, ?it/s]"
      ]
     },
     "metadata": {},
     "output_type": "display_data"
    },
    {
     "data": {
      "application/vnd.jupyter.widget-view+json": {
       "model_id": "836bc58144a0412c82fbaf6385a98062",
       "version_major": 2,
       "version_minor": 0
      },
      "text/plain": [
       "  0%|          | 0/43 [00:00<?, ?it/s]"
      ]
     },
     "metadata": {},
     "output_type": "display_data"
    },
    {
     "data": {
      "application/vnd.jupyter.widget-view+json": {
       "model_id": "c7adbf0becd14bb19b769ef38525e7a7",
       "version_major": 2,
       "version_minor": 0
      },
      "text/plain": [
       "  0%|          | 0/42 [00:00<?, ?it/s]"
      ]
     },
     "metadata": {},
     "output_type": "display_data"
    },
    {
     "data": {
      "application/vnd.jupyter.widget-view+json": {
       "model_id": "5ff142672f7a433ebeebfe8237a6fbf6",
       "version_major": 2,
       "version_minor": 0
      },
      "text/plain": [
       "  0%|          | 0/41 [00:00<?, ?it/s]"
      ]
     },
     "metadata": {},
     "output_type": "display_data"
    },
    {
     "data": {
      "application/vnd.jupyter.widget-view+json": {
       "model_id": "6ff17a2a53c04afd8aa7520cca1038bb",
       "version_major": 2,
       "version_minor": 0
      },
      "text/plain": [
       "  0%|          | 0/40 [00:00<?, ?it/s]"
      ]
     },
     "metadata": {},
     "output_type": "display_data"
    },
    {
     "data": {
      "application/vnd.jupyter.widget-view+json": {
       "model_id": "ab0fb79a4f2b47d582bc03e99ac8c015",
       "version_major": 2,
       "version_minor": 0
      },
      "text/plain": [
       "  0%|          | 0/39 [00:00<?, ?it/s]"
      ]
     },
     "metadata": {},
     "output_type": "display_data"
    },
    {
     "data": {
      "application/vnd.jupyter.widget-view+json": {
       "model_id": "dd76b7322c354469926e035c7a45a75f",
       "version_major": 2,
       "version_minor": 0
      },
      "text/plain": [
       "  0%|          | 0/38 [00:00<?, ?it/s]"
      ]
     },
     "metadata": {},
     "output_type": "display_data"
    },
    {
     "data": {
      "application/vnd.jupyter.widget-view+json": {
       "model_id": "d184a28d89c1410ab29595b1939e931d",
       "version_major": 2,
       "version_minor": 0
      },
      "text/plain": [
       "  0%|          | 0/37 [00:00<?, ?it/s]"
      ]
     },
     "metadata": {},
     "output_type": "display_data"
    },
    {
     "data": {
      "application/vnd.jupyter.widget-view+json": {
       "model_id": "5224596000b7450093299baa3726e32b",
       "version_major": 2,
       "version_minor": 0
      },
      "text/plain": [
       "  0%|          | 0/36 [00:00<?, ?it/s]"
      ]
     },
     "metadata": {},
     "output_type": "display_data"
    },
    {
     "data": {
      "application/vnd.jupyter.widget-view+json": {
       "model_id": "47880a8c4bdc4b98aa9c68c965faf328",
       "version_major": 2,
       "version_minor": 0
      },
      "text/plain": [
       "  0%|          | 0/35 [00:00<?, ?it/s]"
      ]
     },
     "metadata": {},
     "output_type": "display_data"
    },
    {
     "data": {
      "application/vnd.jupyter.widget-view+json": {
       "model_id": "cf88b9557760415483e16ee86ca234e5",
       "version_major": 2,
       "version_minor": 0
      },
      "text/plain": [
       "  0%|          | 0/34 [00:00<?, ?it/s]"
      ]
     },
     "metadata": {},
     "output_type": "display_data"
    },
    {
     "data": {
      "application/vnd.jupyter.widget-view+json": {
       "model_id": "fa97eb2eb88e477b965fa4e7b1423388",
       "version_major": 2,
       "version_minor": 0
      },
      "text/plain": [
       "  0%|          | 0/33 [00:00<?, ?it/s]"
      ]
     },
     "metadata": {},
     "output_type": "display_data"
    },
    {
     "data": {
      "application/vnd.jupyter.widget-view+json": {
       "model_id": "79cef5b4317840a6a7b906de4ec4e8fb",
       "version_major": 2,
       "version_minor": 0
      },
      "text/plain": [
       "  0%|          | 0/32 [00:00<?, ?it/s]"
      ]
     },
     "metadata": {},
     "output_type": "display_data"
    },
    {
     "data": {
      "application/vnd.jupyter.widget-view+json": {
       "model_id": "756490f706624a5192c3de2d729dfba3",
       "version_major": 2,
       "version_minor": 0
      },
      "text/plain": [
       "  0%|          | 0/31 [00:00<?, ?it/s]"
      ]
     },
     "metadata": {},
     "output_type": "display_data"
    },
    {
     "data": {
      "application/vnd.jupyter.widget-view+json": {
       "model_id": "2ee1f58e58204c40a43f3cb4af47e4da",
       "version_major": 2,
       "version_minor": 0
      },
      "text/plain": [
       "  0%|          | 0/30 [00:00<?, ?it/s]"
      ]
     },
     "metadata": {},
     "output_type": "display_data"
    },
    {
     "data": {
      "application/vnd.jupyter.widget-view+json": {
       "model_id": "d7cc34daf9c44c4cb9d68133b4da6a06",
       "version_major": 2,
       "version_minor": 0
      },
      "text/plain": [
       "  0%|          | 0/29 [00:00<?, ?it/s]"
      ]
     },
     "metadata": {},
     "output_type": "display_data"
    },
    {
     "data": {
      "application/vnd.jupyter.widget-view+json": {
       "model_id": "7fd27366900c4597a156cac151e11c97",
       "version_major": 2,
       "version_minor": 0
      },
      "text/plain": [
       "  0%|          | 0/28 [00:00<?, ?it/s]"
      ]
     },
     "metadata": {},
     "output_type": "display_data"
    },
    {
     "data": {
      "application/vnd.jupyter.widget-view+json": {
       "model_id": "905a6fc6ae0049deb3cb43e12759597d",
       "version_major": 2,
       "version_minor": 0
      },
      "text/plain": [
       "  0%|          | 0/27 [00:00<?, ?it/s]"
      ]
     },
     "metadata": {},
     "output_type": "display_data"
    },
    {
     "data": {
      "application/vnd.jupyter.widget-view+json": {
       "model_id": "a7c654bb72b64eabbc5ce35295522669",
       "version_major": 2,
       "version_minor": 0
      },
      "text/plain": [
       "  0%|          | 0/26 [00:00<?, ?it/s]"
      ]
     },
     "metadata": {},
     "output_type": "display_data"
    },
    {
     "data": {
      "application/vnd.jupyter.widget-view+json": {
       "model_id": "f02674ec5af447ed98583c9ff9933bca",
       "version_major": 2,
       "version_minor": 0
      },
      "text/plain": [
       "  0%|          | 0/25 [00:00<?, ?it/s]"
      ]
     },
     "metadata": {},
     "output_type": "display_data"
    },
    {
     "data": {
      "application/vnd.jupyter.widget-view+json": {
       "model_id": "50f06d68f7214b92af4a79c9700721d7",
       "version_major": 2,
       "version_minor": 0
      },
      "text/plain": [
       "  0%|          | 0/24 [00:00<?, ?it/s]"
      ]
     },
     "metadata": {},
     "output_type": "display_data"
    },
    {
     "data": {
      "application/vnd.jupyter.widget-view+json": {
       "model_id": "9b1e8cc539864f868626df4cbfc2bfb8",
       "version_major": 2,
       "version_minor": 0
      },
      "text/plain": [
       "  0%|          | 0/23 [00:00<?, ?it/s]"
      ]
     },
     "metadata": {},
     "output_type": "display_data"
    },
    {
     "data": {
      "application/vnd.jupyter.widget-view+json": {
       "model_id": "af64ef3adf584c4a92d1ea93a27a733c",
       "version_major": 2,
       "version_minor": 0
      },
      "text/plain": [
       "  0%|          | 0/22 [00:00<?, ?it/s]"
      ]
     },
     "metadata": {},
     "output_type": "display_data"
    },
    {
     "data": {
      "application/vnd.jupyter.widget-view+json": {
       "model_id": "445aafa8dabe42989648e0dd77fe851a",
       "version_major": 2,
       "version_minor": 0
      },
      "text/plain": [
       "  0%|          | 0/21 [00:00<?, ?it/s]"
      ]
     },
     "metadata": {},
     "output_type": "display_data"
    },
    {
     "data": {
      "application/vnd.jupyter.widget-view+json": {
       "model_id": "fae5e8c4a52a4fe0abdd5af335d1bb5e",
       "version_major": 2,
       "version_minor": 0
      },
      "text/plain": [
       "  0%|          | 0/20 [00:00<?, ?it/s]"
      ]
     },
     "metadata": {},
     "output_type": "display_data"
    },
    {
     "data": {
      "application/vnd.jupyter.widget-view+json": {
       "model_id": "78a0c1b4972840c09f0923e063c470b4",
       "version_major": 2,
       "version_minor": 0
      },
      "text/plain": [
       "  0%|          | 0/19 [00:00<?, ?it/s]"
      ]
     },
     "metadata": {},
     "output_type": "display_data"
    },
    {
     "data": {
      "application/vnd.jupyter.widget-view+json": {
       "model_id": "c6226c132ad4474990df92cdb59a29d3",
       "version_major": 2,
       "version_minor": 0
      },
      "text/plain": [
       "  0%|          | 0/18 [00:00<?, ?it/s]"
      ]
     },
     "metadata": {},
     "output_type": "display_data"
    },
    {
     "data": {
      "application/vnd.jupyter.widget-view+json": {
       "model_id": "e29c88ed27954d06975f29e0cfba5331",
       "version_major": 2,
       "version_minor": 0
      },
      "text/plain": [
       "  0%|          | 0/17 [00:00<?, ?it/s]"
      ]
     },
     "metadata": {},
     "output_type": "display_data"
    },
    {
     "data": {
      "application/vnd.jupyter.widget-view+json": {
       "model_id": "14eedd80a30845749673852a79fc3cf6",
       "version_major": 2,
       "version_minor": 0
      },
      "text/plain": [
       "  0%|          | 0/16 [00:00<?, ?it/s]"
      ]
     },
     "metadata": {},
     "output_type": "display_data"
    },
    {
     "data": {
      "application/vnd.jupyter.widget-view+json": {
       "model_id": "b503ff441ea34a5bb236e172b2796b0f",
       "version_major": 2,
       "version_minor": 0
      },
      "text/plain": [
       "  0%|          | 0/15 [00:00<?, ?it/s]"
      ]
     },
     "metadata": {},
     "output_type": "display_data"
    },
    {
     "data": {
      "application/vnd.jupyter.widget-view+json": {
       "model_id": "f1037de6fb2f4a0f83a0bbb54deebca0",
       "version_major": 2,
       "version_minor": 0
      },
      "text/plain": [
       "  0%|          | 0/14 [00:00<?, ?it/s]"
      ]
     },
     "metadata": {},
     "output_type": "display_data"
    },
    {
     "data": {
      "application/vnd.jupyter.widget-view+json": {
       "model_id": "685235ccee9c481cbba4c4015d31d8cf",
       "version_major": 2,
       "version_minor": 0
      },
      "text/plain": [
       "  0%|          | 0/13 [00:00<?, ?it/s]"
      ]
     },
     "metadata": {},
     "output_type": "display_data"
    },
    {
     "data": {
      "application/vnd.jupyter.widget-view+json": {
       "model_id": "fabcce97bdee4e57bb1f560e2cefb63c",
       "version_major": 2,
       "version_minor": 0
      },
      "text/plain": [
       "  0%|          | 0/12 [00:00<?, ?it/s]"
      ]
     },
     "metadata": {},
     "output_type": "display_data"
    },
    {
     "data": {
      "application/vnd.jupyter.widget-view+json": {
       "model_id": "0efe6c5dfae448b0a0d6e77c6f2b16ed",
       "version_major": 2,
       "version_minor": 0
      },
      "text/plain": [
       "  0%|          | 0/11 [00:00<?, ?it/s]"
      ]
     },
     "metadata": {},
     "output_type": "display_data"
    },
    {
     "data": {
      "application/vnd.jupyter.widget-view+json": {
       "model_id": "3cf25a812f664fc8bf9a789b3d6a84a7",
       "version_major": 2,
       "version_minor": 0
      },
      "text/plain": [
       "  0%|          | 0/10 [00:00<?, ?it/s]"
      ]
     },
     "metadata": {},
     "output_type": "display_data"
    },
    {
     "data": {
      "application/vnd.jupyter.widget-view+json": {
       "model_id": "6b38004410f841caa2e8eb5d6ed63639",
       "version_major": 2,
       "version_minor": 0
      },
      "text/plain": [
       "  0%|          | 0/9 [00:00<?, ?it/s]"
      ]
     },
     "metadata": {},
     "output_type": "display_data"
    },
    {
     "data": {
      "application/vnd.jupyter.widget-view+json": {
       "model_id": "402dc746d019460f9246a41a8ca4e17f",
       "version_major": 2,
       "version_minor": 0
      },
      "text/plain": [
       "  0%|          | 0/8 [00:00<?, ?it/s]"
      ]
     },
     "metadata": {},
     "output_type": "display_data"
    },
    {
     "data": {
      "application/vnd.jupyter.widget-view+json": {
       "model_id": "f21aa5d773d048319e241e301859f3dc",
       "version_major": 2,
       "version_minor": 0
      },
      "text/plain": [
       "  0%|          | 0/7 [00:00<?, ?it/s]"
      ]
     },
     "metadata": {},
     "output_type": "display_data"
    },
    {
     "data": {
      "application/vnd.jupyter.widget-view+json": {
       "model_id": "27241b3227924fec8da6c857f5f20c26",
       "version_major": 2,
       "version_minor": 0
      },
      "text/plain": [
       "  0%|          | 0/6 [00:00<?, ?it/s]"
      ]
     },
     "metadata": {},
     "output_type": "display_data"
    },
    {
     "data": {
      "application/vnd.jupyter.widget-view+json": {
       "model_id": "dc24ffafc7a84e7c96f4247c79552372",
       "version_major": 2,
       "version_minor": 0
      },
      "text/plain": [
       "  0%|          | 0/5 [00:00<?, ?it/s]"
      ]
     },
     "metadata": {},
     "output_type": "display_data"
    },
    {
     "data": {
      "application/vnd.jupyter.widget-view+json": {
       "model_id": "2ee581648bfe46bf95594a23d2376115",
       "version_major": 2,
       "version_minor": 0
      },
      "text/plain": [
       "  0%|          | 0/4 [00:00<?, ?it/s]"
      ]
     },
     "metadata": {},
     "output_type": "display_data"
    },
    {
     "data": {
      "application/vnd.jupyter.widget-view+json": {
       "model_id": "8b98d08f236348beb8944a558aeabe0c",
       "version_major": 2,
       "version_minor": 0
      },
      "text/plain": [
       "  0%|          | 0/3 [00:00<?, ?it/s]"
      ]
     },
     "metadata": {},
     "output_type": "display_data"
    },
    {
     "data": {
      "application/vnd.jupyter.widget-view+json": {
       "model_id": "0c08bfbf714a49459bd122c35b8feaaa",
       "version_major": 2,
       "version_minor": 0
      },
      "text/plain": [
       "  0%|          | 0/2 [00:00<?, ?it/s]"
      ]
     },
     "metadata": {},
     "output_type": "display_data"
    },
    {
     "data": {
      "application/vnd.jupyter.widget-view+json": {
       "model_id": "2d1ceb41889a466f97f6fdfd7fa96953",
       "version_major": 2,
       "version_minor": 0
      },
      "text/plain": [
       "  0%|          | 0/1 [00:00<?, ?it/s]"
      ]
     },
     "metadata": {},
     "output_type": "display_data"
    }
   ],
   "source": [
    "cos_sim_list = []\n",
    "gene_list = []\n",
    "pair_list = []\n",
    "for i in tqdm(range(len(well_list) - 1)):\n",
    "    well_one = well_list[i]\n",
    "    df_well_one = df_well_controls[df_well_controls['Metadata_Well']==well_one][feat_col].values.squeeze()\n",
    "    for j in range(i + 1, len(well_list)):\n",
    "        well_two = well_list[j]\n",
    "        df_well_two = df_well_controls[df_well_controls['Metadata_Well']==well_two][feat_col].values.squeeze()\n",
    "        \n",
    "        cos_sim = scipy.spatial.distance.cosine(df_well_one, df_well_two)\n",
    "        \n",
    "        cos_sim_list.append(cos_sim)\n",
    "        gene_list.append(well_one)\n",
    "        pair_list.append(well_two)"
   ]
  },
  {
   "cell_type": "code",
   "execution_count": 67,
   "id": "201d1e2c-5980-4c9f-8c01-d61fbed0a3ba",
   "metadata": {},
   "outputs": [],
   "source": [
    "cluster_csv = pd.DataFrame(\n",
    "    {\n",
    "        \"Well_One\": gene_list,\n",
    "        \"Well_Two\": pair_list,\n",
    "        \"Cosine\": cos_sim_list\n",
    "    }\n",
    ")"
   ]
  },
  {
   "cell_type": "code",
   "execution_count": null,
   "id": "e2b14aed-6076-41ed-a7a5-7c772bc5fa86",
   "metadata": {},
   "outputs": [],
   "source": [
    "def plot_feature_correlations(Xinput):\n",
    "  sns.clustermap(\n",
    "      np.corrcoef(Xinput.transpose()),\n",
    "      metric=\"cosine\",\n",
    "      vmin=-1,\n",
    "      vmax=1,\n",
    "      cmap=sns.diverging_palette(20, 220, n=200)\n",
    "      ).fig.suptitle(f\"\")"
   ]
  },
  {
   "cell_type": "code",
   "execution_count": 125,
   "id": "cfed348d-9ec2-4820-a842-6aad5f6932e0",
   "metadata": {},
   "outputs": [
    {
     "data": {
      "text/plain": [
       "64"
      ]
     },
     "execution_count": 125,
     "metadata": {},
     "output_type": "execute_result"
    }
   ],
   "source": [
    "len(well_list)"
   ]
  }
 ],
 "metadata": {
  "kernelspec": {
   "display_name": "Python 3 (ipykernel)",
   "language": "python",
   "name": "python3"
  },
  "language_info": {
   "codemirror_mode": {
    "name": "ipython",
    "version": 3
   },
   "file_extension": ".py",
   "mimetype": "text/x-python",
   "name": "python",
   "nbconvert_exporter": "python",
   "pygments_lexer": "ipython3",
   "version": "3.10.12"
  }
 },
 "nbformat": 4,
 "nbformat_minor": 5
}
